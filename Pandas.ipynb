{
  "metadata": {
    "language_info": {
      "codemirror_mode": {
        "name": "python",
        "version": 3
      },
      "file_extension": ".py",
      "mimetype": "text/x-python",
      "name": "python",
      "nbconvert_exporter": "python",
      "pygments_lexer": "ipython3",
      "version": "3.8"
    },
    "kernelspec": {
      "name": "python",
      "display_name": "Python (Pyodide)",
      "language": "python"
    }
  },
  "nbformat_minor": 4,
  "nbformat": 4,
  "cells": [
    {
      "cell_type": "code",
      "source": "import pandas as pd",
      "metadata": {
        "trusted": true
      },
      "execution_count": 1,
      "outputs": []
    },
    {
      "cell_type": "code",
      "source": "pd.show_versions()",
      "metadata": {
        "trusted": true
      },
      "execution_count": 2,
      "outputs": [
        {
          "name": "stdout",
          "text": "\nINSTALLED VERSIONS\n------------------\ncommit           : 2e218d10984e9919f0296931d92ea851c6a6faf5\npython           : 3.11.3.final.0\npython-bits      : 32\nOS               : Emscripten\nOS-release       : 3.1.45\nVersion          : #1\nmachine          : wasm32\nprocessor        : \nbyteorder        : little\nLC_ALL           : None\nLANG             : zh_TW.UTF-8\nLOCALE           : zh_TW.UTF-8\n\npandas           : 1.5.3\nnumpy            : 1.25.2\npytz             : 2023.3\ndateutil         : 2.8.2\nsetuptools       : None\npip              : None\nCython           : None\npytest           : None\nhypothesis       : None\nsphinx           : None\nblosc            : None\nfeather          : None\nxlsxwriter       : None\nlxml.etree       : None\nhtml5lib         : None\npymysql          : None\npsycopg2         : None\njinja2           : None\nIPython          : 8.16.1\npandas_datareader: None\nbs4              : None\nbottleneck       : None\nbrotli           : None\nfastparquet      : None\nfsspec           : None\ngcsfs            : None\nmatplotlib       : None\nnumba            : None\nnumexpr          : None\nodfpy            : None\nopenpyxl         : None\npandas_gbq       : None\npyarrow          : None\npyreadstat       : None\npyxlsb           : None\ns3fs             : None\nscipy            : None\nsnappy           : None\nsqlalchemy       : None\ntables           : None\ntabulate         : None\nxarray           : None\nxlrd             : None\nxlwt             : None\nzstandard        : None\ntzdata           : None\n",
          "output_type": "stream"
        }
      ]
    },
    {
      "cell_type": "code",
      "source": "import numpy as np\ndata = {'animal': ['cat', 'cat', 'snake', 'dog', 'dog', 'cat', 'snake', 'cat', 'dog', 'dog'],\n        'age': [2.5, 3, 0.5, np.nan, 5, 2, 4.5, np.nan, 7, 3],\n        'visits': [1, 3, 2, 3, 2, 3, 1, 1, 2, 1],\n        'priority': ['yes', 'yes', 'no', 'yes', 'no', 'no', 'no', 'yes', 'no', 'no']\n}\n\nlables = ['a', 'b', 'c', 'd', 'e', 'f', 'g', 'h', 'i', 'j']\n\ndf = pd.DataFrame(data, index = lables)\ndf",
      "metadata": {
        "trusted": true
      },
      "execution_count": 5,
      "outputs": [
        {
          "execution_count": 5,
          "output_type": "execute_result",
          "data": {
            "text/plain": "  animal  age  visits priority\na    cat  2.5       1      yes\nb    cat  3.0       3      yes\nc  snake  0.5       2       no\nd    dog  NaN       3      yes\ne    dog  5.0       2       no\nf    cat  2.0       3       no\ng  snake  4.5       1       no\nh    cat  NaN       1      yes\ni    dog  7.0       2       no\nj    dog  3.0       1       no",
            "text/html": "<div>\n<style scoped>\n    .dataframe tbody tr th:only-of-type {\n        vertical-align: middle;\n    }\n\n    .dataframe tbody tr th {\n        vertical-align: top;\n    }\n\n    .dataframe thead th {\n        text-align: right;\n    }\n</style>\n<table border=\"1\" class=\"dataframe\">\n  <thead>\n    <tr style=\"text-align: right;\">\n      <th></th>\n      <th>animal</th>\n      <th>age</th>\n      <th>visits</th>\n      <th>priority</th>\n    </tr>\n  </thead>\n  <tbody>\n    <tr>\n      <th>a</th>\n      <td>cat</td>\n      <td>2.5</td>\n      <td>1</td>\n      <td>yes</td>\n    </tr>\n    <tr>\n      <th>b</th>\n      <td>cat</td>\n      <td>3.0</td>\n      <td>3</td>\n      <td>yes</td>\n    </tr>\n    <tr>\n      <th>c</th>\n      <td>snake</td>\n      <td>0.5</td>\n      <td>2</td>\n      <td>no</td>\n    </tr>\n    <tr>\n      <th>d</th>\n      <td>dog</td>\n      <td>NaN</td>\n      <td>3</td>\n      <td>yes</td>\n    </tr>\n    <tr>\n      <th>e</th>\n      <td>dog</td>\n      <td>5.0</td>\n      <td>2</td>\n      <td>no</td>\n    </tr>\n    <tr>\n      <th>f</th>\n      <td>cat</td>\n      <td>2.0</td>\n      <td>3</td>\n      <td>no</td>\n    </tr>\n    <tr>\n      <th>g</th>\n      <td>snake</td>\n      <td>4.5</td>\n      <td>1</td>\n      <td>no</td>\n    </tr>\n    <tr>\n      <th>h</th>\n      <td>cat</td>\n      <td>NaN</td>\n      <td>1</td>\n      <td>yes</td>\n    </tr>\n    <tr>\n      <th>i</th>\n      <td>dog</td>\n      <td>7.0</td>\n      <td>2</td>\n      <td>no</td>\n    </tr>\n    <tr>\n      <th>j</th>\n      <td>dog</td>\n      <td>3.0</td>\n      <td>1</td>\n      <td>no</td>\n    </tr>\n  </tbody>\n</table>\n</div>"
          },
          "metadata": {}
        }
      ]
    },
    {
      "cell_type": "code",
      "source": "df.head()\n",
      "metadata": {
        "trusted": true
      },
      "execution_count": 4,
      "outputs": [
        {
          "execution_count": 4,
          "output_type": "execute_result",
          "data": {
            "text/plain": "  animal  age  visits priority\na    cat  2.5       1      yes\nb    cat  3.0       3      yes\nc  snake  0.5       2       no\nd    dog  NaN       3      yes\ne    dog  5.0       2       no",
            "text/html": "<div>\n<style scoped>\n    .dataframe tbody tr th:only-of-type {\n        vertical-align: middle;\n    }\n\n    .dataframe tbody tr th {\n        vertical-align: top;\n    }\n\n    .dataframe thead th {\n        text-align: right;\n    }\n</style>\n<table border=\"1\" class=\"dataframe\">\n  <thead>\n    <tr style=\"text-align: right;\">\n      <th></th>\n      <th>animal</th>\n      <th>age</th>\n      <th>visits</th>\n      <th>priority</th>\n    </tr>\n  </thead>\n  <tbody>\n    <tr>\n      <th>a</th>\n      <td>cat</td>\n      <td>2.5</td>\n      <td>1</td>\n      <td>yes</td>\n    </tr>\n    <tr>\n      <th>b</th>\n      <td>cat</td>\n      <td>3.0</td>\n      <td>3</td>\n      <td>yes</td>\n    </tr>\n    <tr>\n      <th>c</th>\n      <td>snake</td>\n      <td>0.5</td>\n      <td>2</td>\n      <td>no</td>\n    </tr>\n    <tr>\n      <th>d</th>\n      <td>dog</td>\n      <td>NaN</td>\n      <td>3</td>\n      <td>yes</td>\n    </tr>\n    <tr>\n      <th>e</th>\n      <td>dog</td>\n      <td>5.0</td>\n      <td>2</td>\n      <td>no</td>\n    </tr>\n  </tbody>\n</table>\n</div>"
          },
          "metadata": {}
        }
      ]
    },
    {
      "cell_type": "code",
      "source": "df.info()",
      "metadata": {
        "trusted": true
      },
      "execution_count": 5,
      "outputs": [
        {
          "name": "stdout",
          "text": "<class 'pandas.core.frame.DataFrame'>\nIndex: 10 entries, a to j\nData columns (total 4 columns):\n #   Column    Non-Null Count  Dtype  \n---  ------    --------------  -----  \n 0   animal    10 non-null     object \n 1   age       8 non-null      float64\n 2   visits    10 non-null     int64  \n 3   priority  10 non-null     object \ndtypes: float64(1), int64(1), object(2)\nmemory usage: 280.0+ bytes\n",
          "output_type": "stream"
        }
      ]
    },
    {
      "cell_type": "code",
      "source": "df.iloc[:3]",
      "metadata": {
        "trusted": true
      },
      "execution_count": 6,
      "outputs": [
        {
          "execution_count": 6,
          "output_type": "execute_result",
          "data": {
            "text/plain": "  animal  age  visits priority\na    cat  2.5       1      yes\nb    cat  3.0       3      yes\nc  snake  0.5       2       no",
            "text/html": "<div>\n<style scoped>\n    .dataframe tbody tr th:only-of-type {\n        vertical-align: middle;\n    }\n\n    .dataframe tbody tr th {\n        vertical-align: top;\n    }\n\n    .dataframe thead th {\n        text-align: right;\n    }\n</style>\n<table border=\"1\" class=\"dataframe\">\n  <thead>\n    <tr style=\"text-align: right;\">\n      <th></th>\n      <th>animal</th>\n      <th>age</th>\n      <th>visits</th>\n      <th>priority</th>\n    </tr>\n  </thead>\n  <tbody>\n    <tr>\n      <th>a</th>\n      <td>cat</td>\n      <td>2.5</td>\n      <td>1</td>\n      <td>yes</td>\n    </tr>\n    <tr>\n      <th>b</th>\n      <td>cat</td>\n      <td>3.0</td>\n      <td>3</td>\n      <td>yes</td>\n    </tr>\n    <tr>\n      <th>c</th>\n      <td>snake</td>\n      <td>0.5</td>\n      <td>2</td>\n      <td>no</td>\n    </tr>\n  </tbody>\n</table>\n</div>"
          },
          "metadata": {}
        }
      ]
    },
    {
      "cell_type": "code",
      "source": "df[df['visits'] > 2]",
      "metadata": {
        "trusted": true
      },
      "execution_count": 7,
      "outputs": [
        {
          "execution_count": 7,
          "output_type": "execute_result",
          "data": {
            "text/plain": "  animal  age  visits priority\nb    cat  3.0       3      yes\nd    dog  NaN       3      yes\nf    cat  2.0       3       no",
            "text/html": "<div>\n<style scoped>\n    .dataframe tbody tr th:only-of-type {\n        vertical-align: middle;\n    }\n\n    .dataframe tbody tr th {\n        vertical-align: top;\n    }\n\n    .dataframe thead th {\n        text-align: right;\n    }\n</style>\n<table border=\"1\" class=\"dataframe\">\n  <thead>\n    <tr style=\"text-align: right;\">\n      <th></th>\n      <th>animal</th>\n      <th>age</th>\n      <th>visits</th>\n      <th>priority</th>\n    </tr>\n  </thead>\n  <tbody>\n    <tr>\n      <th>b</th>\n      <td>cat</td>\n      <td>3.0</td>\n      <td>3</td>\n      <td>yes</td>\n    </tr>\n    <tr>\n      <th>d</th>\n      <td>dog</td>\n      <td>NaN</td>\n      <td>3</td>\n      <td>yes</td>\n    </tr>\n    <tr>\n      <th>f</th>\n      <td>cat</td>\n      <td>2.0</td>\n      <td>3</td>\n      <td>no</td>\n    </tr>\n  </tbody>\n</table>\n</div>"
          },
          "metadata": {}
        }
      ]
    },
    {
      "cell_type": "code",
      "source": "df[df['age'].isnull()]",
      "metadata": {
        "trusted": true
      },
      "execution_count": 8,
      "outputs": [
        {
          "execution_count": 8,
          "output_type": "execute_result",
          "data": {
            "text/plain": "  animal  age  visits priority\nd    dog  NaN       3      yes\nh    cat  NaN       1      yes",
            "text/html": "<div>\n<style scoped>\n    .dataframe tbody tr th:only-of-type {\n        vertical-align: middle;\n    }\n\n    .dataframe tbody tr th {\n        vertical-align: top;\n    }\n\n    .dataframe thead th {\n        text-align: right;\n    }\n</style>\n<table border=\"1\" class=\"dataframe\">\n  <thead>\n    <tr style=\"text-align: right;\">\n      <th></th>\n      <th>animal</th>\n      <th>age</th>\n      <th>visits</th>\n      <th>priority</th>\n    </tr>\n  </thead>\n  <tbody>\n    <tr>\n      <th>d</th>\n      <td>dog</td>\n      <td>NaN</td>\n      <td>3</td>\n      <td>yes</td>\n    </tr>\n    <tr>\n      <th>h</th>\n      <td>cat</td>\n      <td>NaN</td>\n      <td>1</td>\n      <td>yes</td>\n    </tr>\n  </tbody>\n</table>\n</div>"
          },
          "metadata": {}
        }
      ]
    },
    {
      "cell_type": "code",
      "source": "df[(df['animal'] == 'cat') & (df['age'] < 3)]",
      "metadata": {
        "trusted": true
      },
      "execution_count": 10,
      "outputs": [
        {
          "execution_count": 10,
          "output_type": "execute_result",
          "data": {
            "text/plain": "  animal  age  visits priority\na    cat  2.5       1      yes\nf    cat  2.0       3       no",
            "text/html": "<div>\n<style scoped>\n    .dataframe tbody tr th:only-of-type {\n        vertical-align: middle;\n    }\n\n    .dataframe tbody tr th {\n        vertical-align: top;\n    }\n\n    .dataframe thead th {\n        text-align: right;\n    }\n</style>\n<table border=\"1\" class=\"dataframe\">\n  <thead>\n    <tr style=\"text-align: right;\">\n      <th></th>\n      <th>animal</th>\n      <th>age</th>\n      <th>visits</th>\n      <th>priority</th>\n    </tr>\n  </thead>\n  <tbody>\n    <tr>\n      <th>a</th>\n      <td>cat</td>\n      <td>2.5</td>\n      <td>1</td>\n      <td>yes</td>\n    </tr>\n    <tr>\n      <th>f</th>\n      <td>cat</td>\n      <td>2.0</td>\n      <td>3</td>\n      <td>no</td>\n    </tr>\n  </tbody>\n</table>\n</div>"
          },
          "metadata": {}
        }
      ]
    },
    {
      "cell_type": "code",
      "source": "df.loc['f', 'age'] = 1.5",
      "metadata": {
        "trusted": true
      },
      "execution_count": 11,
      "outputs": []
    },
    {
      "cell_type": "code",
      "source": "df[(df['animal'] == 'cat') & (df['age'] < 3)]",
      "metadata": {
        "trusted": true
      },
      "execution_count": 12,
      "outputs": [
        {
          "execution_count": 12,
          "output_type": "execute_result",
          "data": {
            "text/plain": "  animal  age  visits priority\na    cat  2.5       1      yes\nf    cat  1.5       3       no",
            "text/html": "<div>\n<style scoped>\n    .dataframe tbody tr th:only-of-type {\n        vertical-align: middle;\n    }\n\n    .dataframe tbody tr th {\n        vertical-align: top;\n    }\n\n    .dataframe thead th {\n        text-align: right;\n    }\n</style>\n<table border=\"1\" class=\"dataframe\">\n  <thead>\n    <tr style=\"text-align: right;\">\n      <th></th>\n      <th>animal</th>\n      <th>age</th>\n      <th>visits</th>\n      <th>priority</th>\n    </tr>\n  </thead>\n  <tbody>\n    <tr>\n      <th>a</th>\n      <td>cat</td>\n      <td>2.5</td>\n      <td>1</td>\n      <td>yes</td>\n    </tr>\n    <tr>\n      <th>f</th>\n      <td>cat</td>\n      <td>1.5</td>\n      <td>3</td>\n      <td>no</td>\n    </tr>\n  </tbody>\n</table>\n</div>"
          },
          "metadata": {}
        }
      ]
    },
    {
      "cell_type": "code",
      "source": "df.groupby('animal')['age'].mean()",
      "metadata": {
        "trusted": true
      },
      "execution_count": 13,
      "outputs": [
        {
          "execution_count": 13,
          "output_type": "execute_result",
          "data": {
            "text/plain": "animal\ncat      2.333333\ndog      5.000000\nsnake    2.500000\nName: age, dtype: float64"
          },
          "metadata": {}
        }
      ]
    },
    {
      "cell_type": "code",
      "source": "df['animal'].value_counts()",
      "metadata": {
        "trusted": true
      },
      "execution_count": 14,
      "outputs": [
        {
          "execution_count": 14,
          "output_type": "execute_result",
          "data": {
            "text/plain": "cat      4\ndog      4\nsnake    2\nName: animal, dtype: int64"
          },
          "metadata": {}
        }
      ]
    },
    {
      "cell_type": "code",
      "source": "df.head()",
      "metadata": {
        "trusted": true
      },
      "execution_count": 15,
      "outputs": [
        {
          "execution_count": 15,
          "output_type": "execute_result",
          "data": {
            "text/plain": "  animal  age  visits priority\na    cat  2.5       1      yes\nb    cat  3.0       3      yes\nc  snake  0.5       2       no\nd    dog  NaN       3      yes\ne    dog  5.0       2       no",
            "text/html": "<div>\n<style scoped>\n    .dataframe tbody tr th:only-of-type {\n        vertical-align: middle;\n    }\n\n    .dataframe tbody tr th {\n        vertical-align: top;\n    }\n\n    .dataframe thead th {\n        text-align: right;\n    }\n</style>\n<table border=\"1\" class=\"dataframe\">\n  <thead>\n    <tr style=\"text-align: right;\">\n      <th></th>\n      <th>animal</th>\n      <th>age</th>\n      <th>visits</th>\n      <th>priority</th>\n    </tr>\n  </thead>\n  <tbody>\n    <tr>\n      <th>a</th>\n      <td>cat</td>\n      <td>2.5</td>\n      <td>1</td>\n      <td>yes</td>\n    </tr>\n    <tr>\n      <th>b</th>\n      <td>cat</td>\n      <td>3.0</td>\n      <td>3</td>\n      <td>yes</td>\n    </tr>\n    <tr>\n      <th>c</th>\n      <td>snake</td>\n      <td>0.5</td>\n      <td>2</td>\n      <td>no</td>\n    </tr>\n    <tr>\n      <th>d</th>\n      <td>dog</td>\n      <td>NaN</td>\n      <td>3</td>\n      <td>yes</td>\n    </tr>\n    <tr>\n      <th>e</th>\n      <td>dog</td>\n      <td>5.0</td>\n      <td>2</td>\n      <td>no</td>\n    </tr>\n  </tbody>\n</table>\n</div>"
          },
          "metadata": {}
        }
      ]
    },
    {
      "cell_type": "code",
      "source": "df['priority'] = df['priority'].map({'yes':True, 'no':False})",
      "metadata": {
        "trusted": true
      },
      "execution_count": 16,
      "outputs": []
    },
    {
      "cell_type": "code",
      "source": "df.head()",
      "metadata": {
        "trusted": true
      },
      "execution_count": 19,
      "outputs": [
        {
          "execution_count": 19,
          "output_type": "execute_result",
          "data": {
            "text/plain": "  animal  age  visits  priority\na    cat  2.5       1      True\nb    cat  3.0       3      True\nc  snake  0.5       2     False\nd    dog  NaN       3      True\ne    dog  5.0       2     False",
            "text/html": "<div>\n<style scoped>\n    .dataframe tbody tr th:only-of-type {\n        vertical-align: middle;\n    }\n\n    .dataframe tbody tr th {\n        vertical-align: top;\n    }\n\n    .dataframe thead th {\n        text-align: right;\n    }\n</style>\n<table border=\"1\" class=\"dataframe\">\n  <thead>\n    <tr style=\"text-align: right;\">\n      <th></th>\n      <th>animal</th>\n      <th>age</th>\n      <th>visits</th>\n      <th>priority</th>\n    </tr>\n  </thead>\n  <tbody>\n    <tr>\n      <th>a</th>\n      <td>cat</td>\n      <td>2.5</td>\n      <td>1</td>\n      <td>True</td>\n    </tr>\n    <tr>\n      <th>b</th>\n      <td>cat</td>\n      <td>3.0</td>\n      <td>3</td>\n      <td>True</td>\n    </tr>\n    <tr>\n      <th>c</th>\n      <td>snake</td>\n      <td>0.5</td>\n      <td>2</td>\n      <td>False</td>\n    </tr>\n    <tr>\n      <th>d</th>\n      <td>dog</td>\n      <td>NaN</td>\n      <td>3</td>\n      <td>True</td>\n    </tr>\n    <tr>\n      <th>e</th>\n      <td>dog</td>\n      <td>5.0</td>\n      <td>2</td>\n      <td>False</td>\n    </tr>\n  </tbody>\n</table>\n</div>"
          },
          "metadata": {}
        }
      ]
    },
    {
      "cell_type": "code",
      "source": "df['animal'] = df['animal'].replace('snake', 'tang')\ndf.head()",
      "metadata": {
        "trusted": true
      },
      "execution_count": 21,
      "outputs": [
        {
          "execution_count": 21,
          "output_type": "execute_result",
          "data": {
            "text/plain": "  animal  age  visits  priority\na    cat  2.5       1      True\nb    cat  3.0       3      True\nc   tang  0.5       2     False\nd    dog  NaN       3      True\ne    dog  5.0       2     False",
            "text/html": "<div>\n<style scoped>\n    .dataframe tbody tr th:only-of-type {\n        vertical-align: middle;\n    }\n\n    .dataframe tbody tr th {\n        vertical-align: top;\n    }\n\n    .dataframe thead th {\n        text-align: right;\n    }\n</style>\n<table border=\"1\" class=\"dataframe\">\n  <thead>\n    <tr style=\"text-align: right;\">\n      <th></th>\n      <th>animal</th>\n      <th>age</th>\n      <th>visits</th>\n      <th>priority</th>\n    </tr>\n  </thead>\n  <tbody>\n    <tr>\n      <th>a</th>\n      <td>cat</td>\n      <td>2.5</td>\n      <td>1</td>\n      <td>True</td>\n    </tr>\n    <tr>\n      <th>b</th>\n      <td>cat</td>\n      <td>3.0</td>\n      <td>3</td>\n      <td>True</td>\n    </tr>\n    <tr>\n      <th>c</th>\n      <td>tang</td>\n      <td>0.5</td>\n      <td>2</td>\n      <td>False</td>\n    </tr>\n    <tr>\n      <th>d</th>\n      <td>dog</td>\n      <td>NaN</td>\n      <td>3</td>\n      <td>True</td>\n    </tr>\n    <tr>\n      <th>e</th>\n      <td>dog</td>\n      <td>5.0</td>\n      <td>2</td>\n      <td>False</td>\n    </tr>\n  </tbody>\n</table>\n</div>"
          },
          "metadata": {}
        }
      ]
    },
    {
      "cell_type": "code",
      "source": "df ",
      "metadata": {
        "trusted": true
      },
      "execution_count": 6,
      "outputs": [
        {
          "execution_count": 6,
          "output_type": "execute_result",
          "data": {
            "text/plain": "  animal  age  visits priority\na    cat  2.5       1      yes\nb    cat  3.0       3      yes\nc  snake  0.5       2       no\nd    dog  NaN       3      yes\ne    dog  5.0       2       no\nf    cat  2.0       3       no\ng  snake  4.5       1       no\nh    cat  NaN       1      yes\ni    dog  7.0       2       no\nj    dog  3.0       1       no",
            "text/html": "<div>\n<style scoped>\n    .dataframe tbody tr th:only-of-type {\n        vertical-align: middle;\n    }\n\n    .dataframe tbody tr th {\n        vertical-align: top;\n    }\n\n    .dataframe thead th {\n        text-align: right;\n    }\n</style>\n<table border=\"1\" class=\"dataframe\">\n  <thead>\n    <tr style=\"text-align: right;\">\n      <th></th>\n      <th>animal</th>\n      <th>age</th>\n      <th>visits</th>\n      <th>priority</th>\n    </tr>\n  </thead>\n  <tbody>\n    <tr>\n      <th>a</th>\n      <td>cat</td>\n      <td>2.5</td>\n      <td>1</td>\n      <td>yes</td>\n    </tr>\n    <tr>\n      <th>b</th>\n      <td>cat</td>\n      <td>3.0</td>\n      <td>3</td>\n      <td>yes</td>\n    </tr>\n    <tr>\n      <th>c</th>\n      <td>snake</td>\n      <td>0.5</td>\n      <td>2</td>\n      <td>no</td>\n    </tr>\n    <tr>\n      <th>d</th>\n      <td>dog</td>\n      <td>NaN</td>\n      <td>3</td>\n      <td>yes</td>\n    </tr>\n    <tr>\n      <th>e</th>\n      <td>dog</td>\n      <td>5.0</td>\n      <td>2</td>\n      <td>no</td>\n    </tr>\n    <tr>\n      <th>f</th>\n      <td>cat</td>\n      <td>2.0</td>\n      <td>3</td>\n      <td>no</td>\n    </tr>\n    <tr>\n      <th>g</th>\n      <td>snake</td>\n      <td>4.5</td>\n      <td>1</td>\n      <td>no</td>\n    </tr>\n    <tr>\n      <th>h</th>\n      <td>cat</td>\n      <td>NaN</td>\n      <td>1</td>\n      <td>yes</td>\n    </tr>\n    <tr>\n      <th>i</th>\n      <td>dog</td>\n      <td>7.0</td>\n      <td>2</td>\n      <td>no</td>\n    </tr>\n    <tr>\n      <th>j</th>\n      <td>dog</td>\n      <td>3.0</td>\n      <td>1</td>\n      <td>no</td>\n    </tr>\n  </tbody>\n</table>\n</div>"
          },
          "metadata": {}
        }
      ]
    },
    {
      "cell_type": "code",
      "source": "df.pivot_table(index='animal', columns = 'visits', values = 'age', aggfunc = 'mean')",
      "metadata": {
        "trusted": true
      },
      "execution_count": 8,
      "outputs": [
        {
          "execution_count": 8,
          "output_type": "execute_result",
          "data": {
            "text/plain": "visits    1    2    3\nanimal               \ncat     2.5  NaN  2.5\ndog     3.0  6.0  NaN\nsnake   4.5  0.5  NaN",
            "text/html": "<div>\n<style scoped>\n    .dataframe tbody tr th:only-of-type {\n        vertical-align: middle;\n    }\n\n    .dataframe tbody tr th {\n        vertical-align: top;\n    }\n\n    .dataframe thead th {\n        text-align: right;\n    }\n</style>\n<table border=\"1\" class=\"dataframe\">\n  <thead>\n    <tr style=\"text-align: right;\">\n      <th>visits</th>\n      <th>1</th>\n      <th>2</th>\n      <th>3</th>\n    </tr>\n    <tr>\n      <th>animal</th>\n      <th></th>\n      <th></th>\n      <th></th>\n    </tr>\n  </thead>\n  <tbody>\n    <tr>\n      <th>cat</th>\n      <td>2.5</td>\n      <td>NaN</td>\n      <td>2.5</td>\n    </tr>\n    <tr>\n      <th>dog</th>\n      <td>3.0</td>\n      <td>6.0</td>\n      <td>NaN</td>\n    </tr>\n    <tr>\n      <th>snake</th>\n      <td>4.5</td>\n      <td>0.5</td>\n      <td>NaN</td>\n    </tr>\n  </tbody>\n</table>\n</div>"
          },
          "metadata": {}
        }
      ]
    },
    {
      "cell_type": "code",
      "source": "df = pd.DataFrame(np.random.random(size = (5,3)))\ndf",
      "metadata": {
        "trusted": true
      },
      "execution_count": 11,
      "outputs": [
        {
          "execution_count": 11,
          "output_type": "execute_result",
          "data": {
            "text/plain": "          0         1         2\n0  0.494181  0.059736  0.465086\n1  0.653294  0.580814  0.942313\n2  0.477290  0.060456  0.141927\n3  0.297386  0.913200  0.281273\n4  0.289404  0.487802  0.493729",
            "text/html": "<div>\n<style scoped>\n    .dataframe tbody tr th:only-of-type {\n        vertical-align: middle;\n    }\n\n    .dataframe tbody tr th {\n        vertical-align: top;\n    }\n\n    .dataframe thead th {\n        text-align: right;\n    }\n</style>\n<table border=\"1\" class=\"dataframe\">\n  <thead>\n    <tr style=\"text-align: right;\">\n      <th></th>\n      <th>0</th>\n      <th>1</th>\n      <th>2</th>\n    </tr>\n  </thead>\n  <tbody>\n    <tr>\n      <th>0</th>\n      <td>0.494181</td>\n      <td>0.059736</td>\n      <td>0.465086</td>\n    </tr>\n    <tr>\n      <th>1</th>\n      <td>0.653294</td>\n      <td>0.580814</td>\n      <td>0.942313</td>\n    </tr>\n    <tr>\n      <th>2</th>\n      <td>0.477290</td>\n      <td>0.060456</td>\n      <td>0.141927</td>\n    </tr>\n    <tr>\n      <th>3</th>\n      <td>0.297386</td>\n      <td>0.913200</td>\n      <td>0.281273</td>\n    </tr>\n    <tr>\n      <th>4</th>\n      <td>0.289404</td>\n      <td>0.487802</td>\n      <td>0.493729</td>\n    </tr>\n  </tbody>\n</table>\n</div>"
          },
          "metadata": {}
        }
      ]
    },
    {
      "cell_type": "code",
      "source": "# 先取row的平均數(axis=1), 再將原本的數據減去此平均數(axis=0)\ndf.sub(df.mean(axis = 1), axis = 0)",
      "metadata": {
        "trusted": true
      },
      "execution_count": 12,
      "outputs": [
        {
          "execution_count": 12,
          "output_type": "execute_result",
          "data": {
            "text/plain": "          0         1         2\n0  0.154513 -0.279932  0.125419\n1 -0.072180 -0.144660  0.216840\n2  0.250732 -0.166102 -0.084630\n3 -0.199900  0.415914 -0.216013\n4 -0.134241  0.064157  0.070084",
            "text/html": "<div>\n<style scoped>\n    .dataframe tbody tr th:only-of-type {\n        vertical-align: middle;\n    }\n\n    .dataframe tbody tr th {\n        vertical-align: top;\n    }\n\n    .dataframe thead th {\n        text-align: right;\n    }\n</style>\n<table border=\"1\" class=\"dataframe\">\n  <thead>\n    <tr style=\"text-align: right;\">\n      <th></th>\n      <th>0</th>\n      <th>1</th>\n      <th>2</th>\n    </tr>\n  </thead>\n  <tbody>\n    <tr>\n      <th>0</th>\n      <td>0.154513</td>\n      <td>-0.279932</td>\n      <td>0.125419</td>\n    </tr>\n    <tr>\n      <th>1</th>\n      <td>-0.072180</td>\n      <td>-0.144660</td>\n      <td>0.216840</td>\n    </tr>\n    <tr>\n      <th>2</th>\n      <td>0.250732</td>\n      <td>-0.166102</td>\n      <td>-0.084630</td>\n    </tr>\n    <tr>\n      <th>3</th>\n      <td>-0.199900</td>\n      <td>0.415914</td>\n      <td>-0.216013</td>\n    </tr>\n    <tr>\n      <th>4</th>\n      <td>-0.134241</td>\n      <td>0.064157</td>\n      <td>0.070084</td>\n    </tr>\n  </tbody>\n</table>\n</div>"
          },
          "metadata": {}
        }
      ]
    },
    {
      "cell_type": "code",
      "source": "df.sub(df.mean(axis = 0), axis = 1)",
      "metadata": {
        "trusted": true
      },
      "execution_count": 13,
      "outputs": [
        {
          "execution_count": 13,
          "output_type": "execute_result",
          "data": {
            "text/plain": "          0         1         2\n0  0.051870 -0.360666  0.000221\n1  0.210983  0.160412  0.477448\n2  0.034979 -0.359946 -0.322939\n3 -0.144925  0.492798 -0.183593\n4 -0.152907  0.067401  0.028863",
            "text/html": "<div>\n<style scoped>\n    .dataframe tbody tr th:only-of-type {\n        vertical-align: middle;\n    }\n\n    .dataframe tbody tr th {\n        vertical-align: top;\n    }\n\n    .dataframe thead th {\n        text-align: right;\n    }\n</style>\n<table border=\"1\" class=\"dataframe\">\n  <thead>\n    <tr style=\"text-align: right;\">\n      <th></th>\n      <th>0</th>\n      <th>1</th>\n      <th>2</th>\n    </tr>\n  </thead>\n  <tbody>\n    <tr>\n      <th>0</th>\n      <td>0.051870</td>\n      <td>-0.360666</td>\n      <td>0.000221</td>\n    </tr>\n    <tr>\n      <th>1</th>\n      <td>0.210983</td>\n      <td>0.160412</td>\n      <td>0.477448</td>\n    </tr>\n    <tr>\n      <th>2</th>\n      <td>0.034979</td>\n      <td>-0.359946</td>\n      <td>-0.322939</td>\n    </tr>\n    <tr>\n      <th>3</th>\n      <td>-0.144925</td>\n      <td>0.492798</td>\n      <td>-0.183593</td>\n    </tr>\n    <tr>\n      <th>4</th>\n      <td>-0.152907</td>\n      <td>0.067401</td>\n      <td>0.028863</td>\n    </tr>\n  </tbody>\n</table>\n</div>"
          },
          "metadata": {}
        }
      ]
    },
    {
      "cell_type": "code",
      "source": "df = pd.DataFrame({\n    'brand': ['Yum Yum', 'Yum Yum', 'Indomie', 'Indomie', 'Indomie'],\n    'style': ['cup', 'cup', 'cup', 'pack', 'pack'],\n    'rating': [4, 4, 3.5, 15, 5]})\ndf \n",
      "metadata": {
        "trusted": true
      },
      "execution_count": 9,
      "outputs": [
        {
          "execution_count": 9,
          "output_type": "execute_result",
          "data": {
            "text/plain": "     brand style  rating\n0  Yum Yum   cup     4.0\n1  Yum Yum   cup     4.0\n2  Indomie   cup     3.5\n3  Indomie  pack    15.0\n4  Indomie  pack     5.0",
            "text/html": "<div>\n<style scoped>\n    .dataframe tbody tr th:only-of-type {\n        vertical-align: middle;\n    }\n\n    .dataframe tbody tr th {\n        vertical-align: top;\n    }\n\n    .dataframe thead th {\n        text-align: right;\n    }\n</style>\n<table border=\"1\" class=\"dataframe\">\n  <thead>\n    <tr style=\"text-align: right;\">\n      <th></th>\n      <th>brand</th>\n      <th>style</th>\n      <th>rating</th>\n    </tr>\n  </thead>\n  <tbody>\n    <tr>\n      <th>0</th>\n      <td>Yum Yum</td>\n      <td>cup</td>\n      <td>4.0</td>\n    </tr>\n    <tr>\n      <th>1</th>\n      <td>Yum Yum</td>\n      <td>cup</td>\n      <td>4.0</td>\n    </tr>\n    <tr>\n      <th>2</th>\n      <td>Indomie</td>\n      <td>cup</td>\n      <td>3.5</td>\n    </tr>\n    <tr>\n      <th>3</th>\n      <td>Indomie</td>\n      <td>pack</td>\n      <td>15.0</td>\n    </tr>\n    <tr>\n      <th>4</th>\n      <td>Indomie</td>\n      <td>pack</td>\n      <td>5.0</td>\n    </tr>\n  </tbody>\n</table>\n</div>"
          },
          "metadata": {}
        }
      ]
    },
    {
      "cell_type": "code",
      "source": "# df.duplicated(keep=False)計算重複屬性, \n# Default: first, 重複的第二個之後設定為True ; False: 只要重複都設定為True ; \n# last: 重複的第一個設定為 True\n\ndf.duplicated(keep = False)",
      "metadata": {
        "trusted": true
      },
      "execution_count": 4,
      "outputs": [
        {
          "execution_count": 4,
          "output_type": "execute_result",
          "data": {
            "text/plain": "0     True\n1     True\n2    False\n3    False\n4    False\ndtype: bool"
          },
          "metadata": {}
        }
      ]
    },
    {
      "cell_type": "code",
      "source": "len(df) - df.duplicated(keep = False).sum()",
      "metadata": {
        "trusted": true
      },
      "execution_count": 5,
      "outputs": [
        {
          "execution_count": 5,
          "output_type": "execute_result",
          "data": {
            "text/plain": "3"
          },
          "metadata": {}
        }
      ]
    },
    {
      "cell_type": "code",
      "source": "# 返回DataFrame, 但去除重複值\ndf.drop_duplicates(keep=False)",
      "metadata": {
        "trusted": true
      },
      "execution_count": 13,
      "outputs": [
        {
          "execution_count": 13,
          "output_type": "execute_result",
          "data": {
            "text/plain": "     brand style  rating\n2  Indomie   cup     3.5\n3  Indomie  pack    15.0\n4  Indomie  pack     5.0",
            "text/html": "<div>\n<style scoped>\n    .dataframe tbody tr th:only-of-type {\n        vertical-align: middle;\n    }\n\n    .dataframe tbody tr th {\n        vertical-align: top;\n    }\n\n    .dataframe thead th {\n        text-align: right;\n    }\n</style>\n<table border=\"1\" class=\"dataframe\">\n  <thead>\n    <tr style=\"text-align: right;\">\n      <th></th>\n      <th>brand</th>\n      <th>style</th>\n      <th>rating</th>\n    </tr>\n  </thead>\n  <tbody>\n    <tr>\n      <th>2</th>\n      <td>Indomie</td>\n      <td>cup</td>\n      <td>3.5</td>\n    </tr>\n    <tr>\n      <th>3</th>\n      <td>Indomie</td>\n      <td>pack</td>\n      <td>15.0</td>\n    </tr>\n    <tr>\n      <th>4</th>\n      <td>Indomie</td>\n      <td>pack</td>\n      <td>5.0</td>\n    </tr>\n  </tbody>\n</table>\n</div>"
          },
          "metadata": {}
        }
      ]
    },
    {
      "cell_type": "code",
      "source": "len(df.drop_duplicates(keep=False))",
      "metadata": {
        "trusted": true
      },
      "execution_count": 14,
      "outputs": [
        {
          "execution_count": 14,
          "output_type": "execute_result",
          "data": {
            "text/plain": "3"
          },
          "metadata": {}
        }
      ]
    },
    {
      "cell_type": "code",
      "source": "import numpy as np\ndf = pd.DataFrame({'group': list('aabbabbbabab'),\n                  'value':[1,2,3, np.nan, 2, 3, \n                          np.nan, 1, 7, 3, np.nan, 8]})\ndf.head(12)",
      "metadata": {
        "trusted": true
      },
      "execution_count": 3,
      "outputs": [
        {
          "execution_count": 3,
          "output_type": "execute_result",
          "data": {
            "text/plain": "   group  value\n0      a    1.0\n1      a    2.0\n2      b    3.0\n3      b    NaN\n4      a    2.0\n5      b    3.0\n6      b    NaN\n7      b    1.0\n8      a    7.0\n9      b    3.0\n10     a    NaN\n11     b    8.0",
            "text/html": "<div>\n<style scoped>\n    .dataframe tbody tr th:only-of-type {\n        vertical-align: middle;\n    }\n\n    .dataframe tbody tr th {\n        vertical-align: top;\n    }\n\n    .dataframe thead th {\n        text-align: right;\n    }\n</style>\n<table border=\"1\" class=\"dataframe\">\n  <thead>\n    <tr style=\"text-align: right;\">\n      <th></th>\n      <th>group</th>\n      <th>value</th>\n    </tr>\n  </thead>\n  <tbody>\n    <tr>\n      <th>0</th>\n      <td>a</td>\n      <td>1.0</td>\n    </tr>\n    <tr>\n      <th>1</th>\n      <td>a</td>\n      <td>2.0</td>\n    </tr>\n    <tr>\n      <th>2</th>\n      <td>b</td>\n      <td>3.0</td>\n    </tr>\n    <tr>\n      <th>3</th>\n      <td>b</td>\n      <td>NaN</td>\n    </tr>\n    <tr>\n      <th>4</th>\n      <td>a</td>\n      <td>2.0</td>\n    </tr>\n    <tr>\n      <th>5</th>\n      <td>b</td>\n      <td>3.0</td>\n    </tr>\n    <tr>\n      <th>6</th>\n      <td>b</td>\n      <td>NaN</td>\n    </tr>\n    <tr>\n      <th>7</th>\n      <td>b</td>\n      <td>1.0</td>\n    </tr>\n    <tr>\n      <th>8</th>\n      <td>a</td>\n      <td>7.0</td>\n    </tr>\n    <tr>\n      <th>9</th>\n      <td>b</td>\n      <td>3.0</td>\n    </tr>\n    <tr>\n      <th>10</th>\n      <td>a</td>\n      <td>NaN</td>\n    </tr>\n    <tr>\n      <th>11</th>\n      <td>b</td>\n      <td>8.0</td>\n    </tr>\n  </tbody>\n</table>\n</div>"
          },
          "metadata": {}
        }
      ]
    },
    {
      "cell_type": "code",
      "source": "g1 = df.groupby(['group']).mean()\ng1",
      "metadata": {
        "trusted": true
      },
      "execution_count": 23,
      "outputs": [
        {
          "execution_count": 23,
          "output_type": "execute_result",
          "data": {
            "text/plain": "       value\ngroup       \na        3.0\nb        3.6",
            "text/html": "<div>\n<style scoped>\n    .dataframe tbody tr th:only-of-type {\n        vertical-align: middle;\n    }\n\n    .dataframe tbody tr th {\n        vertical-align: top;\n    }\n\n    .dataframe thead th {\n        text-align: right;\n    }\n</style>\n<table border=\"1\" class=\"dataframe\">\n  <thead>\n    <tr style=\"text-align: right;\">\n      <th></th>\n      <th>value</th>\n    </tr>\n    <tr>\n      <th>group</th>\n      <th></th>\n    </tr>\n  </thead>\n  <tbody>\n    <tr>\n      <th>a</th>\n      <td>3.0</td>\n    </tr>\n    <tr>\n      <th>b</th>\n      <td>3.6</td>\n    </tr>\n  </tbody>\n</table>\n</div>"
          },
          "metadata": {}
        }
      ]
    },
    {
      "cell_type": "code",
      "source": "# df.fillna(0)將NaN值改為0\n# rolling(x, min_periods=y), 移動窗口, x為固定觀察值, y為最小可接受的觀察值\ng2 = df.fillna(0).groupby(['group'])['value']\ns = g2.rolling(3, min_periods = 1).sum()/g2.rolling(3, min_periods = 1).count()\ns",
      "metadata": {
        "trusted": true
      },
      "execution_count": 4,
      "outputs": [
        {
          "execution_count": 4,
          "output_type": "execute_result",
          "data": {
            "text/plain": "group    \na      0     1.000000\n       1     1.500000\n       4     1.666667\n       8     3.666667\n       10    3.000000\nb      2     3.000000\n       3     1.500000\n       5     2.000000\n       6     1.000000\n       7     1.333333\n       9     1.333333\n       11    4.000000\nName: value, dtype: float64"
          },
          "metadata": {}
        }
      ]
    },
    {
      "cell_type": "code",
      "source": "g2 = df.fillna(0)['value']\ns1 = g2.rolling(3, min_periods = 1).mean()\ns1",
      "metadata": {
        "trusted": true
      },
      "execution_count": 33,
      "outputs": [
        {
          "execution_count": 33,
          "output_type": "execute_result",
          "data": {
            "text/plain": "0     1.000000\n1     1.500000\n2     2.000000\n3     1.666667\n4     1.666667\n5     1.666667\n6     1.666667\n7     1.333333\n8     2.666667\n9     3.666667\n10    3.333333\n11    3.666667\nName: value, dtype: float64"
          },
          "metadata": {}
        }
      ]
    },
    {
      "cell_type": "code",
      "source": "g2",
      "metadata": {
        "trusted": true
      },
      "execution_count": 34,
      "outputs": [
        {
          "execution_count": 34,
          "output_type": "execute_result",
          "data": {
            "text/plain": "0     1.0\n1     2.0\n2     3.0\n3     0.0\n4     2.0\n5     3.0\n6     0.0\n7     1.0\n8     7.0\n9     3.0\n10    0.0\n11    8.0\nName: value, dtype: float64"
          },
          "metadata": {}
        }
      ]
    },
    {
      "cell_type": "code",
      "source": "df",
      "metadata": {
        "trusted": true
      },
      "execution_count": 35,
      "outputs": [
        {
          "execution_count": 35,
          "output_type": "execute_result",
          "data": {
            "text/plain": "   group  value\n0      a    1.0\n1      a    2.0\n2      b    3.0\n3      b    NaN\n4      a    2.0\n5      b    3.0\n6      b    NaN\n7      b    1.0\n8      a    7.0\n9      b    3.0\n10     a    NaN\n11     b    8.0",
            "text/html": "<div>\n<style scoped>\n    .dataframe tbody tr th:only-of-type {\n        vertical-align: middle;\n    }\n\n    .dataframe tbody tr th {\n        vertical-align: top;\n    }\n\n    .dataframe thead th {\n        text-align: right;\n    }\n</style>\n<table border=\"1\" class=\"dataframe\">\n  <thead>\n    <tr style=\"text-align: right;\">\n      <th></th>\n      <th>group</th>\n      <th>value</th>\n    </tr>\n  </thead>\n  <tbody>\n    <tr>\n      <th>0</th>\n      <td>a</td>\n      <td>1.0</td>\n    </tr>\n    <tr>\n      <th>1</th>\n      <td>a</td>\n      <td>2.0</td>\n    </tr>\n    <tr>\n      <th>2</th>\n      <td>b</td>\n      <td>3.0</td>\n    </tr>\n    <tr>\n      <th>3</th>\n      <td>b</td>\n      <td>NaN</td>\n    </tr>\n    <tr>\n      <th>4</th>\n      <td>a</td>\n      <td>2.0</td>\n    </tr>\n    <tr>\n      <th>5</th>\n      <td>b</td>\n      <td>3.0</td>\n    </tr>\n    <tr>\n      <th>6</th>\n      <td>b</td>\n      <td>NaN</td>\n    </tr>\n    <tr>\n      <th>7</th>\n      <td>b</td>\n      <td>1.0</td>\n    </tr>\n    <tr>\n      <th>8</th>\n      <td>a</td>\n      <td>7.0</td>\n    </tr>\n    <tr>\n      <th>9</th>\n      <td>b</td>\n      <td>3.0</td>\n    </tr>\n    <tr>\n      <th>10</th>\n      <td>a</td>\n      <td>NaN</td>\n    </tr>\n    <tr>\n      <th>11</th>\n      <td>b</td>\n      <td>8.0</td>\n    </tr>\n  </tbody>\n</table>\n</div>"
          },
          "metadata": {}
        }
      ]
    },
    {
      "cell_type": "code",
      "source": "s",
      "metadata": {
        "trusted": true
      },
      "execution_count": 5,
      "outputs": [
        {
          "execution_count": 5,
          "output_type": "execute_result",
          "data": {
            "text/plain": "group    \na      0     1.000000\n       1     1.500000\n       4     1.666667\n       8     3.666667\n       10    3.000000\nb      2     3.000000\n       3     1.500000\n       5     2.000000\n       6     1.000000\n       7     1.333333\n       9     1.333333\n       11    4.000000\nName: value, dtype: float64"
          },
          "metadata": {}
        }
      ]
    },
    {
      "cell_type": "code",
      "source": "s.reset_index()",
      "metadata": {
        "trusted": true
      },
      "execution_count": 6,
      "outputs": [
        {
          "execution_count": 6,
          "output_type": "execute_result",
          "data": {
            "text/plain": "   group  level_1     value\n0      a        0  1.000000\n1      a        1  1.500000\n2      a        4  1.666667\n3      a        8  3.666667\n4      a       10  3.000000\n5      b        2  3.000000\n6      b        3  1.500000\n7      b        5  2.000000\n8      b        6  1.000000\n9      b        7  1.333333\n10     b        9  1.333333\n11     b       11  4.000000",
            "text/html": "<div>\n<style scoped>\n    .dataframe tbody tr th:only-of-type {\n        vertical-align: middle;\n    }\n\n    .dataframe tbody tr th {\n        vertical-align: top;\n    }\n\n    .dataframe thead th {\n        text-align: right;\n    }\n</style>\n<table border=\"1\" class=\"dataframe\">\n  <thead>\n    <tr style=\"text-align: right;\">\n      <th></th>\n      <th>group</th>\n      <th>level_1</th>\n      <th>value</th>\n    </tr>\n  </thead>\n  <tbody>\n    <tr>\n      <th>0</th>\n      <td>a</td>\n      <td>0</td>\n      <td>1.000000</td>\n    </tr>\n    <tr>\n      <th>1</th>\n      <td>a</td>\n      <td>1</td>\n      <td>1.500000</td>\n    </tr>\n    <tr>\n      <th>2</th>\n      <td>a</td>\n      <td>4</td>\n      <td>1.666667</td>\n    </tr>\n    <tr>\n      <th>3</th>\n      <td>a</td>\n      <td>8</td>\n      <td>3.666667</td>\n    </tr>\n    <tr>\n      <th>4</th>\n      <td>a</td>\n      <td>10</td>\n      <td>3.000000</td>\n    </tr>\n    <tr>\n      <th>5</th>\n      <td>b</td>\n      <td>2</td>\n      <td>3.000000</td>\n    </tr>\n    <tr>\n      <th>6</th>\n      <td>b</td>\n      <td>3</td>\n      <td>1.500000</td>\n    </tr>\n    <tr>\n      <th>7</th>\n      <td>b</td>\n      <td>5</td>\n      <td>2.000000</td>\n    </tr>\n    <tr>\n      <th>8</th>\n      <td>b</td>\n      <td>6</td>\n      <td>1.000000</td>\n    </tr>\n    <tr>\n      <th>9</th>\n      <td>b</td>\n      <td>7</td>\n      <td>1.333333</td>\n    </tr>\n    <tr>\n      <th>10</th>\n      <td>b</td>\n      <td>9</td>\n      <td>1.333333</td>\n    </tr>\n    <tr>\n      <th>11</th>\n      <td>b</td>\n      <td>11</td>\n      <td>4.000000</td>\n    </tr>\n  </tbody>\n</table>\n</div>"
          },
          "metadata": {}
        }
      ]
    },
    {
      "cell_type": "code",
      "source": "s.reset_index(level=0)",
      "metadata": {
        "trusted": true
      },
      "execution_count": 14,
      "outputs": [
        {
          "execution_count": 14,
          "output_type": "execute_result",
          "data": {
            "text/plain": "   group     value\n0      a  1.000000\n1      a  1.500000\n4      a  1.666667\n8      a  3.666667\n10     a  3.000000\n2      b  3.000000\n3      b  1.500000\n5      b  2.000000\n6      b  1.000000\n7      b  1.333333\n9      b  1.333333\n11     b  4.000000",
            "text/html": "<div>\n<style scoped>\n    .dataframe tbody tr th:only-of-type {\n        vertical-align: middle;\n    }\n\n    .dataframe tbody tr th {\n        vertical-align: top;\n    }\n\n    .dataframe thead th {\n        text-align: right;\n    }\n</style>\n<table border=\"1\" class=\"dataframe\">\n  <thead>\n    <tr style=\"text-align: right;\">\n      <th></th>\n      <th>group</th>\n      <th>value</th>\n    </tr>\n  </thead>\n  <tbody>\n    <tr>\n      <th>0</th>\n      <td>a</td>\n      <td>1.000000</td>\n    </tr>\n    <tr>\n      <th>1</th>\n      <td>a</td>\n      <td>1.500000</td>\n    </tr>\n    <tr>\n      <th>4</th>\n      <td>a</td>\n      <td>1.666667</td>\n    </tr>\n    <tr>\n      <th>8</th>\n      <td>a</td>\n      <td>3.666667</td>\n    </tr>\n    <tr>\n      <th>10</th>\n      <td>a</td>\n      <td>3.000000</td>\n    </tr>\n    <tr>\n      <th>2</th>\n      <td>b</td>\n      <td>3.000000</td>\n    </tr>\n    <tr>\n      <th>3</th>\n      <td>b</td>\n      <td>1.500000</td>\n    </tr>\n    <tr>\n      <th>5</th>\n      <td>b</td>\n      <td>2.000000</td>\n    </tr>\n    <tr>\n      <th>6</th>\n      <td>b</td>\n      <td>1.000000</td>\n    </tr>\n    <tr>\n      <th>7</th>\n      <td>b</td>\n      <td>1.333333</td>\n    </tr>\n    <tr>\n      <th>9</th>\n      <td>b</td>\n      <td>1.333333</td>\n    </tr>\n    <tr>\n      <th>11</th>\n      <td>b</td>\n      <td>4.000000</td>\n    </tr>\n  </tbody>\n</table>\n</div>"
          },
          "metadata": {}
        }
      ]
    },
    {
      "cell_type": "code",
      "source": "s.reset_index(level=0, drop=True)",
      "metadata": {
        "trusted": true
      },
      "execution_count": 8,
      "outputs": [
        {
          "execution_count": 8,
          "output_type": "execute_result",
          "data": {
            "text/plain": "0     1.000000\n1     1.500000\n4     1.666667\n8     3.666667\n10    3.000000\n2     3.000000\n3     1.500000\n5     2.000000\n6     1.000000\n7     1.333333\n9     1.333333\n11    4.000000\nName: value, dtype: float64"
          },
          "metadata": {}
        }
      ]
    },
    {
      "cell_type": "code",
      "source": "s.reset_index(level=0, drop=True).sort_index()",
      "metadata": {
        "trusted": true
      },
      "execution_count": 9,
      "outputs": [
        {
          "execution_count": 9,
          "output_type": "execute_result",
          "data": {
            "text/plain": "0     1.000000\n1     1.500000\n2     3.000000\n3     1.500000\n4     1.666667\n5     2.000000\n6     1.000000\n7     1.333333\n8     3.666667\n9     1.333333\n10    3.000000\n11    4.000000\nName: value, dtype: float64"
          },
          "metadata": {}
        }
      ]
    },
    {
      "cell_type": "code",
      "source": "# D : calendar day frequency ; B : business day frequency\ndt = pd.date_range(start = '2023-10-16',end = '2023-12-31', freq = 'D')\ns = pd.Series(np.random.rand(len(dt)),index= dt)\ns[:5]",
      "metadata": {
        "trusted": true
      },
      "execution_count": 37,
      "outputs": [
        {
          "execution_count": 37,
          "output_type": "execute_result",
          "data": {
            "text/plain": "2023-10-16    0.273369\n2023-10-17    0.221981\n2023-10-18    0.497697\n2023-10-19    0.107992\n2023-10-20    0.749591\nFreq: D, dtype: float64"
          },
          "metadata": {}
        }
      ]
    },
    {
      "cell_type": "code",
      "source": "# s.index.weekday, 0: Monday ; 6:Sunday\ns[s.index.weekday == 2]",
      "metadata": {
        "trusted": true
      },
      "execution_count": 25,
      "outputs": [
        {
          "execution_count": 25,
          "output_type": "execute_result",
          "data": {
            "text/plain": "2023-10-18    0.778285\n2023-10-25    0.328724\n2023-11-01    0.191592\n2023-11-08    0.110399\n2023-11-15    0.860680\n2023-11-22    0.626319\n2023-11-29    0.675215\n2023-12-06    0.572020\n2023-12-13    0.822978\n2023-12-20    0.280182\n2023-12-27    0.361602\ndtype: float64"
          },
          "metadata": {}
        }
      ]
    },
    {
      "cell_type": "code",
      "source": "s[s.index.weekday == 2].sum()",
      "metadata": {
        "trusted": true
      },
      "execution_count": 26,
      "outputs": [
        {
          "execution_count": 26,
          "output_type": "execute_result",
          "data": {
            "text/plain": "5.607996830824063"
          },
          "metadata": {}
        }
      ]
    },
    {
      "cell_type": "code",
      "source": "# M : Month , 以月為單位計算平均數\ns.resample('M').mean()",
      "metadata": {
        "trusted": true
      },
      "execution_count": 38,
      "outputs": [
        {
          "execution_count": 38,
          "output_type": "execute_result",
          "data": {
            "text/plain": "2023-10-31    0.551568\n2023-11-30    0.524191\n2023-12-31    0.503624\nFreq: M, dtype: float64"
          },
          "metadata": {}
        }
      ]
    },
    {
      "cell_type": "code",
      "source": "import pandas as pd \nimport numpy as np\ndf = pd.DataFrame({'From_To':['London_paRis', 'Madrid_Milan', 'London_stockhOlm', 'Budapest_Paris', 'BrUssels_LoNDon'],\n                  'Flight_Number': [10045, np.nan, 10065, np.nan, 10085],\n                  'Recent_Delays': [[23,47], [], [24,43,87], [13], [67, 32]],\n                  'Airline': ['KLM', '<Air France>(12)', 'British Airways', '12 Air France', 'Swiss Air']})\ndf.head()",
      "metadata": {
        "trusted": true
      },
      "execution_count": 26,
      "outputs": [
        {
          "execution_count": 26,
          "output_type": "execute_result",
          "data": {
            "text/plain": "            From_To  Flight_Number Recent_Delays           Airline\n0      London_paRis        10045.0      [23, 47]               KLM\n1      Madrid_Milan            NaN            []  <Air France>(12)\n2  London_stockhOlm        10065.0  [24, 43, 87]   British Airways\n3    Budapest_Paris            NaN          [13]     12 Air France\n4   BrUssels_LoNDon        10085.0      [67, 32]         Swiss Air",
            "text/html": "<div>\n<style scoped>\n    .dataframe tbody tr th:only-of-type {\n        vertical-align: middle;\n    }\n\n    .dataframe tbody tr th {\n        vertical-align: top;\n    }\n\n    .dataframe thead th {\n        text-align: right;\n    }\n</style>\n<table border=\"1\" class=\"dataframe\">\n  <thead>\n    <tr style=\"text-align: right;\">\n      <th></th>\n      <th>From_To</th>\n      <th>Flight_Number</th>\n      <th>Recent_Delays</th>\n      <th>Airline</th>\n    </tr>\n  </thead>\n  <tbody>\n    <tr>\n      <th>0</th>\n      <td>London_paRis</td>\n      <td>10045.0</td>\n      <td>[23, 47]</td>\n      <td>KLM</td>\n    </tr>\n    <tr>\n      <th>1</th>\n      <td>Madrid_Milan</td>\n      <td>NaN</td>\n      <td>[]</td>\n      <td>&lt;Air France&gt;(12)</td>\n    </tr>\n    <tr>\n      <th>2</th>\n      <td>London_stockhOlm</td>\n      <td>10065.0</td>\n      <td>[24, 43, 87]</td>\n      <td>British Airways</td>\n    </tr>\n    <tr>\n      <th>3</th>\n      <td>Budapest_Paris</td>\n      <td>NaN</td>\n      <td>[13]</td>\n      <td>12 Air France</td>\n    </tr>\n    <tr>\n      <th>4</th>\n      <td>BrUssels_LoNDon</td>\n      <td>10085.0</td>\n      <td>[67, 32]</td>\n      <td>Swiss Air</td>\n    </tr>\n  </tbody>\n</table>\n</div>"
          },
          "metadata": {}
        }
      ]
    },
    {
      "cell_type": "code",
      "source": "# .interpolate() 根據已經的數據, 進行自動插值\n# .astype() 改變數據形態\ndf['Flight_Number'] = df['Flight_Number'].interpolate().astype(int)",
      "metadata": {
        "trusted": true
      },
      "execution_count": 27,
      "outputs": []
    },
    {
      "cell_type": "code",
      "source": "df.head()",
      "metadata": {
        "trusted": true
      },
      "execution_count": 28,
      "outputs": [
        {
          "execution_count": 28,
          "output_type": "execute_result",
          "data": {
            "text/plain": "            From_To  Flight_Number Recent_Delays           Airline\n0      London_paRis          10045      [23, 47]               KLM\n1      Madrid_Milan          10055            []  <Air France>(12)\n2  London_stockhOlm          10065  [24, 43, 87]   British Airways\n3    Budapest_Paris          10075          [13]     12 Air France\n4   BrUssels_LoNDon          10085      [67, 32]         Swiss Air",
            "text/html": "<div>\n<style scoped>\n    .dataframe tbody tr th:only-of-type {\n        vertical-align: middle;\n    }\n\n    .dataframe tbody tr th {\n        vertical-align: top;\n    }\n\n    .dataframe thead th {\n        text-align: right;\n    }\n</style>\n<table border=\"1\" class=\"dataframe\">\n  <thead>\n    <tr style=\"text-align: right;\">\n      <th></th>\n      <th>From_To</th>\n      <th>Flight_Number</th>\n      <th>Recent_Delays</th>\n      <th>Airline</th>\n    </tr>\n  </thead>\n  <tbody>\n    <tr>\n      <th>0</th>\n      <td>London_paRis</td>\n      <td>10045</td>\n      <td>[23, 47]</td>\n      <td>KLM</td>\n    </tr>\n    <tr>\n      <th>1</th>\n      <td>Madrid_Milan</td>\n      <td>10055</td>\n      <td>[]</td>\n      <td>&lt;Air France&gt;(12)</td>\n    </tr>\n    <tr>\n      <th>2</th>\n      <td>London_stockhOlm</td>\n      <td>10065</td>\n      <td>[24, 43, 87]</td>\n      <td>British Airways</td>\n    </tr>\n    <tr>\n      <th>3</th>\n      <td>Budapest_Paris</td>\n      <td>10075</td>\n      <td>[13]</td>\n      <td>12 Air France</td>\n    </tr>\n    <tr>\n      <th>4</th>\n      <td>BrUssels_LoNDon</td>\n      <td>10085</td>\n      <td>[67, 32]</td>\n      <td>Swiss Air</td>\n    </tr>\n  </tbody>\n</table>\n</div>"
          },
          "metadata": {}
        }
      ]
    },
    {
      "cell_type": "code",
      "source": "#Expand the split strings into separate columns.\n#If True, return DataFrame/MultiIndex expanding dimensionality.\n#If False, return Series/Index, containing lists of strings.\ntemp = df.From_To.str.split('_', expand= True)\ntemp.columns = ['From', 'To']\n\ntemp['From'] = temp['From'].str.capitalize()\ntemp['To'] = temp['To'].str.capitalize()\ntemp",
      "metadata": {
        "trusted": true
      },
      "execution_count": 29,
      "outputs": [
        {
          "execution_count": 29,
          "output_type": "execute_result",
          "data": {
            "text/plain": "       From         To\n0    London      Paris\n1    Madrid      Milan\n2    London  Stockholm\n3  Budapest      Paris\n4  Brussels     London",
            "text/html": "<div>\n<style scoped>\n    .dataframe tbody tr th:only-of-type {\n        vertical-align: middle;\n    }\n\n    .dataframe tbody tr th {\n        vertical-align: top;\n    }\n\n    .dataframe thead th {\n        text-align: right;\n    }\n</style>\n<table border=\"1\" class=\"dataframe\">\n  <thead>\n    <tr style=\"text-align: right;\">\n      <th></th>\n      <th>From</th>\n      <th>To</th>\n    </tr>\n  </thead>\n  <tbody>\n    <tr>\n      <th>0</th>\n      <td>London</td>\n      <td>Paris</td>\n    </tr>\n    <tr>\n      <th>1</th>\n      <td>Madrid</td>\n      <td>Milan</td>\n    </tr>\n    <tr>\n      <th>2</th>\n      <td>London</td>\n      <td>Stockholm</td>\n    </tr>\n    <tr>\n      <th>3</th>\n      <td>Budapest</td>\n      <td>Paris</td>\n    </tr>\n    <tr>\n      <th>4</th>\n      <td>Brussels</td>\n      <td>London</td>\n    </tr>\n  </tbody>\n</table>\n</div>"
          },
          "metadata": {}
        }
      ]
    },
    {
      "cell_type": "code",
      "source": "#Join columns of another DataFrame.\ndf = df.join(temp)\ndf.head()",
      "metadata": {
        "trusted": true
      },
      "execution_count": 30,
      "outputs": [
        {
          "execution_count": 30,
          "output_type": "execute_result",
          "data": {
            "text/plain": "            From_To  Flight_Number Recent_Delays           Airline      From  \\\n0      London_paRis          10045      [23, 47]               KLM    London   \n1      Madrid_Milan          10055            []  <Air France>(12)    Madrid   \n2  London_stockhOlm          10065  [24, 43, 87]   British Airways    London   \n3    Budapest_Paris          10075          [13]     12 Air France  Budapest   \n4   BrUssels_LoNDon          10085      [67, 32]         Swiss Air  Brussels   \n\n          To  \n0      Paris  \n1      Milan  \n2  Stockholm  \n3      Paris  \n4     London  ",
            "text/html": "<div>\n<style scoped>\n    .dataframe tbody tr th:only-of-type {\n        vertical-align: middle;\n    }\n\n    .dataframe tbody tr th {\n        vertical-align: top;\n    }\n\n    .dataframe thead th {\n        text-align: right;\n    }\n</style>\n<table border=\"1\" class=\"dataframe\">\n  <thead>\n    <tr style=\"text-align: right;\">\n      <th></th>\n      <th>From_To</th>\n      <th>Flight_Number</th>\n      <th>Recent_Delays</th>\n      <th>Airline</th>\n      <th>From</th>\n      <th>To</th>\n    </tr>\n  </thead>\n  <tbody>\n    <tr>\n      <th>0</th>\n      <td>London_paRis</td>\n      <td>10045</td>\n      <td>[23, 47]</td>\n      <td>KLM</td>\n      <td>London</td>\n      <td>Paris</td>\n    </tr>\n    <tr>\n      <th>1</th>\n      <td>Madrid_Milan</td>\n      <td>10055</td>\n      <td>[]</td>\n      <td>&lt;Air France&gt;(12)</td>\n      <td>Madrid</td>\n      <td>Milan</td>\n    </tr>\n    <tr>\n      <th>2</th>\n      <td>London_stockhOlm</td>\n      <td>10065</td>\n      <td>[24, 43, 87]</td>\n      <td>British Airways</td>\n      <td>London</td>\n      <td>Stockholm</td>\n    </tr>\n    <tr>\n      <th>3</th>\n      <td>Budapest_Paris</td>\n      <td>10075</td>\n      <td>[13]</td>\n      <td>12 Air France</td>\n      <td>Budapest</td>\n      <td>Paris</td>\n    </tr>\n    <tr>\n      <th>4</th>\n      <td>BrUssels_LoNDon</td>\n      <td>10085</td>\n      <td>[67, 32]</td>\n      <td>Swiss Air</td>\n      <td>Brussels</td>\n      <td>London</td>\n    </tr>\n  </tbody>\n</table>\n</div>"
          },
          "metadata": {}
        }
      ]
    },
    {
      "cell_type": "code",
      "source": "#Drop specified labels from rows or columns.\n#axis = 0 or 1. Whether to drop labels from the index (0 or ‘index’) or columns (1 or ‘columns’).\ndf = df.drop('From_To', axis=1)\ndf.head()",
      "metadata": {
        "trusted": true
      },
      "execution_count": 31,
      "outputs": [
        {
          "execution_count": 31,
          "output_type": "execute_result",
          "data": {
            "text/plain": "   Flight_Number Recent_Delays           Airline      From         To\n0          10045      [23, 47]               KLM    London      Paris\n1          10055            []  <Air France>(12)    Madrid      Milan\n2          10065  [24, 43, 87]   British Airways    London  Stockholm\n3          10075          [13]     12 Air France  Budapest      Paris\n4          10085      [67, 32]         Swiss Air  Brussels     London",
            "text/html": "<div>\n<style scoped>\n    .dataframe tbody tr th:only-of-type {\n        vertical-align: middle;\n    }\n\n    .dataframe tbody tr th {\n        vertical-align: top;\n    }\n\n    .dataframe thead th {\n        text-align: right;\n    }\n</style>\n<table border=\"1\" class=\"dataframe\">\n  <thead>\n    <tr style=\"text-align: right;\">\n      <th></th>\n      <th>Flight_Number</th>\n      <th>Recent_Delays</th>\n      <th>Airline</th>\n      <th>From</th>\n      <th>To</th>\n    </tr>\n  </thead>\n  <tbody>\n    <tr>\n      <th>0</th>\n      <td>10045</td>\n      <td>[23, 47]</td>\n      <td>KLM</td>\n      <td>London</td>\n      <td>Paris</td>\n    </tr>\n    <tr>\n      <th>1</th>\n      <td>10055</td>\n      <td>[]</td>\n      <td>&lt;Air France&gt;(12)</td>\n      <td>Madrid</td>\n      <td>Milan</td>\n    </tr>\n    <tr>\n      <th>2</th>\n      <td>10065</td>\n      <td>[24, 43, 87]</td>\n      <td>British Airways</td>\n      <td>London</td>\n      <td>Stockholm</td>\n    </tr>\n    <tr>\n      <th>3</th>\n      <td>10075</td>\n      <td>[13]</td>\n      <td>12 Air France</td>\n      <td>Budapest</td>\n      <td>Paris</td>\n    </tr>\n    <tr>\n      <th>4</th>\n      <td>10085</td>\n      <td>[67, 32]</td>\n      <td>Swiss Air</td>\n      <td>Brussels</td>\n      <td>London</td>\n    </tr>\n  </tbody>\n</table>\n</div>"
          },
          "metadata": {}
        }
      ]
    },
    {
      "cell_type": "code",
      "source": "# [a-zA-Z\\s] 接受a-zA-Z字母以及\\s為空格, +代表可以多次; strip() 去除前後空格以及\\n\\r\\t\n\ndf['Airline'] = df['Airline'].str.extract('([a-zA-Z\\s]+)', expand = False).str.strip()\ndf.head()",
      "metadata": {
        "trusted": true
      },
      "execution_count": 32,
      "outputs": [
        {
          "execution_count": 32,
          "output_type": "execute_result",
          "data": {
            "text/plain": "   Flight_Number Recent_Delays          Airline      From         To\n0          10045      [23, 47]              KLM    London      Paris\n1          10055            []       Air France    Madrid      Milan\n2          10065  [24, 43, 87]  British Airways    London  Stockholm\n3          10075          [13]       Air France  Budapest      Paris\n4          10085      [67, 32]        Swiss Air  Brussels     London",
            "text/html": "<div>\n<style scoped>\n    .dataframe tbody tr th:only-of-type {\n        vertical-align: middle;\n    }\n\n    .dataframe tbody tr th {\n        vertical-align: top;\n    }\n\n    .dataframe thead th {\n        text-align: right;\n    }\n</style>\n<table border=\"1\" class=\"dataframe\">\n  <thead>\n    <tr style=\"text-align: right;\">\n      <th></th>\n      <th>Flight_Number</th>\n      <th>Recent_Delays</th>\n      <th>Airline</th>\n      <th>From</th>\n      <th>To</th>\n    </tr>\n  </thead>\n  <tbody>\n    <tr>\n      <th>0</th>\n      <td>10045</td>\n      <td>[23, 47]</td>\n      <td>KLM</td>\n      <td>London</td>\n      <td>Paris</td>\n    </tr>\n    <tr>\n      <th>1</th>\n      <td>10055</td>\n      <td>[]</td>\n      <td>Air France</td>\n      <td>Madrid</td>\n      <td>Milan</td>\n    </tr>\n    <tr>\n      <th>2</th>\n      <td>10065</td>\n      <td>[24, 43, 87]</td>\n      <td>British Airways</td>\n      <td>London</td>\n      <td>Stockholm</td>\n    </tr>\n    <tr>\n      <th>3</th>\n      <td>10075</td>\n      <td>[13]</td>\n      <td>Air France</td>\n      <td>Budapest</td>\n      <td>Paris</td>\n    </tr>\n    <tr>\n      <th>4</th>\n      <td>10085</td>\n      <td>[67, 32]</td>\n      <td>Swiss Air</td>\n      <td>Brussels</td>\n      <td>London</td>\n    </tr>\n  </tbody>\n</table>\n</div>"
          },
          "metadata": {}
        }
      ]
    },
    {
      "cell_type": "code",
      "source": "delays = df['Recent_Delays'].apply(pd.Series)\ndelays.columns = ['delay_{}'.format(n) for n in range(1, len(delays.columns)+1)]\ndelays",
      "metadata": {
        "trusted": true
      },
      "execution_count": 34,
      "outputs": [
        {
          "name": "stderr",
          "text": "<ipython-input-34-f1ae1852a009>:1: FutureWarning: The default dtype for empty Series will be 'object' instead of 'float64' in a future version. Specify a dtype explicitly to silence this warning.\n  delays = df['Recent_Delays'].apply(pd.Series)\n",
          "output_type": "stream"
        },
        {
          "execution_count": 34,
          "output_type": "execute_result",
          "data": {
            "text/plain": "   delay_1  delay_2  delay_3\n0     23.0     47.0      NaN\n1      NaN      NaN      NaN\n2     24.0     43.0     87.0\n3     13.0      NaN      NaN\n4     67.0     32.0      NaN",
            "text/html": "<div>\n<style scoped>\n    .dataframe tbody tr th:only-of-type {\n        vertical-align: middle;\n    }\n\n    .dataframe tbody tr th {\n        vertical-align: top;\n    }\n\n    .dataframe thead th {\n        text-align: right;\n    }\n</style>\n<table border=\"1\" class=\"dataframe\">\n  <thead>\n    <tr style=\"text-align: right;\">\n      <th></th>\n      <th>delay_1</th>\n      <th>delay_2</th>\n      <th>delay_3</th>\n    </tr>\n  </thead>\n  <tbody>\n    <tr>\n      <th>0</th>\n      <td>23.0</td>\n      <td>47.0</td>\n      <td>NaN</td>\n    </tr>\n    <tr>\n      <th>1</th>\n      <td>NaN</td>\n      <td>NaN</td>\n      <td>NaN</td>\n    </tr>\n    <tr>\n      <th>2</th>\n      <td>24.0</td>\n      <td>43.0</td>\n      <td>87.0</td>\n    </tr>\n    <tr>\n      <th>3</th>\n      <td>13.0</td>\n      <td>NaN</td>\n      <td>NaN</td>\n    </tr>\n    <tr>\n      <th>4</th>\n      <td>67.0</td>\n      <td>32.0</td>\n      <td>NaN</td>\n    </tr>\n  </tbody>\n</table>\n</div>"
          },
          "metadata": {}
        }
      ]
    },
    {
      "cell_type": "code",
      "source": "letters = ['A', 'B', 'C']\nnumbers = list(range(10))\nmi = pd.MultiIndex.from_product([letters,numbers])\ns = pd.Series(np.random.rand(30), index=mi)\ns",
      "metadata": {
        "trusted": true
      },
      "execution_count": 35,
      "outputs": [
        {
          "execution_count": 35,
          "output_type": "execute_result",
          "data": {
            "text/plain": "A  0    0.711251\n   1    0.334406\n   2    0.253864\n   3    0.300836\n   4    0.332906\n   5    0.757654\n   6    0.962897\n   7    0.182841\n   8    0.134033\n   9    0.203497\nB  0    0.261313\n   1    0.079142\n   2    0.590920\n   3    0.176270\n   4    0.847720\n   5    0.084026\n   6    0.156970\n   7    0.617551\n   8    0.730287\n   9    0.522448\nC  0    0.209181\n   1    0.280313\n   2    0.415133\n   3    0.072937\n   4    0.266735\n   5    0.537018\n   6    0.779707\n   7    0.094148\n   8    0.433248\n   9    0.909542\ndtype: float64"
          },
          "metadata": {}
        }
      ]
    },
    {
      "cell_type": "code",
      "source": "s.loc[pd.IndexSlice[:'B',5:]]",
      "metadata": {
        "trusted": true
      },
      "execution_count": 36,
      "outputs": [
        {
          "execution_count": 36,
          "output_type": "execute_result",
          "data": {
            "text/plain": "A  5    0.757654\n   6    0.962897\n   7    0.182841\n   8    0.134033\n   9    0.203497\nB  5    0.084026\n   6    0.156970\n   7    0.617551\n   8    0.730287\n   9    0.522448\ndtype: float64"
          },
          "metadata": {}
        }
      ]
    },
    {
      "cell_type": "code",
      "source": "# level = 0 則為ABC的計算\ns.sum(level = 1)",
      "metadata": {
        "trusted": true
      },
      "execution_count": 44,
      "outputs": [
        {
          "name": "stderr",
          "text": "<ipython-input-44-25fdfdd67bcb>:2: FutureWarning: Using the level keyword in DataFrame and Series aggregations is deprecated and will be removed in a future version. Use groupby instead. df.sum(level=1) should use df.groupby(level=1).sum().\n  s.sum(level = 1)\n",
          "output_type": "stream"
        },
        {
          "execution_count": 44,
          "output_type": "execute_result",
          "data": {
            "text/plain": "0    1.181745\n1    0.693861\n2    1.259918\n3    0.550042\n4    1.447361\n5    1.378698\n6    1.899575\n7    0.894541\n8    1.297568\n9    1.635487\ndtype: float64"
          },
          "metadata": {}
        }
      ]
    },
    {
      "cell_type": "code",
      "source": "new = s.swaplevel(0,1)\nnew",
      "metadata": {
        "trusted": true
      },
      "execution_count": 49,
      "outputs": [
        {
          "execution_count": 49,
          "output_type": "execute_result",
          "data": {
            "text/plain": "0  A    0.711251\n1  A    0.334406\n2  A    0.253864\n3  A    0.300836\n4  A    0.332906\n5  A    0.757654\n6  A    0.962897\n7  A    0.182841\n8  A    0.134033\n9  A    0.203497\n0  B    0.261313\n1  B    0.079142\n2  B    0.590920\n3  B    0.176270\n4  B    0.847720\n5  B    0.084026\n6  B    0.156970\n7  B    0.617551\n8  B    0.730287\n9  B    0.522448\n0  C    0.209181\n1  C    0.280313\n2  C    0.415133\n3  C    0.072937\n4  C    0.266735\n5  C    0.537018\n6  C    0.779707\n7  C    0.094148\n8  C    0.433248\n9  C    0.909542\ndtype: float64"
          },
          "metadata": {}
        }
      ]
    },
    {
      "cell_type": "code",
      "source": "df = pd.read_csv('./titanic.csv')",
      "metadata": {
        "trusted": true
      },
      "execution_count": 6,
      "outputs": []
    },
    {
      "cell_type": "code",
      "source": "# .head()可以讀取前幾條數據,指定前幾條都可以\ndf.head(6)",
      "metadata": {
        "trusted": true
      },
      "execution_count": 8,
      "outputs": [
        {
          "execution_count": 8,
          "output_type": "execute_result",
          "data": {
            "text/plain": "   PassengerId  Survived  Pclass  \\\n0            1         0       3   \n1            2         1       1   \n2            3         1       3   \n3            4         1       1   \n4            5         0       3   \n5            6         0       3   \n\n                                                Name     Sex   Age  SibSp  \\\n0                            Braund, Mr. Owen Harris    male  22.0      1   \n1  Cumings, Mrs. John Bradley (Florence Briggs Th...  female  38.0      1   \n2                             Heikkinen, Miss. Laina  female  26.0      0   \n3       Futrelle, Mrs. Jacques Heath (Lily May Peel)  female  35.0      1   \n4                           Allen, Mr. William Henry    male  35.0      0   \n5                                   Moran, Mr. James    male   NaN      0   \n\n   Parch            Ticket     Fare Cabin Embarked  \n0      0         A/5 21171   7.2500   NaN        S  \n1      0          PC 17599  71.2833   C85        C  \n2      0  STON/O2. 3101282   7.9250   NaN        S  \n3      0            113803  53.1000  C123        S  \n4      0            373450   8.0500   NaN        S  \n5      0            330877   8.4583   NaN        Q  ",
            "text/html": "<div>\n<style scoped>\n    .dataframe tbody tr th:only-of-type {\n        vertical-align: middle;\n    }\n\n    .dataframe tbody tr th {\n        vertical-align: top;\n    }\n\n    .dataframe thead th {\n        text-align: right;\n    }\n</style>\n<table border=\"1\" class=\"dataframe\">\n  <thead>\n    <tr style=\"text-align: right;\">\n      <th></th>\n      <th>PassengerId</th>\n      <th>Survived</th>\n      <th>Pclass</th>\n      <th>Name</th>\n      <th>Sex</th>\n      <th>Age</th>\n      <th>SibSp</th>\n      <th>Parch</th>\n      <th>Ticket</th>\n      <th>Fare</th>\n      <th>Cabin</th>\n      <th>Embarked</th>\n    </tr>\n  </thead>\n  <tbody>\n    <tr>\n      <th>0</th>\n      <td>1</td>\n      <td>0</td>\n      <td>3</td>\n      <td>Braund, Mr. Owen Harris</td>\n      <td>male</td>\n      <td>22.0</td>\n      <td>1</td>\n      <td>0</td>\n      <td>A/5 21171</td>\n      <td>7.2500</td>\n      <td>NaN</td>\n      <td>S</td>\n    </tr>\n    <tr>\n      <th>1</th>\n      <td>2</td>\n      <td>1</td>\n      <td>1</td>\n      <td>Cumings, Mrs. John Bradley (Florence Briggs Th...</td>\n      <td>female</td>\n      <td>38.0</td>\n      <td>1</td>\n      <td>0</td>\n      <td>PC 17599</td>\n      <td>71.2833</td>\n      <td>C85</td>\n      <td>C</td>\n    </tr>\n    <tr>\n      <th>2</th>\n      <td>3</td>\n      <td>1</td>\n      <td>3</td>\n      <td>Heikkinen, Miss. Laina</td>\n      <td>female</td>\n      <td>26.0</td>\n      <td>0</td>\n      <td>0</td>\n      <td>STON/O2. 3101282</td>\n      <td>7.9250</td>\n      <td>NaN</td>\n      <td>S</td>\n    </tr>\n    <tr>\n      <th>3</th>\n      <td>4</td>\n      <td>1</td>\n      <td>1</td>\n      <td>Futrelle, Mrs. Jacques Heath (Lily May Peel)</td>\n      <td>female</td>\n      <td>35.0</td>\n      <td>1</td>\n      <td>0</td>\n      <td>113803</td>\n      <td>53.1000</td>\n      <td>C123</td>\n      <td>S</td>\n    </tr>\n    <tr>\n      <th>4</th>\n      <td>5</td>\n      <td>0</td>\n      <td>3</td>\n      <td>Allen, Mr. William Henry</td>\n      <td>male</td>\n      <td>35.0</td>\n      <td>0</td>\n      <td>0</td>\n      <td>373450</td>\n      <td>8.0500</td>\n      <td>NaN</td>\n      <td>S</td>\n    </tr>\n    <tr>\n      <th>5</th>\n      <td>6</td>\n      <td>0</td>\n      <td>3</td>\n      <td>Moran, Mr. James</td>\n      <td>male</td>\n      <td>NaN</td>\n      <td>0</td>\n      <td>0</td>\n      <td>330877</td>\n      <td>8.4583</td>\n      <td>NaN</td>\n      <td>Q</td>\n    </tr>\n  </tbody>\n</table>\n</div>"
          },
          "metadata": {}
        }
      ]
    },
    {
      "cell_type": "code",
      "source": "# .info返回當前的信息\ndf.info()",
      "metadata": {
        "trusted": true
      },
      "execution_count": 9,
      "outputs": [
        {
          "name": "stdout",
          "text": "<class 'pandas.core.frame.DataFrame'>\nRangeIndex: 891 entries, 0 to 890\nData columns (total 12 columns):\n #   Column       Non-Null Count  Dtype  \n---  ------       --------------  -----  \n 0   PassengerId  891 non-null    int64  \n 1   Survived     891 non-null    int64  \n 2   Pclass       891 non-null    int64  \n 3   Name         891 non-null    object \n 4   Sex          891 non-null    object \n 5   Age          714 non-null    float64\n 6   SibSp        891 non-null    int64  \n 7   Parch        891 non-null    int64  \n 8   Ticket       891 non-null    object \n 9   Fare         891 non-null    float64\n 10  Cabin        204 non-null    object \n 11  Embarked     889 non-null    object \ndtypes: float64(2), int64(5), object(5)\nmemory usage: 66.2+ KB\n",
          "output_type": "stream"
        }
      ]
    },
    {
      "cell_type": "code",
      "source": "df.index",
      "metadata": {
        "trusted": true
      },
      "execution_count": 10,
      "outputs": [
        {
          "execution_count": 10,
          "output_type": "execute_result",
          "data": {
            "text/plain": "RangeIndex(start=0, stop=891, step=1)"
          },
          "metadata": {}
        }
      ]
    },
    {
      "cell_type": "code",
      "source": "df.columns",
      "metadata": {
        "trusted": true
      },
      "execution_count": 11,
      "outputs": [
        {
          "execution_count": 11,
          "output_type": "execute_result",
          "data": {
            "text/plain": "Index(['PassengerId', 'Survived', 'Pclass', 'Name', 'Sex', 'Age', 'SibSp',\n       'Parch', 'Ticket', 'Fare', 'Cabin', 'Embarked'],\n      dtype='object')"
          },
          "metadata": {}
        }
      ]
    },
    {
      "cell_type": "code",
      "source": "df.dtypes",
      "metadata": {
        "trusted": true
      },
      "execution_count": 12,
      "outputs": [
        {
          "execution_count": 12,
          "output_type": "execute_result",
          "data": {
            "text/plain": "PassengerId      int64\nSurvived         int64\nPclass           int64\nName            object\nSex             object\nAge            float64\nSibSp            int64\nParch            int64\nTicket          object\nFare           float64\nCabin           object\nEmbarked        object\ndtype: object"
          },
          "metadata": {}
        }
      ]
    },
    {
      "cell_type": "code",
      "source": "df.values",
      "metadata": {
        "trusted": true
      },
      "execution_count": 13,
      "outputs": [
        {
          "execution_count": 13,
          "output_type": "execute_result",
          "data": {
            "text/plain": "array([[1, 0, 3, ..., 7.25, nan, 'S'],\n       [2, 1, 1, ..., 71.2833, 'C85', 'C'],\n       [3, 1, 3, ..., 7.925, nan, 'S'],\n       ...,\n       [889, 0, 3, ..., 23.45, nan, 'S'],\n       [890, 1, 1, ..., 30.0, 'C148', 'C'],\n       [891, 0, 3, ..., 7.75, nan, 'Q']], dtype=object)"
          },
          "metadata": {}
        }
      ]
    },
    {
      "cell_type": "code",
      "source": "data = {'country':['aaa','bbb','ccc'],\n       'population':[10,12,14]}\ndf_data = pd.DataFrame(data)\ndf_data",
      "metadata": {
        "trusted": true
      },
      "execution_count": 14,
      "outputs": [
        {
          "execution_count": 14,
          "output_type": "execute_result",
          "data": {
            "text/plain": "  country  population\n0     aaa          10\n1     bbb          12\n2     ccc          14",
            "text/html": "<div>\n<style scoped>\n    .dataframe tbody tr th:only-of-type {\n        vertical-align: middle;\n    }\n\n    .dataframe tbody tr th {\n        vertical-align: top;\n    }\n\n    .dataframe thead th {\n        text-align: right;\n    }\n</style>\n<table border=\"1\" class=\"dataframe\">\n  <thead>\n    <tr style=\"text-align: right;\">\n      <th></th>\n      <th>country</th>\n      <th>population</th>\n    </tr>\n  </thead>\n  <tbody>\n    <tr>\n      <th>0</th>\n      <td>aaa</td>\n      <td>10</td>\n    </tr>\n    <tr>\n      <th>1</th>\n      <td>bbb</td>\n      <td>12</td>\n    </tr>\n    <tr>\n      <th>2</th>\n      <td>ccc</td>\n      <td>14</td>\n    </tr>\n  </tbody>\n</table>\n</div>"
          },
          "metadata": {}
        }
      ]
    },
    {
      "cell_type": "code",
      "source": "df_data.info()",
      "metadata": {
        "trusted": true
      },
      "execution_count": 15,
      "outputs": [
        {
          "name": "stdout",
          "text": "<class 'pandas.core.frame.DataFrame'>\nRangeIndex: 3 entries, 0 to 2\nData columns (total 2 columns):\n #   Column      Non-Null Count  Dtype \n---  ------      --------------  ----- \n 0   country     3 non-null      object\n 1   population  3 non-null      int64 \ndtypes: int64(1), object(1)\nmemory usage: 108.0+ bytes\n",
          "output_type": "stream"
        }
      ]
    },
    {
      "cell_type": "code",
      "source": "age = df['Age']\nage[:5]",
      "metadata": {
        "trusted": true
      },
      "execution_count": 16,
      "outputs": [
        {
          "execution_count": 16,
          "output_type": "execute_result",
          "data": {
            "text/plain": "0    22.0\n1    38.0\n2    26.0\n3    35.0\n4    35.0\nName: Age, dtype: float64"
          },
          "metadata": {}
        }
      ]
    },
    {
      "cell_type": "code",
      "source": "# series:dataframe中的一行/列\nage.index",
      "metadata": {
        "trusted": true
      },
      "execution_count": 18,
      "outputs": [
        {
          "execution_count": 18,
          "output_type": "execute_result",
          "data": {
            "text/plain": "RangeIndex(start=0, stop=891, step=1)"
          },
          "metadata": {}
        }
      ]
    },
    {
      "cell_type": "code",
      "source": "age.values[:5]",
      "metadata": {
        "trusted": true
      },
      "execution_count": 19,
      "outputs": [
        {
          "execution_count": 19,
          "output_type": "execute_result",
          "data": {
            "text/plain": "array([22., 38., 26., 35., 35.])"
          },
          "metadata": {}
        }
      ]
    },
    {
      "cell_type": "code",
      "source": "df.head()",
      "metadata": {
        "trusted": true
      },
      "execution_count": 20,
      "outputs": [
        {
          "execution_count": 20,
          "output_type": "execute_result",
          "data": {
            "text/plain": "   PassengerId  Survived  Pclass  \\\n0            1         0       3   \n1            2         1       1   \n2            3         1       3   \n3            4         1       1   \n4            5         0       3   \n\n                                                Name     Sex   Age  SibSp  \\\n0                            Braund, Mr. Owen Harris    male  22.0      1   \n1  Cumings, Mrs. John Bradley (Florence Briggs Th...  female  38.0      1   \n2                             Heikkinen, Miss. Laina  female  26.0      0   \n3       Futrelle, Mrs. Jacques Heath (Lily May Peel)  female  35.0      1   \n4                           Allen, Mr. William Henry    male  35.0      0   \n\n   Parch            Ticket     Fare Cabin Embarked  \n0      0         A/5 21171   7.2500   NaN        S  \n1      0          PC 17599  71.2833   C85        C  \n2      0  STON/O2. 3101282   7.9250   NaN        S  \n3      0            113803  53.1000  C123        S  \n4      0            373450   8.0500   NaN        S  ",
            "text/html": "<div>\n<style scoped>\n    .dataframe tbody tr th:only-of-type {\n        vertical-align: middle;\n    }\n\n    .dataframe tbody tr th {\n        vertical-align: top;\n    }\n\n    .dataframe thead th {\n        text-align: right;\n    }\n</style>\n<table border=\"1\" class=\"dataframe\">\n  <thead>\n    <tr style=\"text-align: right;\">\n      <th></th>\n      <th>PassengerId</th>\n      <th>Survived</th>\n      <th>Pclass</th>\n      <th>Name</th>\n      <th>Sex</th>\n      <th>Age</th>\n      <th>SibSp</th>\n      <th>Parch</th>\n      <th>Ticket</th>\n      <th>Fare</th>\n      <th>Cabin</th>\n      <th>Embarked</th>\n    </tr>\n  </thead>\n  <tbody>\n    <tr>\n      <th>0</th>\n      <td>1</td>\n      <td>0</td>\n      <td>3</td>\n      <td>Braund, Mr. Owen Harris</td>\n      <td>male</td>\n      <td>22.0</td>\n      <td>1</td>\n      <td>0</td>\n      <td>A/5 21171</td>\n      <td>7.2500</td>\n      <td>NaN</td>\n      <td>S</td>\n    </tr>\n    <tr>\n      <th>1</th>\n      <td>2</td>\n      <td>1</td>\n      <td>1</td>\n      <td>Cumings, Mrs. John Bradley (Florence Briggs Th...</td>\n      <td>female</td>\n      <td>38.0</td>\n      <td>1</td>\n      <td>0</td>\n      <td>PC 17599</td>\n      <td>71.2833</td>\n      <td>C85</td>\n      <td>C</td>\n    </tr>\n    <tr>\n      <th>2</th>\n      <td>3</td>\n      <td>1</td>\n      <td>3</td>\n      <td>Heikkinen, Miss. Laina</td>\n      <td>female</td>\n      <td>26.0</td>\n      <td>0</td>\n      <td>0</td>\n      <td>STON/O2. 3101282</td>\n      <td>7.9250</td>\n      <td>NaN</td>\n      <td>S</td>\n    </tr>\n    <tr>\n      <th>3</th>\n      <td>4</td>\n      <td>1</td>\n      <td>1</td>\n      <td>Futrelle, Mrs. Jacques Heath (Lily May Peel)</td>\n      <td>female</td>\n      <td>35.0</td>\n      <td>1</td>\n      <td>0</td>\n      <td>113803</td>\n      <td>53.1000</td>\n      <td>C123</td>\n      <td>S</td>\n    </tr>\n    <tr>\n      <th>4</th>\n      <td>5</td>\n      <td>0</td>\n      <td>3</td>\n      <td>Allen, Mr. William Henry</td>\n      <td>male</td>\n      <td>35.0</td>\n      <td>0</td>\n      <td>0</td>\n      <td>373450</td>\n      <td>8.0500</td>\n      <td>NaN</td>\n      <td>S</td>\n    </tr>\n  </tbody>\n</table>\n</div>"
          },
          "metadata": {}
        }
      ]
    },
    {
      "cell_type": "code",
      "source": "df['Age'][:5]",
      "metadata": {
        "trusted": true
      },
      "execution_count": 21,
      "outputs": [
        {
          "execution_count": 21,
          "output_type": "execute_result",
          "data": {
            "text/plain": "0    22.0\n1    38.0\n2    26.0\n3    35.0\n4    35.0\nName: Age, dtype: float64"
          },
          "metadata": {}
        }
      ]
    },
    {
      "cell_type": "code",
      "source": "# 自己指定索引\ndf = df.set_index('Name')\ndf.head()",
      "metadata": {
        "trusted": true
      },
      "execution_count": 22,
      "outputs": [
        {
          "execution_count": 22,
          "output_type": "execute_result",
          "data": {
            "text/plain": "                                                    PassengerId  Survived  \\\nName                                                                        \nBraund, Mr. Owen Harris                                       1         0   \nCumings, Mrs. John Bradley (Florence Briggs Tha...            2         1   \nHeikkinen, Miss. Laina                                        3         1   \nFutrelle, Mrs. Jacques Heath (Lily May Peel)                  4         1   \nAllen, Mr. William Henry                                      5         0   \n\n                                                    Pclass     Sex   Age  \\\nName                                                                       \nBraund, Mr. Owen Harris                                  3    male  22.0   \nCumings, Mrs. John Bradley (Florence Briggs Tha...       1  female  38.0   \nHeikkinen, Miss. Laina                                   3  female  26.0   \nFutrelle, Mrs. Jacques Heath (Lily May Peel)             1  female  35.0   \nAllen, Mr. William Henry                                 3    male  35.0   \n\n                                                    SibSp  Parch  \\\nName                                                               \nBraund, Mr. Owen Harris                                 1      0   \nCumings, Mrs. John Bradley (Florence Briggs Tha...      1      0   \nHeikkinen, Miss. Laina                                  0      0   \nFutrelle, Mrs. Jacques Heath (Lily May Peel)            1      0   \nAllen, Mr. William Henry                                0      0   \n\n                                                              Ticket     Fare  \\\nName                                                                            \nBraund, Mr. Owen Harris                                    A/5 21171   7.2500   \nCumings, Mrs. John Bradley (Florence Briggs Tha...          PC 17599  71.2833   \nHeikkinen, Miss. Laina                              STON/O2. 3101282   7.9250   \nFutrelle, Mrs. Jacques Heath (Lily May Peel)                  113803  53.1000   \nAllen, Mr. William Henry                                      373450   8.0500   \n\n                                                   Cabin Embarked  \nName                                                               \nBraund, Mr. Owen Harris                              NaN        S  \nCumings, Mrs. John Bradley (Florence Briggs Tha...   C85        C  \nHeikkinen, Miss. Laina                               NaN        S  \nFutrelle, Mrs. Jacques Heath (Lily May Peel)        C123        S  \nAllen, Mr. William Henry                             NaN        S  ",
            "text/html": "<div>\n<style scoped>\n    .dataframe tbody tr th:only-of-type {\n        vertical-align: middle;\n    }\n\n    .dataframe tbody tr th {\n        vertical-align: top;\n    }\n\n    .dataframe thead th {\n        text-align: right;\n    }\n</style>\n<table border=\"1\" class=\"dataframe\">\n  <thead>\n    <tr style=\"text-align: right;\">\n      <th></th>\n      <th>PassengerId</th>\n      <th>Survived</th>\n      <th>Pclass</th>\n      <th>Sex</th>\n      <th>Age</th>\n      <th>SibSp</th>\n      <th>Parch</th>\n      <th>Ticket</th>\n      <th>Fare</th>\n      <th>Cabin</th>\n      <th>Embarked</th>\n    </tr>\n    <tr>\n      <th>Name</th>\n      <th></th>\n      <th></th>\n      <th></th>\n      <th></th>\n      <th></th>\n      <th></th>\n      <th></th>\n      <th></th>\n      <th></th>\n      <th></th>\n      <th></th>\n    </tr>\n  </thead>\n  <tbody>\n    <tr>\n      <th>Braund, Mr. Owen Harris</th>\n      <td>1</td>\n      <td>0</td>\n      <td>3</td>\n      <td>male</td>\n      <td>22.0</td>\n      <td>1</td>\n      <td>0</td>\n      <td>A/5 21171</td>\n      <td>7.2500</td>\n      <td>NaN</td>\n      <td>S</td>\n    </tr>\n    <tr>\n      <th>Cumings, Mrs. John Bradley (Florence Briggs Thayer)</th>\n      <td>2</td>\n      <td>1</td>\n      <td>1</td>\n      <td>female</td>\n      <td>38.0</td>\n      <td>1</td>\n      <td>0</td>\n      <td>PC 17599</td>\n      <td>71.2833</td>\n      <td>C85</td>\n      <td>C</td>\n    </tr>\n    <tr>\n      <th>Heikkinen, Miss. Laina</th>\n      <td>3</td>\n      <td>1</td>\n      <td>3</td>\n      <td>female</td>\n      <td>26.0</td>\n      <td>0</td>\n      <td>0</td>\n      <td>STON/O2. 3101282</td>\n      <td>7.9250</td>\n      <td>NaN</td>\n      <td>S</td>\n    </tr>\n    <tr>\n      <th>Futrelle, Mrs. Jacques Heath (Lily May Peel)</th>\n      <td>4</td>\n      <td>1</td>\n      <td>1</td>\n      <td>female</td>\n      <td>35.0</td>\n      <td>1</td>\n      <td>0</td>\n      <td>113803</td>\n      <td>53.1000</td>\n      <td>C123</td>\n      <td>S</td>\n    </tr>\n    <tr>\n      <th>Allen, Mr. William Henry</th>\n      <td>5</td>\n      <td>0</td>\n      <td>3</td>\n      <td>male</td>\n      <td>35.0</td>\n      <td>0</td>\n      <td>0</td>\n      <td>373450</td>\n      <td>8.0500</td>\n      <td>NaN</td>\n      <td>S</td>\n    </tr>\n  </tbody>\n</table>\n</div>"
          },
          "metadata": {}
        }
      ]
    },
    {
      "cell_type": "code",
      "source": "df['Age'][:5]",
      "metadata": {
        "trusted": true
      },
      "execution_count": 23,
      "outputs": [
        {
          "execution_count": 23,
          "output_type": "execute_result",
          "data": {
            "text/plain": "Name\nBraund, Mr. Owen Harris                                22.0\nCumings, Mrs. John Bradley (Florence Briggs Thayer)    38.0\nHeikkinen, Miss. Laina                                 26.0\nFutrelle, Mrs. Jacques Heath (Lily May Peel)           35.0\nAllen, Mr. William Henry                               35.0\nName: Age, dtype: float64"
          },
          "metadata": {}
        }
      ]
    },
    {
      "cell_type": "code",
      "source": "age = df['Age']\nage[:5]",
      "metadata": {
        "trusted": true
      },
      "execution_count": 24,
      "outputs": [
        {
          "execution_count": 24,
          "output_type": "execute_result",
          "data": {
            "text/plain": "Name\nBraund, Mr. Owen Harris                                22.0\nCumings, Mrs. John Bradley (Florence Briggs Thayer)    38.0\nHeikkinen, Miss. Laina                                 26.0\nFutrelle, Mrs. Jacques Heath (Lily May Peel)           35.0\nAllen, Mr. William Henry                               35.0\nName: Age, dtype: float64"
          },
          "metadata": {}
        }
      ]
    },
    {
      "cell_type": "code",
      "source": "age['Allen, Mr. William Henry']",
      "metadata": {
        "trusted": true
      },
      "execution_count": 25,
      "outputs": [
        {
          "execution_count": 25,
          "output_type": "execute_result",
          "data": {
            "text/plain": "35.0"
          },
          "metadata": {}
        }
      ]
    },
    {
      "cell_type": "code",
      "source": "age = age + 10\nage[:5]",
      "metadata": {
        "trusted": true
      },
      "execution_count": 26,
      "outputs": [
        {
          "execution_count": 26,
          "output_type": "execute_result",
          "data": {
            "text/plain": "Name\nBraund, Mr. Owen Harris                                32.0\nCumings, Mrs. John Bradley (Florence Briggs Thayer)    48.0\nHeikkinen, Miss. Laina                                 36.0\nFutrelle, Mrs. Jacques Heath (Lily May Peel)           45.0\nAllen, Mr. William Henry                               45.0\nName: Age, dtype: float64"
          },
          "metadata": {}
        }
      ]
    },
    {
      "cell_type": "code",
      "source": "age *= 10\nage[:5]",
      "metadata": {
        "trusted": true
      },
      "execution_count": 27,
      "outputs": [
        {
          "execution_count": 27,
          "output_type": "execute_result",
          "data": {
            "text/plain": "Name\nBraund, Mr. Owen Harris                                320.0\nCumings, Mrs. John Bradley (Florence Briggs Thayer)    480.0\nHeikkinen, Miss. Laina                                 360.0\nFutrelle, Mrs. Jacques Heath (Lily May Peel)           450.0\nAllen, Mr. William Henry                               450.0\nName: Age, dtype: float64"
          },
          "metadata": {}
        }
      ]
    },
    {
      "cell_type": "code",
      "source": "age.mean()",
      "metadata": {
        "trusted": true
      },
      "execution_count": 28,
      "outputs": [
        {
          "execution_count": 28,
          "output_type": "execute_result",
          "data": {
            "text/plain": "396.99117647058824"
          },
          "metadata": {}
        }
      ]
    },
    {
      "cell_type": "code",
      "source": "age.max()",
      "metadata": {
        "trusted": true
      },
      "execution_count": 29,
      "outputs": [
        {
          "execution_count": 29,
          "output_type": "execute_result",
          "data": {
            "text/plain": "900.0"
          },
          "metadata": {}
        }
      ]
    },
    {
      "cell_type": "code",
      "source": "age.min()",
      "metadata": {
        "trusted": true
      },
      "execution_count": 30,
      "outputs": [
        {
          "execution_count": 30,
          "output_type": "execute_result",
          "data": {
            "text/plain": "104.2"
          },
          "metadata": {}
        }
      ]
    },
    {
      "cell_type": "code",
      "source": "# .describe()可以得到數據的基本統計特性\ndf.describe()",
      "metadata": {
        "trusted": true
      },
      "execution_count": 32,
      "outputs": [
        {
          "execution_count": 32,
          "output_type": "execute_result",
          "data": {
            "text/plain": "       PassengerId    Survived      Pclass         Age       SibSp  \\\ncount   891.000000  891.000000  891.000000  714.000000  891.000000   \nmean    446.000000    0.383838    2.308642   29.699118    0.523008   \nstd     257.353842    0.486592    0.836071   14.526497    1.102743   \nmin       1.000000    0.000000    1.000000    0.420000    0.000000   \n25%     223.500000    0.000000    2.000000   20.125000    0.000000   \n50%     446.000000    0.000000    3.000000   28.000000    0.000000   \n75%     668.500000    1.000000    3.000000   38.000000    1.000000   \nmax     891.000000    1.000000    3.000000   80.000000    8.000000   \n\n            Parch        Fare  \ncount  891.000000  891.000000  \nmean     0.381594   32.204208  \nstd      0.806057   49.693429  \nmin      0.000000    0.000000  \n25%      0.000000    7.910400  \n50%      0.000000   14.454200  \n75%      0.000000   31.000000  \nmax      6.000000  512.329200  ",
            "text/html": "<div>\n<style scoped>\n    .dataframe tbody tr th:only-of-type {\n        vertical-align: middle;\n    }\n\n    .dataframe tbody tr th {\n        vertical-align: top;\n    }\n\n    .dataframe thead th {\n        text-align: right;\n    }\n</style>\n<table border=\"1\" class=\"dataframe\">\n  <thead>\n    <tr style=\"text-align: right;\">\n      <th></th>\n      <th>PassengerId</th>\n      <th>Survived</th>\n      <th>Pclass</th>\n      <th>Age</th>\n      <th>SibSp</th>\n      <th>Parch</th>\n      <th>Fare</th>\n    </tr>\n  </thead>\n  <tbody>\n    <tr>\n      <th>count</th>\n      <td>891.000000</td>\n      <td>891.000000</td>\n      <td>891.000000</td>\n      <td>714.000000</td>\n      <td>891.000000</td>\n      <td>891.000000</td>\n      <td>891.000000</td>\n    </tr>\n    <tr>\n      <th>mean</th>\n      <td>446.000000</td>\n      <td>0.383838</td>\n      <td>2.308642</td>\n      <td>29.699118</td>\n      <td>0.523008</td>\n      <td>0.381594</td>\n      <td>32.204208</td>\n    </tr>\n    <tr>\n      <th>std</th>\n      <td>257.353842</td>\n      <td>0.486592</td>\n      <td>0.836071</td>\n      <td>14.526497</td>\n      <td>1.102743</td>\n      <td>0.806057</td>\n      <td>49.693429</td>\n    </tr>\n    <tr>\n      <th>min</th>\n      <td>1.000000</td>\n      <td>0.000000</td>\n      <td>1.000000</td>\n      <td>0.420000</td>\n      <td>0.000000</td>\n      <td>0.000000</td>\n      <td>0.000000</td>\n    </tr>\n    <tr>\n      <th>25%</th>\n      <td>223.500000</td>\n      <td>0.000000</td>\n      <td>2.000000</td>\n      <td>20.125000</td>\n      <td>0.000000</td>\n      <td>0.000000</td>\n      <td>7.910400</td>\n    </tr>\n    <tr>\n      <th>50%</th>\n      <td>446.000000</td>\n      <td>0.000000</td>\n      <td>3.000000</td>\n      <td>28.000000</td>\n      <td>0.000000</td>\n      <td>0.000000</td>\n      <td>14.454200</td>\n    </tr>\n    <tr>\n      <th>75%</th>\n      <td>668.500000</td>\n      <td>1.000000</td>\n      <td>3.000000</td>\n      <td>38.000000</td>\n      <td>1.000000</td>\n      <td>0.000000</td>\n      <td>31.000000</td>\n    </tr>\n    <tr>\n      <th>max</th>\n      <td>891.000000</td>\n      <td>1.000000</td>\n      <td>3.000000</td>\n      <td>80.000000</td>\n      <td>8.000000</td>\n      <td>6.000000</td>\n      <td>512.329200</td>\n    </tr>\n  </tbody>\n</table>\n</div>"
          },
          "metadata": {}
        }
      ]
    },
    {
      "cell_type": "code",
      "source": "df['Age'][:5]",
      "metadata": {
        "trusted": true
      },
      "execution_count": 33,
      "outputs": [
        {
          "execution_count": 33,
          "output_type": "execute_result",
          "data": {
            "text/plain": "Name\nBraund, Mr. Owen Harris                                22.0\nCumings, Mrs. John Bradley (Florence Briggs Thayer)    38.0\nHeikkinen, Miss. Laina                                 26.0\nFutrelle, Mrs. Jacques Heath (Lily May Peel)           35.0\nAllen, Mr. William Henry                               35.0\nName: Age, dtype: float64"
          },
          "metadata": {}
        }
      ]
    },
    {
      "cell_type": "code",
      "source": "df[['Age','Fare']][:5]",
      "metadata": {
        "trusted": true
      },
      "execution_count": 34,
      "outputs": [
        {
          "execution_count": 34,
          "output_type": "execute_result",
          "data": {
            "text/plain": "                                                     Age     Fare\nName                                                             \nBraund, Mr. Owen Harris                             22.0   7.2500\nCumings, Mrs. John Bradley (Florence Briggs Tha...  38.0  71.2833\nHeikkinen, Miss. Laina                              26.0   7.9250\nFutrelle, Mrs. Jacques Heath (Lily May Peel)        35.0  53.1000\nAllen, Mr. William Henry                            35.0   8.0500",
            "text/html": "<div>\n<style scoped>\n    .dataframe tbody tr th:only-of-type {\n        vertical-align: middle;\n    }\n\n    .dataframe tbody tr th {\n        vertical-align: top;\n    }\n\n    .dataframe thead th {\n        text-align: right;\n    }\n</style>\n<table border=\"1\" class=\"dataframe\">\n  <thead>\n    <tr style=\"text-align: right;\">\n      <th></th>\n      <th>Age</th>\n      <th>Fare</th>\n    </tr>\n    <tr>\n      <th>Name</th>\n      <th></th>\n      <th></th>\n    </tr>\n  </thead>\n  <tbody>\n    <tr>\n      <th>Braund, Mr. Owen Harris</th>\n      <td>22.0</td>\n      <td>7.2500</td>\n    </tr>\n    <tr>\n      <th>Cumings, Mrs. John Bradley (Florence Briggs Thayer)</th>\n      <td>38.0</td>\n      <td>71.2833</td>\n    </tr>\n    <tr>\n      <th>Heikkinen, Miss. Laina</th>\n      <td>26.0</td>\n      <td>7.9250</td>\n    </tr>\n    <tr>\n      <th>Futrelle, Mrs. Jacques Heath (Lily May Peel)</th>\n      <td>35.0</td>\n      <td>53.1000</td>\n    </tr>\n    <tr>\n      <th>Allen, Mr. William Henry</th>\n      <td>35.0</td>\n      <td>8.0500</td>\n    </tr>\n  </tbody>\n</table>\n</div>"
          },
          "metadata": {}
        }
      ]
    },
    {
      "cell_type": "code",
      "source": "# loc 用label來去定位\n# iloc 用position來去定位\ndf.iloc[0]",
      "metadata": {
        "trusted": true
      },
      "execution_count": 35,
      "outputs": [
        {
          "execution_count": 35,
          "output_type": "execute_result",
          "data": {
            "text/plain": "PassengerId            1\nSurvived               0\nPclass                 3\nSex                 male\nAge                 22.0\nSibSp                  1\nParch                  0\nTicket         A/5 21171\nFare                7.25\nCabin                NaN\nEmbarked               S\nName: Braund, Mr. Owen Harris, dtype: object"
          },
          "metadata": {}
        }
      ]
    },
    {
      "cell_type": "code",
      "source": "df.iloc[0:5]",
      "metadata": {
        "trusted": true
      },
      "execution_count": 36,
      "outputs": [
        {
          "execution_count": 36,
          "output_type": "execute_result",
          "data": {
            "text/plain": "                                                    PassengerId  Survived  \\\nName                                                                        \nBraund, Mr. Owen Harris                                       1         0   \nCumings, Mrs. John Bradley (Florence Briggs Tha...            2         1   \nHeikkinen, Miss. Laina                                        3         1   \nFutrelle, Mrs. Jacques Heath (Lily May Peel)                  4         1   \nAllen, Mr. William Henry                                      5         0   \n\n                                                    Pclass     Sex   Age  \\\nName                                                                       \nBraund, Mr. Owen Harris                                  3    male  22.0   \nCumings, Mrs. John Bradley (Florence Briggs Tha...       1  female  38.0   \nHeikkinen, Miss. Laina                                   3  female  26.0   \nFutrelle, Mrs. Jacques Heath (Lily May Peel)             1  female  35.0   \nAllen, Mr. William Henry                                 3    male  35.0   \n\n                                                    SibSp  Parch  \\\nName                                                               \nBraund, Mr. Owen Harris                                 1      0   \nCumings, Mrs. John Bradley (Florence Briggs Tha...      1      0   \nHeikkinen, Miss. Laina                                  0      0   \nFutrelle, Mrs. Jacques Heath (Lily May Peel)            1      0   \nAllen, Mr. William Henry                                0      0   \n\n                                                              Ticket     Fare  \\\nName                                                                            \nBraund, Mr. Owen Harris                                    A/5 21171   7.2500   \nCumings, Mrs. John Bradley (Florence Briggs Tha...          PC 17599  71.2833   \nHeikkinen, Miss. Laina                              STON/O2. 3101282   7.9250   \nFutrelle, Mrs. Jacques Heath (Lily May Peel)                  113803  53.1000   \nAllen, Mr. William Henry                                      373450   8.0500   \n\n                                                   Cabin Embarked  \nName                                                               \nBraund, Mr. Owen Harris                              NaN        S  \nCumings, Mrs. John Bradley (Florence Briggs Tha...   C85        C  \nHeikkinen, Miss. Laina                               NaN        S  \nFutrelle, Mrs. Jacques Heath (Lily May Peel)        C123        S  \nAllen, Mr. William Henry                             NaN        S  ",
            "text/html": "<div>\n<style scoped>\n    .dataframe tbody tr th:only-of-type {\n        vertical-align: middle;\n    }\n\n    .dataframe tbody tr th {\n        vertical-align: top;\n    }\n\n    .dataframe thead th {\n        text-align: right;\n    }\n</style>\n<table border=\"1\" class=\"dataframe\">\n  <thead>\n    <tr style=\"text-align: right;\">\n      <th></th>\n      <th>PassengerId</th>\n      <th>Survived</th>\n      <th>Pclass</th>\n      <th>Sex</th>\n      <th>Age</th>\n      <th>SibSp</th>\n      <th>Parch</th>\n      <th>Ticket</th>\n      <th>Fare</th>\n      <th>Cabin</th>\n      <th>Embarked</th>\n    </tr>\n    <tr>\n      <th>Name</th>\n      <th></th>\n      <th></th>\n      <th></th>\n      <th></th>\n      <th></th>\n      <th></th>\n      <th></th>\n      <th></th>\n      <th></th>\n      <th></th>\n      <th></th>\n    </tr>\n  </thead>\n  <tbody>\n    <tr>\n      <th>Braund, Mr. Owen Harris</th>\n      <td>1</td>\n      <td>0</td>\n      <td>3</td>\n      <td>male</td>\n      <td>22.0</td>\n      <td>1</td>\n      <td>0</td>\n      <td>A/5 21171</td>\n      <td>7.2500</td>\n      <td>NaN</td>\n      <td>S</td>\n    </tr>\n    <tr>\n      <th>Cumings, Mrs. John Bradley (Florence Briggs Thayer)</th>\n      <td>2</td>\n      <td>1</td>\n      <td>1</td>\n      <td>female</td>\n      <td>38.0</td>\n      <td>1</td>\n      <td>0</td>\n      <td>PC 17599</td>\n      <td>71.2833</td>\n      <td>C85</td>\n      <td>C</td>\n    </tr>\n    <tr>\n      <th>Heikkinen, Miss. Laina</th>\n      <td>3</td>\n      <td>1</td>\n      <td>3</td>\n      <td>female</td>\n      <td>26.0</td>\n      <td>0</td>\n      <td>0</td>\n      <td>STON/O2. 3101282</td>\n      <td>7.9250</td>\n      <td>NaN</td>\n      <td>S</td>\n    </tr>\n    <tr>\n      <th>Futrelle, Mrs. Jacques Heath (Lily May Peel)</th>\n      <td>4</td>\n      <td>1</td>\n      <td>1</td>\n      <td>female</td>\n      <td>35.0</td>\n      <td>1</td>\n      <td>0</td>\n      <td>113803</td>\n      <td>53.1000</td>\n      <td>C123</td>\n      <td>S</td>\n    </tr>\n    <tr>\n      <th>Allen, Mr. William Henry</th>\n      <td>5</td>\n      <td>0</td>\n      <td>3</td>\n      <td>male</td>\n      <td>35.0</td>\n      <td>0</td>\n      <td>0</td>\n      <td>373450</td>\n      <td>8.0500</td>\n      <td>NaN</td>\n      <td>S</td>\n    </tr>\n  </tbody>\n</table>\n</div>"
          },
          "metadata": {}
        }
      ]
    },
    {
      "cell_type": "code",
      "source": "df.iloc[0:5,1:3]",
      "metadata": {
        "trusted": true
      },
      "execution_count": 38,
      "outputs": [
        {
          "execution_count": 38,
          "output_type": "execute_result",
          "data": {
            "text/plain": "                                                    Survived  Pclass\nName                                                                \nBraund, Mr. Owen Harris                                    0       3\nCumings, Mrs. John Bradley (Florence Briggs Tha...         1       1\nHeikkinen, Miss. Laina                                     1       3\nFutrelle, Mrs. Jacques Heath (Lily May Peel)               1       1\nAllen, Mr. William Henry                                   0       3",
            "text/html": "<div>\n<style scoped>\n    .dataframe tbody tr th:only-of-type {\n        vertical-align: middle;\n    }\n\n    .dataframe tbody tr th {\n        vertical-align: top;\n    }\n\n    .dataframe thead th {\n        text-align: right;\n    }\n</style>\n<table border=\"1\" class=\"dataframe\">\n  <thead>\n    <tr style=\"text-align: right;\">\n      <th></th>\n      <th>Survived</th>\n      <th>Pclass</th>\n    </tr>\n    <tr>\n      <th>Name</th>\n      <th></th>\n      <th></th>\n    </tr>\n  </thead>\n  <tbody>\n    <tr>\n      <th>Braund, Mr. Owen Harris</th>\n      <td>0</td>\n      <td>3</td>\n    </tr>\n    <tr>\n      <th>Cumings, Mrs. John Bradley (Florence Briggs Thayer)</th>\n      <td>1</td>\n      <td>1</td>\n    </tr>\n    <tr>\n      <th>Heikkinen, Miss. Laina</th>\n      <td>1</td>\n      <td>3</td>\n    </tr>\n    <tr>\n      <th>Futrelle, Mrs. Jacques Heath (Lily May Peel)</th>\n      <td>1</td>\n      <td>1</td>\n    </tr>\n    <tr>\n      <th>Allen, Mr. William Henry</th>\n      <td>0</td>\n      <td>3</td>\n    </tr>\n  </tbody>\n</table>\n</div>"
          },
          "metadata": {}
        }
      ]
    },
    {
      "cell_type": "code",
      "source": "df.loc['Heikkinen, Miss. Laina']",
      "metadata": {
        "trusted": true
      },
      "execution_count": 39,
      "outputs": [
        {
          "execution_count": 39,
          "output_type": "execute_result",
          "data": {
            "text/plain": "PassengerId                   3\nSurvived                      1\nPclass                        3\nSex                      female\nAge                        26.0\nSibSp                         0\nParch                         0\nTicket         STON/O2. 3101282\nFare                      7.925\nCabin                       NaN\nEmbarked                      S\nName: Heikkinen, Miss. Laina, dtype: object"
          },
          "metadata": {}
        }
      ]
    },
    {
      "cell_type": "code",
      "source": "df.loc['Heikkinen, Miss. Laina', 'Fare']",
      "metadata": {
        "trusted": true
      },
      "execution_count": 40,
      "outputs": [
        {
          "execution_count": 40,
          "output_type": "execute_result",
          "data": {
            "text/plain": "7.925"
          },
          "metadata": {}
        }
      ]
    },
    {
      "cell_type": "code",
      "source": "df.loc['Heikkinen, Miss. Laina':'Allen, Mr. William Henry']",
      "metadata": {
        "trusted": true
      },
      "execution_count": 42,
      "outputs": [
        {
          "execution_count": 42,
          "output_type": "execute_result",
          "data": {
            "text/plain": "                                              PassengerId  Survived  Pclass  \\\nName                                                                          \nHeikkinen, Miss. Laina                                  3         1       3   \nFutrelle, Mrs. Jacques Heath (Lily May Peel)            4         1       1   \nAllen, Mr. William Henry                                5         0       3   \n\n                                                 Sex   Age  SibSp  Parch  \\\nName                                                                       \nHeikkinen, Miss. Laina                        female  26.0      0      0   \nFutrelle, Mrs. Jacques Heath (Lily May Peel)  female  35.0      1      0   \nAllen, Mr. William Henry                        male  35.0      0      0   \n\n                                                        Ticket    Fare Cabin  \\\nName                                                                           \nHeikkinen, Miss. Laina                        STON/O2. 3101282   7.925   NaN   \nFutrelle, Mrs. Jacques Heath (Lily May Peel)            113803  53.100  C123   \nAllen, Mr. William Henry                                373450   8.050   NaN   \n\n                                             Embarked  \nName                                                   \nHeikkinen, Miss. Laina                              S  \nFutrelle, Mrs. Jacques Heath (Lily May Peel)        S  \nAllen, Mr. William Henry                            S  ",
            "text/html": "<div>\n<style scoped>\n    .dataframe tbody tr th:only-of-type {\n        vertical-align: middle;\n    }\n\n    .dataframe tbody tr th {\n        vertical-align: top;\n    }\n\n    .dataframe thead th {\n        text-align: right;\n    }\n</style>\n<table border=\"1\" class=\"dataframe\">\n  <thead>\n    <tr style=\"text-align: right;\">\n      <th></th>\n      <th>PassengerId</th>\n      <th>Survived</th>\n      <th>Pclass</th>\n      <th>Sex</th>\n      <th>Age</th>\n      <th>SibSp</th>\n      <th>Parch</th>\n      <th>Ticket</th>\n      <th>Fare</th>\n      <th>Cabin</th>\n      <th>Embarked</th>\n    </tr>\n    <tr>\n      <th>Name</th>\n      <th></th>\n      <th></th>\n      <th></th>\n      <th></th>\n      <th></th>\n      <th></th>\n      <th></th>\n      <th></th>\n      <th></th>\n      <th></th>\n      <th></th>\n    </tr>\n  </thead>\n  <tbody>\n    <tr>\n      <th>Heikkinen, Miss. Laina</th>\n      <td>3</td>\n      <td>1</td>\n      <td>3</td>\n      <td>female</td>\n      <td>26.0</td>\n      <td>0</td>\n      <td>0</td>\n      <td>STON/O2. 3101282</td>\n      <td>7.925</td>\n      <td>NaN</td>\n      <td>S</td>\n    </tr>\n    <tr>\n      <th>Futrelle, Mrs. Jacques Heath (Lily May Peel)</th>\n      <td>4</td>\n      <td>1</td>\n      <td>1</td>\n      <td>female</td>\n      <td>35.0</td>\n      <td>1</td>\n      <td>0</td>\n      <td>113803</td>\n      <td>53.100</td>\n      <td>C123</td>\n      <td>S</td>\n    </tr>\n    <tr>\n      <th>Allen, Mr. William Henry</th>\n      <td>5</td>\n      <td>0</td>\n      <td>3</td>\n      <td>male</td>\n      <td>35.0</td>\n      <td>0</td>\n      <td>0</td>\n      <td>373450</td>\n      <td>8.050</td>\n      <td>NaN</td>\n      <td>S</td>\n    </tr>\n  </tbody>\n</table>\n</div>"
          },
          "metadata": {}
        }
      ]
    },
    {
      "cell_type": "code",
      "source": "df.loc['Heikkinen, Miss. Laina', 'Fare'] = 1000\ndf.head()",
      "metadata": {
        "trusted": true
      },
      "execution_count": 43,
      "outputs": [
        {
          "execution_count": 43,
          "output_type": "execute_result",
          "data": {
            "text/plain": "                                                    PassengerId  Survived  \\\nName                                                                        \nBraund, Mr. Owen Harris                                       1         0   \nCumings, Mrs. John Bradley (Florence Briggs Tha...            2         1   \nHeikkinen, Miss. Laina                                        3         1   \nFutrelle, Mrs. Jacques Heath (Lily May Peel)                  4         1   \nAllen, Mr. William Henry                                      5         0   \n\n                                                    Pclass     Sex   Age  \\\nName                                                                       \nBraund, Mr. Owen Harris                                  3    male  22.0   \nCumings, Mrs. John Bradley (Florence Briggs Tha...       1  female  38.0   \nHeikkinen, Miss. Laina                                   3  female  26.0   \nFutrelle, Mrs. Jacques Heath (Lily May Peel)             1  female  35.0   \nAllen, Mr. William Henry                                 3    male  35.0   \n\n                                                    SibSp  Parch  \\\nName                                                               \nBraund, Mr. Owen Harris                                 1      0   \nCumings, Mrs. John Bradley (Florence Briggs Tha...      1      0   \nHeikkinen, Miss. Laina                                  0      0   \nFutrelle, Mrs. Jacques Heath (Lily May Peel)            1      0   \nAllen, Mr. William Henry                                0      0   \n\n                                                              Ticket  \\\nName                                                                   \nBraund, Mr. Owen Harris                                    A/5 21171   \nCumings, Mrs. John Bradley (Florence Briggs Tha...          PC 17599   \nHeikkinen, Miss. Laina                              STON/O2. 3101282   \nFutrelle, Mrs. Jacques Heath (Lily May Peel)                  113803   \nAllen, Mr. William Henry                                      373450   \n\n                                                         Fare Cabin Embarked  \nName                                                                          \nBraund, Mr. Owen Harris                                7.2500   NaN        S  \nCumings, Mrs. John Bradley (Florence Briggs Tha...    71.2833   C85        C  \nHeikkinen, Miss. Laina                              1000.0000   NaN        S  \nFutrelle, Mrs. Jacques Heath (Lily May Peel)          53.1000  C123        S  \nAllen, Mr. William Henry                               8.0500   NaN        S  ",
            "text/html": "<div>\n<style scoped>\n    .dataframe tbody tr th:only-of-type {\n        vertical-align: middle;\n    }\n\n    .dataframe tbody tr th {\n        vertical-align: top;\n    }\n\n    .dataframe thead th {\n        text-align: right;\n    }\n</style>\n<table border=\"1\" class=\"dataframe\">\n  <thead>\n    <tr style=\"text-align: right;\">\n      <th></th>\n      <th>PassengerId</th>\n      <th>Survived</th>\n      <th>Pclass</th>\n      <th>Sex</th>\n      <th>Age</th>\n      <th>SibSp</th>\n      <th>Parch</th>\n      <th>Ticket</th>\n      <th>Fare</th>\n      <th>Cabin</th>\n      <th>Embarked</th>\n    </tr>\n    <tr>\n      <th>Name</th>\n      <th></th>\n      <th></th>\n      <th></th>\n      <th></th>\n      <th></th>\n      <th></th>\n      <th></th>\n      <th></th>\n      <th></th>\n      <th></th>\n      <th></th>\n    </tr>\n  </thead>\n  <tbody>\n    <tr>\n      <th>Braund, Mr. Owen Harris</th>\n      <td>1</td>\n      <td>0</td>\n      <td>3</td>\n      <td>male</td>\n      <td>22.0</td>\n      <td>1</td>\n      <td>0</td>\n      <td>A/5 21171</td>\n      <td>7.2500</td>\n      <td>NaN</td>\n      <td>S</td>\n    </tr>\n    <tr>\n      <th>Cumings, Mrs. John Bradley (Florence Briggs Thayer)</th>\n      <td>2</td>\n      <td>1</td>\n      <td>1</td>\n      <td>female</td>\n      <td>38.0</td>\n      <td>1</td>\n      <td>0</td>\n      <td>PC 17599</td>\n      <td>71.2833</td>\n      <td>C85</td>\n      <td>C</td>\n    </tr>\n    <tr>\n      <th>Heikkinen, Miss. Laina</th>\n      <td>3</td>\n      <td>1</td>\n      <td>3</td>\n      <td>female</td>\n      <td>26.0</td>\n      <td>0</td>\n      <td>0</td>\n      <td>STON/O2. 3101282</td>\n      <td>1000.0000</td>\n      <td>NaN</td>\n      <td>S</td>\n    </tr>\n    <tr>\n      <th>Futrelle, Mrs. Jacques Heath (Lily May Peel)</th>\n      <td>4</td>\n      <td>1</td>\n      <td>1</td>\n      <td>female</td>\n      <td>35.0</td>\n      <td>1</td>\n      <td>0</td>\n      <td>113803</td>\n      <td>53.1000</td>\n      <td>C123</td>\n      <td>S</td>\n    </tr>\n    <tr>\n      <th>Allen, Mr. William Henry</th>\n      <td>5</td>\n      <td>0</td>\n      <td>3</td>\n      <td>male</td>\n      <td>35.0</td>\n      <td>0</td>\n      <td>0</td>\n      <td>373450</td>\n      <td>8.0500</td>\n      <td>NaN</td>\n      <td>S</td>\n    </tr>\n  </tbody>\n</table>\n</div>"
          },
          "metadata": {}
        }
      ]
    },
    {
      "cell_type": "code",
      "source": "df.loc['Heikkinen, Miss. Laina', 'Fare']",
      "metadata": {
        "trusted": true
      },
      "execution_count": 45,
      "outputs": [
        {
          "execution_count": 45,
          "output_type": "execute_result",
          "data": {
            "text/plain": "1000.0"
          },
          "metadata": {}
        }
      ]
    },
    {
      "cell_type": "code",
      "source": "df['Fare'] > 40",
      "metadata": {
        "trusted": true
      },
      "execution_count": 47,
      "outputs": [
        {
          "execution_count": 47,
          "output_type": "execute_result",
          "data": {
            "text/plain": "Name\nBraund, Mr. Owen Harris                                False\nCumings, Mrs. John Bradley (Florence Briggs Thayer)     True\nHeikkinen, Miss. Laina                                  True\nFutrelle, Mrs. Jacques Heath (Lily May Peel)            True\nAllen, Mr. William Henry                               False\n                                                       ...  \nMontvila, Rev. Juozas                                  False\nGraham, Miss. Margaret Edith                           False\nJohnston, Miss. Catherine Helen \"Carrie\"               False\nBehr, Mr. Karl Howell                                  False\nDooley, Mr. Patrick                                    False\nName: Fare, Length: 891, dtype: bool"
          },
          "metadata": {}
        }
      ]
    },
    {
      "cell_type": "code",
      "source": "df[df['Fare'] > 40][:5]",
      "metadata": {
        "trusted": true
      },
      "execution_count": 50,
      "outputs": [
        {
          "execution_count": 50,
          "output_type": "execute_result",
          "data": {
            "text/plain": "                                                    PassengerId  Survived  \\\nName                                                                        \nCumings, Mrs. John Bradley (Florence Briggs Tha...            2         1   \nHeikkinen, Miss. Laina                                        3         1   \nFutrelle, Mrs. Jacques Heath (Lily May Peel)                  4         1   \nMcCarthy, Mr. Timothy J                                       7         0   \nFortune, Mr. Charles Alexander                               28         0   \n\n                                                    Pclass     Sex   Age  \\\nName                                                                       \nCumings, Mrs. John Bradley (Florence Briggs Tha...       1  female  38.0   \nHeikkinen, Miss. Laina                                   3  female  26.0   \nFutrelle, Mrs. Jacques Heath (Lily May Peel)             1  female  35.0   \nMcCarthy, Mr. Timothy J                                  1    male  54.0   \nFortune, Mr. Charles Alexander                           1    male  19.0   \n\n                                                    SibSp  Parch  \\\nName                                                               \nCumings, Mrs. John Bradley (Florence Briggs Tha...      1      0   \nHeikkinen, Miss. Laina                                  0      0   \nFutrelle, Mrs. Jacques Heath (Lily May Peel)            1      0   \nMcCarthy, Mr. Timothy J                                 0      0   \nFortune, Mr. Charles Alexander                          3      2   \n\n                                                              Ticket  \\\nName                                                                   \nCumings, Mrs. John Bradley (Florence Briggs Tha...          PC 17599   \nHeikkinen, Miss. Laina                              STON/O2. 3101282   \nFutrelle, Mrs. Jacques Heath (Lily May Peel)                  113803   \nMcCarthy, Mr. Timothy J                                        17463   \nFortune, Mr. Charles Alexander                                 19950   \n\n                                                         Fare        Cabin  \\\nName                                                                         \nCumings, Mrs. John Bradley (Florence Briggs Tha...    71.2833          C85   \nHeikkinen, Miss. Laina                              1000.0000          NaN   \nFutrelle, Mrs. Jacques Heath (Lily May Peel)          53.1000         C123   \nMcCarthy, Mr. Timothy J                               51.8625          E46   \nFortune, Mr. Charles Alexander                       263.0000  C23 C25 C27   \n\n                                                   Embarked  \nName                                                         \nCumings, Mrs. John Bradley (Florence Briggs Tha...        C  \nHeikkinen, Miss. Laina                                    S  \nFutrelle, Mrs. Jacques Heath (Lily May Peel)              S  \nMcCarthy, Mr. Timothy J                                   S  \nFortune, Mr. Charles Alexander                            S  ",
            "text/html": "<div>\n<style scoped>\n    .dataframe tbody tr th:only-of-type {\n        vertical-align: middle;\n    }\n\n    .dataframe tbody tr th {\n        vertical-align: top;\n    }\n\n    .dataframe thead th {\n        text-align: right;\n    }\n</style>\n<table border=\"1\" class=\"dataframe\">\n  <thead>\n    <tr style=\"text-align: right;\">\n      <th></th>\n      <th>PassengerId</th>\n      <th>Survived</th>\n      <th>Pclass</th>\n      <th>Sex</th>\n      <th>Age</th>\n      <th>SibSp</th>\n      <th>Parch</th>\n      <th>Ticket</th>\n      <th>Fare</th>\n      <th>Cabin</th>\n      <th>Embarked</th>\n    </tr>\n    <tr>\n      <th>Name</th>\n      <th></th>\n      <th></th>\n      <th></th>\n      <th></th>\n      <th></th>\n      <th></th>\n      <th></th>\n      <th></th>\n      <th></th>\n      <th></th>\n      <th></th>\n    </tr>\n  </thead>\n  <tbody>\n    <tr>\n      <th>Cumings, Mrs. John Bradley (Florence Briggs Thayer)</th>\n      <td>2</td>\n      <td>1</td>\n      <td>1</td>\n      <td>female</td>\n      <td>38.0</td>\n      <td>1</td>\n      <td>0</td>\n      <td>PC 17599</td>\n      <td>71.2833</td>\n      <td>C85</td>\n      <td>C</td>\n    </tr>\n    <tr>\n      <th>Heikkinen, Miss. Laina</th>\n      <td>3</td>\n      <td>1</td>\n      <td>3</td>\n      <td>female</td>\n      <td>26.0</td>\n      <td>0</td>\n      <td>0</td>\n      <td>STON/O2. 3101282</td>\n      <td>1000.0000</td>\n      <td>NaN</td>\n      <td>S</td>\n    </tr>\n    <tr>\n      <th>Futrelle, Mrs. Jacques Heath (Lily May Peel)</th>\n      <td>4</td>\n      <td>1</td>\n      <td>1</td>\n      <td>female</td>\n      <td>35.0</td>\n      <td>1</td>\n      <td>0</td>\n      <td>113803</td>\n      <td>53.1000</td>\n      <td>C123</td>\n      <td>S</td>\n    </tr>\n    <tr>\n      <th>McCarthy, Mr. Timothy J</th>\n      <td>7</td>\n      <td>0</td>\n      <td>1</td>\n      <td>male</td>\n      <td>54.0</td>\n      <td>0</td>\n      <td>0</td>\n      <td>17463</td>\n      <td>51.8625</td>\n      <td>E46</td>\n      <td>S</td>\n    </tr>\n    <tr>\n      <th>Fortune, Mr. Charles Alexander</th>\n      <td>28</td>\n      <td>0</td>\n      <td>1</td>\n      <td>male</td>\n      <td>19.0</td>\n      <td>3</td>\n      <td>2</td>\n      <td>19950</td>\n      <td>263.0000</td>\n      <td>C23 C25 C27</td>\n      <td>S</td>\n    </tr>\n  </tbody>\n</table>\n</div>"
          },
          "metadata": {}
        }
      ]
    },
    {
      "cell_type": "code",
      "source": "df[df['Sex'] == 'male'][:5]",
      "metadata": {
        "trusted": true
      },
      "execution_count": 52,
      "outputs": [
        {
          "execution_count": 52,
          "output_type": "execute_result",
          "data": {
            "text/plain": "                                PassengerId  Survived  Pclass   Sex   Age  \\\nName                                                                        \nBraund, Mr. Owen Harris                   1         0       3  male  22.0   \nAllen, Mr. William Henry                  5         0       3  male  35.0   \nMoran, Mr. James                          6         0       3  male   NaN   \nMcCarthy, Mr. Timothy J                   7         0       1  male  54.0   \nPalsson, Master. Gosta Leonard            8         0       3  male   2.0   \n\n                                SibSp  Parch     Ticket     Fare Cabin  \\\nName                                                                     \nBraund, Mr. Owen Harris             1      0  A/5 21171   7.2500   NaN   \nAllen, Mr. William Henry            0      0     373450   8.0500   NaN   \nMoran, Mr. James                    0      0     330877   8.4583   NaN   \nMcCarthy, Mr. Timothy J             0      0      17463  51.8625   E46   \nPalsson, Master. Gosta Leonard      3      1     349909  21.0750   NaN   \n\n                               Embarked  \nName                                     \nBraund, Mr. Owen Harris               S  \nAllen, Mr. William Henry              S  \nMoran, Mr. James                      Q  \nMcCarthy, Mr. Timothy J               S  \nPalsson, Master. Gosta Leonard        S  ",
            "text/html": "<div>\n<style scoped>\n    .dataframe tbody tr th:only-of-type {\n        vertical-align: middle;\n    }\n\n    .dataframe tbody tr th {\n        vertical-align: top;\n    }\n\n    .dataframe thead th {\n        text-align: right;\n    }\n</style>\n<table border=\"1\" class=\"dataframe\">\n  <thead>\n    <tr style=\"text-align: right;\">\n      <th></th>\n      <th>PassengerId</th>\n      <th>Survived</th>\n      <th>Pclass</th>\n      <th>Sex</th>\n      <th>Age</th>\n      <th>SibSp</th>\n      <th>Parch</th>\n      <th>Ticket</th>\n      <th>Fare</th>\n      <th>Cabin</th>\n      <th>Embarked</th>\n    </tr>\n    <tr>\n      <th>Name</th>\n      <th></th>\n      <th></th>\n      <th></th>\n      <th></th>\n      <th></th>\n      <th></th>\n      <th></th>\n      <th></th>\n      <th></th>\n      <th></th>\n      <th></th>\n    </tr>\n  </thead>\n  <tbody>\n    <tr>\n      <th>Braund, Mr. Owen Harris</th>\n      <td>1</td>\n      <td>0</td>\n      <td>3</td>\n      <td>male</td>\n      <td>22.0</td>\n      <td>1</td>\n      <td>0</td>\n      <td>A/5 21171</td>\n      <td>7.2500</td>\n      <td>NaN</td>\n      <td>S</td>\n    </tr>\n    <tr>\n      <th>Allen, Mr. William Henry</th>\n      <td>5</td>\n      <td>0</td>\n      <td>3</td>\n      <td>male</td>\n      <td>35.0</td>\n      <td>0</td>\n      <td>0</td>\n      <td>373450</td>\n      <td>8.0500</td>\n      <td>NaN</td>\n      <td>S</td>\n    </tr>\n    <tr>\n      <th>Moran, Mr. James</th>\n      <td>6</td>\n      <td>0</td>\n      <td>3</td>\n      <td>male</td>\n      <td>NaN</td>\n      <td>0</td>\n      <td>0</td>\n      <td>330877</td>\n      <td>8.4583</td>\n      <td>NaN</td>\n      <td>Q</td>\n    </tr>\n    <tr>\n      <th>McCarthy, Mr. Timothy J</th>\n      <td>7</td>\n      <td>0</td>\n      <td>1</td>\n      <td>male</td>\n      <td>54.0</td>\n      <td>0</td>\n      <td>0</td>\n      <td>17463</td>\n      <td>51.8625</td>\n      <td>E46</td>\n      <td>S</td>\n    </tr>\n    <tr>\n      <th>Palsson, Master. Gosta Leonard</th>\n      <td>8</td>\n      <td>0</td>\n      <td>3</td>\n      <td>male</td>\n      <td>2.0</td>\n      <td>3</td>\n      <td>1</td>\n      <td>349909</td>\n      <td>21.0750</td>\n      <td>NaN</td>\n      <td>S</td>\n    </tr>\n  </tbody>\n</table>\n</div>"
          },
          "metadata": {}
        }
      ]
    },
    {
      "cell_type": "code",
      "source": "df.loc[df['Sex'] == 'male', 'Age'].mean()",
      "metadata": {
        "trusted": true
      },
      "execution_count": 53,
      "outputs": [
        {
          "execution_count": 53,
          "output_type": "execute_result",
          "data": {
            "text/plain": "30.72664459161148"
          },
          "metadata": {}
        }
      ]
    },
    {
      "cell_type": "code",
      "source": "(df['Age'] > 70).sum()",
      "metadata": {
        "trusted": true
      },
      "execution_count": 54,
      "outputs": [
        {
          "execution_count": 54,
          "output_type": "execute_result",
          "data": {
            "text/plain": "5"
          },
          "metadata": {}
        }
      ]
    },
    {
      "cell_type": "code",
      "source": "df = pd.DataFrame({'key':['A','B','C','A','B','C','A','B','C'],\n                  'data':[0,5,10,5,10,15,10,15,20]})\ndf",
      "metadata": {
        "trusted": true
      },
      "execution_count": 55,
      "outputs": [
        {
          "execution_count": 55,
          "output_type": "execute_result",
          "data": {
            "text/plain": "  key  data\n0   A     0\n1   B     5\n2   C    10\n3   A     5\n4   B    10\n5   C    15\n6   A    10\n7   B    15\n8   C    20",
            "text/html": "<div>\n<style scoped>\n    .dataframe tbody tr th:only-of-type {\n        vertical-align: middle;\n    }\n\n    .dataframe tbody tr th {\n        vertical-align: top;\n    }\n\n    .dataframe thead th {\n        text-align: right;\n    }\n</style>\n<table border=\"1\" class=\"dataframe\">\n  <thead>\n    <tr style=\"text-align: right;\">\n      <th></th>\n      <th>key</th>\n      <th>data</th>\n    </tr>\n  </thead>\n  <tbody>\n    <tr>\n      <th>0</th>\n      <td>A</td>\n      <td>0</td>\n    </tr>\n    <tr>\n      <th>1</th>\n      <td>B</td>\n      <td>5</td>\n    </tr>\n    <tr>\n      <th>2</th>\n      <td>C</td>\n      <td>10</td>\n    </tr>\n    <tr>\n      <th>3</th>\n      <td>A</td>\n      <td>5</td>\n    </tr>\n    <tr>\n      <th>4</th>\n      <td>B</td>\n      <td>10</td>\n    </tr>\n    <tr>\n      <th>5</th>\n      <td>C</td>\n      <td>15</td>\n    </tr>\n    <tr>\n      <th>6</th>\n      <td>A</td>\n      <td>10</td>\n    </tr>\n    <tr>\n      <th>7</th>\n      <td>B</td>\n      <td>15</td>\n    </tr>\n    <tr>\n      <th>8</th>\n      <td>C</td>\n      <td>20</td>\n    </tr>\n  </tbody>\n</table>\n</div>"
          },
          "metadata": {}
        }
      ]
    },
    {
      "cell_type": "code",
      "source": "for key in ['A', 'B', 'C']:\n    print(key, df[df['key'] == key].sum())",
      "metadata": {
        "trusted": true
      },
      "execution_count": 56,
      "outputs": [
        {
          "name": "stdout",
          "text": "A key     AAA\ndata     15\ndtype: object\nB key     BBB\ndata     30\ndtype: object\nC key     CCC\ndata     45\ndtype: object\n",
          "output_type": "stream"
        }
      ]
    },
    {
      "cell_type": "code",
      "source": "df.groupby('key').sum()",
      "metadata": {
        "trusted": true
      },
      "execution_count": 57,
      "outputs": [
        {
          "execution_count": 57,
          "output_type": "execute_result",
          "data": {
            "text/plain": "     data\nkey      \nA      15\nB      30\nC      45",
            "text/html": "<div>\n<style scoped>\n    .dataframe tbody tr th:only-of-type {\n        vertical-align: middle;\n    }\n\n    .dataframe tbody tr th {\n        vertical-align: top;\n    }\n\n    .dataframe thead th {\n        text-align: right;\n    }\n</style>\n<table border=\"1\" class=\"dataframe\">\n  <thead>\n    <tr style=\"text-align: right;\">\n      <th></th>\n      <th>data</th>\n    </tr>\n    <tr>\n      <th>key</th>\n      <th></th>\n    </tr>\n  </thead>\n  <tbody>\n    <tr>\n      <th>A</th>\n      <td>15</td>\n    </tr>\n    <tr>\n      <th>B</th>\n      <td>30</td>\n    </tr>\n    <tr>\n      <th>C</th>\n      <td>45</td>\n    </tr>\n  </tbody>\n</table>\n</div>"
          },
          "metadata": {}
        }
      ]
    },
    {
      "cell_type": "code",
      "source": "import numpy as np\ndf.groupby('key').mean()",
      "metadata": {
        "trusted": true
      },
      "execution_count": 58,
      "outputs": [
        {
          "execution_count": 58,
          "output_type": "execute_result",
          "data": {
            "text/plain": "     data\nkey      \nA     5.0\nB    10.0\nC    15.0",
            "text/html": "<div>\n<style scoped>\n    .dataframe tbody tr th:only-of-type {\n        vertical-align: middle;\n    }\n\n    .dataframe tbody tr th {\n        vertical-align: top;\n    }\n\n    .dataframe thead th {\n        text-align: right;\n    }\n</style>\n<table border=\"1\" class=\"dataframe\">\n  <thead>\n    <tr style=\"text-align: right;\">\n      <th></th>\n      <th>data</th>\n    </tr>\n    <tr>\n      <th>key</th>\n      <th></th>\n    </tr>\n  </thead>\n  <tbody>\n    <tr>\n      <th>A</th>\n      <td>5.0</td>\n    </tr>\n    <tr>\n      <th>B</th>\n      <td>10.0</td>\n    </tr>\n    <tr>\n      <th>C</th>\n      <td>15.0</td>\n    </tr>\n  </tbody>\n</table>\n</div>"
          },
          "metadata": {}
        }
      ]
    },
    {
      "cell_type": "code",
      "source": "# df.groupby().aggregate() : Aggregate using one or more operations over the specified axis.\ndf.groupby('key').aggregate(np.mean)",
      "metadata": {
        "trusted": true
      },
      "execution_count": 61,
      "outputs": [
        {
          "execution_count": 61,
          "output_type": "execute_result",
          "data": {
            "text/plain": "     data\nkey      \nA     5.0\nB    10.0\nC    15.0",
            "text/html": "<div>\n<style scoped>\n    .dataframe tbody tr th:only-of-type {\n        vertical-align: middle;\n    }\n\n    .dataframe tbody tr th {\n        vertical-align: top;\n    }\n\n    .dataframe thead th {\n        text-align: right;\n    }\n</style>\n<table border=\"1\" class=\"dataframe\">\n  <thead>\n    <tr style=\"text-align: right;\">\n      <th></th>\n      <th>data</th>\n    </tr>\n    <tr>\n      <th>key</th>\n      <th></th>\n    </tr>\n  </thead>\n  <tbody>\n    <tr>\n      <th>A</th>\n      <td>5.0</td>\n    </tr>\n    <tr>\n      <th>B</th>\n      <td>10.0</td>\n    </tr>\n    <tr>\n      <th>C</th>\n      <td>15.0</td>\n    </tr>\n  </tbody>\n</table>\n</div>"
          },
          "metadata": {}
        }
      ]
    },
    {
      "cell_type": "code",
      "source": "df = pd.read_csv('titanic.csv')",
      "metadata": {
        "trusted": true
      },
      "execution_count": 62,
      "outputs": []
    },
    {
      "cell_type": "code",
      "source": "df.groupby('Sex')['Age'].mean()",
      "metadata": {
        "trusted": true
      },
      "execution_count": 63,
      "outputs": [
        {
          "execution_count": 63,
          "output_type": "execute_result",
          "data": {
            "text/plain": "Sex\nfemale    27.915709\nmale      30.726645\nName: Age, dtype: float64"
          },
          "metadata": {}
        }
      ]
    },
    {
      "cell_type": "code",
      "source": "df.groupby('Sex')['Survived'].mean()",
      "metadata": {
        "trusted": true
      },
      "execution_count": 65,
      "outputs": [
        {
          "execution_count": 65,
          "output_type": "execute_result",
          "data": {
            "text/plain": "Sex\nfemale    0.742038\nmale      0.188908\nName: Survived, dtype: float64"
          },
          "metadata": {}
        }
      ]
    },
    {
      "cell_type": "code",
      "source": "import pandas as pd\ndf = pd.DataFrame([[1,2,3],[4,5,6]],index = ['a','b'],columns = ['A','B','C'])\ndf",
      "metadata": {
        "trusted": true
      },
      "execution_count": 66,
      "outputs": [
        {
          "execution_count": 66,
          "output_type": "execute_result",
          "data": {
            "text/plain": "   A  B  C\na  1  2  3\nb  4  5  6",
            "text/html": "<div>\n<style scoped>\n    .dataframe tbody tr th:only-of-type {\n        vertical-align: middle;\n    }\n\n    .dataframe tbody tr th {\n        vertical-align: top;\n    }\n\n    .dataframe thead th {\n        text-align: right;\n    }\n</style>\n<table border=\"1\" class=\"dataframe\">\n  <thead>\n    <tr style=\"text-align: right;\">\n      <th></th>\n      <th>A</th>\n      <th>B</th>\n      <th>C</th>\n    </tr>\n  </thead>\n  <tbody>\n    <tr>\n      <th>a</th>\n      <td>1</td>\n      <td>2</td>\n      <td>3</td>\n    </tr>\n    <tr>\n      <th>b</th>\n      <td>4</td>\n      <td>5</td>\n      <td>6</td>\n    </tr>\n  </tbody>\n</table>\n</div>"
          },
          "metadata": {}
        }
      ]
    },
    {
      "cell_type": "code",
      "source": "df.sum()",
      "metadata": {
        "trusted": true
      },
      "execution_count": 67,
      "outputs": [
        {
          "execution_count": 67,
          "output_type": "execute_result",
          "data": {
            "text/plain": "A    5\nB    7\nC    9\ndtype: int64"
          },
          "metadata": {}
        }
      ]
    },
    {
      "cell_type": "code",
      "source": "df.sum(axis = 0)",
      "metadata": {
        "trusted": true
      },
      "execution_count": 70,
      "outputs": [
        {
          "execution_count": 70,
          "output_type": "execute_result",
          "data": {
            "text/plain": "A    5\nB    7\nC    9\ndtype: int64"
          },
          "metadata": {}
        }
      ]
    },
    {
      "cell_type": "code",
      "source": "df.sum(axis = 1)",
      "metadata": {
        "trusted": true
      },
      "execution_count": 71,
      "outputs": [
        {
          "execution_count": 71,
          "output_type": "execute_result",
          "data": {
            "text/plain": "a     6\nb    15\ndtype: int64"
          },
          "metadata": {}
        }
      ]
    },
    {
      "cell_type": "code",
      "source": "df.sum(axis = 'columns')",
      "metadata": {
        "trusted": true
      },
      "execution_count": 72,
      "outputs": [
        {
          "execution_count": 72,
          "output_type": "execute_result",
          "data": {
            "text/plain": "a     6\nb    15\ndtype: int64"
          },
          "metadata": {}
        }
      ]
    },
    {
      "cell_type": "code",
      "source": "df.sum(axis = 'index')",
      "metadata": {
        "trusted": true
      },
      "execution_count": 73,
      "outputs": [
        {
          "execution_count": 73,
          "output_type": "execute_result",
          "data": {
            "text/plain": "A    5\nB    7\nC    9\ndtype: int64"
          },
          "metadata": {}
        }
      ]
    },
    {
      "cell_type": "code",
      "source": "df.mean()",
      "metadata": {
        "trusted": true
      },
      "execution_count": 74,
      "outputs": [
        {
          "execution_count": 74,
          "output_type": "execute_result",
          "data": {
            "text/plain": "A    2.5\nB    3.5\nC    4.5\ndtype: float64"
          },
          "metadata": {}
        }
      ]
    },
    {
      "cell_type": "code",
      "source": "df.mean(axis = 1)",
      "metadata": {
        "trusted": true
      },
      "execution_count": 75,
      "outputs": [
        {
          "execution_count": 75,
          "output_type": "execute_result",
          "data": {
            "text/plain": "a    2.0\nb    5.0\ndtype: float64"
          },
          "metadata": {}
        }
      ]
    },
    {
      "cell_type": "code",
      "source": "df.min()",
      "metadata": {
        "trusted": true
      },
      "execution_count": 76,
      "outputs": [
        {
          "execution_count": 76,
          "output_type": "execute_result",
          "data": {
            "text/plain": "A    1\nB    2\nC    3\ndtype: int64"
          },
          "metadata": {}
        }
      ]
    },
    {
      "cell_type": "code",
      "source": "df.max()",
      "metadata": {
        "trusted": true
      },
      "execution_count": 77,
      "outputs": [
        {
          "execution_count": 77,
          "output_type": "execute_result",
          "data": {
            "text/plain": "A    4\nB    5\nC    6\ndtype: int64"
          },
          "metadata": {}
        }
      ]
    },
    {
      "cell_type": "code",
      "source": "df.median()",
      "metadata": {
        "trusted": true
      },
      "execution_count": 78,
      "outputs": [
        {
          "execution_count": 78,
          "output_type": "execute_result",
          "data": {
            "text/plain": "A    2.5\nB    3.5\nC    4.5\ndtype: float64"
          },
          "metadata": {}
        }
      ]
    },
    {
      "cell_type": "code",
      "source": "df = pd.read_csv('./titanic.csv')\ndf.head()",
      "metadata": {
        "trusted": true
      },
      "execution_count": 82,
      "outputs": [
        {
          "execution_count": 82,
          "output_type": "execute_result",
          "data": {
            "text/plain": "   PassengerId  Survived  Pclass  \\\n0            1         0       3   \n1            2         1       1   \n2            3         1       3   \n3            4         1       1   \n4            5         0       3   \n\n                                                Name     Sex   Age  SibSp  \\\n0                            Braund, Mr. Owen Harris    male  22.0      1   \n1  Cumings, Mrs. John Bradley (Florence Briggs Th...  female  38.0      1   \n2                             Heikkinen, Miss. Laina  female  26.0      0   \n3       Futrelle, Mrs. Jacques Heath (Lily May Peel)  female  35.0      1   \n4                           Allen, Mr. William Henry    male  35.0      0   \n\n   Parch            Ticket     Fare Cabin Embarked  \n0      0         A/5 21171   7.2500   NaN        S  \n1      0          PC 17599  71.2833   C85        C  \n2      0  STON/O2. 3101282   7.9250   NaN        S  \n3      0            113803  53.1000  C123        S  \n4      0            373450   8.0500   NaN        S  ",
            "text/html": "<div>\n<style scoped>\n    .dataframe tbody tr th:only-of-type {\n        vertical-align: middle;\n    }\n\n    .dataframe tbody tr th {\n        vertical-align: top;\n    }\n\n    .dataframe thead th {\n        text-align: right;\n    }\n</style>\n<table border=\"1\" class=\"dataframe\">\n  <thead>\n    <tr style=\"text-align: right;\">\n      <th></th>\n      <th>PassengerId</th>\n      <th>Survived</th>\n      <th>Pclass</th>\n      <th>Name</th>\n      <th>Sex</th>\n      <th>Age</th>\n      <th>SibSp</th>\n      <th>Parch</th>\n      <th>Ticket</th>\n      <th>Fare</th>\n      <th>Cabin</th>\n      <th>Embarked</th>\n    </tr>\n  </thead>\n  <tbody>\n    <tr>\n      <th>0</th>\n      <td>1</td>\n      <td>0</td>\n      <td>3</td>\n      <td>Braund, Mr. Owen Harris</td>\n      <td>male</td>\n      <td>22.0</td>\n      <td>1</td>\n      <td>0</td>\n      <td>A/5 21171</td>\n      <td>7.2500</td>\n      <td>NaN</td>\n      <td>S</td>\n    </tr>\n    <tr>\n      <th>1</th>\n      <td>2</td>\n      <td>1</td>\n      <td>1</td>\n      <td>Cumings, Mrs. John Bradley (Florence Briggs Th...</td>\n      <td>female</td>\n      <td>38.0</td>\n      <td>1</td>\n      <td>0</td>\n      <td>PC 17599</td>\n      <td>71.2833</td>\n      <td>C85</td>\n      <td>C</td>\n    </tr>\n    <tr>\n      <th>2</th>\n      <td>3</td>\n      <td>1</td>\n      <td>3</td>\n      <td>Heikkinen, Miss. Laina</td>\n      <td>female</td>\n      <td>26.0</td>\n      <td>0</td>\n      <td>0</td>\n      <td>STON/O2. 3101282</td>\n      <td>7.9250</td>\n      <td>NaN</td>\n      <td>S</td>\n    </tr>\n    <tr>\n      <th>3</th>\n      <td>4</td>\n      <td>1</td>\n      <td>1</td>\n      <td>Futrelle, Mrs. Jacques Heath (Lily May Peel)</td>\n      <td>female</td>\n      <td>35.0</td>\n      <td>1</td>\n      <td>0</td>\n      <td>113803</td>\n      <td>53.1000</td>\n      <td>C123</td>\n      <td>S</td>\n    </tr>\n    <tr>\n      <th>4</th>\n      <td>5</td>\n      <td>0</td>\n      <td>3</td>\n      <td>Allen, Mr. William Henry</td>\n      <td>male</td>\n      <td>35.0</td>\n      <td>0</td>\n      <td>0</td>\n      <td>373450</td>\n      <td>8.0500</td>\n      <td>NaN</td>\n      <td>S</td>\n    </tr>\n  </tbody>\n</table>\n</div>"
          },
          "metadata": {}
        }
      ]
    },
    {
      "cell_type": "code",
      "source": "# Compute pairwise covariance of columns, excluding NA/null values.\ndf.cov()",
      "metadata": {
        "trusted": true
      },
      "execution_count": 84,
      "outputs": [
        {
          "name": "stderr",
          "text": "<ipython-input-84-fdcd035e3edb>:2: FutureWarning: The default value of numeric_only in DataFrame.cov is deprecated. In a future version, it will default to False. Select only valid columns or specify the value of numeric_only to silence this warning.\n  df.cov()\n",
          "output_type": "stream"
        },
        {
          "execution_count": 84,
          "output_type": "execute_result",
          "data": {
            "text/plain": "              PassengerId  Survived     Pclass         Age      SibSp  \\\nPassengerId  66231.000000 -0.626966  -7.561798  138.696504 -16.325843   \nSurvived        -0.626966  0.236772  -0.137703   -0.551296  -0.018954   \nPclass          -7.561798 -0.137703   0.699015   -4.496004   0.076599   \nAge            138.696504 -0.551296  -4.496004  211.019125  -4.163334   \nSibSp          -16.325843 -0.018954   0.076599   -4.163334   1.216043   \nParch           -0.342697  0.032017   0.012429   -2.344191   0.368739   \nFare           161.883369  6.221787 -22.830196   73.849030   8.748734   \n\n                Parch         Fare  \nPassengerId -0.342697   161.883369  \nSurvived     0.032017     6.221787  \nPclass       0.012429   -22.830196  \nAge         -2.344191    73.849030  \nSibSp        0.368739     8.748734  \nParch        0.649728     8.661052  \nFare         8.661052  2469.436846  ",
            "text/html": "<div>\n<style scoped>\n    .dataframe tbody tr th:only-of-type {\n        vertical-align: middle;\n    }\n\n    .dataframe tbody tr th {\n        vertical-align: top;\n    }\n\n    .dataframe thead th {\n        text-align: right;\n    }\n</style>\n<table border=\"1\" class=\"dataframe\">\n  <thead>\n    <tr style=\"text-align: right;\">\n      <th></th>\n      <th>PassengerId</th>\n      <th>Survived</th>\n      <th>Pclass</th>\n      <th>Age</th>\n      <th>SibSp</th>\n      <th>Parch</th>\n      <th>Fare</th>\n    </tr>\n  </thead>\n  <tbody>\n    <tr>\n      <th>PassengerId</th>\n      <td>66231.000000</td>\n      <td>-0.626966</td>\n      <td>-7.561798</td>\n      <td>138.696504</td>\n      <td>-16.325843</td>\n      <td>-0.342697</td>\n      <td>161.883369</td>\n    </tr>\n    <tr>\n      <th>Survived</th>\n      <td>-0.626966</td>\n      <td>0.236772</td>\n      <td>-0.137703</td>\n      <td>-0.551296</td>\n      <td>-0.018954</td>\n      <td>0.032017</td>\n      <td>6.221787</td>\n    </tr>\n    <tr>\n      <th>Pclass</th>\n      <td>-7.561798</td>\n      <td>-0.137703</td>\n      <td>0.699015</td>\n      <td>-4.496004</td>\n      <td>0.076599</td>\n      <td>0.012429</td>\n      <td>-22.830196</td>\n    </tr>\n    <tr>\n      <th>Age</th>\n      <td>138.696504</td>\n      <td>-0.551296</td>\n      <td>-4.496004</td>\n      <td>211.019125</td>\n      <td>-4.163334</td>\n      <td>-2.344191</td>\n      <td>73.849030</td>\n    </tr>\n    <tr>\n      <th>SibSp</th>\n      <td>-16.325843</td>\n      <td>-0.018954</td>\n      <td>0.076599</td>\n      <td>-4.163334</td>\n      <td>1.216043</td>\n      <td>0.368739</td>\n      <td>8.748734</td>\n    </tr>\n    <tr>\n      <th>Parch</th>\n      <td>-0.342697</td>\n      <td>0.032017</td>\n      <td>0.012429</td>\n      <td>-2.344191</td>\n      <td>0.368739</td>\n      <td>0.649728</td>\n      <td>8.661052</td>\n    </tr>\n    <tr>\n      <th>Fare</th>\n      <td>161.883369</td>\n      <td>6.221787</td>\n      <td>-22.830196</td>\n      <td>73.849030</td>\n      <td>8.748734</td>\n      <td>8.661052</td>\n      <td>2469.436846</td>\n    </tr>\n  </tbody>\n</table>\n</div>"
          },
          "metadata": {}
        }
      ]
    },
    {
      "cell_type": "code",
      "source": "# Compute pairwise correlation of columns, excluding NA/null values.\ndf.corr()",
      "metadata": {
        "trusted": true
      },
      "execution_count": 85,
      "outputs": [
        {
          "name": "stderr",
          "text": "<ipython-input-85-2f6f6606aa2c>:1: FutureWarning: The default value of numeric_only in DataFrame.corr is deprecated. In a future version, it will default to False. Select only valid columns or specify the value of numeric_only to silence this warning.\n  df.corr()\n",
          "output_type": "stream"
        },
        {
          "execution_count": 85,
          "output_type": "execute_result",
          "data": {
            "text/plain": "             PassengerId  Survived    Pclass       Age     SibSp     Parch  \\\nPassengerId     1.000000 -0.005007 -0.035144  0.036847 -0.057527 -0.001652   \nSurvived       -0.005007  1.000000 -0.338481 -0.077221 -0.035322  0.081629   \nPclass         -0.035144 -0.338481  1.000000 -0.369226  0.083081  0.018443   \nAge             0.036847 -0.077221 -0.369226  1.000000 -0.308247 -0.189119   \nSibSp          -0.057527 -0.035322  0.083081 -0.308247  1.000000  0.414838   \nParch          -0.001652  0.081629  0.018443 -0.189119  0.414838  1.000000   \nFare            0.012658  0.257307 -0.549500  0.096067  0.159651  0.216225   \n\n                 Fare  \nPassengerId  0.012658  \nSurvived     0.257307  \nPclass      -0.549500  \nAge          0.096067  \nSibSp        0.159651  \nParch        0.216225  \nFare         1.000000  ",
            "text/html": "<div>\n<style scoped>\n    .dataframe tbody tr th:only-of-type {\n        vertical-align: middle;\n    }\n\n    .dataframe tbody tr th {\n        vertical-align: top;\n    }\n\n    .dataframe thead th {\n        text-align: right;\n    }\n</style>\n<table border=\"1\" class=\"dataframe\">\n  <thead>\n    <tr style=\"text-align: right;\">\n      <th></th>\n      <th>PassengerId</th>\n      <th>Survived</th>\n      <th>Pclass</th>\n      <th>Age</th>\n      <th>SibSp</th>\n      <th>Parch</th>\n      <th>Fare</th>\n    </tr>\n  </thead>\n  <tbody>\n    <tr>\n      <th>PassengerId</th>\n      <td>1.000000</td>\n      <td>-0.005007</td>\n      <td>-0.035144</td>\n      <td>0.036847</td>\n      <td>-0.057527</td>\n      <td>-0.001652</td>\n      <td>0.012658</td>\n    </tr>\n    <tr>\n      <th>Survived</th>\n      <td>-0.005007</td>\n      <td>1.000000</td>\n      <td>-0.338481</td>\n      <td>-0.077221</td>\n      <td>-0.035322</td>\n      <td>0.081629</td>\n      <td>0.257307</td>\n    </tr>\n    <tr>\n      <th>Pclass</th>\n      <td>-0.035144</td>\n      <td>-0.338481</td>\n      <td>1.000000</td>\n      <td>-0.369226</td>\n      <td>0.083081</td>\n      <td>0.018443</td>\n      <td>-0.549500</td>\n    </tr>\n    <tr>\n      <th>Age</th>\n      <td>0.036847</td>\n      <td>-0.077221</td>\n      <td>-0.369226</td>\n      <td>1.000000</td>\n      <td>-0.308247</td>\n      <td>-0.189119</td>\n      <td>0.096067</td>\n    </tr>\n    <tr>\n      <th>SibSp</th>\n      <td>-0.057527</td>\n      <td>-0.035322</td>\n      <td>0.083081</td>\n      <td>-0.308247</td>\n      <td>1.000000</td>\n      <td>0.414838</td>\n      <td>0.159651</td>\n    </tr>\n    <tr>\n      <th>Parch</th>\n      <td>-0.001652</td>\n      <td>0.081629</td>\n      <td>0.018443</td>\n      <td>-0.189119</td>\n      <td>0.414838</td>\n      <td>1.000000</td>\n      <td>0.216225</td>\n    </tr>\n    <tr>\n      <th>Fare</th>\n      <td>0.012658</td>\n      <td>0.257307</td>\n      <td>-0.549500</td>\n      <td>0.096067</td>\n      <td>0.159651</td>\n      <td>0.216225</td>\n      <td>1.000000</td>\n    </tr>\n  </tbody>\n</table>\n</div>"
          },
          "metadata": {}
        }
      ]
    },
    {
      "cell_type": "code",
      "source": "df['Age'].value_counts()",
      "metadata": {
        "trusted": true
      },
      "execution_count": 86,
      "outputs": [
        {
          "execution_count": 86,
          "output_type": "execute_result",
          "data": {
            "text/plain": "24.00    30\n22.00    27\n18.00    26\n19.00    25\n28.00    25\n         ..\n36.50     1\n55.50     1\n0.92      1\n23.50     1\n74.00     1\nName: Age, Length: 88, dtype: int64"
          },
          "metadata": {}
        }
      ]
    },
    {
      "cell_type": "code",
      "source": "df['Age'].value_counts(ascending=True)",
      "metadata": {
        "trusted": true
      },
      "execution_count": 89,
      "outputs": [
        {
          "execution_count": 89,
          "output_type": "execute_result",
          "data": {
            "text/plain": "74.0     1\n14.5     1\n70.5     1\n12.0     1\n36.5     1\n        ..\n30.0    25\n19.0    25\n18.0    26\n22.0    27\n24.0    30\nName: Age, Length: 88, dtype: int64"
          },
          "metadata": {}
        }
      ]
    },
    {
      "cell_type": "code",
      "source": "df['Pclass'].value_counts(ascending = True)",
      "metadata": {
        "trusted": true
      },
      "execution_count": 90,
      "outputs": [
        {
          "execution_count": 90,
          "output_type": "execute_result",
          "data": {
            "text/plain": "2    184\n1    216\n3    491\nName: Pclass, dtype: int64"
          },
          "metadata": {}
        }
      ]
    },
    {
      "cell_type": "code",
      "source": "df['Age'].value_counts(ascending = True,bins = 5)",
      "metadata": {
        "trusted": true
      },
      "execution_count": 91,
      "outputs": [
        {
          "execution_count": 91,
          "output_type": "execute_result",
          "data": {
            "text/plain": "(64.084, 80.0]       11\n(48.168, 64.084]     69\n(0.339, 16.336]     100\n(32.252, 48.168]    188\n(16.336, 32.252]    346\nName: Age, dtype: int64"
          },
          "metadata": {}
        }
      ]
    },
    {
      "cell_type": "code",
      "source": "df['Age'].max()",
      "metadata": {
        "trusted": true
      },
      "execution_count": 92,
      "outputs": [
        {
          "execution_count": 92,
          "output_type": "execute_result",
          "data": {
            "text/plain": "80.0"
          },
          "metadata": {}
        }
      ]
    },
    {
      "cell_type": "code",
      "source": "df['Age'].min()",
      "metadata": {
        "trusted": true
      },
      "execution_count": 93,
      "outputs": [
        {
          "execution_count": 93,
          "output_type": "execute_result",
          "data": {
            "text/plain": "0.42"
          },
          "metadata": {}
        }
      ]
    },
    {
      "cell_type": "code",
      "source": "data = [10,11,12]\nindex = ['a', 'b', 'c']\ns = pd.Series(data = data,index = index)\ns",
      "metadata": {
        "trusted": true
      },
      "execution_count": 99,
      "outputs": [
        {
          "execution_count": 99,
          "output_type": "execute_result",
          "data": {
            "text/plain": "a    10\nb    11\nc    12\ndtype: int64"
          },
          "metadata": {}
        }
      ]
    },
    {
      "cell_type": "code",
      "source": "s[0]",
      "metadata": {
        "trusted": true
      },
      "execution_count": 100,
      "outputs": [
        {
          "execution_count": 100,
          "output_type": "execute_result",
          "data": {
            "text/plain": "10"
          },
          "metadata": {}
        }
      ]
    },
    {
      "cell_type": "code",
      "source": "s[0:2]",
      "metadata": {
        "trusted": true
      },
      "execution_count": 101,
      "outputs": [
        {
          "execution_count": 101,
          "output_type": "execute_result",
          "data": {
            "text/plain": "a    10\nb    11\ndtype: int64"
          },
          "metadata": {}
        }
      ]
    },
    {
      "cell_type": "code",
      "source": "mask = [True,False,True]\ns[mask]",
      "metadata": {
        "trusted": true
      },
      "execution_count": 102,
      "outputs": [
        {
          "execution_count": 102,
          "output_type": "execute_result",
          "data": {
            "text/plain": "a    10\nc    12\ndtype: int64"
          },
          "metadata": {}
        }
      ]
    },
    {
      "cell_type": "code",
      "source": "s.loc['b']",
      "metadata": {
        "trusted": true
      },
      "execution_count": 103,
      "outputs": [
        {
          "execution_count": 103,
          "output_type": "execute_result",
          "data": {
            "text/plain": "11"
          },
          "metadata": {}
        }
      ]
    },
    {
      "cell_type": "code",
      "source": "s.iloc[1]",
      "metadata": {
        "trusted": true
      },
      "execution_count": 104,
      "outputs": [
        {
          "execution_count": 104,
          "output_type": "execute_result",
          "data": {
            "text/plain": "11"
          },
          "metadata": {}
        }
      ]
    },
    {
      "cell_type": "code",
      "source": "s1 = s.copy()\ns1['a'] = 100\ns1",
      "metadata": {
        "trusted": true
      },
      "execution_count": 189,
      "outputs": [
        {
          "execution_count": 189,
          "output_type": "execute_result",
          "data": {
            "text/plain": "a    100\nb     11\nc     12\ndtype: int64"
          },
          "metadata": {}
        }
      ]
    },
    {
      "cell_type": "code",
      "source": "# if inplace = False, s1的原先值不會改變\ns1.replace(to_replace = 100, value = 101, inplace=True)",
      "metadata": {
        "trusted": true
      },
      "execution_count": 190,
      "outputs": []
    },
    {
      "cell_type": "code",
      "source": "s1",
      "metadata": {
        "trusted": true
      },
      "execution_count": 191,
      "outputs": [
        {
          "execution_count": 191,
          "output_type": "execute_result",
          "data": {
            "text/plain": "a    101\nb     11\nc     12\ndtype: int64"
          },
          "metadata": {}
        }
      ]
    },
    {
      "cell_type": "code",
      "source": "s1.index",
      "metadata": {
        "trusted": true
      },
      "execution_count": 192,
      "outputs": [
        {
          "execution_count": 192,
          "output_type": "execute_result",
          "data": {
            "text/plain": "Index(['a', 'b', 'c'], dtype='object')"
          },
          "metadata": {}
        }
      ]
    },
    {
      "cell_type": "code",
      "source": "s1.index = ['a','b','d']\ns1",
      "metadata": {
        "trusted": true
      },
      "execution_count": 193,
      "outputs": [
        {
          "execution_count": 193,
          "output_type": "execute_result",
          "data": {
            "text/plain": "a    101\nb     11\nd     12\ndtype: int64"
          },
          "metadata": {}
        }
      ]
    },
    {
      "cell_type": "code",
      "source": "s1.rename(index = {'a':'A'},inplace=True)\ns1",
      "metadata": {
        "trusted": true
      },
      "execution_count": 194,
      "outputs": [
        {
          "execution_count": 194,
          "output_type": "execute_result",
          "data": {
            "text/plain": "A    101\nb     11\nd     12\ndtype: int64"
          },
          "metadata": {}
        }
      ]
    },
    {
      "cell_type": "code",
      "source": "data = [100,110]\nindex = ['h','k']\ns2 = pd.Series(data=data, index=index)\ns2",
      "metadata": {
        "trusted": true
      },
      "execution_count": 195,
      "outputs": [
        {
          "execution_count": 195,
          "output_type": "execute_result",
          "data": {
            "text/plain": "h    100\nk    110\ndtype: int64"
          },
          "metadata": {}
        }
      ]
    },
    {
      "cell_type": "code",
      "source": "s3 = pd.concat([s1,s2])\ns3",
      "metadata": {
        "trusted": true
      },
      "execution_count": 196,
      "outputs": [
        {
          "execution_count": 196,
          "output_type": "execute_result",
          "data": {
            "text/plain": "A    101\nb     11\nd     12\nh    100\nk    110\ndtype: int64"
          },
          "metadata": {}
        }
      ]
    },
    {
      "cell_type": "code",
      "source": "s3['j'] = 500\ns3",
      "metadata": {
        "trusted": true
      },
      "execution_count": 197,
      "outputs": [
        {
          "execution_count": 197,
          "output_type": "execute_result",
          "data": {
            "text/plain": "A    101\nb     11\nd     12\nh    100\nk    110\nj    500\ndtype: int64"
          },
          "metadata": {}
        }
      ]
    },
    {
      "cell_type": "code",
      "source": "s3 = pd.concat([s1,s2], ignore_index = True)\ns3",
      "metadata": {
        "trusted": true
      },
      "execution_count": 198,
      "outputs": [
        {
          "execution_count": 198,
          "output_type": "execute_result",
          "data": {
            "text/plain": "0    101\n1     11\n2     12\n3    100\n4    110\ndtype: int64"
          },
          "metadata": {}
        }
      ]
    },
    {
      "cell_type": "code",
      "source": "s1",
      "metadata": {
        "trusted": true
      },
      "execution_count": 199,
      "outputs": [
        {
          "execution_count": 199,
          "output_type": "execute_result",
          "data": {
            "text/plain": "A    101\nb     11\nd     12\ndtype: int64"
          },
          "metadata": {}
        }
      ]
    },
    {
      "cell_type": "code",
      "source": "del s1['A']\ns1",
      "metadata": {
        "trusted": true
      },
      "execution_count": 200,
      "outputs": [
        {
          "execution_count": 200,
          "output_type": "execute_result",
          "data": {
            "text/plain": "b    11\nd    12\ndtype: int64"
          },
          "metadata": {}
        }
      ]
    },
    {
      "cell_type": "code",
      "source": "s1.drop(['b'], inplace=True)\ns1",
      "metadata": {
        "trusted": true
      },
      "execution_count": 201,
      "outputs": [
        {
          "execution_count": 201,
          "output_type": "execute_result",
          "data": {
            "text/plain": "d    12\ndtype: int64"
          },
          "metadata": {}
        }
      ]
    },
    {
      "cell_type": "code",
      "source": "data = [[1,2,3],[4,5,6]]\nindex = ['a','b']\ncolumns = ['A','B','C']\n\ndf = pd.DataFrame(data=data, index=index, columns=columns)\ndf",
      "metadata": {
        "trusted": true
      },
      "execution_count": 202,
      "outputs": [
        {
          "execution_count": 202,
          "output_type": "execute_result",
          "data": {
            "text/plain": "   A  B  C\na  1  2  3\nb  4  5  6",
            "text/html": "<div>\n<style scoped>\n    .dataframe tbody tr th:only-of-type {\n        vertical-align: middle;\n    }\n\n    .dataframe tbody tr th {\n        vertical-align: top;\n    }\n\n    .dataframe thead th {\n        text-align: right;\n    }\n</style>\n<table border=\"1\" class=\"dataframe\">\n  <thead>\n    <tr style=\"text-align: right;\">\n      <th></th>\n      <th>A</th>\n      <th>B</th>\n      <th>C</th>\n    </tr>\n  </thead>\n  <tbody>\n    <tr>\n      <th>a</th>\n      <td>1</td>\n      <td>2</td>\n      <td>3</td>\n    </tr>\n    <tr>\n      <th>b</th>\n      <td>4</td>\n      <td>5</td>\n      <td>6</td>\n    </tr>\n  </tbody>\n</table>\n</div>"
          },
          "metadata": {}
        }
      ]
    },
    {
      "cell_type": "code",
      "source": "df['A']",
      "metadata": {
        "trusted": true
      },
      "execution_count": 203,
      "outputs": [
        {
          "execution_count": 203,
          "output_type": "execute_result",
          "data": {
            "text/plain": "a    1\nb    4\nName: A, dtype: int64"
          },
          "metadata": {}
        }
      ]
    },
    {
      "cell_type": "code",
      "source": "df.iloc[0]",
      "metadata": {
        "trusted": true
      },
      "execution_count": 205,
      "outputs": [
        {
          "execution_count": 205,
          "output_type": "execute_result",
          "data": {
            "text/plain": "A    1\nB    2\nC    3\nName: a, dtype: int64"
          },
          "metadata": {}
        }
      ]
    },
    {
      "cell_type": "code",
      "source": "df.loc['a']",
      "metadata": {
        "trusted": true
      },
      "execution_count": 206,
      "outputs": [
        {
          "execution_count": 206,
          "output_type": "execute_result",
          "data": {
            "text/plain": "A    1\nB    2\nC    3\nName: a, dtype: int64"
          },
          "metadata": {}
        }
      ]
    },
    {
      "cell_type": "code",
      "source": "df.loc['a']['B']",
      "metadata": {
        "trusted": true
      },
      "execution_count": 208,
      "outputs": [
        {
          "execution_count": 208,
          "output_type": "execute_result",
          "data": {
            "text/plain": "2"
          },
          "metadata": {}
        }
      ]
    },
    {
      "cell_type": "code",
      "source": "df.loc['a']['A'] = 150\ndf",
      "metadata": {
        "trusted": true
      },
      "execution_count": 209,
      "outputs": [
        {
          "execution_count": 209,
          "output_type": "execute_result",
          "data": {
            "text/plain": "     A  B  C\na  150  2  3\nb    4  5  6",
            "text/html": "<div>\n<style scoped>\n    .dataframe tbody tr th:only-of-type {\n        vertical-align: middle;\n    }\n\n    .dataframe tbody tr th {\n        vertical-align: top;\n    }\n\n    .dataframe thead th {\n        text-align: right;\n    }\n</style>\n<table border=\"1\" class=\"dataframe\">\n  <thead>\n    <tr style=\"text-align: right;\">\n      <th></th>\n      <th>A</th>\n      <th>B</th>\n      <th>C</th>\n    </tr>\n  </thead>\n  <tbody>\n    <tr>\n      <th>a</th>\n      <td>150</td>\n      <td>2</td>\n      <td>3</td>\n    </tr>\n    <tr>\n      <th>b</th>\n      <td>4</td>\n      <td>5</td>\n      <td>6</td>\n    </tr>\n  </tbody>\n</table>\n</div>"
          },
          "metadata": {}
        }
      ]
    },
    {
      "cell_type": "code",
      "source": "df.index = ['f','g']\ndf",
      "metadata": {
        "trusted": true
      },
      "execution_count": 210,
      "outputs": [
        {
          "execution_count": 210,
          "output_type": "execute_result",
          "data": {
            "text/plain": "     A  B  C\nf  150  2  3\ng    4  5  6",
            "text/html": "<div>\n<style scoped>\n    .dataframe tbody tr th:only-of-type {\n        vertical-align: middle;\n    }\n\n    .dataframe tbody tr th {\n        vertical-align: top;\n    }\n\n    .dataframe thead th {\n        text-align: right;\n    }\n</style>\n<table border=\"1\" class=\"dataframe\">\n  <thead>\n    <tr style=\"text-align: right;\">\n      <th></th>\n      <th>A</th>\n      <th>B</th>\n      <th>C</th>\n    </tr>\n  </thead>\n  <tbody>\n    <tr>\n      <th>f</th>\n      <td>150</td>\n      <td>2</td>\n      <td>3</td>\n    </tr>\n    <tr>\n      <th>g</th>\n      <td>4</td>\n      <td>5</td>\n      <td>6</td>\n    </tr>\n  </tbody>\n</table>\n</div>"
          },
          "metadata": {}
        }
      ]
    },
    {
      "cell_type": "code",
      "source": "df.loc['c'] = [1,2,3]\ndf",
      "metadata": {
        "trusted": true
      },
      "execution_count": 212,
      "outputs": [
        {
          "execution_count": 212,
          "output_type": "execute_result",
          "data": {
            "text/plain": "     A  B  C\nf  150  2  3\ng    4  5  6\nc    1  2  3",
            "text/html": "<div>\n<style scoped>\n    .dataframe tbody tr th:only-of-type {\n        vertical-align: middle;\n    }\n\n    .dataframe tbody tr th {\n        vertical-align: top;\n    }\n\n    .dataframe thead th {\n        text-align: right;\n    }\n</style>\n<table border=\"1\" class=\"dataframe\">\n  <thead>\n    <tr style=\"text-align: right;\">\n      <th></th>\n      <th>A</th>\n      <th>B</th>\n      <th>C</th>\n    </tr>\n  </thead>\n  <tbody>\n    <tr>\n      <th>f</th>\n      <td>150</td>\n      <td>2</td>\n      <td>3</td>\n    </tr>\n    <tr>\n      <th>g</th>\n      <td>4</td>\n      <td>5</td>\n      <td>6</td>\n    </tr>\n    <tr>\n      <th>c</th>\n      <td>1</td>\n      <td>2</td>\n      <td>3</td>\n    </tr>\n  </tbody>\n</table>\n</div>"
          },
          "metadata": {}
        }
      ]
    },
    {
      "cell_type": "code",
      "source": "data = [[1,2,3],[4,5,6]]\nindex = ['j', 'k']\ncolumns = ['A', 'B', 'C']\n\ndf2 = pd.DataFrame(data=data, index=index, columns=columns)\ndf2",
      "metadata": {
        "trusted": true
      },
      "execution_count": 213,
      "outputs": [
        {
          "execution_count": 213,
          "output_type": "execute_result",
          "data": {
            "text/plain": "   A  B  C\nj  1  2  3\nk  4  5  6",
            "text/html": "<div>\n<style scoped>\n    .dataframe tbody tr th:only-of-type {\n        vertical-align: middle;\n    }\n\n    .dataframe tbody tr th {\n        vertical-align: top;\n    }\n\n    .dataframe thead th {\n        text-align: right;\n    }\n</style>\n<table border=\"1\" class=\"dataframe\">\n  <thead>\n    <tr style=\"text-align: right;\">\n      <th></th>\n      <th>A</th>\n      <th>B</th>\n      <th>C</th>\n    </tr>\n  </thead>\n  <tbody>\n    <tr>\n      <th>j</th>\n      <td>1</td>\n      <td>2</td>\n      <td>3</td>\n    </tr>\n    <tr>\n      <th>k</th>\n      <td>4</td>\n      <td>5</td>\n      <td>6</td>\n    </tr>\n  </tbody>\n</table>\n</div>"
          },
          "metadata": {}
        }
      ]
    },
    {
      "cell_type": "code",
      "source": "df3 = pd.concat([df,df2],axis=0)\ndf3",
      "metadata": {
        "trusted": true
      },
      "execution_count": 217,
      "outputs": [
        {
          "execution_count": 217,
          "output_type": "execute_result",
          "data": {
            "text/plain": "     A  B  C\nf  150  2  3\ng    4  5  6\nc    1  2  3\nj    1  2  3\nk    4  5  6",
            "text/html": "<div>\n<style scoped>\n    .dataframe tbody tr th:only-of-type {\n        vertical-align: middle;\n    }\n\n    .dataframe tbody tr th {\n        vertical-align: top;\n    }\n\n    .dataframe thead th {\n        text-align: right;\n    }\n</style>\n<table border=\"1\" class=\"dataframe\">\n  <thead>\n    <tr style=\"text-align: right;\">\n      <th></th>\n      <th>A</th>\n      <th>B</th>\n      <th>C</th>\n    </tr>\n  </thead>\n  <tbody>\n    <tr>\n      <th>f</th>\n      <td>150</td>\n      <td>2</td>\n      <td>3</td>\n    </tr>\n    <tr>\n      <th>g</th>\n      <td>4</td>\n      <td>5</td>\n      <td>6</td>\n    </tr>\n    <tr>\n      <th>c</th>\n      <td>1</td>\n      <td>2</td>\n      <td>3</td>\n    </tr>\n    <tr>\n      <th>j</th>\n      <td>1</td>\n      <td>2</td>\n      <td>3</td>\n    </tr>\n    <tr>\n      <th>k</th>\n      <td>4</td>\n      <td>5</td>\n      <td>6</td>\n    </tr>\n  </tbody>\n</table>\n</div>"
          },
          "metadata": {}
        }
      ]
    },
    {
      "cell_type": "code",
      "source": "df4 = pd.concat([df,df2],axis=1)\ndf4",
      "metadata": {
        "trusted": true
      },
      "execution_count": 220,
      "outputs": [
        {
          "execution_count": 220,
          "output_type": "execute_result",
          "data": {
            "text/plain": "       A    B    C    A    B    C\nf  150.0  2.0  3.0  NaN  NaN  NaN\ng    4.0  5.0  6.0  NaN  NaN  NaN\nc    1.0  2.0  3.0  NaN  NaN  NaN\nj    NaN  NaN  NaN  1.0  2.0  3.0\nk    NaN  NaN  NaN  4.0  5.0  6.0",
            "text/html": "<div>\n<style scoped>\n    .dataframe tbody tr th:only-of-type {\n        vertical-align: middle;\n    }\n\n    .dataframe tbody tr th {\n        vertical-align: top;\n    }\n\n    .dataframe thead th {\n        text-align: right;\n    }\n</style>\n<table border=\"1\" class=\"dataframe\">\n  <thead>\n    <tr style=\"text-align: right;\">\n      <th></th>\n      <th>A</th>\n      <th>B</th>\n      <th>C</th>\n      <th>A</th>\n      <th>B</th>\n      <th>C</th>\n    </tr>\n  </thead>\n  <tbody>\n    <tr>\n      <th>f</th>\n      <td>150.0</td>\n      <td>2.0</td>\n      <td>3.0</td>\n      <td>NaN</td>\n      <td>NaN</td>\n      <td>NaN</td>\n    </tr>\n    <tr>\n      <th>g</th>\n      <td>4.0</td>\n      <td>5.0</td>\n      <td>6.0</td>\n      <td>NaN</td>\n      <td>NaN</td>\n      <td>NaN</td>\n    </tr>\n    <tr>\n      <th>c</th>\n      <td>1.0</td>\n      <td>2.0</td>\n      <td>3.0</td>\n      <td>NaN</td>\n      <td>NaN</td>\n      <td>NaN</td>\n    </tr>\n    <tr>\n      <th>j</th>\n      <td>NaN</td>\n      <td>NaN</td>\n      <td>NaN</td>\n      <td>1.0</td>\n      <td>2.0</td>\n      <td>3.0</td>\n    </tr>\n    <tr>\n      <th>k</th>\n      <td>NaN</td>\n      <td>NaN</td>\n      <td>NaN</td>\n      <td>4.0</td>\n      <td>5.0</td>\n      <td>6.0</td>\n    </tr>\n  </tbody>\n</table>\n</div>"
          },
          "metadata": {}
        }
      ]
    },
    {
      "cell_type": "code",
      "source": "df2['Tang'] = [10,11]\ndf2",
      "metadata": {
        "trusted": true
      },
      "execution_count": 221,
      "outputs": [
        {
          "execution_count": 221,
          "output_type": "execute_result",
          "data": {
            "text/plain": "   A  B  C  Tang\nj  1  2  3    10\nk  4  5  6    11",
            "text/html": "<div>\n<style scoped>\n    .dataframe tbody tr th:only-of-type {\n        vertical-align: middle;\n    }\n\n    .dataframe tbody tr th {\n        vertical-align: top;\n    }\n\n    .dataframe thead th {\n        text-align: right;\n    }\n</style>\n<table border=\"1\" class=\"dataframe\">\n  <thead>\n    <tr style=\"text-align: right;\">\n      <th></th>\n      <th>A</th>\n      <th>B</th>\n      <th>C</th>\n      <th>Tang</th>\n    </tr>\n  </thead>\n  <tbody>\n    <tr>\n      <th>j</th>\n      <td>1</td>\n      <td>2</td>\n      <td>3</td>\n      <td>10</td>\n    </tr>\n    <tr>\n      <th>k</th>\n      <td>4</td>\n      <td>5</td>\n      <td>6</td>\n      <td>11</td>\n    </tr>\n  </tbody>\n</table>\n</div>"
          },
          "metadata": {}
        }
      ]
    },
    {
      "cell_type": "code",
      "source": "df5 = pd.DataFrame([[10,11],[12,13]],index=['j','k'],columns=['D','E'])\ndf5",
      "metadata": {
        "trusted": true
      },
      "execution_count": 222,
      "outputs": [
        {
          "execution_count": 222,
          "output_type": "execute_result",
          "data": {
            "text/plain": "    D   E\nj  10  11\nk  12  13",
            "text/html": "<div>\n<style scoped>\n    .dataframe tbody tr th:only-of-type {\n        vertical-align: middle;\n    }\n\n    .dataframe tbody tr th {\n        vertical-align: top;\n    }\n\n    .dataframe thead th {\n        text-align: right;\n    }\n</style>\n<table border=\"1\" class=\"dataframe\">\n  <thead>\n    <tr style=\"text-align: right;\">\n      <th></th>\n      <th>D</th>\n      <th>E</th>\n    </tr>\n  </thead>\n  <tbody>\n    <tr>\n      <th>j</th>\n      <td>10</td>\n      <td>11</td>\n    </tr>\n    <tr>\n      <th>k</th>\n      <td>12</td>\n      <td>13</td>\n    </tr>\n  </tbody>\n</table>\n</div>"
          },
          "metadata": {}
        }
      ]
    },
    {
      "cell_type": "code",
      "source": "df6 = pd.concat([df2,df5],axis=1)\ndf6",
      "metadata": {
        "trusted": true
      },
      "execution_count": 225,
      "outputs": [
        {
          "execution_count": 225,
          "output_type": "execute_result",
          "data": {
            "text/plain": "   A  B  C  Tang   D   E\nj  1  2  3    10  10  11\nk  4  5  6    11  12  13",
            "text/html": "<div>\n<style scoped>\n    .dataframe tbody tr th:only-of-type {\n        vertical-align: middle;\n    }\n\n    .dataframe tbody tr th {\n        vertical-align: top;\n    }\n\n    .dataframe thead th {\n        text-align: right;\n    }\n</style>\n<table border=\"1\" class=\"dataframe\">\n  <thead>\n    <tr style=\"text-align: right;\">\n      <th></th>\n      <th>A</th>\n      <th>B</th>\n      <th>C</th>\n      <th>Tang</th>\n      <th>D</th>\n      <th>E</th>\n    </tr>\n  </thead>\n  <tbody>\n    <tr>\n      <th>j</th>\n      <td>1</td>\n      <td>2</td>\n      <td>3</td>\n      <td>10</td>\n      <td>10</td>\n      <td>11</td>\n    </tr>\n    <tr>\n      <th>k</th>\n      <td>4</td>\n      <td>5</td>\n      <td>6</td>\n      <td>11</td>\n      <td>12</td>\n      <td>13</td>\n    </tr>\n  </tbody>\n</table>\n</div>"
          },
          "metadata": {}
        }
      ]
    },
    {
      "cell_type": "code",
      "source": "df6.drop(['j'],axis=0,inplace=True)\ndf6",
      "metadata": {
        "trusted": true
      },
      "execution_count": 226,
      "outputs": [
        {
          "execution_count": 226,
          "output_type": "execute_result",
          "data": {
            "text/plain": "   A  B  C  Tang   D   E\nk  4  5  6    11  12  13",
            "text/html": "<div>\n<style scoped>\n    .dataframe tbody tr th:only-of-type {\n        vertical-align: middle;\n    }\n\n    .dataframe tbody tr th {\n        vertical-align: top;\n    }\n\n    .dataframe thead th {\n        text-align: right;\n    }\n</style>\n<table border=\"1\" class=\"dataframe\">\n  <thead>\n    <tr style=\"text-align: right;\">\n      <th></th>\n      <th>A</th>\n      <th>B</th>\n      <th>C</th>\n      <th>Tang</th>\n      <th>D</th>\n      <th>E</th>\n    </tr>\n  </thead>\n  <tbody>\n    <tr>\n      <th>k</th>\n      <td>4</td>\n      <td>5</td>\n      <td>6</td>\n      <td>11</td>\n      <td>12</td>\n      <td>13</td>\n    </tr>\n  </tbody>\n</table>\n</div>"
          },
          "metadata": {}
        }
      ]
    },
    {
      "cell_type": "code",
      "source": "del df6['Tang']\ndf6",
      "metadata": {
        "trusted": true
      },
      "execution_count": 227,
      "outputs": [
        {
          "execution_count": 227,
          "output_type": "execute_result",
          "data": {
            "text/plain": "   A  B  C   D   E\nk  4  5  6  12  13",
            "text/html": "<div>\n<style scoped>\n    .dataframe tbody tr th:only-of-type {\n        vertical-align: middle;\n    }\n\n    .dataframe tbody tr th {\n        vertical-align: top;\n    }\n\n    .dataframe thead th {\n        text-align: right;\n    }\n</style>\n<table border=\"1\" class=\"dataframe\">\n  <thead>\n    <tr style=\"text-align: right;\">\n      <th></th>\n      <th>A</th>\n      <th>B</th>\n      <th>C</th>\n      <th>D</th>\n      <th>E</th>\n    </tr>\n  </thead>\n  <tbody>\n    <tr>\n      <th>k</th>\n      <td>4</td>\n      <td>5</td>\n      <td>6</td>\n      <td>12</td>\n      <td>13</td>\n    </tr>\n  </tbody>\n</table>\n</div>"
          },
          "metadata": {}
        }
      ]
    },
    {
      "cell_type": "code",
      "source": "df6.drop(['A','B','C'],axis=1,inplace=True)\ndf6",
      "metadata": {
        "trusted": true
      },
      "execution_count": 228,
      "outputs": [
        {
          "execution_count": 228,
          "output_type": "execute_result",
          "data": {
            "text/plain": "    D   E\nk  12  13",
            "text/html": "<div>\n<style scoped>\n    .dataframe tbody tr th:only-of-type {\n        vertical-align: middle;\n    }\n\n    .dataframe tbody tr th {\n        vertical-align: top;\n    }\n\n    .dataframe thead th {\n        text-align: right;\n    }\n</style>\n<table border=\"1\" class=\"dataframe\">\n  <thead>\n    <tr style=\"text-align: right;\">\n      <th></th>\n      <th>D</th>\n      <th>E</th>\n    </tr>\n  </thead>\n  <tbody>\n    <tr>\n      <th>k</th>\n      <td>12</td>\n      <td>13</td>\n    </tr>\n  </tbody>\n</table>\n</div>"
          },
          "metadata": {}
        }
      ]
    },
    {
      "cell_type": "code",
      "source": "import pandas as pd",
      "metadata": {
        "trusted": true
      },
      "execution_count": 1,
      "outputs": []
    },
    {
      "cell_type": "code",
      "source": "left = pd.DataFrame({'key':['K0','K1','K2','K3'],\n                    'A':['A0','A1','A2','A3'],\n                    'B':['B0','B1','B2','B3']})\n\nright = pd.DataFrame({'key':['K0','K1','K2','K3'],\n                     'C':['C0','C1','C2','C3'],\n                     'D':['D0','D1','D2','D3']})",
      "metadata": {
        "trusted": true
      },
      "execution_count": 3,
      "outputs": []
    },
    {
      "cell_type": "code",
      "source": "left",
      "metadata": {
        "trusted": true
      },
      "execution_count": 4,
      "outputs": [
        {
          "execution_count": 4,
          "output_type": "execute_result",
          "data": {
            "text/plain": "  key   A   B\n0  K0  A0  B0\n1  K1  A1  B1\n2  K2  A2  B2\n3  K3  A3  B3",
            "text/html": "<div>\n<style scoped>\n    .dataframe tbody tr th:only-of-type {\n        vertical-align: middle;\n    }\n\n    .dataframe tbody tr th {\n        vertical-align: top;\n    }\n\n    .dataframe thead th {\n        text-align: right;\n    }\n</style>\n<table border=\"1\" class=\"dataframe\">\n  <thead>\n    <tr style=\"text-align: right;\">\n      <th></th>\n      <th>key</th>\n      <th>A</th>\n      <th>B</th>\n    </tr>\n  </thead>\n  <tbody>\n    <tr>\n      <th>0</th>\n      <td>K0</td>\n      <td>A0</td>\n      <td>B0</td>\n    </tr>\n    <tr>\n      <th>1</th>\n      <td>K1</td>\n      <td>A1</td>\n      <td>B1</td>\n    </tr>\n    <tr>\n      <th>2</th>\n      <td>K2</td>\n      <td>A2</td>\n      <td>B2</td>\n    </tr>\n    <tr>\n      <th>3</th>\n      <td>K3</td>\n      <td>A3</td>\n      <td>B3</td>\n    </tr>\n  </tbody>\n</table>\n</div>"
          },
          "metadata": {}
        }
      ]
    },
    {
      "cell_type": "code",
      "source": "right",
      "metadata": {
        "trusted": true
      },
      "execution_count": 5,
      "outputs": [
        {
          "execution_count": 5,
          "output_type": "execute_result",
          "data": {
            "text/plain": "  key   C   D\n0  K0  C0  D0\n1  K1  C1  D1\n2  K2  C2  D2\n3  K3  C3  D3",
            "text/html": "<div>\n<style scoped>\n    .dataframe tbody tr th:only-of-type {\n        vertical-align: middle;\n    }\n\n    .dataframe tbody tr th {\n        vertical-align: top;\n    }\n\n    .dataframe thead th {\n        text-align: right;\n    }\n</style>\n<table border=\"1\" class=\"dataframe\">\n  <thead>\n    <tr style=\"text-align: right;\">\n      <th></th>\n      <th>key</th>\n      <th>C</th>\n      <th>D</th>\n    </tr>\n  </thead>\n  <tbody>\n    <tr>\n      <th>0</th>\n      <td>K0</td>\n      <td>C0</td>\n      <td>D0</td>\n    </tr>\n    <tr>\n      <th>1</th>\n      <td>K1</td>\n      <td>C1</td>\n      <td>D1</td>\n    </tr>\n    <tr>\n      <th>2</th>\n      <td>K2</td>\n      <td>C2</td>\n      <td>D2</td>\n    </tr>\n    <tr>\n      <th>3</th>\n      <td>K3</td>\n      <td>C3</td>\n      <td>D3</td>\n    </tr>\n  </tbody>\n</table>\n</div>"
          },
          "metadata": {}
        }
      ]
    },
    {
      "cell_type": "code",
      "source": "pd.merge(left,right)",
      "metadata": {
        "trusted": true
      },
      "execution_count": 6,
      "outputs": [
        {
          "execution_count": 6,
          "output_type": "execute_result",
          "data": {
            "text/plain": "  key   A   B   C   D\n0  K0  A0  B0  C0  D0\n1  K1  A1  B1  C1  D1\n2  K2  A2  B2  C2  D2\n3  K3  A3  B3  C3  D3",
            "text/html": "<div>\n<style scoped>\n    .dataframe tbody tr th:only-of-type {\n        vertical-align: middle;\n    }\n\n    .dataframe tbody tr th {\n        vertical-align: top;\n    }\n\n    .dataframe thead th {\n        text-align: right;\n    }\n</style>\n<table border=\"1\" class=\"dataframe\">\n  <thead>\n    <tr style=\"text-align: right;\">\n      <th></th>\n      <th>key</th>\n      <th>A</th>\n      <th>B</th>\n      <th>C</th>\n      <th>D</th>\n    </tr>\n  </thead>\n  <tbody>\n    <tr>\n      <th>0</th>\n      <td>K0</td>\n      <td>A0</td>\n      <td>B0</td>\n      <td>C0</td>\n      <td>D0</td>\n    </tr>\n    <tr>\n      <th>1</th>\n      <td>K1</td>\n      <td>A1</td>\n      <td>B1</td>\n      <td>C1</td>\n      <td>D1</td>\n    </tr>\n    <tr>\n      <th>2</th>\n      <td>K2</td>\n      <td>A2</td>\n      <td>B2</td>\n      <td>C2</td>\n      <td>D2</td>\n    </tr>\n    <tr>\n      <th>3</th>\n      <td>K3</td>\n      <td>A3</td>\n      <td>B3</td>\n      <td>C3</td>\n      <td>D3</td>\n    </tr>\n  </tbody>\n</table>\n</div>"
          },
          "metadata": {}
        }
      ]
    },
    {
      "cell_type": "code",
      "source": "# Column or index level names to join on. These must be found in both DataFrames.\npd.merge(left,right,on='key')",
      "metadata": {
        "trusted": true
      },
      "execution_count": 10,
      "outputs": [
        {
          "execution_count": 10,
          "output_type": "execute_result",
          "data": {
            "text/plain": "  key   A   B   C   D\n0  K0  A0  B0  C0  D0\n1  K1  A1  B1  C1  D1\n2  K2  A2  B2  C2  D2\n3  K3  A3  B3  C3  D3",
            "text/html": "<div>\n<style scoped>\n    .dataframe tbody tr th:only-of-type {\n        vertical-align: middle;\n    }\n\n    .dataframe tbody tr th {\n        vertical-align: top;\n    }\n\n    .dataframe thead th {\n        text-align: right;\n    }\n</style>\n<table border=\"1\" class=\"dataframe\">\n  <thead>\n    <tr style=\"text-align: right;\">\n      <th></th>\n      <th>key</th>\n      <th>A</th>\n      <th>B</th>\n      <th>C</th>\n      <th>D</th>\n    </tr>\n  </thead>\n  <tbody>\n    <tr>\n      <th>0</th>\n      <td>K0</td>\n      <td>A0</td>\n      <td>B0</td>\n      <td>C0</td>\n      <td>D0</td>\n    </tr>\n    <tr>\n      <th>1</th>\n      <td>K1</td>\n      <td>A1</td>\n      <td>B1</td>\n      <td>C1</td>\n      <td>D1</td>\n    </tr>\n    <tr>\n      <th>2</th>\n      <td>K2</td>\n      <td>A2</td>\n      <td>B2</td>\n      <td>C2</td>\n      <td>D2</td>\n    </tr>\n    <tr>\n      <th>3</th>\n      <td>K3</td>\n      <td>A3</td>\n      <td>B3</td>\n      <td>C3</td>\n      <td>D3</td>\n    </tr>\n  </tbody>\n</table>\n</div>"
          },
          "metadata": {}
        }
      ]
    },
    {
      "cell_type": "code",
      "source": "left = pd.DataFrame({'key1':['K0','K1','K2','K3'],\n                     'key2':['K0','K1','K2','K3'],\n                    'A':['A0','A1','A2','A3'],\n                    'B':['B0','B1','B2','B3']})\n\nright = pd.DataFrame({'key1':['K0','K1','K2','K3'],\n                      'key2':['K0','K1','K2','K4'],\n                     'C':['C0','C1','C2','C3'],\n                     'D':['D0','D1','D2','D3']})",
      "metadata": {
        "trusted": true
      },
      "execution_count": 13,
      "outputs": []
    },
    {
      "cell_type": "code",
      "source": "left",
      "metadata": {
        "trusted": true
      },
      "execution_count": 14,
      "outputs": [
        {
          "execution_count": 14,
          "output_type": "execute_result",
          "data": {
            "text/plain": "  key1 key2   A   B\n0   K0   K0  A0  B0\n1   K1   K1  A1  B1\n2   K2   K2  A2  B2\n3   K3   K3  A3  B3",
            "text/html": "<div>\n<style scoped>\n    .dataframe tbody tr th:only-of-type {\n        vertical-align: middle;\n    }\n\n    .dataframe tbody tr th {\n        vertical-align: top;\n    }\n\n    .dataframe thead th {\n        text-align: right;\n    }\n</style>\n<table border=\"1\" class=\"dataframe\">\n  <thead>\n    <tr style=\"text-align: right;\">\n      <th></th>\n      <th>key1</th>\n      <th>key2</th>\n      <th>A</th>\n      <th>B</th>\n    </tr>\n  </thead>\n  <tbody>\n    <tr>\n      <th>0</th>\n      <td>K0</td>\n      <td>K0</td>\n      <td>A0</td>\n      <td>B0</td>\n    </tr>\n    <tr>\n      <th>1</th>\n      <td>K1</td>\n      <td>K1</td>\n      <td>A1</td>\n      <td>B1</td>\n    </tr>\n    <tr>\n      <th>2</th>\n      <td>K2</td>\n      <td>K2</td>\n      <td>A2</td>\n      <td>B2</td>\n    </tr>\n    <tr>\n      <th>3</th>\n      <td>K3</td>\n      <td>K3</td>\n      <td>A3</td>\n      <td>B3</td>\n    </tr>\n  </tbody>\n</table>\n</div>"
          },
          "metadata": {}
        }
      ]
    },
    {
      "cell_type": "code",
      "source": "right",
      "metadata": {
        "trusted": true
      },
      "execution_count": 15,
      "outputs": [
        {
          "execution_count": 15,
          "output_type": "execute_result",
          "data": {
            "text/plain": "  key1 key2   C   D\n0   K0   K0  C0  D0\n1   K1   K1  C1  D1\n2   K2   K2  C2  D2\n3   K3   K4  C3  D3",
            "text/html": "<div>\n<style scoped>\n    .dataframe tbody tr th:only-of-type {\n        vertical-align: middle;\n    }\n\n    .dataframe tbody tr th {\n        vertical-align: top;\n    }\n\n    .dataframe thead th {\n        text-align: right;\n    }\n</style>\n<table border=\"1\" class=\"dataframe\">\n  <thead>\n    <tr style=\"text-align: right;\">\n      <th></th>\n      <th>key1</th>\n      <th>key2</th>\n      <th>C</th>\n      <th>D</th>\n    </tr>\n  </thead>\n  <tbody>\n    <tr>\n      <th>0</th>\n      <td>K0</td>\n      <td>K0</td>\n      <td>C0</td>\n      <td>D0</td>\n    </tr>\n    <tr>\n      <th>1</th>\n      <td>K1</td>\n      <td>K1</td>\n      <td>C1</td>\n      <td>D1</td>\n    </tr>\n    <tr>\n      <th>2</th>\n      <td>K2</td>\n      <td>K2</td>\n      <td>C2</td>\n      <td>D2</td>\n    </tr>\n    <tr>\n      <th>3</th>\n      <td>K3</td>\n      <td>K4</td>\n      <td>C3</td>\n      <td>D3</td>\n    </tr>\n  </tbody>\n</table>\n</div>"
          },
          "metadata": {}
        }
      ]
    },
    {
      "cell_type": "code",
      "source": "pd.merge(left,right,on='key1')",
      "metadata": {
        "trusted": true
      },
      "execution_count": 16,
      "outputs": [
        {
          "execution_count": 16,
          "output_type": "execute_result",
          "data": {
            "text/plain": "  key1 key2_x   A   B key2_y   C   D\n0   K0     K0  A0  B0     K0  C0  D0\n1   K1     K1  A1  B1     K1  C1  D1\n2   K2     K2  A2  B2     K2  C2  D2\n3   K3     K3  A3  B3     K4  C3  D3",
            "text/html": "<div>\n<style scoped>\n    .dataframe tbody tr th:only-of-type {\n        vertical-align: middle;\n    }\n\n    .dataframe tbody tr th {\n        vertical-align: top;\n    }\n\n    .dataframe thead th {\n        text-align: right;\n    }\n</style>\n<table border=\"1\" class=\"dataframe\">\n  <thead>\n    <tr style=\"text-align: right;\">\n      <th></th>\n      <th>key1</th>\n      <th>key2_x</th>\n      <th>A</th>\n      <th>B</th>\n      <th>key2_y</th>\n      <th>C</th>\n      <th>D</th>\n    </tr>\n  </thead>\n  <tbody>\n    <tr>\n      <th>0</th>\n      <td>K0</td>\n      <td>K0</td>\n      <td>A0</td>\n      <td>B0</td>\n      <td>K0</td>\n      <td>C0</td>\n      <td>D0</td>\n    </tr>\n    <tr>\n      <th>1</th>\n      <td>K1</td>\n      <td>K1</td>\n      <td>A1</td>\n      <td>B1</td>\n      <td>K1</td>\n      <td>C1</td>\n      <td>D1</td>\n    </tr>\n    <tr>\n      <th>2</th>\n      <td>K2</td>\n      <td>K2</td>\n      <td>A2</td>\n      <td>B2</td>\n      <td>K2</td>\n      <td>C2</td>\n      <td>D2</td>\n    </tr>\n    <tr>\n      <th>3</th>\n      <td>K3</td>\n      <td>K3</td>\n      <td>A3</td>\n      <td>B3</td>\n      <td>K4</td>\n      <td>C3</td>\n      <td>D3</td>\n    </tr>\n  </tbody>\n</table>\n</div>"
          },
          "metadata": {}
        }
      ]
    },
    {
      "cell_type": "code",
      "source": "pd.merge(left,right,on=['key1','key2'])",
      "metadata": {
        "trusted": true
      },
      "execution_count": 17,
      "outputs": [
        {
          "execution_count": 17,
          "output_type": "execute_result",
          "data": {
            "text/plain": "  key1 key2   A   B   C   D\n0   K0   K0  A0  B0  C0  D0\n1   K1   K1  A1  B1  C1  D1\n2   K2   K2  A2  B2  C2  D2",
            "text/html": "<div>\n<style scoped>\n    .dataframe tbody tr th:only-of-type {\n        vertical-align: middle;\n    }\n\n    .dataframe tbody tr th {\n        vertical-align: top;\n    }\n\n    .dataframe thead th {\n        text-align: right;\n    }\n</style>\n<table border=\"1\" class=\"dataframe\">\n  <thead>\n    <tr style=\"text-align: right;\">\n      <th></th>\n      <th>key1</th>\n      <th>key2</th>\n      <th>A</th>\n      <th>B</th>\n      <th>C</th>\n      <th>D</th>\n    </tr>\n  </thead>\n  <tbody>\n    <tr>\n      <th>0</th>\n      <td>K0</td>\n      <td>K0</td>\n      <td>A0</td>\n      <td>B0</td>\n      <td>C0</td>\n      <td>D0</td>\n    </tr>\n    <tr>\n      <th>1</th>\n      <td>K1</td>\n      <td>K1</td>\n      <td>A1</td>\n      <td>B1</td>\n      <td>C1</td>\n      <td>D1</td>\n    </tr>\n    <tr>\n      <th>2</th>\n      <td>K2</td>\n      <td>K2</td>\n      <td>A2</td>\n      <td>B2</td>\n      <td>C2</td>\n      <td>D2</td>\n    </tr>\n  </tbody>\n</table>\n</div>"
          },
          "metadata": {}
        }
      ]
    },
    {
      "cell_type": "code",
      "source": "# outer: use union of keys from both frames, similar to a SQL full outer join; sort keys lexicographically.\npd.merge(left,right,on=['key1','key2'],how='outer')",
      "metadata": {
        "trusted": true
      },
      "execution_count": 18,
      "outputs": [
        {
          "execution_count": 18,
          "output_type": "execute_result",
          "data": {
            "text/plain": "  key1 key2    A    B    C    D\n0   K0   K0   A0   B0   C0   D0\n1   K1   K1   A1   B1   C1   D1\n2   K2   K2   A2   B2   C2   D2\n3   K3   K3   A3   B3  NaN  NaN\n4   K3   K4  NaN  NaN   C3   D3",
            "text/html": "<div>\n<style scoped>\n    .dataframe tbody tr th:only-of-type {\n        vertical-align: middle;\n    }\n\n    .dataframe tbody tr th {\n        vertical-align: top;\n    }\n\n    .dataframe thead th {\n        text-align: right;\n    }\n</style>\n<table border=\"1\" class=\"dataframe\">\n  <thead>\n    <tr style=\"text-align: right;\">\n      <th></th>\n      <th>key1</th>\n      <th>key2</th>\n      <th>A</th>\n      <th>B</th>\n      <th>C</th>\n      <th>D</th>\n    </tr>\n  </thead>\n  <tbody>\n    <tr>\n      <th>0</th>\n      <td>K0</td>\n      <td>K0</td>\n      <td>A0</td>\n      <td>B0</td>\n      <td>C0</td>\n      <td>D0</td>\n    </tr>\n    <tr>\n      <th>1</th>\n      <td>K1</td>\n      <td>K1</td>\n      <td>A1</td>\n      <td>B1</td>\n      <td>C1</td>\n      <td>D1</td>\n    </tr>\n    <tr>\n      <th>2</th>\n      <td>K2</td>\n      <td>K2</td>\n      <td>A2</td>\n      <td>B2</td>\n      <td>C2</td>\n      <td>D2</td>\n    </tr>\n    <tr>\n      <th>3</th>\n      <td>K3</td>\n      <td>K3</td>\n      <td>A3</td>\n      <td>B3</td>\n      <td>NaN</td>\n      <td>NaN</td>\n    </tr>\n    <tr>\n      <th>4</th>\n      <td>K3</td>\n      <td>K4</td>\n      <td>NaN</td>\n      <td>NaN</td>\n      <td>C3</td>\n      <td>D3</td>\n    </tr>\n  </tbody>\n</table>\n</div>"
          },
          "metadata": {}
        }
      ]
    },
    {
      "cell_type": "code",
      "source": "# If True, adds a column to the output DataFrame called “_merge” with information on the source of each row.\npd.merge(left,right,on=['key1','key2'],how='outer',indicator=True)",
      "metadata": {
        "trusted": true
      },
      "execution_count": 19,
      "outputs": [
        {
          "execution_count": 19,
          "output_type": "execute_result",
          "data": {
            "text/plain": "  key1 key2    A    B    C    D      _merge\n0   K0   K0   A0   B0   C0   D0        both\n1   K1   K1   A1   B1   C1   D1        both\n2   K2   K2   A2   B2   C2   D2        both\n3   K3   K3   A3   B3  NaN  NaN   left_only\n4   K3   K4  NaN  NaN   C3   D3  right_only",
            "text/html": "<div>\n<style scoped>\n    .dataframe tbody tr th:only-of-type {\n        vertical-align: middle;\n    }\n\n    .dataframe tbody tr th {\n        vertical-align: top;\n    }\n\n    .dataframe thead th {\n        text-align: right;\n    }\n</style>\n<table border=\"1\" class=\"dataframe\">\n  <thead>\n    <tr style=\"text-align: right;\">\n      <th></th>\n      <th>key1</th>\n      <th>key2</th>\n      <th>A</th>\n      <th>B</th>\n      <th>C</th>\n      <th>D</th>\n      <th>_merge</th>\n    </tr>\n  </thead>\n  <tbody>\n    <tr>\n      <th>0</th>\n      <td>K0</td>\n      <td>K0</td>\n      <td>A0</td>\n      <td>B0</td>\n      <td>C0</td>\n      <td>D0</td>\n      <td>both</td>\n    </tr>\n    <tr>\n      <th>1</th>\n      <td>K1</td>\n      <td>K1</td>\n      <td>A1</td>\n      <td>B1</td>\n      <td>C1</td>\n      <td>D1</td>\n      <td>both</td>\n    </tr>\n    <tr>\n      <th>2</th>\n      <td>K2</td>\n      <td>K2</td>\n      <td>A2</td>\n      <td>B2</td>\n      <td>C2</td>\n      <td>D2</td>\n      <td>both</td>\n    </tr>\n    <tr>\n      <th>3</th>\n      <td>K3</td>\n      <td>K3</td>\n      <td>A3</td>\n      <td>B3</td>\n      <td>NaN</td>\n      <td>NaN</td>\n      <td>left_only</td>\n    </tr>\n    <tr>\n      <th>4</th>\n      <td>K3</td>\n      <td>K4</td>\n      <td>NaN</td>\n      <td>NaN</td>\n      <td>C3</td>\n      <td>D3</td>\n      <td>right_only</td>\n    </tr>\n  </tbody>\n</table>\n</div>"
          },
          "metadata": {}
        }
      ]
    },
    {
      "cell_type": "code",
      "source": "pd.merge(left,right,on=['key1','key2'],how='left')",
      "metadata": {
        "trusted": true
      },
      "execution_count": 20,
      "outputs": [
        {
          "execution_count": 20,
          "output_type": "execute_result",
          "data": {
            "text/plain": "  key1 key2   A   B    C    D\n0   K0   K0  A0  B0   C0   D0\n1   K1   K1  A1  B1   C1   D1\n2   K2   K2  A2  B2   C2   D2\n3   K3   K3  A3  B3  NaN  NaN",
            "text/html": "<div>\n<style scoped>\n    .dataframe tbody tr th:only-of-type {\n        vertical-align: middle;\n    }\n\n    .dataframe tbody tr th {\n        vertical-align: top;\n    }\n\n    .dataframe thead th {\n        text-align: right;\n    }\n</style>\n<table border=\"1\" class=\"dataframe\">\n  <thead>\n    <tr style=\"text-align: right;\">\n      <th></th>\n      <th>key1</th>\n      <th>key2</th>\n      <th>A</th>\n      <th>B</th>\n      <th>C</th>\n      <th>D</th>\n    </tr>\n  </thead>\n  <tbody>\n    <tr>\n      <th>0</th>\n      <td>K0</td>\n      <td>K0</td>\n      <td>A0</td>\n      <td>B0</td>\n      <td>C0</td>\n      <td>D0</td>\n    </tr>\n    <tr>\n      <th>1</th>\n      <td>K1</td>\n      <td>K1</td>\n      <td>A1</td>\n      <td>B1</td>\n      <td>C1</td>\n      <td>D1</td>\n    </tr>\n    <tr>\n      <th>2</th>\n      <td>K2</td>\n      <td>K2</td>\n      <td>A2</td>\n      <td>B2</td>\n      <td>C2</td>\n      <td>D2</td>\n    </tr>\n    <tr>\n      <th>3</th>\n      <td>K3</td>\n      <td>K3</td>\n      <td>A3</td>\n      <td>B3</td>\n      <td>NaN</td>\n      <td>NaN</td>\n    </tr>\n  </tbody>\n</table>\n</div>"
          },
          "metadata": {}
        }
      ]
    },
    {
      "cell_type": "code",
      "source": "pd.merge(left,right,on=['key1','key2'],how='right')",
      "metadata": {
        "trusted": true
      },
      "execution_count": 21,
      "outputs": [
        {
          "execution_count": 21,
          "output_type": "execute_result",
          "data": {
            "text/plain": "  key1 key2    A    B   C   D\n0   K0   K0   A0   B0  C0  D0\n1   K1   K1   A1   B1  C1  D1\n2   K2   K2   A2   B2  C2  D2\n3   K3   K4  NaN  NaN  C3  D3",
            "text/html": "<div>\n<style scoped>\n    .dataframe tbody tr th:only-of-type {\n        vertical-align: middle;\n    }\n\n    .dataframe tbody tr th {\n        vertical-align: top;\n    }\n\n    .dataframe thead th {\n        text-align: right;\n    }\n</style>\n<table border=\"1\" class=\"dataframe\">\n  <thead>\n    <tr style=\"text-align: right;\">\n      <th></th>\n      <th>key1</th>\n      <th>key2</th>\n      <th>A</th>\n      <th>B</th>\n      <th>C</th>\n      <th>D</th>\n    </tr>\n  </thead>\n  <tbody>\n    <tr>\n      <th>0</th>\n      <td>K0</td>\n      <td>K0</td>\n      <td>A0</td>\n      <td>B0</td>\n      <td>C0</td>\n      <td>D0</td>\n    </tr>\n    <tr>\n      <th>1</th>\n      <td>K1</td>\n      <td>K1</td>\n      <td>A1</td>\n      <td>B1</td>\n      <td>C1</td>\n      <td>D1</td>\n    </tr>\n    <tr>\n      <th>2</th>\n      <td>K2</td>\n      <td>K2</td>\n      <td>A2</td>\n      <td>B2</td>\n      <td>C2</td>\n      <td>D2</td>\n    </tr>\n    <tr>\n      <th>3</th>\n      <td>K3</td>\n      <td>K4</td>\n      <td>NaN</td>\n      <td>NaN</td>\n      <td>C3</td>\n      <td>D3</td>\n    </tr>\n  </tbody>\n</table>\n</div>"
          },
          "metadata": {}
        }
      ]
    },
    {
      "cell_type": "code",
      "source": "import pandas as pd\n\nleft = pd.DataFrame({'key': ['K0', 'K1', 'K2', 'K3'],\n                    'A': ['A0', 'A1', 'A2', 'A3'], \n                    'B': ['B0', 'B1', 'B2', 'B3']})\nright = pd.DataFrame({'key': ['K0', 'K1', 'K2', 'K3'],\n                    'C': ['C0', 'C1', 'C2', 'C3'], \n                    'D': ['D0', 'D1', 'D2', 'D3']})",
      "metadata": {
        "trusted": true
      },
      "execution_count": 22,
      "outputs": []
    },
    {
      "cell_type": "code",
      "source": "left",
      "metadata": {
        "trusted": true
      },
      "execution_count": 23,
      "outputs": [
        {
          "execution_count": 23,
          "output_type": "execute_result",
          "data": {
            "text/plain": "  key   A   B\n0  K0  A0  B0\n1  K1  A1  B1\n2  K2  A2  B2\n3  K3  A3  B3",
            "text/html": "<div>\n<style scoped>\n    .dataframe tbody tr th:only-of-type {\n        vertical-align: middle;\n    }\n\n    .dataframe tbody tr th {\n        vertical-align: top;\n    }\n\n    .dataframe thead th {\n        text-align: right;\n    }\n</style>\n<table border=\"1\" class=\"dataframe\">\n  <thead>\n    <tr style=\"text-align: right;\">\n      <th></th>\n      <th>key</th>\n      <th>A</th>\n      <th>B</th>\n    </tr>\n  </thead>\n  <tbody>\n    <tr>\n      <th>0</th>\n      <td>K0</td>\n      <td>A0</td>\n      <td>B0</td>\n    </tr>\n    <tr>\n      <th>1</th>\n      <td>K1</td>\n      <td>A1</td>\n      <td>B1</td>\n    </tr>\n    <tr>\n      <th>2</th>\n      <td>K2</td>\n      <td>A2</td>\n      <td>B2</td>\n    </tr>\n    <tr>\n      <th>3</th>\n      <td>K3</td>\n      <td>A3</td>\n      <td>B3</td>\n    </tr>\n  </tbody>\n</table>\n</div>"
          },
          "metadata": {}
        }
      ]
    },
    {
      "cell_type": "code",
      "source": "right ",
      "metadata": {
        "trusted": true
      },
      "execution_count": 24,
      "outputs": [
        {
          "execution_count": 24,
          "output_type": "execute_result",
          "data": {
            "text/plain": "  key   C   D\n0  K0  C0  D0\n1  K1  C1  D1\n2  K2  C2  D2\n3  K3  C3  D3",
            "text/html": "<div>\n<style scoped>\n    .dataframe tbody tr th:only-of-type {\n        vertical-align: middle;\n    }\n\n    .dataframe tbody tr th {\n        vertical-align: top;\n    }\n\n    .dataframe thead th {\n        text-align: right;\n    }\n</style>\n<table border=\"1\" class=\"dataframe\">\n  <thead>\n    <tr style=\"text-align: right;\">\n      <th></th>\n      <th>key</th>\n      <th>C</th>\n      <th>D</th>\n    </tr>\n  </thead>\n  <tbody>\n    <tr>\n      <th>0</th>\n      <td>K0</td>\n      <td>C0</td>\n      <td>D0</td>\n    </tr>\n    <tr>\n      <th>1</th>\n      <td>K1</td>\n      <td>C1</td>\n      <td>D1</td>\n    </tr>\n    <tr>\n      <th>2</th>\n      <td>K2</td>\n      <td>C2</td>\n      <td>D2</td>\n    </tr>\n    <tr>\n      <th>3</th>\n      <td>K3</td>\n      <td>C3</td>\n      <td>D3</td>\n    </tr>\n  </tbody>\n</table>\n</div>"
          },
          "metadata": {}
        }
      ]
    },
    {
      "cell_type": "code",
      "source": "res = pd.merge(left,right)\nres",
      "metadata": {
        "trusted": true
      },
      "execution_count": 26,
      "outputs": [
        {
          "execution_count": 26,
          "output_type": "execute_result",
          "data": {
            "text/plain": "  key   A   B   C   D\n0  K0  A0  B0  C0  D0\n1  K1  A1  B1  C1  D1\n2  K2  A2  B2  C2  D2\n3  K3  A3  B3  C3  D3",
            "text/html": "<div>\n<style scoped>\n    .dataframe tbody tr th:only-of-type {\n        vertical-align: middle;\n    }\n\n    .dataframe tbody tr th {\n        vertical-align: top;\n    }\n\n    .dataframe thead th {\n        text-align: right;\n    }\n</style>\n<table border=\"1\" class=\"dataframe\">\n  <thead>\n    <tr style=\"text-align: right;\">\n      <th></th>\n      <th>key</th>\n      <th>A</th>\n      <th>B</th>\n      <th>C</th>\n      <th>D</th>\n    </tr>\n  </thead>\n  <tbody>\n    <tr>\n      <th>0</th>\n      <td>K0</td>\n      <td>A0</td>\n      <td>B0</td>\n      <td>C0</td>\n      <td>D0</td>\n    </tr>\n    <tr>\n      <th>1</th>\n      <td>K1</td>\n      <td>A1</td>\n      <td>B1</td>\n      <td>C1</td>\n      <td>D1</td>\n    </tr>\n    <tr>\n      <th>2</th>\n      <td>K2</td>\n      <td>A2</td>\n      <td>B2</td>\n      <td>C2</td>\n      <td>D2</td>\n    </tr>\n    <tr>\n      <th>3</th>\n      <td>K3</td>\n      <td>A3</td>\n      <td>B3</td>\n      <td>C3</td>\n      <td>D3</td>\n    </tr>\n  </tbody>\n</table>\n</div>"
          },
          "metadata": {}
        }
      ]
    },
    {
      "cell_type": "code",
      "source": "res = pd.merge(left, right, on = 'key')\nres",
      "metadata": {
        "trusted": true
      },
      "execution_count": 27,
      "outputs": [
        {
          "execution_count": 27,
          "output_type": "execute_result",
          "data": {
            "text/plain": "  key   A   B   C   D\n0  K0  A0  B0  C0  D0\n1  K1  A1  B1  C1  D1\n2  K2  A2  B2  C2  D2\n3  K3  A3  B3  C3  D3",
            "text/html": "<div>\n<style scoped>\n    .dataframe tbody tr th:only-of-type {\n        vertical-align: middle;\n    }\n\n    .dataframe tbody tr th {\n        vertical-align: top;\n    }\n\n    .dataframe thead th {\n        text-align: right;\n    }\n</style>\n<table border=\"1\" class=\"dataframe\">\n  <thead>\n    <tr style=\"text-align: right;\">\n      <th></th>\n      <th>key</th>\n      <th>A</th>\n      <th>B</th>\n      <th>C</th>\n      <th>D</th>\n    </tr>\n  </thead>\n  <tbody>\n    <tr>\n      <th>0</th>\n      <td>K0</td>\n      <td>A0</td>\n      <td>B0</td>\n      <td>C0</td>\n      <td>D0</td>\n    </tr>\n    <tr>\n      <th>1</th>\n      <td>K1</td>\n      <td>A1</td>\n      <td>B1</td>\n      <td>C1</td>\n      <td>D1</td>\n    </tr>\n    <tr>\n      <th>2</th>\n      <td>K2</td>\n      <td>A2</td>\n      <td>B2</td>\n      <td>C2</td>\n      <td>D2</td>\n    </tr>\n    <tr>\n      <th>3</th>\n      <td>K3</td>\n      <td>A3</td>\n      <td>B3</td>\n      <td>C3</td>\n      <td>D3</td>\n    </tr>\n  </tbody>\n</table>\n</div>"
          },
          "metadata": {}
        }
      ]
    },
    {
      "cell_type": "code",
      "source": "left = pd.DataFrame({'key1': ['K0', 'K1', 'K2', 'K3'],\n                     'key2': ['K0', 'K1', 'K2', 'K3'],\n                    'A': ['A0', 'A1', 'A2', 'A3'], \n                    'B': ['B0', 'B1', 'B2', 'B3']})\nright = pd.DataFrame({'key1': ['K0', 'K1', 'K2', 'K3'],\n                      'key2': ['K0', 'K1', 'K2', 'K4'],\n                    'C': ['C0', 'C1', 'C2', 'C3'], \n                    'D': ['D0', 'D1', 'D2', 'D3']})\n\nprint (left)\nprint (right)",
      "metadata": {
        "trusted": true
      },
      "execution_count": 28,
      "outputs": [
        {
          "name": "stdout",
          "text": "  key1 key2   A   B\n0   K0   K0  A0  B0\n1   K1   K1  A1  B1\n2   K2   K2  A2  B2\n3   K3   K3  A3  B3\n  key1 key2   C   D\n0   K0   K0  C0  D0\n1   K1   K1  C1  D1\n2   K2   K2  C2  D2\n3   K3   K4  C3  D3\n",
          "output_type": "stream"
        }
      ]
    },
    {
      "cell_type": "code",
      "source": "res = pd.merge(left, right, on = ['key1','key2'])\nres",
      "metadata": {
        "trusted": true
      },
      "execution_count": 29,
      "outputs": [
        {
          "execution_count": 29,
          "output_type": "execute_result",
          "data": {
            "text/plain": "  key1 key2   A   B   C   D\n0   K0   K0  A0  B0  C0  D0\n1   K1   K1  A1  B1  C1  D1\n2   K2   K2  A2  B2  C2  D2",
            "text/html": "<div>\n<style scoped>\n    .dataframe tbody tr th:only-of-type {\n        vertical-align: middle;\n    }\n\n    .dataframe tbody tr th {\n        vertical-align: top;\n    }\n\n    .dataframe thead th {\n        text-align: right;\n    }\n</style>\n<table border=\"1\" class=\"dataframe\">\n  <thead>\n    <tr style=\"text-align: right;\">\n      <th></th>\n      <th>key1</th>\n      <th>key2</th>\n      <th>A</th>\n      <th>B</th>\n      <th>C</th>\n      <th>D</th>\n    </tr>\n  </thead>\n  <tbody>\n    <tr>\n      <th>0</th>\n      <td>K0</td>\n      <td>K0</td>\n      <td>A0</td>\n      <td>B0</td>\n      <td>C0</td>\n      <td>D0</td>\n    </tr>\n    <tr>\n      <th>1</th>\n      <td>K1</td>\n      <td>K1</td>\n      <td>A1</td>\n      <td>B1</td>\n      <td>C1</td>\n      <td>D1</td>\n    </tr>\n    <tr>\n      <th>2</th>\n      <td>K2</td>\n      <td>K2</td>\n      <td>A2</td>\n      <td>B2</td>\n      <td>C2</td>\n      <td>D2</td>\n    </tr>\n  </tbody>\n</table>\n</div>"
          },
          "metadata": {}
        }
      ]
    },
    {
      "cell_type": "code",
      "source": "res = pd.merge(left, right, on =['key1','key2'],how='outer')\nres",
      "metadata": {
        "trusted": true
      },
      "execution_count": 30,
      "outputs": [
        {
          "execution_count": 30,
          "output_type": "execute_result",
          "data": {
            "text/plain": "  key1 key2    A    B    C    D\n0   K0   K0   A0   B0   C0   D0\n1   K1   K1   A1   B1   C1   D1\n2   K2   K2   A2   B2   C2   D2\n3   K3   K3   A3   B3  NaN  NaN\n4   K3   K4  NaN  NaN   C3   D3",
            "text/html": "<div>\n<style scoped>\n    .dataframe tbody tr th:only-of-type {\n        vertical-align: middle;\n    }\n\n    .dataframe tbody tr th {\n        vertical-align: top;\n    }\n\n    .dataframe thead th {\n        text-align: right;\n    }\n</style>\n<table border=\"1\" class=\"dataframe\">\n  <thead>\n    <tr style=\"text-align: right;\">\n      <th></th>\n      <th>key1</th>\n      <th>key2</th>\n      <th>A</th>\n      <th>B</th>\n      <th>C</th>\n      <th>D</th>\n    </tr>\n  </thead>\n  <tbody>\n    <tr>\n      <th>0</th>\n      <td>K0</td>\n      <td>K0</td>\n      <td>A0</td>\n      <td>B0</td>\n      <td>C0</td>\n      <td>D0</td>\n    </tr>\n    <tr>\n      <th>1</th>\n      <td>K1</td>\n      <td>K1</td>\n      <td>A1</td>\n      <td>B1</td>\n      <td>C1</td>\n      <td>D1</td>\n    </tr>\n    <tr>\n      <th>2</th>\n      <td>K2</td>\n      <td>K2</td>\n      <td>A2</td>\n      <td>B2</td>\n      <td>C2</td>\n      <td>D2</td>\n    </tr>\n    <tr>\n      <th>3</th>\n      <td>K3</td>\n      <td>K3</td>\n      <td>A3</td>\n      <td>B3</td>\n      <td>NaN</td>\n      <td>NaN</td>\n    </tr>\n    <tr>\n      <th>4</th>\n      <td>K3</td>\n      <td>K4</td>\n      <td>NaN</td>\n      <td>NaN</td>\n      <td>C3</td>\n      <td>D3</td>\n    </tr>\n  </tbody>\n</table>\n</div>"
          },
          "metadata": {}
        }
      ]
    },
    {
      "cell_type": "code",
      "source": "res = pd.merge(left, right, on =['key1','key2'],how = 'outer', indicator = True)\nres",
      "metadata": {
        "trusted": true
      },
      "execution_count": 31,
      "outputs": [
        {
          "execution_count": 31,
          "output_type": "execute_result",
          "data": {
            "text/plain": "  key1 key2    A    B    C    D      _merge\n0   K0   K0   A0   B0   C0   D0        both\n1   K1   K1   A1   B1   C1   D1        both\n2   K2   K2   A2   B2   C2   D2        both\n3   K3   K3   A3   B3  NaN  NaN   left_only\n4   K3   K4  NaN  NaN   C3   D3  right_only",
            "text/html": "<div>\n<style scoped>\n    .dataframe tbody tr th:only-of-type {\n        vertical-align: middle;\n    }\n\n    .dataframe tbody tr th {\n        vertical-align: top;\n    }\n\n    .dataframe thead th {\n        text-align: right;\n    }\n</style>\n<table border=\"1\" class=\"dataframe\">\n  <thead>\n    <tr style=\"text-align: right;\">\n      <th></th>\n      <th>key1</th>\n      <th>key2</th>\n      <th>A</th>\n      <th>B</th>\n      <th>C</th>\n      <th>D</th>\n      <th>_merge</th>\n    </tr>\n  </thead>\n  <tbody>\n    <tr>\n      <th>0</th>\n      <td>K0</td>\n      <td>K0</td>\n      <td>A0</td>\n      <td>B0</td>\n      <td>C0</td>\n      <td>D0</td>\n      <td>both</td>\n    </tr>\n    <tr>\n      <th>1</th>\n      <td>K1</td>\n      <td>K1</td>\n      <td>A1</td>\n      <td>B1</td>\n      <td>C1</td>\n      <td>D1</td>\n      <td>both</td>\n    </tr>\n    <tr>\n      <th>2</th>\n      <td>K2</td>\n      <td>K2</td>\n      <td>A2</td>\n      <td>B2</td>\n      <td>C2</td>\n      <td>D2</td>\n      <td>both</td>\n    </tr>\n    <tr>\n      <th>3</th>\n      <td>K3</td>\n      <td>K3</td>\n      <td>A3</td>\n      <td>B3</td>\n      <td>NaN</td>\n      <td>NaN</td>\n      <td>left_only</td>\n    </tr>\n    <tr>\n      <th>4</th>\n      <td>K3</td>\n      <td>K4</td>\n      <td>NaN</td>\n      <td>NaN</td>\n      <td>C3</td>\n      <td>D3</td>\n      <td>right_only</td>\n    </tr>\n  </tbody>\n</table>\n</div>"
          },
          "metadata": {}
        }
      ]
    },
    {
      "cell_type": "code",
      "source": "res = pd.merge(left, right, how='left')\nres",
      "metadata": {
        "trusted": true
      },
      "execution_count": 32,
      "outputs": [
        {
          "execution_count": 32,
          "output_type": "execute_result",
          "data": {
            "text/plain": "  key1 key2   A   B    C    D\n0   K0   K0  A0  B0   C0   D0\n1   K1   K1  A1  B1   C1   D1\n2   K2   K2  A2  B2   C2   D2\n3   K3   K3  A3  B3  NaN  NaN",
            "text/html": "<div>\n<style scoped>\n    .dataframe tbody tr th:only-of-type {\n        vertical-align: middle;\n    }\n\n    .dataframe tbody tr th {\n        vertical-align: top;\n    }\n\n    .dataframe thead th {\n        text-align: right;\n    }\n</style>\n<table border=\"1\" class=\"dataframe\">\n  <thead>\n    <tr style=\"text-align: right;\">\n      <th></th>\n      <th>key1</th>\n      <th>key2</th>\n      <th>A</th>\n      <th>B</th>\n      <th>C</th>\n      <th>D</th>\n    </tr>\n  </thead>\n  <tbody>\n    <tr>\n      <th>0</th>\n      <td>K0</td>\n      <td>K0</td>\n      <td>A0</td>\n      <td>B0</td>\n      <td>C0</td>\n      <td>D0</td>\n    </tr>\n    <tr>\n      <th>1</th>\n      <td>K1</td>\n      <td>K1</td>\n      <td>A1</td>\n      <td>B1</td>\n      <td>C1</td>\n      <td>D1</td>\n    </tr>\n    <tr>\n      <th>2</th>\n      <td>K2</td>\n      <td>K2</td>\n      <td>A2</td>\n      <td>B2</td>\n      <td>C2</td>\n      <td>D2</td>\n    </tr>\n    <tr>\n      <th>3</th>\n      <td>K3</td>\n      <td>K3</td>\n      <td>A3</td>\n      <td>B3</td>\n      <td>NaN</td>\n      <td>NaN</td>\n    </tr>\n  </tbody>\n</table>\n</div>"
          },
          "metadata": {}
        }
      ]
    },
    {
      "cell_type": "code",
      "source": "res = pd.merge(left, right, how = 'right')\nres",
      "metadata": {
        "trusted": true
      },
      "execution_count": 33,
      "outputs": [
        {
          "execution_count": 33,
          "output_type": "execute_result",
          "data": {
            "text/plain": "  key1 key2    A    B   C   D\n0   K0   K0   A0   B0  C0  D0\n1   K1   K1   A1   B1  C1  D1\n2   K2   K2   A2   B2  C2  D2\n3   K3   K4  NaN  NaN  C3  D3",
            "text/html": "<div>\n<style scoped>\n    .dataframe tbody tr th:only-of-type {\n        vertical-align: middle;\n    }\n\n    .dataframe tbody tr th {\n        vertical-align: top;\n    }\n\n    .dataframe thead th {\n        text-align: right;\n    }\n</style>\n<table border=\"1\" class=\"dataframe\">\n  <thead>\n    <tr style=\"text-align: right;\">\n      <th></th>\n      <th>key1</th>\n      <th>key2</th>\n      <th>A</th>\n      <th>B</th>\n      <th>C</th>\n      <th>D</th>\n    </tr>\n  </thead>\n  <tbody>\n    <tr>\n      <th>0</th>\n      <td>K0</td>\n      <td>K0</td>\n      <td>A0</td>\n      <td>B0</td>\n      <td>C0</td>\n      <td>D0</td>\n    </tr>\n    <tr>\n      <th>1</th>\n      <td>K1</td>\n      <td>K1</td>\n      <td>A1</td>\n      <td>B1</td>\n      <td>C1</td>\n      <td>D1</td>\n    </tr>\n    <tr>\n      <th>2</th>\n      <td>K2</td>\n      <td>K2</td>\n      <td>A2</td>\n      <td>B2</td>\n      <td>C2</td>\n      <td>D2</td>\n    </tr>\n    <tr>\n      <th>3</th>\n      <td>K3</td>\n      <td>K4</td>\n      <td>NaN</td>\n      <td>NaN</td>\n      <td>C3</td>\n      <td>D3</td>\n    </tr>\n  </tbody>\n</table>\n</div>"
          },
          "metadata": {}
        }
      ]
    },
    {
      "cell_type": "code",
      "source": "left = pd.DataFrame({'A': ['A0', 'A1', 'A2', 'A3'],\n                     'B': ['B0', 'B1', 'B2', 'B3'],\n                    'key': ['K0', 'K1', 'K0', 'K1']})\nright = pd.DataFrame({'C': ['C0', 'C1'],\n                       'D': ['D0', 'D1']},\n                       index=['K0', 'K1'])",
      "metadata": {
        "trusted": true
      },
      "execution_count": 34,
      "outputs": []
    },
    {
      "cell_type": "code",
      "source": "left",
      "metadata": {
        "trusted": true
      },
      "execution_count": 35,
      "outputs": [
        {
          "execution_count": 35,
          "output_type": "execute_result",
          "data": {
            "text/plain": "    A   B key\n0  A0  B0  K0\n1  A1  B1  K1\n2  A2  B2  K0\n3  A3  B3  K1",
            "text/html": "<div>\n<style scoped>\n    .dataframe tbody tr th:only-of-type {\n        vertical-align: middle;\n    }\n\n    .dataframe tbody tr th {\n        vertical-align: top;\n    }\n\n    .dataframe thead th {\n        text-align: right;\n    }\n</style>\n<table border=\"1\" class=\"dataframe\">\n  <thead>\n    <tr style=\"text-align: right;\">\n      <th></th>\n      <th>A</th>\n      <th>B</th>\n      <th>key</th>\n    </tr>\n  </thead>\n  <tbody>\n    <tr>\n      <th>0</th>\n      <td>A0</td>\n      <td>B0</td>\n      <td>K0</td>\n    </tr>\n    <tr>\n      <th>1</th>\n      <td>A1</td>\n      <td>B1</td>\n      <td>K1</td>\n    </tr>\n    <tr>\n      <th>2</th>\n      <td>A2</td>\n      <td>B2</td>\n      <td>K0</td>\n    </tr>\n    <tr>\n      <th>3</th>\n      <td>A3</td>\n      <td>B3</td>\n      <td>K1</td>\n    </tr>\n  </tbody>\n</table>\n</div>"
          },
          "metadata": {}
        }
      ]
    },
    {
      "cell_type": "code",
      "source": "right",
      "metadata": {
        "trusted": true
      },
      "execution_count": 36,
      "outputs": [
        {
          "execution_count": 36,
          "output_type": "execute_result",
          "data": {
            "text/plain": "     C   D\nK0  C0  D0\nK1  C1  D1",
            "text/html": "<div>\n<style scoped>\n    .dataframe tbody tr th:only-of-type {\n        vertical-align: middle;\n    }\n\n    .dataframe tbody tr th {\n        vertical-align: top;\n    }\n\n    .dataframe thead th {\n        text-align: right;\n    }\n</style>\n<table border=\"1\" class=\"dataframe\">\n  <thead>\n    <tr style=\"text-align: right;\">\n      <th></th>\n      <th>C</th>\n      <th>D</th>\n    </tr>\n  </thead>\n  <tbody>\n    <tr>\n      <th>K0</th>\n      <td>C0</td>\n      <td>D0</td>\n    </tr>\n    <tr>\n      <th>K1</th>\n      <td>C1</td>\n      <td>D1</td>\n    </tr>\n  </tbody>\n</table>\n</div>"
          },
          "metadata": {}
        }
      ]
    },
    {
      "cell_type": "code",
      "source": "result = left.join(right, on='key')\nresult",
      "metadata": {
        "trusted": true
      },
      "execution_count": 38,
      "outputs": [
        {
          "execution_count": 38,
          "output_type": "execute_result",
          "data": {
            "text/plain": "    A   B key   C   D\n0  A0  B0  K0  C0  D0\n1  A1  B1  K1  C1  D1\n2  A2  B2  K0  C0  D0\n3  A3  B3  K1  C1  D1",
            "text/html": "<div>\n<style scoped>\n    .dataframe tbody tr th:only-of-type {\n        vertical-align: middle;\n    }\n\n    .dataframe tbody tr th {\n        vertical-align: top;\n    }\n\n    .dataframe thead th {\n        text-align: right;\n    }\n</style>\n<table border=\"1\" class=\"dataframe\">\n  <thead>\n    <tr style=\"text-align: right;\">\n      <th></th>\n      <th>A</th>\n      <th>B</th>\n      <th>key</th>\n      <th>C</th>\n      <th>D</th>\n    </tr>\n  </thead>\n  <tbody>\n    <tr>\n      <th>0</th>\n      <td>A0</td>\n      <td>B0</td>\n      <td>K0</td>\n      <td>C0</td>\n      <td>D0</td>\n    </tr>\n    <tr>\n      <th>1</th>\n      <td>A1</td>\n      <td>B1</td>\n      <td>K1</td>\n      <td>C1</td>\n      <td>D1</td>\n    </tr>\n    <tr>\n      <th>2</th>\n      <td>A2</td>\n      <td>B2</td>\n      <td>K0</td>\n      <td>C0</td>\n      <td>D0</td>\n    </tr>\n    <tr>\n      <th>3</th>\n      <td>A3</td>\n      <td>B3</td>\n      <td>K1</td>\n      <td>C1</td>\n      <td>D1</td>\n    </tr>\n  </tbody>\n</table>\n</div>"
          },
          "metadata": {}
        }
      ]
    },
    {
      "cell_type": "code",
      "source": "pd.get_option('display.max_rows')",
      "metadata": {
        "trusted": true
      },
      "execution_count": 43,
      "outputs": [
        {
          "execution_count": 43,
          "output_type": "execute_result",
          "data": {
            "text/plain": "60"
          },
          "metadata": {}
        }
      ]
    },
    {
      "cell_type": "code",
      "source": "pd.set_option('display.max_rows', 8)",
      "metadata": {
        "trusted": true
      },
      "execution_count": 44,
      "outputs": []
    },
    {
      "cell_type": "code",
      "source": "import numpy as np\npd.Series(index = range(0,100) , dtype=np.float64)",
      "metadata": {
        "trusted": true
      },
      "execution_count": 49,
      "outputs": [
        {
          "execution_count": 49,
          "output_type": "execute_result",
          "data": {
            "text/plain": "0    NaN\n1    NaN\n2    NaN\n3    NaN\n      ..\n96   NaN\n97   NaN\n98   NaN\n99   NaN\nLength: 100, dtype: float64"
          },
          "metadata": {}
        }
      ]
    },
    {
      "cell_type": "code",
      "source": "pd.get_option('display.max_columns')",
      "metadata": {
        "trusted": true
      },
      "execution_count": 50,
      "outputs": [
        {
          "execution_count": 50,
          "output_type": "execute_result",
          "data": {
            "text/plain": "20"
          },
          "metadata": {}
        }
      ]
    },
    {
      "cell_type": "code",
      "source": "pd.set_option('display.max_columns',30)",
      "metadata": {
        "trusted": true
      },
      "execution_count": 51,
      "outputs": []
    },
    {
      "cell_type": "code",
      "source": "pd.DataFrame(columns = range(0,30))",
      "metadata": {
        "trusted": true
      },
      "execution_count": 52,
      "outputs": [
        {
          "execution_count": 52,
          "output_type": "execute_result",
          "data": {
            "text/plain": "Empty DataFrame\nColumns: [0, 1, 2, 3, 4, 5, 6, 7, 8, 9, 10, 11, 12, 13, 14, 15, 16, 17, 18, 19, 20, 21, 22, 23, 24, 25, 26, 27, 28, 29]\nIndex: []",
            "text/html": "<div>\n<style scoped>\n    .dataframe tbody tr th:only-of-type {\n        vertical-align: middle;\n    }\n\n    .dataframe tbody tr th {\n        vertical-align: top;\n    }\n\n    .dataframe thead th {\n        text-align: right;\n    }\n</style>\n<table border=\"1\" class=\"dataframe\">\n  <thead>\n    <tr style=\"text-align: right;\">\n      <th></th>\n      <th>0</th>\n      <th>1</th>\n      <th>2</th>\n      <th>3</th>\n      <th>4</th>\n      <th>5</th>\n      <th>6</th>\n      <th>7</th>\n      <th>8</th>\n      <th>9</th>\n      <th>10</th>\n      <th>11</th>\n      <th>12</th>\n      <th>13</th>\n      <th>14</th>\n      <th>15</th>\n      <th>16</th>\n      <th>17</th>\n      <th>18</th>\n      <th>19</th>\n      <th>20</th>\n      <th>21</th>\n      <th>22</th>\n      <th>23</th>\n      <th>24</th>\n      <th>25</th>\n      <th>26</th>\n      <th>27</th>\n      <th>28</th>\n      <th>29</th>\n    </tr>\n  </thead>\n  <tbody>\n  </tbody>\n</table>\n</div>"
          },
          "metadata": {}
        }
      ]
    },
    {
      "cell_type": "code",
      "source": "pd.get_option('display.max_colwidth')",
      "metadata": {
        "trusted": true
      },
      "execution_count": 53,
      "outputs": [
        {
          "execution_count": 53,
          "output_type": "execute_result",
          "data": {
            "text/plain": "50"
          },
          "metadata": {}
        }
      ]
    },
    {
      "cell_type": "code",
      "source": "pd.set_option('display.max_colwidth',100)",
      "metadata": {
        "trusted": true
      },
      "execution_count": 54,
      "outputs": []
    },
    {
      "cell_type": "code",
      "source": "pd.Series(index = ['A'],data=['t'*70])",
      "metadata": {
        "trusted": true
      },
      "execution_count": 55,
      "outputs": [
        {
          "execution_count": 55,
          "output_type": "execute_result",
          "data": {
            "text/plain": "A    tttttttttttttttttttttttttttttttttttttttttttttttttttttttttttttttttttttt\ndtype: object"
          },
          "metadata": {}
        }
      ]
    },
    {
      "cell_type": "code",
      "source": "pd.get_option('display.precision')",
      "metadata": {
        "trusted": true
      },
      "execution_count": 56,
      "outputs": [
        {
          "execution_count": 56,
          "output_type": "execute_result",
          "data": {
            "text/plain": "6"
          },
          "metadata": {}
        }
      ]
    },
    {
      "cell_type": "code",
      "source": "pd.Series(data = [1.23456789236546])",
      "metadata": {
        "trusted": true
      },
      "execution_count": 57,
      "outputs": [
        {
          "execution_count": 57,
          "output_type": "execute_result",
          "data": {
            "text/plain": "0    1.234568\ndtype: float64"
          },
          "metadata": {}
        }
      ]
    },
    {
      "cell_type": "code",
      "source": "pd.set_option('display.precision',3)\npd.Series(data = [1.23456789236546])",
      "metadata": {
        "trusted": true
      },
      "execution_count": 58,
      "outputs": [
        {
          "execution_count": 58,
          "output_type": "execute_result",
          "data": {
            "text/plain": "0    1.235\ndtype: float64"
          },
          "metadata": {}
        }
      ]
    },
    {
      "cell_type": "code",
      "source": "pd.set_option('display.precision',2)\npd.Series(data = [1.23456789236546])",
      "metadata": {
        "trusted": true
      },
      "execution_count": 59,
      "outputs": [
        {
          "execution_count": 59,
          "output_type": "execute_result",
          "data": {
            "text/plain": "0    1.23\ndtype: float64"
          },
          "metadata": {}
        }
      ]
    },
    {
      "cell_type": "code",
      "source": "# 數據透視表\nimport pandas as pd\nexample = pd.DataFrame({'Month': [\"January\", \"January\", \"January\", \"January\", \n                                  \"February\", \"February\", \"February\", \"February\", \n                                  \"March\", \"March\", \"March\", \"March\"],\n                   'Category': [\"Transportation\", \"Grocery\", \"Household\", \"Entertainment\",\n                                \"Transportation\", \"Grocery\", \"Household\", \"Entertainment\",\n                                \"Transportation\", \"Grocery\", \"Household\", \"Entertainment\"],\n                   'Amount': [74., 235., 175., 100., 115., 240., 225., 125., 90., 260., 200., 120.]})",
      "metadata": {
        "trusted": true
      },
      "execution_count": 60,
      "outputs": []
    },
    {
      "cell_type": "code",
      "source": "example",
      "metadata": {
        "trusted": true
      },
      "execution_count": 65,
      "outputs": [
        {
          "execution_count": 65,
          "output_type": "execute_result",
          "data": {
            "text/plain": "      Month        Category  Amount\n0   January  Transportation    74.0\n1   January         Grocery   235.0\n2   January       Household   175.0\n3   January   Entertainment   100.0\n..      ...             ...     ...\n8     March  Transportation    90.0\n9     March         Grocery   260.0\n10    March       Household   200.0\n11    March   Entertainment   120.0\n\n[12 rows x 3 columns]",
            "text/html": "<div>\n<style scoped>\n    .dataframe tbody tr th:only-of-type {\n        vertical-align: middle;\n    }\n\n    .dataframe tbody tr th {\n        vertical-align: top;\n    }\n\n    .dataframe thead th {\n        text-align: right;\n    }\n</style>\n<table border=\"1\" class=\"dataframe\">\n  <thead>\n    <tr style=\"text-align: right;\">\n      <th></th>\n      <th>Month</th>\n      <th>Category</th>\n      <th>Amount</th>\n    </tr>\n  </thead>\n  <tbody>\n    <tr>\n      <th>0</th>\n      <td>January</td>\n      <td>Transportation</td>\n      <td>74.0</td>\n    </tr>\n    <tr>\n      <th>1</th>\n      <td>January</td>\n      <td>Grocery</td>\n      <td>235.0</td>\n    </tr>\n    <tr>\n      <th>2</th>\n      <td>January</td>\n      <td>Household</td>\n      <td>175.0</td>\n    </tr>\n    <tr>\n      <th>3</th>\n      <td>January</td>\n      <td>Entertainment</td>\n      <td>100.0</td>\n    </tr>\n    <tr>\n      <th>...</th>\n      <td>...</td>\n      <td>...</td>\n      <td>...</td>\n    </tr>\n    <tr>\n      <th>8</th>\n      <td>March</td>\n      <td>Transportation</td>\n      <td>90.0</td>\n    </tr>\n    <tr>\n      <th>9</th>\n      <td>March</td>\n      <td>Grocery</td>\n      <td>260.0</td>\n    </tr>\n    <tr>\n      <th>10</th>\n      <td>March</td>\n      <td>Household</td>\n      <td>200.0</td>\n    </tr>\n    <tr>\n      <th>11</th>\n      <td>March</td>\n      <td>Entertainment</td>\n      <td>120.0</td>\n    </tr>\n  </tbody>\n</table>\n<p>12 rows × 3 columns</p>\n</div>"
          },
          "metadata": {}
        }
      ]
    },
    {
      "cell_type": "code",
      "source": "# Return reshaped DataFrame organized by given index / column values.\nexample_pivot = example.pivot(index = 'Category',columns = 'Month',values = 'Amount')\nexample_pivot",
      "metadata": {
        "trusted": true
      },
      "execution_count": 66,
      "outputs": [
        {
          "execution_count": 66,
          "output_type": "execute_result",
          "data": {
            "text/plain": "Month           February  January  March\nCategory                                \nEntertainment      125.0    100.0  120.0\nGrocery            240.0    235.0  260.0\nHousehold          225.0    175.0  200.0\nTransportation     115.0     74.0   90.0",
            "text/html": "<div>\n<style scoped>\n    .dataframe tbody tr th:only-of-type {\n        vertical-align: middle;\n    }\n\n    .dataframe tbody tr th {\n        vertical-align: top;\n    }\n\n    .dataframe thead th {\n        text-align: right;\n    }\n</style>\n<table border=\"1\" class=\"dataframe\">\n  <thead>\n    <tr style=\"text-align: right;\">\n      <th>Month</th>\n      <th>February</th>\n      <th>January</th>\n      <th>March</th>\n    </tr>\n    <tr>\n      <th>Category</th>\n      <th></th>\n      <th></th>\n      <th></th>\n    </tr>\n  </thead>\n  <tbody>\n    <tr>\n      <th>Entertainment</th>\n      <td>125.0</td>\n      <td>100.0</td>\n      <td>120.0</td>\n    </tr>\n    <tr>\n      <th>Grocery</th>\n      <td>240.0</td>\n      <td>235.0</td>\n      <td>260.0</td>\n    </tr>\n    <tr>\n      <th>Household</th>\n      <td>225.0</td>\n      <td>175.0</td>\n      <td>200.0</td>\n    </tr>\n    <tr>\n      <th>Transportation</th>\n      <td>115.0</td>\n      <td>74.0</td>\n      <td>90.0</td>\n    </tr>\n  </tbody>\n</table>\n</div>"
          },
          "metadata": {}
        }
      ]
    },
    {
      "cell_type": "code",
      "source": "example_pivot.sum(axis = 1)",
      "metadata": {
        "trusted": true
      },
      "execution_count": 67,
      "outputs": [
        {
          "execution_count": 67,
          "output_type": "execute_result",
          "data": {
            "text/plain": "Category\nEntertainment     345.0\nGrocery           735.0\nHousehold         600.0\nTransportation    279.0\ndtype: float64"
          },
          "metadata": {}
        }
      ]
    },
    {
      "cell_type": "code",
      "source": "example_pivot.sum(axis = 0)",
      "metadata": {
        "trusted": true
      },
      "execution_count": 68,
      "outputs": [
        {
          "execution_count": 68,
          "output_type": "execute_result",
          "data": {
            "text/plain": "Month\nFebruary    705.0\nJanuary     584.0\nMarch       670.0\ndtype: float64"
          },
          "metadata": {}
        }
      ]
    },
    {
      "cell_type": "code",
      "source": "df = pd.read_csv('titanic.csv')",
      "metadata": {
        "trusted": true
      },
      "execution_count": 69,
      "outputs": []
    },
    {
      "cell_type": "code",
      "source": "df.head()",
      "metadata": {
        "trusted": true
      },
      "execution_count": 70,
      "outputs": [
        {
          "execution_count": 70,
          "output_type": "execute_result",
          "data": {
            "text/plain": "   PassengerId  Survived  Pclass  \\\n0            1         0       3   \n1            2         1       1   \n2            3         1       3   \n3            4         1       1   \n4            5         0       3   \n\n                                                  Name     Sex   Age  SibSp  \\\n0                              Braund, Mr. Owen Harris    male  22.0      1   \n1  Cumings, Mrs. John Bradley (Florence Briggs Thayer)  female  38.0      1   \n2                               Heikkinen, Miss. Laina  female  26.0      0   \n3         Futrelle, Mrs. Jacques Heath (Lily May Peel)  female  35.0      1   \n4                             Allen, Mr. William Henry    male  35.0      0   \n\n   Parch            Ticket   Fare Cabin Embarked  \n0      0         A/5 21171   7.25   NaN        S  \n1      0          PC 17599  71.28   C85        C  \n2      0  STON/O2. 3101282   7.92   NaN        S  \n3      0            113803  53.10  C123        S  \n4      0            373450   8.05   NaN        S  ",
            "text/html": "<div>\n<style scoped>\n    .dataframe tbody tr th:only-of-type {\n        vertical-align: middle;\n    }\n\n    .dataframe tbody tr th {\n        vertical-align: top;\n    }\n\n    .dataframe thead th {\n        text-align: right;\n    }\n</style>\n<table border=\"1\" class=\"dataframe\">\n  <thead>\n    <tr style=\"text-align: right;\">\n      <th></th>\n      <th>PassengerId</th>\n      <th>Survived</th>\n      <th>Pclass</th>\n      <th>Name</th>\n      <th>Sex</th>\n      <th>Age</th>\n      <th>SibSp</th>\n      <th>Parch</th>\n      <th>Ticket</th>\n      <th>Fare</th>\n      <th>Cabin</th>\n      <th>Embarked</th>\n    </tr>\n  </thead>\n  <tbody>\n    <tr>\n      <th>0</th>\n      <td>1</td>\n      <td>0</td>\n      <td>3</td>\n      <td>Braund, Mr. Owen Harris</td>\n      <td>male</td>\n      <td>22.0</td>\n      <td>1</td>\n      <td>0</td>\n      <td>A/5 21171</td>\n      <td>7.25</td>\n      <td>NaN</td>\n      <td>S</td>\n    </tr>\n    <tr>\n      <th>1</th>\n      <td>2</td>\n      <td>1</td>\n      <td>1</td>\n      <td>Cumings, Mrs. John Bradley (Florence Briggs Thayer)</td>\n      <td>female</td>\n      <td>38.0</td>\n      <td>1</td>\n      <td>0</td>\n      <td>PC 17599</td>\n      <td>71.28</td>\n      <td>C85</td>\n      <td>C</td>\n    </tr>\n    <tr>\n      <th>2</th>\n      <td>3</td>\n      <td>1</td>\n      <td>3</td>\n      <td>Heikkinen, Miss. Laina</td>\n      <td>female</td>\n      <td>26.0</td>\n      <td>0</td>\n      <td>0</td>\n      <td>STON/O2. 3101282</td>\n      <td>7.92</td>\n      <td>NaN</td>\n      <td>S</td>\n    </tr>\n    <tr>\n      <th>3</th>\n      <td>4</td>\n      <td>1</td>\n      <td>1</td>\n      <td>Futrelle, Mrs. Jacques Heath (Lily May Peel)</td>\n      <td>female</td>\n      <td>35.0</td>\n      <td>1</td>\n      <td>0</td>\n      <td>113803</td>\n      <td>53.10</td>\n      <td>C123</td>\n      <td>S</td>\n    </tr>\n    <tr>\n      <th>4</th>\n      <td>5</td>\n      <td>0</td>\n      <td>3</td>\n      <td>Allen, Mr. William Henry</td>\n      <td>male</td>\n      <td>35.0</td>\n      <td>0</td>\n      <td>0</td>\n      <td>373450</td>\n      <td>8.05</td>\n      <td>NaN</td>\n      <td>S</td>\n    </tr>\n  </tbody>\n</table>\n</div>"
          },
          "metadata": {}
        }
      ]
    },
    {
      "cell_type": "code",
      "source": "# 默認值就是求平均\ndf.pivot_table(index = 'Sex',columns = 'Pclass',values = 'Fare')",
      "metadata": {
        "trusted": true
      },
      "execution_count": 71,
      "outputs": [
        {
          "execution_count": 71,
          "output_type": "execute_result",
          "data": {
            "text/plain": "Pclass       1      2      3\nSex                         \nfemale  106.13  21.97  16.12\nmale     67.23  19.74  12.66",
            "text/html": "<div>\n<style scoped>\n    .dataframe tbody tr th:only-of-type {\n        vertical-align: middle;\n    }\n\n    .dataframe tbody tr th {\n        vertical-align: top;\n    }\n\n    .dataframe thead th {\n        text-align: right;\n    }\n</style>\n<table border=\"1\" class=\"dataframe\">\n  <thead>\n    <tr style=\"text-align: right;\">\n      <th>Pclass</th>\n      <th>1</th>\n      <th>2</th>\n      <th>3</th>\n    </tr>\n    <tr>\n      <th>Sex</th>\n      <th></th>\n      <th></th>\n      <th></th>\n    </tr>\n  </thead>\n  <tbody>\n    <tr>\n      <th>female</th>\n      <td>106.13</td>\n      <td>21.97</td>\n      <td>16.12</td>\n    </tr>\n    <tr>\n      <th>male</th>\n      <td>67.23</td>\n      <td>19.74</td>\n      <td>12.66</td>\n    </tr>\n  </tbody>\n</table>\n</div>"
          },
          "metadata": {}
        }
      ]
    },
    {
      "cell_type": "code",
      "source": "df.pivot_table(index = 'Sex', columns = 'Pclass', values = 'Fare', aggfunc = 'max')",
      "metadata": {
        "trusted": true
      },
      "execution_count": 72,
      "outputs": [
        {
          "execution_count": 72,
          "output_type": "execute_result",
          "data": {
            "text/plain": "Pclass       1     2      3\nSex                        \nfemale  512.33  65.0  69.55\nmale    512.33  73.5  69.55",
            "text/html": "<div>\n<style scoped>\n    .dataframe tbody tr th:only-of-type {\n        vertical-align: middle;\n    }\n\n    .dataframe tbody tr th {\n        vertical-align: top;\n    }\n\n    .dataframe thead th {\n        text-align: right;\n    }\n</style>\n<table border=\"1\" class=\"dataframe\">\n  <thead>\n    <tr style=\"text-align: right;\">\n      <th>Pclass</th>\n      <th>1</th>\n      <th>2</th>\n      <th>3</th>\n    </tr>\n    <tr>\n      <th>Sex</th>\n      <th></th>\n      <th></th>\n      <th></th>\n    </tr>\n  </thead>\n  <tbody>\n    <tr>\n      <th>female</th>\n      <td>512.33</td>\n      <td>65.0</td>\n      <td>69.55</td>\n    </tr>\n    <tr>\n      <th>male</th>\n      <td>512.33</td>\n      <td>73.5</td>\n      <td>69.55</td>\n    </tr>\n  </tbody>\n</table>\n</div>"
          },
          "metadata": {}
        }
      ]
    },
    {
      "cell_type": "code",
      "source": "df.pivot_table(index = 'Sex', columns = 'Pclass', values = 'Fare', aggfunc = 'count')",
      "metadata": {
        "trusted": true
      },
      "execution_count": 73,
      "outputs": [
        {
          "execution_count": 73,
          "output_type": "execute_result",
          "data": {
            "text/plain": "Pclass    1    2    3\nSex                  \nfemale   94   76  144\nmale    122  108  347",
            "text/html": "<div>\n<style scoped>\n    .dataframe tbody tr th:only-of-type {\n        vertical-align: middle;\n    }\n\n    .dataframe tbody tr th {\n        vertical-align: top;\n    }\n\n    .dataframe thead th {\n        text-align: right;\n    }\n</style>\n<table border=\"1\" class=\"dataframe\">\n  <thead>\n    <tr style=\"text-align: right;\">\n      <th>Pclass</th>\n      <th>1</th>\n      <th>2</th>\n      <th>3</th>\n    </tr>\n    <tr>\n      <th>Sex</th>\n      <th></th>\n      <th></th>\n      <th></th>\n    </tr>\n  </thead>\n  <tbody>\n    <tr>\n      <th>female</th>\n      <td>94</td>\n      <td>76</td>\n      <td>144</td>\n    </tr>\n    <tr>\n      <th>male</th>\n      <td>122</td>\n      <td>108</td>\n      <td>347</td>\n    </tr>\n  </tbody>\n</table>\n</div>"
          },
          "metadata": {}
        }
      ]
    },
    {
      "cell_type": "code",
      "source": "# Compute a simple cross tabulation of two (or more) factors.\n# By default, computes a frequency table of the factors unless an array of values and an aggregation function are passed.\npd.crosstab(index = df['Sex'], columns = df['Pclass'])",
      "metadata": {
        "trusted": true
      },
      "execution_count": 74,
      "outputs": [
        {
          "execution_count": 74,
          "output_type": "execute_result",
          "data": {
            "text/plain": "Pclass    1    2    3\nSex                  \nfemale   94   76  144\nmale    122  108  347",
            "text/html": "<div>\n<style scoped>\n    .dataframe tbody tr th:only-of-type {\n        vertical-align: middle;\n    }\n\n    .dataframe tbody tr th {\n        vertical-align: top;\n    }\n\n    .dataframe thead th {\n        text-align: right;\n    }\n</style>\n<table border=\"1\" class=\"dataframe\">\n  <thead>\n    <tr style=\"text-align: right;\">\n      <th>Pclass</th>\n      <th>1</th>\n      <th>2</th>\n      <th>3</th>\n    </tr>\n    <tr>\n      <th>Sex</th>\n      <th></th>\n      <th></th>\n      <th></th>\n    </tr>\n  </thead>\n  <tbody>\n    <tr>\n      <th>female</th>\n      <td>94</td>\n      <td>76</td>\n      <td>144</td>\n    </tr>\n    <tr>\n      <th>male</th>\n      <td>122</td>\n      <td>108</td>\n      <td>347</td>\n    </tr>\n  </tbody>\n</table>\n</div>"
          },
          "metadata": {}
        }
      ]
    },
    {
      "cell_type": "code",
      "source": "df.pivot_table(index = 'Pclass', columns = 'Sex', values = 'Survived', aggfunc = 'mean')",
      "metadata": {
        "trusted": true
      },
      "execution_count": 75,
      "outputs": [
        {
          "execution_count": 75,
          "output_type": "execute_result",
          "data": {
            "text/plain": "Sex     female  male\nPclass              \n1         0.97  0.37\n2         0.92  0.16\n3         0.50  0.14",
            "text/html": "<div>\n<style scoped>\n    .dataframe tbody tr th:only-of-type {\n        vertical-align: middle;\n    }\n\n    .dataframe tbody tr th {\n        vertical-align: top;\n    }\n\n    .dataframe thead th {\n        text-align: right;\n    }\n</style>\n<table border=\"1\" class=\"dataframe\">\n  <thead>\n    <tr style=\"text-align: right;\">\n      <th>Sex</th>\n      <th>female</th>\n      <th>male</th>\n    </tr>\n    <tr>\n      <th>Pclass</th>\n      <th></th>\n      <th></th>\n    </tr>\n  </thead>\n  <tbody>\n    <tr>\n      <th>1</th>\n      <td>0.97</td>\n      <td>0.37</td>\n    </tr>\n    <tr>\n      <th>2</th>\n      <td>0.92</td>\n      <td>0.16</td>\n    </tr>\n    <tr>\n      <th>3</th>\n      <td>0.50</td>\n      <td>0.14</td>\n    </tr>\n  </tbody>\n</table>\n</div>"
          },
          "metadata": {}
        }
      ]
    },
    {
      "cell_type": "code",
      "source": "df['Underaged'] = df['Age'] <= 18",
      "metadata": {
        "trusted": true
      },
      "execution_count": 76,
      "outputs": []
    },
    {
      "cell_type": "code",
      "source": "df.pivot_table(index = 'Underaged', columns = 'Sex', values = 'Survived', aggfunc = 'mean')",
      "metadata": {
        "trusted": true
      },
      "execution_count": 78,
      "outputs": [
        {
          "execution_count": 78,
          "output_type": "execute_result",
          "data": {
            "text/plain": "Sex        female  male\nUnderaged              \nFalse        0.76  0.17\nTrue         0.68  0.34",
            "text/html": "<div>\n<style scoped>\n    .dataframe tbody tr th:only-of-type {\n        vertical-align: middle;\n    }\n\n    .dataframe tbody tr th {\n        vertical-align: top;\n    }\n\n    .dataframe thead th {\n        text-align: right;\n    }\n</style>\n<table border=\"1\" class=\"dataframe\">\n  <thead>\n    <tr style=\"text-align: right;\">\n      <th>Sex</th>\n      <th>female</th>\n      <th>male</th>\n    </tr>\n    <tr>\n      <th>Underaged</th>\n      <th></th>\n      <th></th>\n    </tr>\n  </thead>\n  <tbody>\n    <tr>\n      <th>False</th>\n      <td>0.76</td>\n      <td>0.17</td>\n    </tr>\n    <tr>\n      <th>True</th>\n      <td>0.68</td>\n      <td>0.34</td>\n    </tr>\n  </tbody>\n</table>\n</div>"
          },
          "metadata": {}
        }
      ]
    },
    {
      "cell_type": "code",
      "source": "import datetime",
      "metadata": {
        "trusted": true
      },
      "execution_count": 1,
      "outputs": []
    },
    {
      "cell_type": "code",
      "source": "dt = datetime.datetime(year=2023,month=10,day=21,hour=11,minute=0)\ndt",
      "metadata": {
        "trusted": true
      },
      "execution_count": 2,
      "outputs": [
        {
          "execution_count": 2,
          "output_type": "execute_result",
          "data": {
            "text/plain": "datetime.datetime(2023, 10, 21, 11, 0)"
          },
          "metadata": {}
        }
      ]
    },
    {
      "cell_type": "code",
      "source": "print(dt)",
      "metadata": {
        "trusted": true
      },
      "execution_count": 4,
      "outputs": [
        {
          "name": "stdout",
          "text": "2023-10-21 11:00:00\n",
          "output_type": "stream"
        }
      ]
    },
    {
      "cell_type": "code",
      "source": "import pandas as pd \nts = pd.Timestamp('2023-10-21')\nts",
      "metadata": {
        "trusted": true
      },
      "execution_count": 5,
      "outputs": [
        {
          "execution_count": 5,
          "output_type": "execute_result",
          "data": {
            "text/plain": "Timestamp('2023-10-21 00:00:00')"
          },
          "metadata": {}
        }
      ]
    },
    {
      "cell_type": "code",
      "source": "ts.month",
      "metadata": {
        "trusted": true
      },
      "execution_count": 6,
      "outputs": [
        {
          "execution_count": 6,
          "output_type": "execute_result",
          "data": {
            "text/plain": "10"
          },
          "metadata": {}
        }
      ]
    },
    {
      "cell_type": "code",
      "source": "ts.day",
      "metadata": {
        "trusted": true
      },
      "execution_count": 7,
      "outputs": [
        {
          "execution_count": 7,
          "output_type": "execute_result",
          "data": {
            "text/plain": "21"
          },
          "metadata": {}
        }
      ]
    },
    {
      "cell_type": "code",
      "source": "ts + pd.Timedelta('5 days')",
      "metadata": {
        "trusted": true
      },
      "execution_count": 8,
      "outputs": [
        {
          "execution_count": 8,
          "output_type": "execute_result",
          "data": {
            "text/plain": "Timestamp('2023-10-26 00:00:00')"
          },
          "metadata": {}
        }
      ]
    },
    {
      "cell_type": "code",
      "source": "pd.to_datetime('2023-10-21')",
      "metadata": {
        "trusted": true
      },
      "execution_count": 9,
      "outputs": [
        {
          "execution_count": 9,
          "output_type": "execute_result",
          "data": {
            "text/plain": "Timestamp('2023-10-21 00:00:00')"
          },
          "metadata": {}
        }
      ]
    },
    {
      "cell_type": "code",
      "source": "pd.to_datetime('21/10/2023', dayfirst=True)",
      "metadata": {
        "trusted": true
      },
      "execution_count": 14,
      "outputs": [
        {
          "execution_count": 14,
          "output_type": "execute_result",
          "data": {
            "text/plain": "Timestamp('2023-10-21 00:00:00')"
          },
          "metadata": {}
        }
      ]
    },
    {
      "cell_type": "code",
      "source": "s = pd.Series(['2023-10-21 00:00:00','2023-10-22 00:00:00','2023-10-23 00:00:00'])\ns",
      "metadata": {
        "trusted": true
      },
      "execution_count": 15,
      "outputs": [
        {
          "execution_count": 15,
          "output_type": "execute_result",
          "data": {
            "text/plain": "0    2023-10-21 00:00:00\n1    2023-10-22 00:00:00\n2    2023-10-23 00:00:00\ndtype: object"
          },
          "metadata": {}
        }
      ]
    },
    {
      "cell_type": "code",
      "source": "ts = pd.to_datetime(s)\nts",
      "metadata": {
        "trusted": true
      },
      "execution_count": 16,
      "outputs": [
        {
          "execution_count": 16,
          "output_type": "execute_result",
          "data": {
            "text/plain": "0   2023-10-21\n1   2023-10-22\n2   2023-10-23\ndtype: datetime64[ns]"
          },
          "metadata": {}
        }
      ]
    },
    {
      "cell_type": "code",
      "source": "ts.dt.hour",
      "metadata": {
        "trusted": true
      },
      "execution_count": 17,
      "outputs": [
        {
          "execution_count": 17,
          "output_type": "execute_result",
          "data": {
            "text/plain": "0    0\n1    0\n2    0\ndtype: int64"
          },
          "metadata": {}
        }
      ]
    },
    {
      "cell_type": "code",
      "source": "ts.dt.weekday",
      "metadata": {
        "trusted": true
      },
      "execution_count": 18,
      "outputs": [
        {
          "execution_count": 18,
          "output_type": "execute_result",
          "data": {
            "text/plain": "0    5\n1    6\n2    0\ndtype: int64"
          },
          "metadata": {}
        }
      ]
    },
    {
      "cell_type": "code",
      "source": "pd.Series(pd.date_range(start='2023-10-21',periods = 10, freq = '12H'))",
      "metadata": {
        "trusted": true
      },
      "execution_count": 19,
      "outputs": [
        {
          "execution_count": 19,
          "output_type": "execute_result",
          "data": {
            "text/plain": "0   2023-10-21 00:00:00\n1   2023-10-21 12:00:00\n2   2023-10-22 00:00:00\n3   2023-10-22 12:00:00\n4   2023-10-23 00:00:00\n5   2023-10-23 12:00:00\n6   2023-10-24 00:00:00\n7   2023-10-24 12:00:00\n8   2023-10-25 00:00:00\n9   2023-10-25 12:00:00\ndtype: datetime64[ns]"
          },
          "metadata": {}
        }
      ]
    },
    {
      "cell_type": "code",
      "source": "data = pd.read_csv('flowdata.csv')",
      "metadata": {
        "trusted": true
      },
      "execution_count": 20,
      "outputs": []
    },
    {
      "cell_type": "code",
      "source": "data.head()",
      "metadata": {
        "trusted": true
      },
      "execution_count": 21,
      "outputs": [
        {
          "execution_count": 21,
          "output_type": "execute_result",
          "data": {
            "text/plain": "                  Time   L06_347  LS06_347  LS06_348\n0  2009-01-01 00:00:00  0.137417  0.097500  0.016833\n1  2009-01-01 03:00:00  0.131250  0.088833  0.016417\n2  2009-01-01 06:00:00  0.113500  0.091250  0.016750\n3  2009-01-01 09:00:00  0.135750  0.091500  0.016250\n4  2009-01-01 12:00:00  0.140917  0.096167  0.017000",
            "text/html": "<div>\n<style scoped>\n    .dataframe tbody tr th:only-of-type {\n        vertical-align: middle;\n    }\n\n    .dataframe tbody tr th {\n        vertical-align: top;\n    }\n\n    .dataframe thead th {\n        text-align: right;\n    }\n</style>\n<table border=\"1\" class=\"dataframe\">\n  <thead>\n    <tr style=\"text-align: right;\">\n      <th></th>\n      <th>Time</th>\n      <th>L06_347</th>\n      <th>LS06_347</th>\n      <th>LS06_348</th>\n    </tr>\n  </thead>\n  <tbody>\n    <tr>\n      <th>0</th>\n      <td>2009-01-01 00:00:00</td>\n      <td>0.137417</td>\n      <td>0.097500</td>\n      <td>0.016833</td>\n    </tr>\n    <tr>\n      <th>1</th>\n      <td>2009-01-01 03:00:00</td>\n      <td>0.131250</td>\n      <td>0.088833</td>\n      <td>0.016417</td>\n    </tr>\n    <tr>\n      <th>2</th>\n      <td>2009-01-01 06:00:00</td>\n      <td>0.113500</td>\n      <td>0.091250</td>\n      <td>0.016750</td>\n    </tr>\n    <tr>\n      <th>3</th>\n      <td>2009-01-01 09:00:00</td>\n      <td>0.135750</td>\n      <td>0.091500</td>\n      <td>0.016250</td>\n    </tr>\n    <tr>\n      <th>4</th>\n      <td>2009-01-01 12:00:00</td>\n      <td>0.140917</td>\n      <td>0.096167</td>\n      <td>0.017000</td>\n    </tr>\n  </tbody>\n</table>\n</div>"
          },
          "metadata": {}
        }
      ]
    },
    {
      "cell_type": "code",
      "source": "# Convert argument to datetime.\n# This function converts a scalar, array-like, Series or DataFrame/dict-like to a pandas datetime object.\ndata['Time'] = pd.to_datetime(data['Time'])\ndata = data.set_index('Time')\ndata",
      "metadata": {
        "trusted": true
      },
      "execution_count": 22,
      "outputs": [
        {
          "execution_count": 22,
          "output_type": "execute_result",
          "data": {
            "text/plain": "                      L06_347  LS06_347  LS06_348\nTime                                             \n2009-01-01 00:00:00  0.137417  0.097500  0.016833\n2009-01-01 03:00:00  0.131250  0.088833  0.016417\n2009-01-01 06:00:00  0.113500  0.091250  0.016750\n2009-01-01 09:00:00  0.135750  0.091500  0.016250\n2009-01-01 12:00:00  0.140917  0.096167  0.017000\n...                       ...       ...       ...\n2013-01-01 12:00:00  1.710000  1.710000  0.129583\n2013-01-01 15:00:00  1.420000  1.420000  0.096333\n2013-01-01 18:00:00  1.178583  1.178583  0.083083\n2013-01-01 21:00:00  0.898250  0.898250  0.077167\n2013-01-02 00:00:00  0.860000  0.860000  0.075000\n\n[11697 rows x 3 columns]",
            "text/html": "<div>\n<style scoped>\n    .dataframe tbody tr th:only-of-type {\n        vertical-align: middle;\n    }\n\n    .dataframe tbody tr th {\n        vertical-align: top;\n    }\n\n    .dataframe thead th {\n        text-align: right;\n    }\n</style>\n<table border=\"1\" class=\"dataframe\">\n  <thead>\n    <tr style=\"text-align: right;\">\n      <th></th>\n      <th>L06_347</th>\n      <th>LS06_347</th>\n      <th>LS06_348</th>\n    </tr>\n    <tr>\n      <th>Time</th>\n      <th></th>\n      <th></th>\n      <th></th>\n    </tr>\n  </thead>\n  <tbody>\n    <tr>\n      <th>2009-01-01 00:00:00</th>\n      <td>0.137417</td>\n      <td>0.097500</td>\n      <td>0.016833</td>\n    </tr>\n    <tr>\n      <th>2009-01-01 03:00:00</th>\n      <td>0.131250</td>\n      <td>0.088833</td>\n      <td>0.016417</td>\n    </tr>\n    <tr>\n      <th>2009-01-01 06:00:00</th>\n      <td>0.113500</td>\n      <td>0.091250</td>\n      <td>0.016750</td>\n    </tr>\n    <tr>\n      <th>2009-01-01 09:00:00</th>\n      <td>0.135750</td>\n      <td>0.091500</td>\n      <td>0.016250</td>\n    </tr>\n    <tr>\n      <th>2009-01-01 12:00:00</th>\n      <td>0.140917</td>\n      <td>0.096167</td>\n      <td>0.017000</td>\n    </tr>\n    <tr>\n      <th>...</th>\n      <td>...</td>\n      <td>...</td>\n      <td>...</td>\n    </tr>\n    <tr>\n      <th>2013-01-01 12:00:00</th>\n      <td>1.710000</td>\n      <td>1.710000</td>\n      <td>0.129583</td>\n    </tr>\n    <tr>\n      <th>2013-01-01 15:00:00</th>\n      <td>1.420000</td>\n      <td>1.420000</td>\n      <td>0.096333</td>\n    </tr>\n    <tr>\n      <th>2013-01-01 18:00:00</th>\n      <td>1.178583</td>\n      <td>1.178583</td>\n      <td>0.083083</td>\n    </tr>\n    <tr>\n      <th>2013-01-01 21:00:00</th>\n      <td>0.898250</td>\n      <td>0.898250</td>\n      <td>0.077167</td>\n    </tr>\n    <tr>\n      <th>2013-01-02 00:00:00</th>\n      <td>0.860000</td>\n      <td>0.860000</td>\n      <td>0.075000</td>\n    </tr>\n  </tbody>\n</table>\n<p>11697 rows × 3 columns</p>\n</div>"
          },
          "metadata": {}
        }
      ]
    },
    {
      "cell_type": "code",
      "source": "data.index",
      "metadata": {
        "trusted": true
      },
      "execution_count": 23,
      "outputs": [
        {
          "execution_count": 23,
          "output_type": "execute_result",
          "data": {
            "text/plain": "DatetimeIndex(['2009-01-01 00:00:00', '2009-01-01 03:00:00',\n               '2009-01-01 06:00:00', '2009-01-01 09:00:00',\n               '2009-01-01 12:00:00', '2009-01-01 15:00:00',\n               '2009-01-01 18:00:00', '2009-01-01 21:00:00',\n               '2009-01-02 00:00:00', '2009-01-02 03:00:00',\n               ...\n               '2012-12-31 21:00:00', '2013-01-01 00:00:00',\n               '2013-01-01 03:00:00', '2013-01-01 06:00:00',\n               '2013-01-01 09:00:00', '2013-01-01 12:00:00',\n               '2013-01-01 15:00:00', '2013-01-01 18:00:00',\n               '2013-01-01 21:00:00', '2013-01-02 00:00:00'],\n              dtype='datetime64[ns]', name='Time', length=11697, freq=None)"
          },
          "metadata": {}
        }
      ]
    },
    {
      "cell_type": "code",
      "source": "# index_col: Column(s) to use as row label(s)\n# parse_dates: If True -> try parsing the index.\ndata = pd.read_csv('flowdata.csv',index_col = 0,parse_dates = True)\ndata.head()",
      "metadata": {
        "trusted": true
      },
      "execution_count": 24,
      "outputs": [
        {
          "execution_count": 24,
          "output_type": "execute_result",
          "data": {
            "text/plain": "                      L06_347  LS06_347  LS06_348\nTime                                             \n2009-01-01 00:00:00  0.137417  0.097500  0.016833\n2009-01-01 03:00:00  0.131250  0.088833  0.016417\n2009-01-01 06:00:00  0.113500  0.091250  0.016750\n2009-01-01 09:00:00  0.135750  0.091500  0.016250\n2009-01-01 12:00:00  0.140917  0.096167  0.017000",
            "text/html": "<div>\n<style scoped>\n    .dataframe tbody tr th:only-of-type {\n        vertical-align: middle;\n    }\n\n    .dataframe tbody tr th {\n        vertical-align: top;\n    }\n\n    .dataframe thead th {\n        text-align: right;\n    }\n</style>\n<table border=\"1\" class=\"dataframe\">\n  <thead>\n    <tr style=\"text-align: right;\">\n      <th></th>\n      <th>L06_347</th>\n      <th>LS06_347</th>\n      <th>LS06_348</th>\n    </tr>\n    <tr>\n      <th>Time</th>\n      <th></th>\n      <th></th>\n      <th></th>\n    </tr>\n  </thead>\n  <tbody>\n    <tr>\n      <th>2009-01-01 00:00:00</th>\n      <td>0.137417</td>\n      <td>0.097500</td>\n      <td>0.016833</td>\n    </tr>\n    <tr>\n      <th>2009-01-01 03:00:00</th>\n      <td>0.131250</td>\n      <td>0.088833</td>\n      <td>0.016417</td>\n    </tr>\n    <tr>\n      <th>2009-01-01 06:00:00</th>\n      <td>0.113500</td>\n      <td>0.091250</td>\n      <td>0.016750</td>\n    </tr>\n    <tr>\n      <th>2009-01-01 09:00:00</th>\n      <td>0.135750</td>\n      <td>0.091500</td>\n      <td>0.016250</td>\n    </tr>\n    <tr>\n      <th>2009-01-01 12:00:00</th>\n      <td>0.140917</td>\n      <td>0.096167</td>\n      <td>0.017000</td>\n    </tr>\n  </tbody>\n</table>\n</div>"
          },
          "metadata": {}
        }
      ]
    },
    {
      "cell_type": "code",
      "source": "data[pd.Timestamp('2012-01-01 09:00'):pd.Timestamp('2012-01-01 19:00')]",
      "metadata": {
        "trusted": true
      },
      "execution_count": 26,
      "outputs": [
        {
          "execution_count": 26,
          "output_type": "execute_result",
          "data": {
            "text/plain": "                      L06_347  LS06_347  LS06_348\nTime                                             \n2012-01-01 09:00:00  0.330750  0.293583  0.029750\n2012-01-01 12:00:00  0.295000  0.285167  0.031750\n2012-01-01 15:00:00  0.301417  0.287750  0.031417\n2012-01-01 18:00:00  0.322083  0.304167  0.038083",
            "text/html": "<div>\n<style scoped>\n    .dataframe tbody tr th:only-of-type {\n        vertical-align: middle;\n    }\n\n    .dataframe tbody tr th {\n        vertical-align: top;\n    }\n\n    .dataframe thead th {\n        text-align: right;\n    }\n</style>\n<table border=\"1\" class=\"dataframe\">\n  <thead>\n    <tr style=\"text-align: right;\">\n      <th></th>\n      <th>L06_347</th>\n      <th>LS06_347</th>\n      <th>LS06_348</th>\n    </tr>\n    <tr>\n      <th>Time</th>\n      <th></th>\n      <th></th>\n      <th></th>\n    </tr>\n  </thead>\n  <tbody>\n    <tr>\n      <th>2012-01-01 09:00:00</th>\n      <td>0.330750</td>\n      <td>0.293583</td>\n      <td>0.029750</td>\n    </tr>\n    <tr>\n      <th>2012-01-01 12:00:00</th>\n      <td>0.295000</td>\n      <td>0.285167</td>\n      <td>0.031750</td>\n    </tr>\n    <tr>\n      <th>2012-01-01 15:00:00</th>\n      <td>0.301417</td>\n      <td>0.287750</td>\n      <td>0.031417</td>\n    </tr>\n    <tr>\n      <th>2012-01-01 18:00:00</th>\n      <td>0.322083</td>\n      <td>0.304167</td>\n      <td>0.038083</td>\n    </tr>\n  </tbody>\n</table>\n</div>"
          },
          "metadata": {}
        }
      ]
    },
    {
      "cell_type": "code",
      "source": "data[('2012-01-01 09:00'):('2012-01-01 19:00')]",
      "metadata": {
        "trusted": true
      },
      "execution_count": 27,
      "outputs": [
        {
          "execution_count": 27,
          "output_type": "execute_result",
          "data": {
            "text/plain": "                      L06_347  LS06_347  LS06_348\nTime                                             \n2012-01-01 09:00:00  0.330750  0.293583  0.029750\n2012-01-01 12:00:00  0.295000  0.285167  0.031750\n2012-01-01 15:00:00  0.301417  0.287750  0.031417\n2012-01-01 18:00:00  0.322083  0.304167  0.038083",
            "text/html": "<div>\n<style scoped>\n    .dataframe tbody tr th:only-of-type {\n        vertical-align: middle;\n    }\n\n    .dataframe tbody tr th {\n        vertical-align: top;\n    }\n\n    .dataframe thead th {\n        text-align: right;\n    }\n</style>\n<table border=\"1\" class=\"dataframe\">\n  <thead>\n    <tr style=\"text-align: right;\">\n      <th></th>\n      <th>L06_347</th>\n      <th>LS06_347</th>\n      <th>LS06_348</th>\n    </tr>\n    <tr>\n      <th>Time</th>\n      <th></th>\n      <th></th>\n      <th></th>\n    </tr>\n  </thead>\n  <tbody>\n    <tr>\n      <th>2012-01-01 09:00:00</th>\n      <td>0.330750</td>\n      <td>0.293583</td>\n      <td>0.029750</td>\n    </tr>\n    <tr>\n      <th>2012-01-01 12:00:00</th>\n      <td>0.295000</td>\n      <td>0.285167</td>\n      <td>0.031750</td>\n    </tr>\n    <tr>\n      <th>2012-01-01 15:00:00</th>\n      <td>0.301417</td>\n      <td>0.287750</td>\n      <td>0.031417</td>\n    </tr>\n    <tr>\n      <th>2012-01-01 18:00:00</th>\n      <td>0.322083</td>\n      <td>0.304167</td>\n      <td>0.038083</td>\n    </tr>\n  </tbody>\n</table>\n</div>"
          },
          "metadata": {}
        }
      ]
    },
    {
      "cell_type": "code",
      "source": "data.tail(10)",
      "metadata": {
        "trusted": true
      },
      "execution_count": 28,
      "outputs": [
        {
          "execution_count": 28,
          "output_type": "execute_result",
          "data": {
            "text/plain": "                      L06_347  LS06_347  LS06_348\nTime                                             \n2012-12-31 21:00:00  0.846500  0.846500  0.170167\n2013-01-01 00:00:00  1.688333  1.688333  0.207333\n2013-01-01 03:00:00  2.693333  2.693333  0.201500\n2013-01-01 06:00:00  2.220833  2.220833  0.166917\n2013-01-01 09:00:00  2.055000  2.055000  0.175667\n2013-01-01 12:00:00  1.710000  1.710000  0.129583\n2013-01-01 15:00:00  1.420000  1.420000  0.096333\n2013-01-01 18:00:00  1.178583  1.178583  0.083083\n2013-01-01 21:00:00  0.898250  0.898250  0.077167\n2013-01-02 00:00:00  0.860000  0.860000  0.075000",
            "text/html": "<div>\n<style scoped>\n    .dataframe tbody tr th:only-of-type {\n        vertical-align: middle;\n    }\n\n    .dataframe tbody tr th {\n        vertical-align: top;\n    }\n\n    .dataframe thead th {\n        text-align: right;\n    }\n</style>\n<table border=\"1\" class=\"dataframe\">\n  <thead>\n    <tr style=\"text-align: right;\">\n      <th></th>\n      <th>L06_347</th>\n      <th>LS06_347</th>\n      <th>LS06_348</th>\n    </tr>\n    <tr>\n      <th>Time</th>\n      <th></th>\n      <th></th>\n      <th></th>\n    </tr>\n  </thead>\n  <tbody>\n    <tr>\n      <th>2012-12-31 21:00:00</th>\n      <td>0.846500</td>\n      <td>0.846500</td>\n      <td>0.170167</td>\n    </tr>\n    <tr>\n      <th>2013-01-01 00:00:00</th>\n      <td>1.688333</td>\n      <td>1.688333</td>\n      <td>0.207333</td>\n    </tr>\n    <tr>\n      <th>2013-01-01 03:00:00</th>\n      <td>2.693333</td>\n      <td>2.693333</td>\n      <td>0.201500</td>\n    </tr>\n    <tr>\n      <th>2013-01-01 06:00:00</th>\n      <td>2.220833</td>\n      <td>2.220833</td>\n      <td>0.166917</td>\n    </tr>\n    <tr>\n      <th>2013-01-01 09:00:00</th>\n      <td>2.055000</td>\n      <td>2.055000</td>\n      <td>0.175667</td>\n    </tr>\n    <tr>\n      <th>2013-01-01 12:00:00</th>\n      <td>1.710000</td>\n      <td>1.710000</td>\n      <td>0.129583</td>\n    </tr>\n    <tr>\n      <th>2013-01-01 15:00:00</th>\n      <td>1.420000</td>\n      <td>1.420000</td>\n      <td>0.096333</td>\n    </tr>\n    <tr>\n      <th>2013-01-01 18:00:00</th>\n      <td>1.178583</td>\n      <td>1.178583</td>\n      <td>0.083083</td>\n    </tr>\n    <tr>\n      <th>2013-01-01 21:00:00</th>\n      <td>0.898250</td>\n      <td>0.898250</td>\n      <td>0.077167</td>\n    </tr>\n    <tr>\n      <th>2013-01-02 00:00:00</th>\n      <td>0.860000</td>\n      <td>0.860000</td>\n      <td>0.075000</td>\n    </tr>\n  </tbody>\n</table>\n</div>"
          },
          "metadata": {}
        }
      ]
    },
    {
      "cell_type": "code",
      "source": "data.loc['2013']",
      "metadata": {
        "trusted": true
      },
      "execution_count": 30,
      "outputs": [
        {
          "execution_count": 30,
          "output_type": "execute_result",
          "data": {
            "text/plain": "                      L06_347  LS06_347  LS06_348\nTime                                             \n2013-01-01 00:00:00  1.688333  1.688333  0.207333\n2013-01-01 03:00:00  2.693333  2.693333  0.201500\n2013-01-01 06:00:00  2.220833  2.220833  0.166917\n2013-01-01 09:00:00  2.055000  2.055000  0.175667\n2013-01-01 12:00:00  1.710000  1.710000  0.129583\n2013-01-01 15:00:00  1.420000  1.420000  0.096333\n2013-01-01 18:00:00  1.178583  1.178583  0.083083\n2013-01-01 21:00:00  0.898250  0.898250  0.077167\n2013-01-02 00:00:00  0.860000  0.860000  0.075000",
            "text/html": "<div>\n<style scoped>\n    .dataframe tbody tr th:only-of-type {\n        vertical-align: middle;\n    }\n\n    .dataframe tbody tr th {\n        vertical-align: top;\n    }\n\n    .dataframe thead th {\n        text-align: right;\n    }\n</style>\n<table border=\"1\" class=\"dataframe\">\n  <thead>\n    <tr style=\"text-align: right;\">\n      <th></th>\n      <th>L06_347</th>\n      <th>LS06_347</th>\n      <th>LS06_348</th>\n    </tr>\n    <tr>\n      <th>Time</th>\n      <th></th>\n      <th></th>\n      <th></th>\n    </tr>\n  </thead>\n  <tbody>\n    <tr>\n      <th>2013-01-01 00:00:00</th>\n      <td>1.688333</td>\n      <td>1.688333</td>\n      <td>0.207333</td>\n    </tr>\n    <tr>\n      <th>2013-01-01 03:00:00</th>\n      <td>2.693333</td>\n      <td>2.693333</td>\n      <td>0.201500</td>\n    </tr>\n    <tr>\n      <th>2013-01-01 06:00:00</th>\n      <td>2.220833</td>\n      <td>2.220833</td>\n      <td>0.166917</td>\n    </tr>\n    <tr>\n      <th>2013-01-01 09:00:00</th>\n      <td>2.055000</td>\n      <td>2.055000</td>\n      <td>0.175667</td>\n    </tr>\n    <tr>\n      <th>2013-01-01 12:00:00</th>\n      <td>1.710000</td>\n      <td>1.710000</td>\n      <td>0.129583</td>\n    </tr>\n    <tr>\n      <th>2013-01-01 15:00:00</th>\n      <td>1.420000</td>\n      <td>1.420000</td>\n      <td>0.096333</td>\n    </tr>\n    <tr>\n      <th>2013-01-01 18:00:00</th>\n      <td>1.178583</td>\n      <td>1.178583</td>\n      <td>0.083083</td>\n    </tr>\n    <tr>\n      <th>2013-01-01 21:00:00</th>\n      <td>0.898250</td>\n      <td>0.898250</td>\n      <td>0.077167</td>\n    </tr>\n    <tr>\n      <th>2013-01-02 00:00:00</th>\n      <td>0.860000</td>\n      <td>0.860000</td>\n      <td>0.075000</td>\n    </tr>\n  </tbody>\n</table>\n</div>"
          },
          "metadata": {}
        }
      ]
    },
    {
      "cell_type": "code",
      "source": "data['2012-01':'2012-03']",
      "metadata": {
        "trusted": true
      },
      "execution_count": 32,
      "outputs": [
        {
          "execution_count": 32,
          "output_type": "execute_result",
          "data": {
            "text/plain": "                      L06_347  LS06_347  LS06_348\nTime                                             \n2012-01-01 00:00:00  0.307167  0.273917  0.028000\n2012-01-01 03:00:00  0.302917  0.270833  0.030583\n2012-01-01 06:00:00  0.331500  0.284750  0.030917\n2012-01-01 09:00:00  0.330750  0.293583  0.029750\n2012-01-01 12:00:00  0.295000  0.285167  0.031750\n...                       ...       ...       ...\n2012-03-31 09:00:00  0.104917  0.125000  0.012417\n2012-03-31 12:00:00  0.098333  0.124417  0.011833\n2012-03-31 15:00:00  0.091917  0.123917  0.011500\n2012-03-31 18:00:00  0.085750  0.121417  0.011000\n2012-03-31 21:00:00  0.068417  0.119750  0.010417\n\n[728 rows x 3 columns]",
            "text/html": "<div>\n<style scoped>\n    .dataframe tbody tr th:only-of-type {\n        vertical-align: middle;\n    }\n\n    .dataframe tbody tr th {\n        vertical-align: top;\n    }\n\n    .dataframe thead th {\n        text-align: right;\n    }\n</style>\n<table border=\"1\" class=\"dataframe\">\n  <thead>\n    <tr style=\"text-align: right;\">\n      <th></th>\n      <th>L06_347</th>\n      <th>LS06_347</th>\n      <th>LS06_348</th>\n    </tr>\n    <tr>\n      <th>Time</th>\n      <th></th>\n      <th></th>\n      <th></th>\n    </tr>\n  </thead>\n  <tbody>\n    <tr>\n      <th>2012-01-01 00:00:00</th>\n      <td>0.307167</td>\n      <td>0.273917</td>\n      <td>0.028000</td>\n    </tr>\n    <tr>\n      <th>2012-01-01 03:00:00</th>\n      <td>0.302917</td>\n      <td>0.270833</td>\n      <td>0.030583</td>\n    </tr>\n    <tr>\n      <th>2012-01-01 06:00:00</th>\n      <td>0.331500</td>\n      <td>0.284750</td>\n      <td>0.030917</td>\n    </tr>\n    <tr>\n      <th>2012-01-01 09:00:00</th>\n      <td>0.330750</td>\n      <td>0.293583</td>\n      <td>0.029750</td>\n    </tr>\n    <tr>\n      <th>2012-01-01 12:00:00</th>\n      <td>0.295000</td>\n      <td>0.285167</td>\n      <td>0.031750</td>\n    </tr>\n    <tr>\n      <th>...</th>\n      <td>...</td>\n      <td>...</td>\n      <td>...</td>\n    </tr>\n    <tr>\n      <th>2012-03-31 09:00:00</th>\n      <td>0.104917</td>\n      <td>0.125000</td>\n      <td>0.012417</td>\n    </tr>\n    <tr>\n      <th>2012-03-31 12:00:00</th>\n      <td>0.098333</td>\n      <td>0.124417</td>\n      <td>0.011833</td>\n    </tr>\n    <tr>\n      <th>2012-03-31 15:00:00</th>\n      <td>0.091917</td>\n      <td>0.123917</td>\n      <td>0.011500</td>\n    </tr>\n    <tr>\n      <th>2012-03-31 18:00:00</th>\n      <td>0.085750</td>\n      <td>0.121417</td>\n      <td>0.011000</td>\n    </tr>\n    <tr>\n      <th>2012-03-31 21:00:00</th>\n      <td>0.068417</td>\n      <td>0.119750</td>\n      <td>0.010417</td>\n    </tr>\n  </tbody>\n</table>\n<p>728 rows × 3 columns</p>\n</div>"
          },
          "metadata": {}
        }
      ]
    },
    {
      "cell_type": "code",
      "source": "data[data.index.month == 1]",
      "metadata": {
        "trusted": true
      },
      "execution_count": 33,
      "outputs": [
        {
          "execution_count": 33,
          "output_type": "execute_result",
          "data": {
            "text/plain": "                      L06_347  LS06_347  LS06_348\nTime                                             \n2009-01-01 00:00:00  0.137417  0.097500  0.016833\n2009-01-01 03:00:00  0.131250  0.088833  0.016417\n2009-01-01 06:00:00  0.113500  0.091250  0.016750\n2009-01-01 09:00:00  0.135750  0.091500  0.016250\n2009-01-01 12:00:00  0.140917  0.096167  0.017000\n...                       ...       ...       ...\n2013-01-01 12:00:00  1.710000  1.710000  0.129583\n2013-01-01 15:00:00  1.420000  1.420000  0.096333\n2013-01-01 18:00:00  1.178583  1.178583  0.083083\n2013-01-01 21:00:00  0.898250  0.898250  0.077167\n2013-01-02 00:00:00  0.860000  0.860000  0.075000\n\n[1001 rows x 3 columns]",
            "text/html": "<div>\n<style scoped>\n    .dataframe tbody tr th:only-of-type {\n        vertical-align: middle;\n    }\n\n    .dataframe tbody tr th {\n        vertical-align: top;\n    }\n\n    .dataframe thead th {\n        text-align: right;\n    }\n</style>\n<table border=\"1\" class=\"dataframe\">\n  <thead>\n    <tr style=\"text-align: right;\">\n      <th></th>\n      <th>L06_347</th>\n      <th>LS06_347</th>\n      <th>LS06_348</th>\n    </tr>\n    <tr>\n      <th>Time</th>\n      <th></th>\n      <th></th>\n      <th></th>\n    </tr>\n  </thead>\n  <tbody>\n    <tr>\n      <th>2009-01-01 00:00:00</th>\n      <td>0.137417</td>\n      <td>0.097500</td>\n      <td>0.016833</td>\n    </tr>\n    <tr>\n      <th>2009-01-01 03:00:00</th>\n      <td>0.131250</td>\n      <td>0.088833</td>\n      <td>0.016417</td>\n    </tr>\n    <tr>\n      <th>2009-01-01 06:00:00</th>\n      <td>0.113500</td>\n      <td>0.091250</td>\n      <td>0.016750</td>\n    </tr>\n    <tr>\n      <th>2009-01-01 09:00:00</th>\n      <td>0.135750</td>\n      <td>0.091500</td>\n      <td>0.016250</td>\n    </tr>\n    <tr>\n      <th>2009-01-01 12:00:00</th>\n      <td>0.140917</td>\n      <td>0.096167</td>\n      <td>0.017000</td>\n    </tr>\n    <tr>\n      <th>...</th>\n      <td>...</td>\n      <td>...</td>\n      <td>...</td>\n    </tr>\n    <tr>\n      <th>2013-01-01 12:00:00</th>\n      <td>1.710000</td>\n      <td>1.710000</td>\n      <td>0.129583</td>\n    </tr>\n    <tr>\n      <th>2013-01-01 15:00:00</th>\n      <td>1.420000</td>\n      <td>1.420000</td>\n      <td>0.096333</td>\n    </tr>\n    <tr>\n      <th>2013-01-01 18:00:00</th>\n      <td>1.178583</td>\n      <td>1.178583</td>\n      <td>0.083083</td>\n    </tr>\n    <tr>\n      <th>2013-01-01 21:00:00</th>\n      <td>0.898250</td>\n      <td>0.898250</td>\n      <td>0.077167</td>\n    </tr>\n    <tr>\n      <th>2013-01-02 00:00:00</th>\n      <td>0.860000</td>\n      <td>0.860000</td>\n      <td>0.075000</td>\n    </tr>\n  </tbody>\n</table>\n<p>1001 rows × 3 columns</p>\n</div>"
          },
          "metadata": {}
        }
      ]
    },
    {
      "cell_type": "code",
      "source": "data[(data.index.hour > 8) & (data.index.hour < 12)]",
      "metadata": {
        "trusted": true
      },
      "execution_count": 34,
      "outputs": [
        {
          "execution_count": 34,
          "output_type": "execute_result",
          "data": {
            "text/plain": "                      L06_347  LS06_347  LS06_348\nTime                                             \n2009-01-01 09:00:00  0.135750  0.091500  0.016250\n2009-01-02 09:00:00  0.141917  0.097083  0.016417\n2009-01-03 09:00:00  0.124583  0.084417  0.015833\n2009-01-04 09:00:00  0.109000  0.105167  0.018000\n2009-01-05 09:00:00  0.161500  0.114583  0.021583\n...                       ...       ...       ...\n2012-12-28 09:00:00  0.961500  0.961500  0.092417\n2012-12-29 09:00:00  0.786833  0.786833  0.077000\n2012-12-30 09:00:00  0.916000  0.916000  0.101583\n2012-12-31 09:00:00  0.682750  0.682750  0.066583\n2013-01-01 09:00:00  2.055000  2.055000  0.175667\n\n[1462 rows x 3 columns]",
            "text/html": "<div>\n<style scoped>\n    .dataframe tbody tr th:only-of-type {\n        vertical-align: middle;\n    }\n\n    .dataframe tbody tr th {\n        vertical-align: top;\n    }\n\n    .dataframe thead th {\n        text-align: right;\n    }\n</style>\n<table border=\"1\" class=\"dataframe\">\n  <thead>\n    <tr style=\"text-align: right;\">\n      <th></th>\n      <th>L06_347</th>\n      <th>LS06_347</th>\n      <th>LS06_348</th>\n    </tr>\n    <tr>\n      <th>Time</th>\n      <th></th>\n      <th></th>\n      <th></th>\n    </tr>\n  </thead>\n  <tbody>\n    <tr>\n      <th>2009-01-01 09:00:00</th>\n      <td>0.135750</td>\n      <td>0.091500</td>\n      <td>0.016250</td>\n    </tr>\n    <tr>\n      <th>2009-01-02 09:00:00</th>\n      <td>0.141917</td>\n      <td>0.097083</td>\n      <td>0.016417</td>\n    </tr>\n    <tr>\n      <th>2009-01-03 09:00:00</th>\n      <td>0.124583</td>\n      <td>0.084417</td>\n      <td>0.015833</td>\n    </tr>\n    <tr>\n      <th>2009-01-04 09:00:00</th>\n      <td>0.109000</td>\n      <td>0.105167</td>\n      <td>0.018000</td>\n    </tr>\n    <tr>\n      <th>2009-01-05 09:00:00</th>\n      <td>0.161500</td>\n      <td>0.114583</td>\n      <td>0.021583</td>\n    </tr>\n    <tr>\n      <th>...</th>\n      <td>...</td>\n      <td>...</td>\n      <td>...</td>\n    </tr>\n    <tr>\n      <th>2012-12-28 09:00:00</th>\n      <td>0.961500</td>\n      <td>0.961500</td>\n      <td>0.092417</td>\n    </tr>\n    <tr>\n      <th>2012-12-29 09:00:00</th>\n      <td>0.786833</td>\n      <td>0.786833</td>\n      <td>0.077000</td>\n    </tr>\n    <tr>\n      <th>2012-12-30 09:00:00</th>\n      <td>0.916000</td>\n      <td>0.916000</td>\n      <td>0.101583</td>\n    </tr>\n    <tr>\n      <th>2012-12-31 09:00:00</th>\n      <td>0.682750</td>\n      <td>0.682750</td>\n      <td>0.066583</td>\n    </tr>\n    <tr>\n      <th>2013-01-01 09:00:00</th>\n      <td>2.055000</td>\n      <td>2.055000</td>\n      <td>0.175667</td>\n    </tr>\n  </tbody>\n</table>\n<p>1462 rows × 3 columns</p>\n</div>"
          },
          "metadata": {}
        }
      ]
    },
    {
      "cell_type": "code",
      "source": "data.between_time('08:00','12:00')",
      "metadata": {
        "trusted": true
      },
      "execution_count": 35,
      "outputs": [
        {
          "execution_count": 35,
          "output_type": "execute_result",
          "data": {
            "text/plain": "                      L06_347  LS06_347  LS06_348\nTime                                             \n2009-01-01 09:00:00  0.135750  0.091500  0.016250\n2009-01-01 12:00:00  0.140917  0.096167  0.017000\n2009-01-02 09:00:00  0.141917  0.097083  0.016417\n2009-01-02 12:00:00  0.147833  0.101917  0.016417\n2009-01-03 09:00:00  0.124583  0.084417  0.015833\n...                       ...       ...       ...\n2012-12-30 12:00:00  1.465000  1.465000  0.086833\n2012-12-31 09:00:00  0.682750  0.682750  0.066583\n2012-12-31 12:00:00  0.651250  0.651250  0.063833\n2013-01-01 09:00:00  2.055000  2.055000  0.175667\n2013-01-01 12:00:00  1.710000  1.710000  0.129583\n\n[2924 rows x 3 columns]",
            "text/html": "<div>\n<style scoped>\n    .dataframe tbody tr th:only-of-type {\n        vertical-align: middle;\n    }\n\n    .dataframe tbody tr th {\n        vertical-align: top;\n    }\n\n    .dataframe thead th {\n        text-align: right;\n    }\n</style>\n<table border=\"1\" class=\"dataframe\">\n  <thead>\n    <tr style=\"text-align: right;\">\n      <th></th>\n      <th>L06_347</th>\n      <th>LS06_347</th>\n      <th>LS06_348</th>\n    </tr>\n    <tr>\n      <th>Time</th>\n      <th></th>\n      <th></th>\n      <th></th>\n    </tr>\n  </thead>\n  <tbody>\n    <tr>\n      <th>2009-01-01 09:00:00</th>\n      <td>0.135750</td>\n      <td>0.091500</td>\n      <td>0.016250</td>\n    </tr>\n    <tr>\n      <th>2009-01-01 12:00:00</th>\n      <td>0.140917</td>\n      <td>0.096167</td>\n      <td>0.017000</td>\n    </tr>\n    <tr>\n      <th>2009-01-02 09:00:00</th>\n      <td>0.141917</td>\n      <td>0.097083</td>\n      <td>0.016417</td>\n    </tr>\n    <tr>\n      <th>2009-01-02 12:00:00</th>\n      <td>0.147833</td>\n      <td>0.101917</td>\n      <td>0.016417</td>\n    </tr>\n    <tr>\n      <th>2009-01-03 09:00:00</th>\n      <td>0.124583</td>\n      <td>0.084417</td>\n      <td>0.015833</td>\n    </tr>\n    <tr>\n      <th>...</th>\n      <td>...</td>\n      <td>...</td>\n      <td>...</td>\n    </tr>\n    <tr>\n      <th>2012-12-30 12:00:00</th>\n      <td>1.465000</td>\n      <td>1.465000</td>\n      <td>0.086833</td>\n    </tr>\n    <tr>\n      <th>2012-12-31 09:00:00</th>\n      <td>0.682750</td>\n      <td>0.682750</td>\n      <td>0.066583</td>\n    </tr>\n    <tr>\n      <th>2012-12-31 12:00:00</th>\n      <td>0.651250</td>\n      <td>0.651250</td>\n      <td>0.063833</td>\n    </tr>\n    <tr>\n      <th>2013-01-01 09:00:00</th>\n      <td>2.055000</td>\n      <td>2.055000</td>\n      <td>0.175667</td>\n    </tr>\n    <tr>\n      <th>2013-01-01 12:00:00</th>\n      <td>1.710000</td>\n      <td>1.710000</td>\n      <td>0.129583</td>\n    </tr>\n  </tbody>\n</table>\n<p>2924 rows × 3 columns</p>\n</div>"
          },
          "metadata": {}
        }
      ]
    },
    {
      "cell_type": "code",
      "source": "data.head()",
      "metadata": {
        "trusted": true
      },
      "execution_count": 36,
      "outputs": [
        {
          "execution_count": 36,
          "output_type": "execute_result",
          "data": {
            "text/plain": "                      L06_347  LS06_347  LS06_348\nTime                                             \n2009-01-01 00:00:00  0.137417  0.097500  0.016833\n2009-01-01 03:00:00  0.131250  0.088833  0.016417\n2009-01-01 06:00:00  0.113500  0.091250  0.016750\n2009-01-01 09:00:00  0.135750  0.091500  0.016250\n2009-01-01 12:00:00  0.140917  0.096167  0.017000",
            "text/html": "<div>\n<style scoped>\n    .dataframe tbody tr th:only-of-type {\n        vertical-align: middle;\n    }\n\n    .dataframe tbody tr th {\n        vertical-align: top;\n    }\n\n    .dataframe thead th {\n        text-align: right;\n    }\n</style>\n<table border=\"1\" class=\"dataframe\">\n  <thead>\n    <tr style=\"text-align: right;\">\n      <th></th>\n      <th>L06_347</th>\n      <th>LS06_347</th>\n      <th>LS06_348</th>\n    </tr>\n    <tr>\n      <th>Time</th>\n      <th></th>\n      <th></th>\n      <th></th>\n    </tr>\n  </thead>\n  <tbody>\n    <tr>\n      <th>2009-01-01 00:00:00</th>\n      <td>0.137417</td>\n      <td>0.097500</td>\n      <td>0.016833</td>\n    </tr>\n    <tr>\n      <th>2009-01-01 03:00:00</th>\n      <td>0.131250</td>\n      <td>0.088833</td>\n      <td>0.016417</td>\n    </tr>\n    <tr>\n      <th>2009-01-01 06:00:00</th>\n      <td>0.113500</td>\n      <td>0.091250</td>\n      <td>0.016750</td>\n    </tr>\n    <tr>\n      <th>2009-01-01 09:00:00</th>\n      <td>0.135750</td>\n      <td>0.091500</td>\n      <td>0.016250</td>\n    </tr>\n    <tr>\n      <th>2009-01-01 12:00:00</th>\n      <td>0.140917</td>\n      <td>0.096167</td>\n      <td>0.017000</td>\n    </tr>\n  </tbody>\n</table>\n</div>"
          },
          "metadata": {}
        }
      ]
    },
    {
      "cell_type": "code",
      "source": "# data.resample('D') : 以天為單位\ndata.resample('D').mean().head()",
      "metadata": {
        "trusted": true
      },
      "execution_count": 39,
      "outputs": [
        {
          "execution_count": 39,
          "output_type": "execute_result",
          "data": {
            "text/plain": "             L06_347  LS06_347  LS06_348\nTime                                    \n2009-01-01  0.125010  0.092281  0.016635\n2009-01-02  0.124146  0.095781  0.016406\n2009-01-03  0.113562  0.085542  0.016094\n2009-01-04  0.140198  0.102708  0.017323\n2009-01-05  0.128812  0.104490  0.018167",
            "text/html": "<div>\n<style scoped>\n    .dataframe tbody tr th:only-of-type {\n        vertical-align: middle;\n    }\n\n    .dataframe tbody tr th {\n        vertical-align: top;\n    }\n\n    .dataframe thead th {\n        text-align: right;\n    }\n</style>\n<table border=\"1\" class=\"dataframe\">\n  <thead>\n    <tr style=\"text-align: right;\">\n      <th></th>\n      <th>L06_347</th>\n      <th>LS06_347</th>\n      <th>LS06_348</th>\n    </tr>\n    <tr>\n      <th>Time</th>\n      <th></th>\n      <th></th>\n      <th></th>\n    </tr>\n  </thead>\n  <tbody>\n    <tr>\n      <th>2009-01-01</th>\n      <td>0.125010</td>\n      <td>0.092281</td>\n      <td>0.016635</td>\n    </tr>\n    <tr>\n      <th>2009-01-02</th>\n      <td>0.124146</td>\n      <td>0.095781</td>\n      <td>0.016406</td>\n    </tr>\n    <tr>\n      <th>2009-01-03</th>\n      <td>0.113562</td>\n      <td>0.085542</td>\n      <td>0.016094</td>\n    </tr>\n    <tr>\n      <th>2009-01-04</th>\n      <td>0.140198</td>\n      <td>0.102708</td>\n      <td>0.017323</td>\n    </tr>\n    <tr>\n      <th>2009-01-05</th>\n      <td>0.128812</td>\n      <td>0.104490</td>\n      <td>0.018167</td>\n    </tr>\n  </tbody>\n</table>\n</div>"
          },
          "metadata": {}
        }
      ]
    },
    {
      "cell_type": "code",
      "source": "data.resample('D').max().head()",
      "metadata": {
        "trusted": true
      },
      "execution_count": 43,
      "outputs": [
        {
          "execution_count": 43,
          "output_type": "execute_result",
          "data": {
            "text/plain": "             L06_347  LS06_347  LS06_348\nTime                                    \n2009-01-01  0.140917  0.097500  0.017583\n2009-01-02  0.147833  0.101917  0.016833\n2009-01-03  0.135833  0.092500  0.016833\n2009-01-04  0.160417  0.113750  0.018417\n2009-01-05  0.161500  0.115167  0.021583",
            "text/html": "<div>\n<style scoped>\n    .dataframe tbody tr th:only-of-type {\n        vertical-align: middle;\n    }\n\n    .dataframe tbody tr th {\n        vertical-align: top;\n    }\n\n    .dataframe thead th {\n        text-align: right;\n    }\n</style>\n<table border=\"1\" class=\"dataframe\">\n  <thead>\n    <tr style=\"text-align: right;\">\n      <th></th>\n      <th>L06_347</th>\n      <th>LS06_347</th>\n      <th>LS06_348</th>\n    </tr>\n    <tr>\n      <th>Time</th>\n      <th></th>\n      <th></th>\n      <th></th>\n    </tr>\n  </thead>\n  <tbody>\n    <tr>\n      <th>2009-01-01</th>\n      <td>0.140917</td>\n      <td>0.097500</td>\n      <td>0.017583</td>\n    </tr>\n    <tr>\n      <th>2009-01-02</th>\n      <td>0.147833</td>\n      <td>0.101917</td>\n      <td>0.016833</td>\n    </tr>\n    <tr>\n      <th>2009-01-03</th>\n      <td>0.135833</td>\n      <td>0.092500</td>\n      <td>0.016833</td>\n    </tr>\n    <tr>\n      <th>2009-01-04</th>\n      <td>0.160417</td>\n      <td>0.113750</td>\n      <td>0.018417</td>\n    </tr>\n    <tr>\n      <th>2009-01-05</th>\n      <td>0.161500</td>\n      <td>0.115167</td>\n      <td>0.021583</td>\n    </tr>\n  </tbody>\n</table>\n</div>"
          },
          "metadata": {}
        }
      ]
    },
    {
      "cell_type": "code",
      "source": "data.resample('3D').mean().head()",
      "metadata": {
        "trusted": true
      },
      "execution_count": 44,
      "outputs": [
        {
          "execution_count": 44,
          "output_type": "execute_result",
          "data": {
            "text/plain": "             L06_347  LS06_347  LS06_348\nTime                                    \n2009-01-01  0.120906  0.091201  0.016378\n2009-01-04  0.121594  0.091708  0.016670\n2009-01-07  0.097042  0.070740  0.014479\n2009-01-10  0.115941  0.086340  0.014545\n2009-01-13  0.346962  0.364549  0.034198",
            "text/html": "<div>\n<style scoped>\n    .dataframe tbody tr th:only-of-type {\n        vertical-align: middle;\n    }\n\n    .dataframe tbody tr th {\n        vertical-align: top;\n    }\n\n    .dataframe thead th {\n        text-align: right;\n    }\n</style>\n<table border=\"1\" class=\"dataframe\">\n  <thead>\n    <tr style=\"text-align: right;\">\n      <th></th>\n      <th>L06_347</th>\n      <th>LS06_347</th>\n      <th>LS06_348</th>\n    </tr>\n    <tr>\n      <th>Time</th>\n      <th></th>\n      <th></th>\n      <th></th>\n    </tr>\n  </thead>\n  <tbody>\n    <tr>\n      <th>2009-01-01</th>\n      <td>0.120906</td>\n      <td>0.091201</td>\n      <td>0.016378</td>\n    </tr>\n    <tr>\n      <th>2009-01-04</th>\n      <td>0.121594</td>\n      <td>0.091708</td>\n      <td>0.016670</td>\n    </tr>\n    <tr>\n      <th>2009-01-07</th>\n      <td>0.097042</td>\n      <td>0.070740</td>\n      <td>0.014479</td>\n    </tr>\n    <tr>\n      <th>2009-01-10</th>\n      <td>0.115941</td>\n      <td>0.086340</td>\n      <td>0.014545</td>\n    </tr>\n    <tr>\n      <th>2009-01-13</th>\n      <td>0.346962</td>\n      <td>0.364549</td>\n      <td>0.034198</td>\n    </tr>\n  </tbody>\n</table>\n</div>"
          },
          "metadata": {}
        }
      ]
    },
    {
      "cell_type": "code",
      "source": "data.resample('M').mean().head()",
      "metadata": {
        "trusted": true
      },
      "execution_count": 46,
      "outputs": [
        {
          "execution_count": 46,
          "output_type": "execute_result",
          "data": {
            "text/plain": "             L06_347  LS06_347  LS06_348\nTime                                    \n2009-01-31  0.517864  0.536660  0.045597\n2009-02-28  0.516847  0.529987  0.047238\n2009-03-31  0.373157  0.383172  0.037508\n2009-04-30  0.163182  0.129354  0.021356\n2009-05-31  0.178588  0.160616  0.020744",
            "text/html": "<div>\n<style scoped>\n    .dataframe tbody tr th:only-of-type {\n        vertical-align: middle;\n    }\n\n    .dataframe tbody tr th {\n        vertical-align: top;\n    }\n\n    .dataframe thead th {\n        text-align: right;\n    }\n</style>\n<table border=\"1\" class=\"dataframe\">\n  <thead>\n    <tr style=\"text-align: right;\">\n      <th></th>\n      <th>L06_347</th>\n      <th>LS06_347</th>\n      <th>LS06_348</th>\n    </tr>\n    <tr>\n      <th>Time</th>\n      <th></th>\n      <th></th>\n      <th></th>\n    </tr>\n  </thead>\n  <tbody>\n    <tr>\n      <th>2009-01-31</th>\n      <td>0.517864</td>\n      <td>0.536660</td>\n      <td>0.045597</td>\n    </tr>\n    <tr>\n      <th>2009-02-28</th>\n      <td>0.516847</td>\n      <td>0.529987</td>\n      <td>0.047238</td>\n    </tr>\n    <tr>\n      <th>2009-03-31</th>\n      <td>0.373157</td>\n      <td>0.383172</td>\n      <td>0.037508</td>\n    </tr>\n    <tr>\n      <th>2009-04-30</th>\n      <td>0.163182</td>\n      <td>0.129354</td>\n      <td>0.021356</td>\n    </tr>\n    <tr>\n      <th>2009-05-31</th>\n      <td>0.178588</td>\n      <td>0.160616</td>\n      <td>0.020744</td>\n    </tr>\n  </tbody>\n</table>\n</div>"
          },
          "metadata": {}
        }
      ]
    },
    {
      "cell_type": "code",
      "source": "import matplotlib\ndata.resample('M').mean().plot()",
      "metadata": {
        "trusted": true
      },
      "execution_count": 47,
      "outputs": [
        {
          "execution_count": 47,
          "output_type": "execute_result",
          "data": {
            "text/plain": "<AxesSubplot:xlabel='Time'>"
          },
          "metadata": {}
        },
        {
          "output_type": "display_data",
          "data": {
            "text/plain": "<Figure size 640x480 with 1 Axes>",
            "image/png": "[encoded data removed]"
          },
          "metadata": {}
        }
      ]
    },
    {
      "cell_type": "code",
      "source": "data = pd.DataFrame({'group':['a','a','a','b','b','b','c','c','c'],\n                    'data':[4,3,2,1,12,3,4,5,7]})\ndata",
      "metadata": {
        "trusted": true
      },
      "execution_count": 48,
      "outputs": [
        {
          "execution_count": 48,
          "output_type": "execute_result",
          "data": {
            "text/plain": "  group  data\n0     a     4\n1     a     3\n2     a     2\n3     b     1\n4     b    12\n5     b     3\n6     c     4\n7     c     5\n8     c     7",
            "text/html": "<div>\n<style scoped>\n    .dataframe tbody tr th:only-of-type {\n        vertical-align: middle;\n    }\n\n    .dataframe tbody tr th {\n        vertical-align: top;\n    }\n\n    .dataframe thead th {\n        text-align: right;\n    }\n</style>\n<table border=\"1\" class=\"dataframe\">\n  <thead>\n    <tr style=\"text-align: right;\">\n      <th></th>\n      <th>group</th>\n      <th>data</th>\n    </tr>\n  </thead>\n  <tbody>\n    <tr>\n      <th>0</th>\n      <td>a</td>\n      <td>4</td>\n    </tr>\n    <tr>\n      <th>1</th>\n      <td>a</td>\n      <td>3</td>\n    </tr>\n    <tr>\n      <th>2</th>\n      <td>a</td>\n      <td>2</td>\n    </tr>\n    <tr>\n      <th>3</th>\n      <td>b</td>\n      <td>1</td>\n    </tr>\n    <tr>\n      <th>4</th>\n      <td>b</td>\n      <td>12</td>\n    </tr>\n    <tr>\n      <th>5</th>\n      <td>b</td>\n      <td>3</td>\n    </tr>\n    <tr>\n      <th>6</th>\n      <td>c</td>\n      <td>4</td>\n    </tr>\n    <tr>\n      <th>7</th>\n      <td>c</td>\n      <td>5</td>\n    </tr>\n    <tr>\n      <th>8</th>\n      <td>c</td>\n      <td>7</td>\n    </tr>\n  </tbody>\n</table>\n</div>"
          },
          "metadata": {}
        }
      ]
    },
    {
      "cell_type": "code",
      "source": "data.sort_values(by=['group','data'],ascending = [False,True],inplace=True)\ndata",
      "metadata": {
        "trusted": true
      },
      "execution_count": 49,
      "outputs": [
        {
          "execution_count": 49,
          "output_type": "execute_result",
          "data": {
            "text/plain": "  group  data\n6     c     4\n7     c     5\n8     c     7\n3     b     1\n5     b     3\n4     b    12\n2     a     2\n1     a     3\n0     a     4",
            "text/html": "<div>\n<style scoped>\n    .dataframe tbody tr th:only-of-type {\n        vertical-align: middle;\n    }\n\n    .dataframe tbody tr th {\n        vertical-align: top;\n    }\n\n    .dataframe thead th {\n        text-align: right;\n    }\n</style>\n<table border=\"1\" class=\"dataframe\">\n  <thead>\n    <tr style=\"text-align: right;\">\n      <th></th>\n      <th>group</th>\n      <th>data</th>\n    </tr>\n  </thead>\n  <tbody>\n    <tr>\n      <th>6</th>\n      <td>c</td>\n      <td>4</td>\n    </tr>\n    <tr>\n      <th>7</th>\n      <td>c</td>\n      <td>5</td>\n    </tr>\n    <tr>\n      <th>8</th>\n      <td>c</td>\n      <td>7</td>\n    </tr>\n    <tr>\n      <th>3</th>\n      <td>b</td>\n      <td>1</td>\n    </tr>\n    <tr>\n      <th>5</th>\n      <td>b</td>\n      <td>3</td>\n    </tr>\n    <tr>\n      <th>4</th>\n      <td>b</td>\n      <td>12</td>\n    </tr>\n    <tr>\n      <th>2</th>\n      <td>a</td>\n      <td>2</td>\n    </tr>\n    <tr>\n      <th>1</th>\n      <td>a</td>\n      <td>3</td>\n    </tr>\n    <tr>\n      <th>0</th>\n      <td>a</td>\n      <td>4</td>\n    </tr>\n  </tbody>\n</table>\n</div>"
          },
          "metadata": {}
        }
      ]
    },
    {
      "cell_type": "code",
      "source": "data = pd.DataFrame({'k1':['one']*3+['two']*4,\n                   'k2':[3,2,1,3,3,4,4]})\ndata",
      "metadata": {
        "trusted": true
      },
      "execution_count": 50,
      "outputs": [
        {
          "execution_count": 50,
          "output_type": "execute_result",
          "data": {
            "text/plain": "    k1  k2\n0  one   3\n1  one   2\n2  one   1\n3  two   3\n4  two   3\n5  two   4\n6  two   4",
            "text/html": "<div>\n<style scoped>\n    .dataframe tbody tr th:only-of-type {\n        vertical-align: middle;\n    }\n\n    .dataframe tbody tr th {\n        vertical-align: top;\n    }\n\n    .dataframe thead th {\n        text-align: right;\n    }\n</style>\n<table border=\"1\" class=\"dataframe\">\n  <thead>\n    <tr style=\"text-align: right;\">\n      <th></th>\n      <th>k1</th>\n      <th>k2</th>\n    </tr>\n  </thead>\n  <tbody>\n    <tr>\n      <th>0</th>\n      <td>one</td>\n      <td>3</td>\n    </tr>\n    <tr>\n      <th>1</th>\n      <td>one</td>\n      <td>2</td>\n    </tr>\n    <tr>\n      <th>2</th>\n      <td>one</td>\n      <td>1</td>\n    </tr>\n    <tr>\n      <th>3</th>\n      <td>two</td>\n      <td>3</td>\n    </tr>\n    <tr>\n      <th>4</th>\n      <td>two</td>\n      <td>3</td>\n    </tr>\n    <tr>\n      <th>5</th>\n      <td>two</td>\n      <td>4</td>\n    </tr>\n    <tr>\n      <th>6</th>\n      <td>two</td>\n      <td>4</td>\n    </tr>\n  </tbody>\n</table>\n</div>"
          },
          "metadata": {}
        }
      ]
    },
    {
      "cell_type": "code",
      "source": "data.sort_values(by='k2')",
      "metadata": {
        "trusted": true
      },
      "execution_count": 51,
      "outputs": [
        {
          "execution_count": 51,
          "output_type": "execute_result",
          "data": {
            "text/plain": "    k1  k2\n2  one   1\n1  one   2\n0  one   3\n3  two   3\n4  two   3\n5  two   4\n6  two   4",
            "text/html": "<div>\n<style scoped>\n    .dataframe tbody tr th:only-of-type {\n        vertical-align: middle;\n    }\n\n    .dataframe tbody tr th {\n        vertical-align: top;\n    }\n\n    .dataframe thead th {\n        text-align: right;\n    }\n</style>\n<table border=\"1\" class=\"dataframe\">\n  <thead>\n    <tr style=\"text-align: right;\">\n      <th></th>\n      <th>k1</th>\n      <th>k2</th>\n    </tr>\n  </thead>\n  <tbody>\n    <tr>\n      <th>2</th>\n      <td>one</td>\n      <td>1</td>\n    </tr>\n    <tr>\n      <th>1</th>\n      <td>one</td>\n      <td>2</td>\n    </tr>\n    <tr>\n      <th>0</th>\n      <td>one</td>\n      <td>3</td>\n    </tr>\n    <tr>\n      <th>3</th>\n      <td>two</td>\n      <td>3</td>\n    </tr>\n    <tr>\n      <th>4</th>\n      <td>two</td>\n      <td>3</td>\n    </tr>\n    <tr>\n      <th>5</th>\n      <td>two</td>\n      <td>4</td>\n    </tr>\n    <tr>\n      <th>6</th>\n      <td>two</td>\n      <td>4</td>\n    </tr>\n  </tbody>\n</table>\n</div>"
          },
          "metadata": {}
        }
      ]
    },
    {
      "cell_type": "code",
      "source": "# .drop_duplicates() 去除重複的值\ndata.drop_duplicates()",
      "metadata": {
        "trusted": true
      },
      "execution_count": 53,
      "outputs": [
        {
          "execution_count": 53,
          "output_type": "execute_result",
          "data": {
            "text/plain": "    k1  k2\n0  one   3\n1  one   2\n2  one   1\n3  two   3\n5  two   4",
            "text/html": "<div>\n<style scoped>\n    .dataframe tbody tr th:only-of-type {\n        vertical-align: middle;\n    }\n\n    .dataframe tbody tr th {\n        vertical-align: top;\n    }\n\n    .dataframe thead th {\n        text-align: right;\n    }\n</style>\n<table border=\"1\" class=\"dataframe\">\n  <thead>\n    <tr style=\"text-align: right;\">\n      <th></th>\n      <th>k1</th>\n      <th>k2</th>\n    </tr>\n  </thead>\n  <tbody>\n    <tr>\n      <th>0</th>\n      <td>one</td>\n      <td>3</td>\n    </tr>\n    <tr>\n      <th>1</th>\n      <td>one</td>\n      <td>2</td>\n    </tr>\n    <tr>\n      <th>2</th>\n      <td>one</td>\n      <td>1</td>\n    </tr>\n    <tr>\n      <th>3</th>\n      <td>two</td>\n      <td>3</td>\n    </tr>\n    <tr>\n      <th>5</th>\n      <td>two</td>\n      <td>4</td>\n    </tr>\n  </tbody>\n</table>\n</div>"
          },
          "metadata": {}
        }
      ]
    },
    {
      "cell_type": "code",
      "source": "# subset : Only consider certain columns for identifying duplicates, by default use all of the columns.\ndata.drop_duplicates(subset='k1')",
      "metadata": {
        "trusted": true
      },
      "execution_count": 55,
      "outputs": [
        {
          "execution_count": 55,
          "output_type": "execute_result",
          "data": {
            "text/plain": "    k1  k2\n0  one   3\n3  two   3",
            "text/html": "<div>\n<style scoped>\n    .dataframe tbody tr th:only-of-type {\n        vertical-align: middle;\n    }\n\n    .dataframe tbody tr th {\n        vertical-align: top;\n    }\n\n    .dataframe thead th {\n        text-align: right;\n    }\n</style>\n<table border=\"1\" class=\"dataframe\">\n  <thead>\n    <tr style=\"text-align: right;\">\n      <th></th>\n      <th>k1</th>\n      <th>k2</th>\n    </tr>\n  </thead>\n  <tbody>\n    <tr>\n      <th>0</th>\n      <td>one</td>\n      <td>3</td>\n    </tr>\n    <tr>\n      <th>3</th>\n      <td>two</td>\n      <td>3</td>\n    </tr>\n  </tbody>\n</table>\n</div>"
          },
          "metadata": {}
        }
      ]
    },
    {
      "cell_type": "code",
      "source": "data = pd.DataFrame({'food':['A1','A2','B1','B2','B3','C1','C2'],'data':[1,2,3,4,5,6,7]})\ndata",
      "metadata": {
        "trusted": true
      },
      "execution_count": 56,
      "outputs": [
        {
          "execution_count": 56,
          "output_type": "execute_result",
          "data": {
            "text/plain": "  food  data\n0   A1     1\n1   A2     2\n2   B1     3\n3   B2     4\n4   B3     5\n5   C1     6\n6   C2     7",
            "text/html": "<div>\n<style scoped>\n    .dataframe tbody tr th:only-of-type {\n        vertical-align: middle;\n    }\n\n    .dataframe tbody tr th {\n        vertical-align: top;\n    }\n\n    .dataframe thead th {\n        text-align: right;\n    }\n</style>\n<table border=\"1\" class=\"dataframe\">\n  <thead>\n    <tr style=\"text-align: right;\">\n      <th></th>\n      <th>food</th>\n      <th>data</th>\n    </tr>\n  </thead>\n  <tbody>\n    <tr>\n      <th>0</th>\n      <td>A1</td>\n      <td>1</td>\n    </tr>\n    <tr>\n      <th>1</th>\n      <td>A2</td>\n      <td>2</td>\n    </tr>\n    <tr>\n      <th>2</th>\n      <td>B1</td>\n      <td>3</td>\n    </tr>\n    <tr>\n      <th>3</th>\n      <td>B2</td>\n      <td>4</td>\n    </tr>\n    <tr>\n      <th>4</th>\n      <td>B3</td>\n      <td>5</td>\n    </tr>\n    <tr>\n      <th>5</th>\n      <td>C1</td>\n      <td>6</td>\n    </tr>\n    <tr>\n      <th>6</th>\n      <td>C2</td>\n      <td>7</td>\n    </tr>\n  </tbody>\n</table>\n</div>"
          },
          "metadata": {}
        }
      ]
    },
    {
      "cell_type": "code",
      "source": "# DataFrame.apply : Apply a function along an axis of the DataFrame.\n# axis{0 or ‘index’, 1 or ‘columns’}, default 0\n# Axis along which the function is applied:\n# 0 or ‘index’: apply function to each column.\n# 1 or ‘columns’: apply function to each row.\ndef food_map(series):\n    if series['food'] == 'A1':\n        return 'A'\n    elif series['food'] == 'A2':\n        return 'A'\n    elif series['food'] == 'B1':\n        return 'B'\n    elif series['food'] == 'B2':\n        return 'B'\n    elif series['food'] == 'B3':\n        return 'B'\n    elif series['food'] == 'C1':\n        return 'C'\n    elif series['food'] == 'C2':\n        return 'C'\ndata['food_map'] = data.apply(food_map,axis= 'columns')\ndata    ",
      "metadata": {
        "trusted": true
      },
      "execution_count": 59,
      "outputs": [
        {
          "execution_count": 59,
          "output_type": "execute_result",
          "data": {
            "text/plain": "  food  data food_map\n0   A1     1        A\n1   A2     2        A\n2   B1     3        B\n3   B2     4        B\n4   B3     5        B\n5   C1     6        C\n6   C2     7        C",
            "text/html": "<div>\n<style scoped>\n    .dataframe tbody tr th:only-of-type {\n        vertical-align: middle;\n    }\n\n    .dataframe tbody tr th {\n        vertical-align: top;\n    }\n\n    .dataframe thead th {\n        text-align: right;\n    }\n</style>\n<table border=\"1\" class=\"dataframe\">\n  <thead>\n    <tr style=\"text-align: right;\">\n      <th></th>\n      <th>food</th>\n      <th>data</th>\n      <th>food_map</th>\n    </tr>\n  </thead>\n  <tbody>\n    <tr>\n      <th>0</th>\n      <td>A1</td>\n      <td>1</td>\n      <td>A</td>\n    </tr>\n    <tr>\n      <th>1</th>\n      <td>A2</td>\n      <td>2</td>\n      <td>A</td>\n    </tr>\n    <tr>\n      <th>2</th>\n      <td>B1</td>\n      <td>3</td>\n      <td>B</td>\n    </tr>\n    <tr>\n      <th>3</th>\n      <td>B2</td>\n      <td>4</td>\n      <td>B</td>\n    </tr>\n    <tr>\n      <th>4</th>\n      <td>B3</td>\n      <td>5</td>\n      <td>B</td>\n    </tr>\n    <tr>\n      <th>5</th>\n      <td>C1</td>\n      <td>6</td>\n      <td>C</td>\n    </tr>\n    <tr>\n      <th>6</th>\n      <td>C2</td>\n      <td>7</td>\n      <td>C</td>\n    </tr>\n  </tbody>\n</table>\n</div>"
          },
          "metadata": {}
        }
      ]
    },
    {
      "cell_type": "code",
      "source": "food2Upper = {\n    'A1':'A',\n    'A2':'A',\n    'B1':'B',\n    'B2':'B',\n    'B3':'B',\n    'C1':'C',\n    'C2':'C'\n}\ndata['upper'] = data['food'].map(food2Upper)\ndata",
      "metadata": {
        "trusted": true
      },
      "execution_count": 60,
      "outputs": [
        {
          "execution_count": 60,
          "output_type": "execute_result",
          "data": {
            "text/plain": "  food  data food_map upper\n0   A1     1        A     A\n1   A2     2        A     A\n2   B1     3        B     B\n3   B2     4        B     B\n4   B3     5        B     B\n5   C1     6        C     C\n6   C2     7        C     C",
            "text/html": "<div>\n<style scoped>\n    .dataframe tbody tr th:only-of-type {\n        vertical-align: middle;\n    }\n\n    .dataframe tbody tr th {\n        vertical-align: top;\n    }\n\n    .dataframe thead th {\n        text-align: right;\n    }\n</style>\n<table border=\"1\" class=\"dataframe\">\n  <thead>\n    <tr style=\"text-align: right;\">\n      <th></th>\n      <th>food</th>\n      <th>data</th>\n      <th>food_map</th>\n      <th>upper</th>\n    </tr>\n  </thead>\n  <tbody>\n    <tr>\n      <th>0</th>\n      <td>A1</td>\n      <td>1</td>\n      <td>A</td>\n      <td>A</td>\n    </tr>\n    <tr>\n      <th>1</th>\n      <td>A2</td>\n      <td>2</td>\n      <td>A</td>\n      <td>A</td>\n    </tr>\n    <tr>\n      <th>2</th>\n      <td>B1</td>\n      <td>3</td>\n      <td>B</td>\n      <td>B</td>\n    </tr>\n    <tr>\n      <th>3</th>\n      <td>B2</td>\n      <td>4</td>\n      <td>B</td>\n      <td>B</td>\n    </tr>\n    <tr>\n      <th>4</th>\n      <td>B3</td>\n      <td>5</td>\n      <td>B</td>\n      <td>B</td>\n    </tr>\n    <tr>\n      <th>5</th>\n      <td>C1</td>\n      <td>6</td>\n      <td>C</td>\n      <td>C</td>\n    </tr>\n    <tr>\n      <th>6</th>\n      <td>C2</td>\n      <td>7</td>\n      <td>C</td>\n      <td>C</td>\n    </tr>\n  </tbody>\n</table>\n</div>"
          },
          "metadata": {}
        }
      ]
    },
    {
      "cell_type": "code",
      "source": "import numpy as np\n# np.random.randn(x) : Return a sample (or samples) from the “standard normal” distribution.\n# x 為幾個\ndf = pd.DataFrame({'data1':np.random.randn(5),\n                  'data2':np.random.randn(5)})\n# .assign : Assign new columns to a DataFrame.\ndf2 = df.assign(ratio = df['data1']/df['data2'])\ndf2",
      "metadata": {
        "trusted": true
      },
      "execution_count": 73,
      "outputs": [
        {
          "execution_count": 73,
          "output_type": "execute_result",
          "data": {
            "text/plain": "      data1     data2     ratio\n0  1.081060 -0.623327 -1.734339\n1  0.334857 -0.171433 -1.953284\n2  0.066759 -0.503393 -0.132619\n3  0.661600 -0.551214 -1.200258\n4  0.495937  0.770872  0.643346",
            "text/html": "<div>\n<style scoped>\n    .dataframe tbody tr th:only-of-type {\n        vertical-align: middle;\n    }\n\n    .dataframe tbody tr th {\n        vertical-align: top;\n    }\n\n    .dataframe thead th {\n        text-align: right;\n    }\n</style>\n<table border=\"1\" class=\"dataframe\">\n  <thead>\n    <tr style=\"text-align: right;\">\n      <th></th>\n      <th>data1</th>\n      <th>data2</th>\n      <th>ratio</th>\n    </tr>\n  </thead>\n  <tbody>\n    <tr>\n      <th>0</th>\n      <td>1.081060</td>\n      <td>-0.623327</td>\n      <td>-1.734339</td>\n    </tr>\n    <tr>\n      <th>1</th>\n      <td>0.334857</td>\n      <td>-0.171433</td>\n      <td>-1.953284</td>\n    </tr>\n    <tr>\n      <th>2</th>\n      <td>0.066759</td>\n      <td>-0.503393</td>\n      <td>-0.132619</td>\n    </tr>\n    <tr>\n      <th>3</th>\n      <td>0.661600</td>\n      <td>-0.551214</td>\n      <td>-1.200258</td>\n    </tr>\n    <tr>\n      <th>4</th>\n      <td>0.495937</td>\n      <td>0.770872</td>\n      <td>0.643346</td>\n    </tr>\n  </tbody>\n</table>\n</div>"
          },
          "metadata": {}
        }
      ]
    },
    {
      "cell_type": "code",
      "source": "df2.drop('ratio',axis='columns',inplace=True)\ndf2",
      "metadata": {
        "trusted": true
      },
      "execution_count": 75,
      "outputs": [
        {
          "execution_count": 75,
          "output_type": "execute_result",
          "data": {
            "text/plain": "      data1     data2\n0  1.081060 -0.623327\n1  0.334857 -0.171433\n2  0.066759 -0.503393\n3  0.661600 -0.551214\n4  0.495937  0.770872",
            "text/html": "<div>\n<style scoped>\n    .dataframe tbody tr th:only-of-type {\n        vertical-align: middle;\n    }\n\n    .dataframe tbody tr th {\n        vertical-align: top;\n    }\n\n    .dataframe thead th {\n        text-align: right;\n    }\n</style>\n<table border=\"1\" class=\"dataframe\">\n  <thead>\n    <tr style=\"text-align: right;\">\n      <th></th>\n      <th>data1</th>\n      <th>data2</th>\n    </tr>\n  </thead>\n  <tbody>\n    <tr>\n      <th>0</th>\n      <td>1.081060</td>\n      <td>-0.623327</td>\n    </tr>\n    <tr>\n      <th>1</th>\n      <td>0.334857</td>\n      <td>-0.171433</td>\n    </tr>\n    <tr>\n      <th>2</th>\n      <td>0.066759</td>\n      <td>-0.503393</td>\n    </tr>\n    <tr>\n      <th>3</th>\n      <td>0.661600</td>\n      <td>-0.551214</td>\n    </tr>\n    <tr>\n      <th>4</th>\n      <td>0.495937</td>\n      <td>0.770872</td>\n    </tr>\n  </tbody>\n</table>\n</div>"
          },
          "metadata": {}
        }
      ]
    },
    {
      "cell_type": "code",
      "source": "data = pd.Series([1,2,3,4,5,6,7,8,9])\ndata",
      "metadata": {
        "trusted": true
      },
      "execution_count": 76,
      "outputs": [
        {
          "execution_count": 76,
          "output_type": "execute_result",
          "data": {
            "text/plain": "0    1\n1    2\n2    3\n3    4\n4    5\n5    6\n6    7\n7    8\n8    9\ndtype: int64"
          },
          "metadata": {}
        }
      ]
    },
    {
      "cell_type": "code",
      "source": "",
      "metadata": {},
      "execution_count": null,
      "outputs": []
    },
    {
      "cell_type": "code",
      "source": "data.replace(9,np.nan,inplace=True)\ndata",
      "metadata": {
        "trusted": true
      },
      "execution_count": 77,
      "outputs": [
        {
          "execution_count": 77,
          "output_type": "execute_result",
          "data": {
            "text/plain": "0    1.0\n1    2.0\n2    3.0\n3    4.0\n4    5.0\n5    6.0\n6    7.0\n7    8.0\n8    NaN\ndtype: float64"
          },
          "metadata": {}
        }
      ]
    },
    {
      "cell_type": "code",
      "source": "# pd.cut : Bin values into discrete intervals.\nages = [15,18,20,21,22,34,41,52,63,79]\nbins = [10,40,80]\nbins_res = pd.cut(ages,bins)\nbins_res",
      "metadata": {
        "trusted": true
      },
      "execution_count": 78,
      "outputs": [
        {
          "execution_count": 78,
          "output_type": "execute_result",
          "data": {
            "text/plain": "[(10, 40], (10, 40], (10, 40], (10, 40], (10, 40], (10, 40], (40, 80], (40, 80], (40, 80], (40, 80]]\nCategories (2, interval[int64, right]): [(10, 40] < (40, 80]]"
          },
          "metadata": {}
        }
      ]
    },
    {
      "cell_type": "code",
      "source": "# .codes 找出對應的位置\nbins_res.codes",
      "metadata": {
        "trusted": true
      },
      "execution_count": 80,
      "outputs": [
        {
          "execution_count": 80,
          "output_type": "execute_result",
          "data": {
            "text/plain": "array([0, 0, 0, 0, 0, 0, 1, 1, 1, 1], dtype=int8)"
          },
          "metadata": {}
        }
      ]
    },
    {
      "cell_type": "code",
      "source": "pd.value_counts(bins_res)",
      "metadata": {
        "trusted": true
      },
      "execution_count": 81,
      "outputs": [
        {
          "execution_count": 81,
          "output_type": "execute_result",
          "data": {
            "text/plain": "(10, 40]    6\n(40, 80]    4\ndtype: int64"
          },
          "metadata": {}
        }
      ]
    },
    {
      "cell_type": "code",
      "source": "pd.cut(ages, [10,30,50,80])",
      "metadata": {
        "trusted": true
      },
      "execution_count": 82,
      "outputs": [
        {
          "execution_count": 82,
          "output_type": "execute_result",
          "data": {
            "text/plain": "[(10, 30], (10, 30], (10, 30], (10, 30], (10, 30], (30, 50], (30, 50], (50, 80], (50, 80], (50, 80]]\nCategories (3, interval[int64, right]): [(10, 30] < (30, 50] < (50, 80]]"
          },
          "metadata": {}
        }
      ]
    },
    {
      "cell_type": "code",
      "source": "group_names = ['youth', 'Mid', 'Elder']\npd.cut(ages,[10,20,50,80],labels=group_names)",
      "metadata": {
        "trusted": true
      },
      "execution_count": 83,
      "outputs": [
        {
          "execution_count": 83,
          "output_type": "execute_result",
          "data": {
            "text/plain": "['youth', 'youth', 'youth', 'Mid', 'Mid', 'Mid', 'Mid', 'Elder', 'Elder', 'Elder']\nCategories (3, object): ['youth' < 'Mid' < 'Elder']"
          },
          "metadata": {}
        }
      ]
    },
    {
      "cell_type": "code",
      "source": "pd.value_counts(pd.cut(ages,[10,20,50,80],labels=group_names))",
      "metadata": {
        "trusted": true
      },
      "execution_count": 84,
      "outputs": [
        {
          "execution_count": 84,
          "output_type": "execute_result",
          "data": {
            "text/plain": "Mid      4\nyouth    3\nElder    3\ndtype: int64"
          },
          "metadata": {}
        }
      ]
    },
    {
      "cell_type": "code",
      "source": "df = pd.DataFrame([range(3),[0, np.nan, 0],[0,0,np.nan],range(3)])\ndf",
      "metadata": {
        "trusted": true
      },
      "execution_count": 85,
      "outputs": [
        {
          "execution_count": 85,
          "output_type": "execute_result",
          "data": {
            "text/plain": "   0    1    2\n0  0  1.0  2.0\n1  0  NaN  0.0\n2  0  0.0  NaN\n3  0  1.0  2.0",
            "text/html": "<div>\n<style scoped>\n    .dataframe tbody tr th:only-of-type {\n        vertical-align: middle;\n    }\n\n    .dataframe tbody tr th {\n        vertical-align: top;\n    }\n\n    .dataframe thead th {\n        text-align: right;\n    }\n</style>\n<table border=\"1\" class=\"dataframe\">\n  <thead>\n    <tr style=\"text-align: right;\">\n      <th></th>\n      <th>0</th>\n      <th>1</th>\n      <th>2</th>\n    </tr>\n  </thead>\n  <tbody>\n    <tr>\n      <th>0</th>\n      <td>0</td>\n      <td>1.0</td>\n      <td>2.0</td>\n    </tr>\n    <tr>\n      <th>1</th>\n      <td>0</td>\n      <td>NaN</td>\n      <td>0.0</td>\n    </tr>\n    <tr>\n      <th>2</th>\n      <td>0</td>\n      <td>0.0</td>\n      <td>NaN</td>\n    </tr>\n    <tr>\n      <th>3</th>\n      <td>0</td>\n      <td>1.0</td>\n      <td>2.0</td>\n    </tr>\n  </tbody>\n</table>\n</div>"
          },
          "metadata": {}
        }
      ]
    },
    {
      "cell_type": "code",
      "source": "df.isnull()",
      "metadata": {
        "trusted": true
      },
      "execution_count": 86,
      "outputs": [
        {
          "execution_count": 86,
          "output_type": "execute_result",
          "data": {
            "text/plain": "       0      1      2\n0  False  False  False\n1  False   True  False\n2  False  False   True\n3  False  False  False",
            "text/html": "<div>\n<style scoped>\n    .dataframe tbody tr th:only-of-type {\n        vertical-align: middle;\n    }\n\n    .dataframe tbody tr th {\n        vertical-align: top;\n    }\n\n    .dataframe thead th {\n        text-align: right;\n    }\n</style>\n<table border=\"1\" class=\"dataframe\">\n  <thead>\n    <tr style=\"text-align: right;\">\n      <th></th>\n      <th>0</th>\n      <th>1</th>\n      <th>2</th>\n    </tr>\n  </thead>\n  <tbody>\n    <tr>\n      <th>0</th>\n      <td>False</td>\n      <td>False</td>\n      <td>False</td>\n    </tr>\n    <tr>\n      <th>1</th>\n      <td>False</td>\n      <td>True</td>\n      <td>False</td>\n    </tr>\n    <tr>\n      <th>2</th>\n      <td>False</td>\n      <td>False</td>\n      <td>True</td>\n    </tr>\n    <tr>\n      <th>3</th>\n      <td>False</td>\n      <td>False</td>\n      <td>False</td>\n    </tr>\n  </tbody>\n</table>\n</div>"
          },
          "metadata": {}
        }
      ]
    },
    {
      "cell_type": "code",
      "source": "# .any() Return whether any element is True, potentially over an axis.\ndf.isnull().any()",
      "metadata": {
        "trusted": true
      },
      "execution_count": 87,
      "outputs": [
        {
          "execution_count": 87,
          "output_type": "execute_result",
          "data": {
            "text/plain": "0    False\n1     True\n2     True\ndtype: bool"
          },
          "metadata": {}
        }
      ]
    },
    {
      "cell_type": "code",
      "source": "df.isnull().any(axis = 1)",
      "metadata": {
        "trusted": true
      },
      "execution_count": 88,
      "outputs": [
        {
          "execution_count": 88,
          "output_type": "execute_result",
          "data": {
            "text/plain": "0    False\n1     True\n2     True\n3    False\ndtype: bool"
          },
          "metadata": {}
        }
      ]
    },
    {
      "cell_type": "code",
      "source": "# .fillna(x) : 將空值NaN用x替換\ndf.fillna(5)",
      "metadata": {
        "trusted": true
      },
      "execution_count": 90,
      "outputs": [
        {
          "execution_count": 90,
          "output_type": "execute_result",
          "data": {
            "text/plain": "   0    1    2\n0  0  1.0  2.0\n1  0  5.0  0.0\n2  0  0.0  5.0\n3  0  1.0  2.0",
            "text/html": "<div>\n<style scoped>\n    .dataframe tbody tr th:only-of-type {\n        vertical-align: middle;\n    }\n\n    .dataframe tbody tr th {\n        vertical-align: top;\n    }\n\n    .dataframe thead th {\n        text-align: right;\n    }\n</style>\n<table border=\"1\" class=\"dataframe\">\n  <thead>\n    <tr style=\"text-align: right;\">\n      <th></th>\n      <th>0</th>\n      <th>1</th>\n      <th>2</th>\n    </tr>\n  </thead>\n  <tbody>\n    <tr>\n      <th>0</th>\n      <td>0</td>\n      <td>1.0</td>\n      <td>2.0</td>\n    </tr>\n    <tr>\n      <th>1</th>\n      <td>0</td>\n      <td>5.0</td>\n      <td>0.0</td>\n    </tr>\n    <tr>\n      <th>2</th>\n      <td>0</td>\n      <td>0.0</td>\n      <td>5.0</td>\n    </tr>\n    <tr>\n      <th>3</th>\n      <td>0</td>\n      <td>1.0</td>\n      <td>2.0</td>\n    </tr>\n  </tbody>\n</table>\n</div>"
          },
          "metadata": {}
        }
      ]
    },
    {
      "cell_type": "code",
      "source": "df[df.isnull().any(axis = 1)]",
      "metadata": {
        "trusted": true
      },
      "execution_count": 91,
      "outputs": [
        {
          "execution_count": 91,
          "output_type": "execute_result",
          "data": {
            "text/plain": "   0    1    2\n1  0  NaN  0.0\n2  0  0.0  NaN",
            "text/html": "<div>\n<style scoped>\n    .dataframe tbody tr th:only-of-type {\n        vertical-align: middle;\n    }\n\n    .dataframe tbody tr th {\n        vertical-align: top;\n    }\n\n    .dataframe thead th {\n        text-align: right;\n    }\n</style>\n<table border=\"1\" class=\"dataframe\">\n  <thead>\n    <tr style=\"text-align: right;\">\n      <th></th>\n      <th>0</th>\n      <th>1</th>\n      <th>2</th>\n    </tr>\n  </thead>\n  <tbody>\n    <tr>\n      <th>1</th>\n      <td>0</td>\n      <td>NaN</td>\n      <td>0.0</td>\n    </tr>\n    <tr>\n      <th>2</th>\n      <td>0</td>\n      <td>0.0</td>\n      <td>NaN</td>\n    </tr>\n  </tbody>\n</table>\n</div>"
          },
          "metadata": {}
        }
      ]
    },
    {
      "cell_type": "code",
      "source": "import pandas as pd\nimport numpy as np\ndf = pd.DataFrame({'A' : ['foo', 'bar', 'foo', 'bar',\n                           'foo', 'bar', 'foo', 'foo'],\n                   'B' : ['one', 'one', 'two', 'three',\n                          'two', 'two', 'one', 'three'],\n                   'C' : np.random.randn(8),\n                   'D' : np.random.randn(8)})\ndf",
      "metadata": {
        "trusted": true
      },
      "execution_count": 92,
      "outputs": [
        {
          "execution_count": 92,
          "output_type": "execute_result",
          "data": {
            "text/plain": "     A      B         C         D\n0  foo    one  0.300195 -0.136019\n1  bar    one -0.822370  1.120230\n2  foo    two  1.342783  0.627193\n3  bar  three -1.064149 -0.628803\n4  foo    two -0.274551  0.341881\n5  bar    two -2.419061  0.422089\n6  foo    one -0.112157  0.524684\n7  foo  three  1.247329  1.777794",
            "text/html": "<div>\n<style scoped>\n    .dataframe tbody tr th:only-of-type {\n        vertical-align: middle;\n    }\n\n    .dataframe tbody tr th {\n        vertical-align: top;\n    }\n\n    .dataframe thead th {\n        text-align: right;\n    }\n</style>\n<table border=\"1\" class=\"dataframe\">\n  <thead>\n    <tr style=\"text-align: right;\">\n      <th></th>\n      <th>A</th>\n      <th>B</th>\n      <th>C</th>\n      <th>D</th>\n    </tr>\n  </thead>\n  <tbody>\n    <tr>\n      <th>0</th>\n      <td>foo</td>\n      <td>one</td>\n      <td>0.300195</td>\n      <td>-0.136019</td>\n    </tr>\n    <tr>\n      <th>1</th>\n      <td>bar</td>\n      <td>one</td>\n      <td>-0.822370</td>\n      <td>1.120230</td>\n    </tr>\n    <tr>\n      <th>2</th>\n      <td>foo</td>\n      <td>two</td>\n      <td>1.342783</td>\n      <td>0.627193</td>\n    </tr>\n    <tr>\n      <th>3</th>\n      <td>bar</td>\n      <td>three</td>\n      <td>-1.064149</td>\n      <td>-0.628803</td>\n    </tr>\n    <tr>\n      <th>4</th>\n      <td>foo</td>\n      <td>two</td>\n      <td>-0.274551</td>\n      <td>0.341881</td>\n    </tr>\n    <tr>\n      <th>5</th>\n      <td>bar</td>\n      <td>two</td>\n      <td>-2.419061</td>\n      <td>0.422089</td>\n    </tr>\n    <tr>\n      <th>6</th>\n      <td>foo</td>\n      <td>one</td>\n      <td>-0.112157</td>\n      <td>0.524684</td>\n    </tr>\n    <tr>\n      <th>7</th>\n      <td>foo</td>\n      <td>three</td>\n      <td>1.247329</td>\n      <td>1.777794</td>\n    </tr>\n  </tbody>\n</table>\n</div>"
          },
          "metadata": {}
        }
      ]
    },
    {
      "cell_type": "code",
      "source": "grouped = df.groupby('A')",
      "metadata": {
        "trusted": true
      },
      "execution_count": 95,
      "outputs": []
    },
    {
      "cell_type": "code",
      "source": "grouped.count()",
      "metadata": {
        "trusted": true
      },
      "execution_count": 96,
      "outputs": [
        {
          "execution_count": 96,
          "output_type": "execute_result",
          "data": {
            "text/plain": "     B  C  D\nA           \nbar  3  3  3\nfoo  5  5  5",
            "text/html": "<div>\n<style scoped>\n    .dataframe tbody tr th:only-of-type {\n        vertical-align: middle;\n    }\n\n    .dataframe tbody tr th {\n        vertical-align: top;\n    }\n\n    .dataframe thead th {\n        text-align: right;\n    }\n</style>\n<table border=\"1\" class=\"dataframe\">\n  <thead>\n    <tr style=\"text-align: right;\">\n      <th></th>\n      <th>B</th>\n      <th>C</th>\n      <th>D</th>\n    </tr>\n    <tr>\n      <th>A</th>\n      <th></th>\n      <th></th>\n      <th></th>\n    </tr>\n  </thead>\n  <tbody>\n    <tr>\n      <th>bar</th>\n      <td>3</td>\n      <td>3</td>\n      <td>3</td>\n    </tr>\n    <tr>\n      <th>foo</th>\n      <td>5</td>\n      <td>5</td>\n      <td>5</td>\n    </tr>\n  </tbody>\n</table>\n</div>"
          },
          "metadata": {}
        }
      ]
    },
    {
      "cell_type": "code",
      "source": "grouped = df.groupby(['A','B'])\ngrouped.count()",
      "metadata": {
        "trusted": true
      },
      "execution_count": 97,
      "outputs": [
        {
          "execution_count": 97,
          "output_type": "execute_result",
          "data": {
            "text/plain": "           C  D\nA   B          \nbar one    1  1\n    three  1  1\n    two    1  1\nfoo one    2  2\n    three  1  1\n    two    2  2",
            "text/html": "<div>\n<style scoped>\n    .dataframe tbody tr th:only-of-type {\n        vertical-align: middle;\n    }\n\n    .dataframe tbody tr th {\n        vertical-align: top;\n    }\n\n    .dataframe thead th {\n        text-align: right;\n    }\n</style>\n<table border=\"1\" class=\"dataframe\">\n  <thead>\n    <tr style=\"text-align: right;\">\n      <th></th>\n      <th></th>\n      <th>C</th>\n      <th>D</th>\n    </tr>\n    <tr>\n      <th>A</th>\n      <th>B</th>\n      <th></th>\n      <th></th>\n    </tr>\n  </thead>\n  <tbody>\n    <tr>\n      <th rowspan=\"3\" valign=\"top\">bar</th>\n      <th>one</th>\n      <td>1</td>\n      <td>1</td>\n    </tr>\n    <tr>\n      <th>three</th>\n      <td>1</td>\n      <td>1</td>\n    </tr>\n    <tr>\n      <th>two</th>\n      <td>1</td>\n      <td>1</td>\n    </tr>\n    <tr>\n      <th rowspan=\"3\" valign=\"top\">foo</th>\n      <th>one</th>\n      <td>2</td>\n      <td>2</td>\n    </tr>\n    <tr>\n      <th>three</th>\n      <td>1</td>\n      <td>1</td>\n    </tr>\n    <tr>\n      <th>two</th>\n      <td>2</td>\n      <td>2</td>\n    </tr>\n  </tbody>\n</table>\n</div>"
          },
          "metadata": {}
        }
      ]
    },
    {
      "cell_type": "code",
      "source": "df",
      "metadata": {
        "trusted": true
      },
      "execution_count": 109,
      "outputs": [
        {
          "execution_count": 109,
          "output_type": "execute_result",
          "data": {
            "text/plain": "     A      B         C         D\n0  foo    one  0.300195 -0.136019\n1  bar    one -0.822370  1.120230\n2  foo    two  1.342783  0.627193\n3  bar  three -1.064149 -0.628803\n4  foo    two -0.274551  0.341881\n5  bar    two -2.419061  0.422089\n6  foo    one -0.112157  0.524684\n7  foo  three  1.247329  1.777794",
            "text/html": "<div>\n<style scoped>\n    .dataframe tbody tr th:only-of-type {\n        vertical-align: middle;\n    }\n\n    .dataframe tbody tr th {\n        vertical-align: top;\n    }\n\n    .dataframe thead th {\n        text-align: right;\n    }\n</style>\n<table border=\"1\" class=\"dataframe\">\n  <thead>\n    <tr style=\"text-align: right;\">\n      <th></th>\n      <th>A</th>\n      <th>B</th>\n      <th>C</th>\n      <th>D</th>\n    </tr>\n  </thead>\n  <tbody>\n    <tr>\n      <th>0</th>\n      <td>foo</td>\n      <td>one</td>\n      <td>0.300195</td>\n      <td>-0.136019</td>\n    </tr>\n    <tr>\n      <th>1</th>\n      <td>bar</td>\n      <td>one</td>\n      <td>-0.822370</td>\n      <td>1.120230</td>\n    </tr>\n    <tr>\n      <th>2</th>\n      <td>foo</td>\n      <td>two</td>\n      <td>1.342783</td>\n      <td>0.627193</td>\n    </tr>\n    <tr>\n      <th>3</th>\n      <td>bar</td>\n      <td>three</td>\n      <td>-1.064149</td>\n      <td>-0.628803</td>\n    </tr>\n    <tr>\n      <th>4</th>\n      <td>foo</td>\n      <td>two</td>\n      <td>-0.274551</td>\n      <td>0.341881</td>\n    </tr>\n    <tr>\n      <th>5</th>\n      <td>bar</td>\n      <td>two</td>\n      <td>-2.419061</td>\n      <td>0.422089</td>\n    </tr>\n    <tr>\n      <th>6</th>\n      <td>foo</td>\n      <td>one</td>\n      <td>-0.112157</td>\n      <td>0.524684</td>\n    </tr>\n    <tr>\n      <th>7</th>\n      <td>foo</td>\n      <td>three</td>\n      <td>1.247329</td>\n      <td>1.777794</td>\n    </tr>\n  </tbody>\n</table>\n</div>"
          },
          "metadata": {}
        }
      ]
    },
    {
      "cell_type": "code",
      "source": "def get_letter_type(letter):\n    if letter.lower() in 'aeiou':\n        return 'a'\n    else:\n        return 'b'\n# axis{0 or ‘index’, 1 or ‘columns’}, default 0\ngrouped = df.groupby(get_letter_type,axis = 1)\ngrouped.count().iloc[0]\n",
      "metadata": {
        "trusted": true
      },
      "execution_count": 119,
      "outputs": [
        {
          "execution_count": 119,
          "output_type": "execute_result",
          "data": {
            "text/plain": "a    1\nb    3\nName: 0, dtype: int64"
          },
          "metadata": {}
        }
      ]
    },
    {
      "cell_type": "code",
      "source": "s = pd.Series([1,2,3,1,2,3],[8,7,5,8,7,5])\ns",
      "metadata": {
        "trusted": true
      },
      "execution_count": 130,
      "outputs": [
        {
          "execution_count": 130,
          "output_type": "execute_result",
          "data": {
            "text/plain": "8    1\n7    2\n5    3\n8    1\n7    2\n5    3\ndtype: int64"
          },
          "metadata": {}
        }
      ]
    },
    {
      "cell_type": "code",
      "source": "# level = 0 為第一行 8 7 5 8 7 5\ngrouped = s.groupby(level = 0)",
      "metadata": {
        "trusted": true
      },
      "execution_count": 125,
      "outputs": []
    },
    {
      "cell_type": "code",
      "source": "grouped.first()",
      "metadata": {
        "trusted": true
      },
      "execution_count": 131,
      "outputs": [
        {
          "execution_count": 131,
          "output_type": "execute_result",
          "data": {
            "text/plain": "5    3\n7    2\n8    1\ndtype: int64"
          },
          "metadata": {}
        }
      ]
    },
    {
      "cell_type": "code",
      "source": "grouped.last()",
      "metadata": {
        "trusted": true
      },
      "execution_count": 132,
      "outputs": [
        {
          "execution_count": 132,
          "output_type": "execute_result",
          "data": {
            "text/plain": "5    3\n7    2\n8    1\ndtype: int64"
          },
          "metadata": {}
        }
      ]
    },
    {
      "cell_type": "code",
      "source": "grouped.sum()",
      "metadata": {
        "trusted": true
      },
      "execution_count": 133,
      "outputs": [
        {
          "execution_count": 133,
          "output_type": "execute_result",
          "data": {
            "text/plain": "5    6\n7    4\n8    2\ndtype: int64"
          },
          "metadata": {}
        }
      ]
    },
    {
      "cell_type": "code",
      "source": "grouped = s.groupby(level = 0,sort = False)",
      "metadata": {
        "trusted": true
      },
      "execution_count": 138,
      "outputs": []
    },
    {
      "cell_type": "code",
      "source": "grouped.first()",
      "metadata": {
        "trusted": true
      },
      "execution_count": 139,
      "outputs": [
        {
          "execution_count": 139,
          "output_type": "execute_result",
          "data": {
            "text/plain": "8    1\n7    2\n5    3\ndtype: int64"
          },
          "metadata": {}
        }
      ]
    },
    {
      "cell_type": "code",
      "source": "df2 = pd.DataFrame({'X':['A','B','A','B'],'Y':[1,2,3,4]})\ndf2",
      "metadata": {
        "trusted": true
      },
      "execution_count": 140,
      "outputs": [
        {
          "execution_count": 140,
          "output_type": "execute_result",
          "data": {
            "text/plain": "   X  Y\n0  A  1\n1  B  2\n2  A  3\n3  B  4",
            "text/html": "<div>\n<style scoped>\n    .dataframe tbody tr th:only-of-type {\n        vertical-align: middle;\n    }\n\n    .dataframe tbody tr th {\n        vertical-align: top;\n    }\n\n    .dataframe thead th {\n        text-align: right;\n    }\n</style>\n<table border=\"1\" class=\"dataframe\">\n  <thead>\n    <tr style=\"text-align: right;\">\n      <th></th>\n      <th>X</th>\n      <th>Y</th>\n    </tr>\n  </thead>\n  <tbody>\n    <tr>\n      <th>0</th>\n      <td>A</td>\n      <td>1</td>\n    </tr>\n    <tr>\n      <th>1</th>\n      <td>B</td>\n      <td>2</td>\n    </tr>\n    <tr>\n      <th>2</th>\n      <td>A</td>\n      <td>3</td>\n    </tr>\n    <tr>\n      <th>3</th>\n      <td>B</td>\n      <td>4</td>\n    </tr>\n  </tbody>\n</table>\n</div>"
          },
          "metadata": {}
        }
      ]
    },
    {
      "cell_type": "code",
      "source": "df2.groupby(['X']).get_group('A')",
      "metadata": {
        "trusted": true
      },
      "execution_count": 141,
      "outputs": [
        {
          "execution_count": 141,
          "output_type": "execute_result",
          "data": {
            "text/plain": "   X  Y\n0  A  1\n2  A  3",
            "text/html": "<div>\n<style scoped>\n    .dataframe tbody tr th:only-of-type {\n        vertical-align: middle;\n    }\n\n    .dataframe tbody tr th {\n        vertical-align: top;\n    }\n\n    .dataframe thead th {\n        text-align: right;\n    }\n</style>\n<table border=\"1\" class=\"dataframe\">\n  <thead>\n    <tr style=\"text-align: right;\">\n      <th></th>\n      <th>X</th>\n      <th>Y</th>\n    </tr>\n  </thead>\n  <tbody>\n    <tr>\n      <th>0</th>\n      <td>A</td>\n      <td>1</td>\n    </tr>\n    <tr>\n      <th>2</th>\n      <td>A</td>\n      <td>3</td>\n    </tr>\n  </tbody>\n</table>\n</div>"
          },
          "metadata": {}
        }
      ]
    },
    {
      "cell_type": "code",
      "source": "df2.groupby(['X']).get_group('B')",
      "metadata": {
        "trusted": true
      },
      "execution_count": 142,
      "outputs": [
        {
          "execution_count": 142,
          "output_type": "execute_result",
          "data": {
            "text/plain": "   X  Y\n1  B  2\n3  B  4",
            "text/html": "<div>\n<style scoped>\n    .dataframe tbody tr th:only-of-type {\n        vertical-align: middle;\n    }\n\n    .dataframe tbody tr th {\n        vertical-align: top;\n    }\n\n    .dataframe thead th {\n        text-align: right;\n    }\n</style>\n<table border=\"1\" class=\"dataframe\">\n  <thead>\n    <tr style=\"text-align: right;\">\n      <th></th>\n      <th>X</th>\n      <th>Y</th>\n    </tr>\n  </thead>\n  <tbody>\n    <tr>\n      <th>1</th>\n      <td>B</td>\n      <td>2</td>\n    </tr>\n    <tr>\n      <th>3</th>\n      <td>B</td>\n      <td>4</td>\n    </tr>\n  </tbody>\n</table>\n</div>"
          },
          "metadata": {}
        }
      ]
    },
    {
      "cell_type": "code",
      "source": "arrays = [['bar', 'bar', 'baz', 'baz', 'foo', 'foo', 'qux', 'qux'],\n          ['one', 'two', 'one', 'two', 'one', 'two', 'one', 'two']]\narrays",
      "metadata": {
        "trusted": true
      },
      "execution_count": 143,
      "outputs": [
        {
          "execution_count": 143,
          "output_type": "execute_result",
          "data": {
            "text/plain": "[['bar', 'bar', 'baz', 'baz', 'foo', 'foo', 'qux', 'qux'],\n ['one', 'two', 'one', 'two', 'one', 'two', 'one', 'two']]"
          },
          "metadata": {}
        }
      ]
    },
    {
      "cell_type": "code",
      "source": "index = pd.MultiIndex.from_arrays(arrays,names = ['first','second'])",
      "metadata": {
        "trusted": true
      },
      "execution_count": 146,
      "outputs": []
    },
    {
      "cell_type": "code",
      "source": "s = pd.Series(np.random.randn(8),index = index)\ns",
      "metadata": {
        "trusted": true
      },
      "execution_count": 148,
      "outputs": [
        {
          "execution_count": 148,
          "output_type": "execute_result",
          "data": {
            "text/plain": "first  second\nbar    one      -1.949460\n       two      -0.162924\nbaz    one      -0.437558\n       two       1.033573\nfoo    one      -0.259335\n       two       1.172953\nqux    one      -0.681354\n       two      -0.914301\ndtype: float64"
          },
          "metadata": {}
        }
      ]
    },
    {
      "cell_type": "code",
      "source": "s.index",
      "metadata": {
        "trusted": true
      },
      "execution_count": 150,
      "outputs": [
        {
          "execution_count": 150,
          "output_type": "execute_result",
          "data": {
            "text/plain": "MultiIndex([('bar', 'one'),\n            ('bar', 'two'),\n            ('baz', 'one'),\n            ('baz', 'two'),\n            ('foo', 'one'),\n            ('foo', 'two'),\n            ('qux', 'one'),\n            ('qux', 'two')],\n           names=['first', 'second'])"
          },
          "metadata": {}
        }
      ]
    },
    {
      "cell_type": "code",
      "source": "s.values",
      "metadata": {
        "trusted": true
      },
      "execution_count": 151,
      "outputs": [
        {
          "execution_count": 151,
          "output_type": "execute_result",
          "data": {
            "text/plain": "array([-1.94945951, -0.1629236 , -0.43755769,  1.03357306, -0.25933515,\n        1.17295255, -0.68135439, -0.91430082])"
          },
          "metadata": {}
        }
      ]
    },
    {
      "cell_type": "code",
      "source": "grouped = s.groupby(level = 0)\ngrouped.sum()",
      "metadata": {
        "trusted": true
      },
      "execution_count": 149,
      "outputs": [
        {
          "execution_count": 149,
          "output_type": "execute_result",
          "data": {
            "text/plain": "first\nbar   -2.112383\nbaz    0.596015\nfoo    0.913617\nqux   -1.595655\ndtype: float64"
          },
          "metadata": {}
        }
      ]
    },
    {
      "cell_type": "code",
      "source": "grouped = s.groupby(level = 1)\ngrouped.sum()",
      "metadata": {
        "trusted": true
      },
      "execution_count": 152,
      "outputs": [
        {
          "execution_count": 152,
          "output_type": "execute_result",
          "data": {
            "text/plain": "second\none   -3.327707\ntwo    1.129301\ndtype: float64"
          },
          "metadata": {}
        }
      ]
    },
    {
      "cell_type": "code",
      "source": "grouped = s.groupby(level = 'first')\ngrouped.sum()",
      "metadata": {
        "trusted": true
      },
      "execution_count": 154,
      "outputs": [
        {
          "execution_count": 154,
          "output_type": "execute_result",
          "data": {
            "text/plain": "first\nbar   -2.112383\nbaz    0.596015\nfoo    0.913617\nqux   -1.595655\ndtype: float64"
          },
          "metadata": {}
        }
      ]
    },
    {
      "cell_type": "code",
      "source": "df",
      "metadata": {
        "trusted": true
      },
      "execution_count": 155,
      "outputs": [
        {
          "execution_count": 155,
          "output_type": "execute_result",
          "data": {
            "text/plain": "     A      B         C         D\n0  foo    one  0.300195 -0.136019\n1  bar    one -0.822370  1.120230\n2  foo    two  1.342783  0.627193\n3  bar  three -1.064149 -0.628803\n4  foo    two -0.274551  0.341881\n5  bar    two -2.419061  0.422089\n6  foo    one -0.112157  0.524684\n7  foo  three  1.247329  1.777794",
            "text/html": "<div>\n<style scoped>\n    .dataframe tbody tr th:only-of-type {\n        vertical-align: middle;\n    }\n\n    .dataframe tbody tr th {\n        vertical-align: top;\n    }\n\n    .dataframe thead th {\n        text-align: right;\n    }\n</style>\n<table border=\"1\" class=\"dataframe\">\n  <thead>\n    <tr style=\"text-align: right;\">\n      <th></th>\n      <th>A</th>\n      <th>B</th>\n      <th>C</th>\n      <th>D</th>\n    </tr>\n  </thead>\n  <tbody>\n    <tr>\n      <th>0</th>\n      <td>foo</td>\n      <td>one</td>\n      <td>0.300195</td>\n      <td>-0.136019</td>\n    </tr>\n    <tr>\n      <th>1</th>\n      <td>bar</td>\n      <td>one</td>\n      <td>-0.822370</td>\n      <td>1.120230</td>\n    </tr>\n    <tr>\n      <th>2</th>\n      <td>foo</td>\n      <td>two</td>\n      <td>1.342783</td>\n      <td>0.627193</td>\n    </tr>\n    <tr>\n      <th>3</th>\n      <td>bar</td>\n      <td>three</td>\n      <td>-1.064149</td>\n      <td>-0.628803</td>\n    </tr>\n    <tr>\n      <th>4</th>\n      <td>foo</td>\n      <td>two</td>\n      <td>-0.274551</td>\n      <td>0.341881</td>\n    </tr>\n    <tr>\n      <th>5</th>\n      <td>bar</td>\n      <td>two</td>\n      <td>-2.419061</td>\n      <td>0.422089</td>\n    </tr>\n    <tr>\n      <th>6</th>\n      <td>foo</td>\n      <td>one</td>\n      <td>-0.112157</td>\n      <td>0.524684</td>\n    </tr>\n    <tr>\n      <th>7</th>\n      <td>foo</td>\n      <td>three</td>\n      <td>1.247329</td>\n      <td>1.777794</td>\n    </tr>\n  </tbody>\n</table>\n</div>"
          },
          "metadata": {}
        }
      ]
    },
    {
      "cell_type": "code",
      "source": "grouped = df.groupby(['A','B'])\ngrouped.aggregate(np.sum)",
      "metadata": {
        "trusted": true
      },
      "execution_count": 156,
      "outputs": [
        {
          "execution_count": 156,
          "output_type": "execute_result",
          "data": {
            "text/plain": "                  C         D\nA   B                        \nbar one   -0.822370  1.120230\n    three -1.064149 -0.628803\n    two   -2.419061  0.422089\nfoo one    0.188038  0.388666\n    three  1.247329  1.777794\n    two    1.068232  0.969074",
            "text/html": "<div>\n<style scoped>\n    .dataframe tbody tr th:only-of-type {\n        vertical-align: middle;\n    }\n\n    .dataframe tbody tr th {\n        vertical-align: top;\n    }\n\n    .dataframe thead th {\n        text-align: right;\n    }\n</style>\n<table border=\"1\" class=\"dataframe\">\n  <thead>\n    <tr style=\"text-align: right;\">\n      <th></th>\n      <th></th>\n      <th>C</th>\n      <th>D</th>\n    </tr>\n    <tr>\n      <th>A</th>\n      <th>B</th>\n      <th></th>\n      <th></th>\n    </tr>\n  </thead>\n  <tbody>\n    <tr>\n      <th rowspan=\"3\" valign=\"top\">bar</th>\n      <th>one</th>\n      <td>-0.822370</td>\n      <td>1.120230</td>\n    </tr>\n    <tr>\n      <th>three</th>\n      <td>-1.064149</td>\n      <td>-0.628803</td>\n    </tr>\n    <tr>\n      <th>two</th>\n      <td>-2.419061</td>\n      <td>0.422089</td>\n    </tr>\n    <tr>\n      <th rowspan=\"3\" valign=\"top\">foo</th>\n      <th>one</th>\n      <td>0.188038</td>\n      <td>0.388666</td>\n    </tr>\n    <tr>\n      <th>three</th>\n      <td>1.247329</td>\n      <td>1.777794</td>\n    </tr>\n    <tr>\n      <th>two</th>\n      <td>1.068232</td>\n      <td>0.969074</td>\n    </tr>\n  </tbody>\n</table>\n</div>"
          },
          "metadata": {}
        }
      ]
    },
    {
      "cell_type": "code",
      "source": "grouped = df.groupby(['A','B'],as_index = False)\ngrouped.aggregate(np.sum)",
      "metadata": {
        "trusted": true
      },
      "execution_count": 157,
      "outputs": [
        {
          "execution_count": 157,
          "output_type": "execute_result",
          "data": {
            "text/plain": "     A      B         C         D\n0  bar    one -0.822370  1.120230\n1  bar  three -1.064149 -0.628803\n2  bar    two -2.419061  0.422089\n3  foo    one  0.188038  0.388666\n4  foo  three  1.247329  1.777794\n5  foo    two  1.068232  0.969074",
            "text/html": "<div>\n<style scoped>\n    .dataframe tbody tr th:only-of-type {\n        vertical-align: middle;\n    }\n\n    .dataframe tbody tr th {\n        vertical-align: top;\n    }\n\n    .dataframe thead th {\n        text-align: right;\n    }\n</style>\n<table border=\"1\" class=\"dataframe\">\n  <thead>\n    <tr style=\"text-align: right;\">\n      <th></th>\n      <th>A</th>\n      <th>B</th>\n      <th>C</th>\n      <th>D</th>\n    </tr>\n  </thead>\n  <tbody>\n    <tr>\n      <th>0</th>\n      <td>bar</td>\n      <td>one</td>\n      <td>-0.822370</td>\n      <td>1.120230</td>\n    </tr>\n    <tr>\n      <th>1</th>\n      <td>bar</td>\n      <td>three</td>\n      <td>-1.064149</td>\n      <td>-0.628803</td>\n    </tr>\n    <tr>\n      <th>2</th>\n      <td>bar</td>\n      <td>two</td>\n      <td>-2.419061</td>\n      <td>0.422089</td>\n    </tr>\n    <tr>\n      <th>3</th>\n      <td>foo</td>\n      <td>one</td>\n      <td>0.188038</td>\n      <td>0.388666</td>\n    </tr>\n    <tr>\n      <th>4</th>\n      <td>foo</td>\n      <td>three</td>\n      <td>1.247329</td>\n      <td>1.777794</td>\n    </tr>\n    <tr>\n      <th>5</th>\n      <td>foo</td>\n      <td>two</td>\n      <td>1.068232</td>\n      <td>0.969074</td>\n    </tr>\n  </tbody>\n</table>\n</div>"
          },
          "metadata": {}
        }
      ]
    },
    {
      "cell_type": "code",
      "source": "df.groupby(['A','B']).sum()",
      "metadata": {
        "trusted": true
      },
      "execution_count": 161,
      "outputs": [
        {
          "execution_count": 161,
          "output_type": "execute_result",
          "data": {
            "text/plain": "                  C         D\nA   B                        \nbar one   -0.822370  1.120230\n    three -1.064149 -0.628803\n    two   -2.419061  0.422089\nfoo one    0.188038  0.388666\n    three  1.247329  1.777794\n    two    1.068232  0.969074",
            "text/html": "<div>\n<style scoped>\n    .dataframe tbody tr th:only-of-type {\n        vertical-align: middle;\n    }\n\n    .dataframe tbody tr th {\n        vertical-align: top;\n    }\n\n    .dataframe thead th {\n        text-align: right;\n    }\n</style>\n<table border=\"1\" class=\"dataframe\">\n  <thead>\n    <tr style=\"text-align: right;\">\n      <th></th>\n      <th></th>\n      <th>C</th>\n      <th>D</th>\n    </tr>\n    <tr>\n      <th>A</th>\n      <th>B</th>\n      <th></th>\n      <th></th>\n    </tr>\n  </thead>\n  <tbody>\n    <tr>\n      <th rowspan=\"3\" valign=\"top\">bar</th>\n      <th>one</th>\n      <td>-0.822370</td>\n      <td>1.120230</td>\n    </tr>\n    <tr>\n      <th>three</th>\n      <td>-1.064149</td>\n      <td>-0.628803</td>\n    </tr>\n    <tr>\n      <th>two</th>\n      <td>-2.419061</td>\n      <td>0.422089</td>\n    </tr>\n    <tr>\n      <th rowspan=\"3\" valign=\"top\">foo</th>\n      <th>one</th>\n      <td>0.188038</td>\n      <td>0.388666</td>\n    </tr>\n    <tr>\n      <th>three</th>\n      <td>1.247329</td>\n      <td>1.777794</td>\n    </tr>\n    <tr>\n      <th>two</th>\n      <td>1.068232</td>\n      <td>0.969074</td>\n    </tr>\n  </tbody>\n</table>\n</div>"
          },
          "metadata": {}
        }
      ]
    },
    {
      "cell_type": "code",
      "source": "df.groupby(['A','B']).sum().reset_index()",
      "metadata": {
        "trusted": true
      },
      "execution_count": 162,
      "outputs": [
        {
          "execution_count": 162,
          "output_type": "execute_result",
          "data": {
            "text/plain": "     A      B         C         D\n0  bar    one -0.822370  1.120230\n1  bar  three -1.064149 -0.628803\n2  bar    two -2.419061  0.422089\n3  foo    one  0.188038  0.388666\n4  foo  three  1.247329  1.777794\n5  foo    two  1.068232  0.969074",
            "text/html": "<div>\n<style scoped>\n    .dataframe tbody tr th:only-of-type {\n        vertical-align: middle;\n    }\n\n    .dataframe tbody tr th {\n        vertical-align: top;\n    }\n\n    .dataframe thead th {\n        text-align: right;\n    }\n</style>\n<table border=\"1\" class=\"dataframe\">\n  <thead>\n    <tr style=\"text-align: right;\">\n      <th></th>\n      <th>A</th>\n      <th>B</th>\n      <th>C</th>\n      <th>D</th>\n    </tr>\n  </thead>\n  <tbody>\n    <tr>\n      <th>0</th>\n      <td>bar</td>\n      <td>one</td>\n      <td>-0.822370</td>\n      <td>1.120230</td>\n    </tr>\n    <tr>\n      <th>1</th>\n      <td>bar</td>\n      <td>three</td>\n      <td>-1.064149</td>\n      <td>-0.628803</td>\n    </tr>\n    <tr>\n      <th>2</th>\n      <td>bar</td>\n      <td>two</td>\n      <td>-2.419061</td>\n      <td>0.422089</td>\n    </tr>\n    <tr>\n      <th>3</th>\n      <td>foo</td>\n      <td>one</td>\n      <td>0.188038</td>\n      <td>0.388666</td>\n    </tr>\n    <tr>\n      <th>4</th>\n      <td>foo</td>\n      <td>three</td>\n      <td>1.247329</td>\n      <td>1.777794</td>\n    </tr>\n    <tr>\n      <th>5</th>\n      <td>foo</td>\n      <td>two</td>\n      <td>1.068232</td>\n      <td>0.969074</td>\n    </tr>\n  </tbody>\n</table>\n</div>"
          },
          "metadata": {}
        }
      ]
    },
    {
      "cell_type": "code",
      "source": "grouped = df.groupby(['A','B'])\ngrouped.size()",
      "metadata": {
        "trusted": true
      },
      "execution_count": 164,
      "outputs": [
        {
          "execution_count": 164,
          "output_type": "execute_result",
          "data": {
            "text/plain": "A    B    \nbar  one      1\n     three    1\n     two      1\nfoo  one      2\n     three    1\n     two      2\ndtype: int64"
          },
          "metadata": {}
        }
      ]
    },
    {
      "cell_type": "code",
      "source": "grouped.describe()",
      "metadata": {
        "trusted": true
      },
      "execution_count": 165,
      "outputs": [
        {
          "execution_count": 165,
          "output_type": "execute_result",
          "data": {
            "text/plain": "              C                                                              \\\n          count      mean       std       min       25%       50%       75%   \nA   B                                                                         \nbar one     1.0 -0.822370       NaN -0.822370 -0.822370 -0.822370 -0.822370   \n    three   1.0 -1.064149       NaN -1.064149 -1.064149 -1.064149 -1.064149   \n    two     1.0 -2.419061       NaN -2.419061 -2.419061 -2.419061 -2.419061   \nfoo one     2.0  0.094019  0.291577 -0.112157 -0.009069  0.094019  0.197107   \n    three   1.0  1.247329       NaN  1.247329  1.247329  1.247329  1.247329   \n    two     2.0  0.534116  1.143628 -0.274551  0.129782  0.534116  0.938450   \n\n                        D                                                    \\\n                max count      mean       std       min       25%       50%   \nA   B                                                                         \nbar one   -0.822370   1.0  1.120230       NaN  1.120230  1.120230  1.120230   \n    three -1.064149   1.0 -0.628803       NaN -0.628803 -0.628803 -0.628803   \n    two   -2.419061   1.0  0.422089       NaN  0.422089  0.422089  0.422089   \nfoo one    0.300195   2.0  0.194333  0.467188 -0.136019  0.029157  0.194333   \n    three  1.247329   1.0  1.777794       NaN  1.777794  1.777794  1.777794   \n    two    1.342783   2.0  0.484537  0.201746  0.341881  0.413209  0.484537   \n\n                               \n                75%       max  \nA   B                          \nbar one    1.120230  1.120230  \n    three -0.628803 -0.628803  \n    two    0.422089  0.422089  \nfoo one    0.359509  0.524684  \n    three  1.777794  1.777794  \n    two    0.555865  0.627193  ",
            "text/html": "<div>\n<style scoped>\n    .dataframe tbody tr th:only-of-type {\n        vertical-align: middle;\n    }\n\n    .dataframe tbody tr th {\n        vertical-align: top;\n    }\n\n    .dataframe thead tr th {\n        text-align: left;\n    }\n\n    .dataframe thead tr:last-of-type th {\n        text-align: right;\n    }\n</style>\n<table border=\"1\" class=\"dataframe\">\n  <thead>\n    <tr>\n      <th></th>\n      <th></th>\n      <th colspan=\"8\" halign=\"left\">C</th>\n      <th colspan=\"8\" halign=\"left\">D</th>\n    </tr>\n    <tr>\n      <th></th>\n      <th></th>\n      <th>count</th>\n      <th>mean</th>\n      <th>std</th>\n      <th>min</th>\n      <th>25%</th>\n      <th>50%</th>\n      <th>75%</th>\n      <th>max</th>\n      <th>count</th>\n      <th>mean</th>\n      <th>std</th>\n      <th>min</th>\n      <th>25%</th>\n      <th>50%</th>\n      <th>75%</th>\n      <th>max</th>\n    </tr>\n    <tr>\n      <th>A</th>\n      <th>B</th>\n      <th></th>\n      <th></th>\n      <th></th>\n      <th></th>\n      <th></th>\n      <th></th>\n      <th></th>\n      <th></th>\n      <th></th>\n      <th></th>\n      <th></th>\n      <th></th>\n      <th></th>\n      <th></th>\n      <th></th>\n      <th></th>\n    </tr>\n  </thead>\n  <tbody>\n    <tr>\n      <th rowspan=\"3\" valign=\"top\">bar</th>\n      <th>one</th>\n      <td>1.0</td>\n      <td>-0.822370</td>\n      <td>NaN</td>\n      <td>-0.822370</td>\n      <td>-0.822370</td>\n      <td>-0.822370</td>\n      <td>-0.822370</td>\n      <td>-0.822370</td>\n      <td>1.0</td>\n      <td>1.120230</td>\n      <td>NaN</td>\n      <td>1.120230</td>\n      <td>1.120230</td>\n      <td>1.120230</td>\n      <td>1.120230</td>\n      <td>1.120230</td>\n    </tr>\n    <tr>\n      <th>three</th>\n      <td>1.0</td>\n      <td>-1.064149</td>\n      <td>NaN</td>\n      <td>-1.064149</td>\n      <td>-1.064149</td>\n      <td>-1.064149</td>\n      <td>-1.064149</td>\n      <td>-1.064149</td>\n      <td>1.0</td>\n      <td>-0.628803</td>\n      <td>NaN</td>\n      <td>-0.628803</td>\n      <td>-0.628803</td>\n      <td>-0.628803</td>\n      <td>-0.628803</td>\n      <td>-0.628803</td>\n    </tr>\n    <tr>\n      <th>two</th>\n      <td>1.0</td>\n      <td>-2.419061</td>\n      <td>NaN</td>\n      <td>-2.419061</td>\n      <td>-2.419061</td>\n      <td>-2.419061</td>\n      <td>-2.419061</td>\n      <td>-2.419061</td>\n      <td>1.0</td>\n      <td>0.422089</td>\n      <td>NaN</td>\n      <td>0.422089</td>\n      <td>0.422089</td>\n      <td>0.422089</td>\n      <td>0.422089</td>\n      <td>0.422089</td>\n    </tr>\n    <tr>\n      <th rowspan=\"3\" valign=\"top\">foo</th>\n      <th>one</th>\n      <td>2.0</td>\n      <td>0.094019</td>\n      <td>0.291577</td>\n      <td>-0.112157</td>\n      <td>-0.009069</td>\n      <td>0.094019</td>\n      <td>0.197107</td>\n      <td>0.300195</td>\n      <td>2.0</td>\n      <td>0.194333</td>\n      <td>0.467188</td>\n      <td>-0.136019</td>\n      <td>0.029157</td>\n      <td>0.194333</td>\n      <td>0.359509</td>\n      <td>0.524684</td>\n    </tr>\n    <tr>\n      <th>three</th>\n      <td>1.0</td>\n      <td>1.247329</td>\n      <td>NaN</td>\n      <td>1.247329</td>\n      <td>1.247329</td>\n      <td>1.247329</td>\n      <td>1.247329</td>\n      <td>1.247329</td>\n      <td>1.0</td>\n      <td>1.777794</td>\n      <td>NaN</td>\n      <td>1.777794</td>\n      <td>1.777794</td>\n      <td>1.777794</td>\n      <td>1.777794</td>\n      <td>1.777794</td>\n    </tr>\n    <tr>\n      <th>two</th>\n      <td>2.0</td>\n      <td>0.534116</td>\n      <td>1.143628</td>\n      <td>-0.274551</td>\n      <td>0.129782</td>\n      <td>0.534116</td>\n      <td>0.938450</td>\n      <td>1.342783</td>\n      <td>2.0</td>\n      <td>0.484537</td>\n      <td>0.201746</td>\n      <td>0.341881</td>\n      <td>0.413209</td>\n      <td>0.484537</td>\n      <td>0.555865</td>\n      <td>0.627193</td>\n    </tr>\n  </tbody>\n</table>\n</div>"
          },
          "metadata": {}
        }
      ]
    },
    {
      "cell_type": "code",
      "source": "grouped.describe().head()",
      "metadata": {
        "trusted": true
      },
      "execution_count": 166,
      "outputs": [
        {
          "execution_count": 166,
          "output_type": "execute_result",
          "data": {
            "text/plain": "              C                                                              \\\n          count      mean       std       min       25%       50%       75%   \nA   B                                                                         \nbar one     1.0 -0.822370       NaN -0.822370 -0.822370 -0.822370 -0.822370   \n    three   1.0 -1.064149       NaN -1.064149 -1.064149 -1.064149 -1.064149   \n    two     1.0 -2.419061       NaN -2.419061 -2.419061 -2.419061 -2.419061   \nfoo one     2.0  0.094019  0.291577 -0.112157 -0.009069  0.094019  0.197107   \n    three   1.0  1.247329       NaN  1.247329  1.247329  1.247329  1.247329   \n\n                        D                                                    \\\n                max count      mean       std       min       25%       50%   \nA   B                                                                         \nbar one   -0.822370   1.0  1.120230       NaN  1.120230  1.120230  1.120230   \n    three -1.064149   1.0 -0.628803       NaN -0.628803 -0.628803 -0.628803   \n    two   -2.419061   1.0  0.422089       NaN  0.422089  0.422089  0.422089   \nfoo one    0.300195   2.0  0.194333  0.467188 -0.136019  0.029157  0.194333   \n    three  1.247329   1.0  1.777794       NaN  1.777794  1.777794  1.777794   \n\n                               \n                75%       max  \nA   B                          \nbar one    1.120230  1.120230  \n    three -0.628803 -0.628803  \n    two    0.422089  0.422089  \nfoo one    0.359509  0.524684  \n    three  1.777794  1.777794  ",
            "text/html": "<div>\n<style scoped>\n    .dataframe tbody tr th:only-of-type {\n        vertical-align: middle;\n    }\n\n    .dataframe tbody tr th {\n        vertical-align: top;\n    }\n\n    .dataframe thead tr th {\n        text-align: left;\n    }\n\n    .dataframe thead tr:last-of-type th {\n        text-align: right;\n    }\n</style>\n<table border=\"1\" class=\"dataframe\">\n  <thead>\n    <tr>\n      <th></th>\n      <th></th>\n      <th colspan=\"8\" halign=\"left\">C</th>\n      <th colspan=\"8\" halign=\"left\">D</th>\n    </tr>\n    <tr>\n      <th></th>\n      <th></th>\n      <th>count</th>\n      <th>mean</th>\n      <th>std</th>\n      <th>min</th>\n      <th>25%</th>\n      <th>50%</th>\n      <th>75%</th>\n      <th>max</th>\n      <th>count</th>\n      <th>mean</th>\n      <th>std</th>\n      <th>min</th>\n      <th>25%</th>\n      <th>50%</th>\n      <th>75%</th>\n      <th>max</th>\n    </tr>\n    <tr>\n      <th>A</th>\n      <th>B</th>\n      <th></th>\n      <th></th>\n      <th></th>\n      <th></th>\n      <th></th>\n      <th></th>\n      <th></th>\n      <th></th>\n      <th></th>\n      <th></th>\n      <th></th>\n      <th></th>\n      <th></th>\n      <th></th>\n      <th></th>\n      <th></th>\n    </tr>\n  </thead>\n  <tbody>\n    <tr>\n      <th rowspan=\"3\" valign=\"top\">bar</th>\n      <th>one</th>\n      <td>1.0</td>\n      <td>-0.822370</td>\n      <td>NaN</td>\n      <td>-0.822370</td>\n      <td>-0.822370</td>\n      <td>-0.822370</td>\n      <td>-0.822370</td>\n      <td>-0.822370</td>\n      <td>1.0</td>\n      <td>1.120230</td>\n      <td>NaN</td>\n      <td>1.120230</td>\n      <td>1.120230</td>\n      <td>1.120230</td>\n      <td>1.120230</td>\n      <td>1.120230</td>\n    </tr>\n    <tr>\n      <th>three</th>\n      <td>1.0</td>\n      <td>-1.064149</td>\n      <td>NaN</td>\n      <td>-1.064149</td>\n      <td>-1.064149</td>\n      <td>-1.064149</td>\n      <td>-1.064149</td>\n      <td>-1.064149</td>\n      <td>1.0</td>\n      <td>-0.628803</td>\n      <td>NaN</td>\n      <td>-0.628803</td>\n      <td>-0.628803</td>\n      <td>-0.628803</td>\n      <td>-0.628803</td>\n      <td>-0.628803</td>\n    </tr>\n    <tr>\n      <th>two</th>\n      <td>1.0</td>\n      <td>-2.419061</td>\n      <td>NaN</td>\n      <td>-2.419061</td>\n      <td>-2.419061</td>\n      <td>-2.419061</td>\n      <td>-2.419061</td>\n      <td>-2.419061</td>\n      <td>1.0</td>\n      <td>0.422089</td>\n      <td>NaN</td>\n      <td>0.422089</td>\n      <td>0.422089</td>\n      <td>0.422089</td>\n      <td>0.422089</td>\n      <td>0.422089</td>\n    </tr>\n    <tr>\n      <th rowspan=\"2\" valign=\"top\">foo</th>\n      <th>one</th>\n      <td>2.0</td>\n      <td>0.094019</td>\n      <td>0.291577</td>\n      <td>-0.112157</td>\n      <td>-0.009069</td>\n      <td>0.094019</td>\n      <td>0.197107</td>\n      <td>0.300195</td>\n      <td>2.0</td>\n      <td>0.194333</td>\n      <td>0.467188</td>\n      <td>-0.136019</td>\n      <td>0.029157</td>\n      <td>0.194333</td>\n      <td>0.359509</td>\n      <td>0.524684</td>\n    </tr>\n    <tr>\n      <th>three</th>\n      <td>1.0</td>\n      <td>1.247329</td>\n      <td>NaN</td>\n      <td>1.247329</td>\n      <td>1.247329</td>\n      <td>1.247329</td>\n      <td>1.247329</td>\n      <td>1.247329</td>\n      <td>1.0</td>\n      <td>1.777794</td>\n      <td>NaN</td>\n      <td>1.777794</td>\n      <td>1.777794</td>\n      <td>1.777794</td>\n      <td>1.777794</td>\n      <td>1.777794</td>\n    </tr>\n  </tbody>\n</table>\n</div>"
          },
          "metadata": {}
        }
      ]
    },
    {
      "cell_type": "code",
      "source": "grouped = df.groupby('A')\ngrouped['C'].agg([np.sum,np.mean,np.std])",
      "metadata": {
        "trusted": true
      },
      "execution_count": 171,
      "outputs": [
        {
          "execution_count": 171,
          "output_type": "execute_result",
          "data": {
            "text/plain": "          sum      mean       std\nA                                \nbar -4.305579 -1.435193  0.860587\nfoo  2.503599  0.500720  0.755541",
            "text/html": "<div>\n<style scoped>\n    .dataframe tbody tr th:only-of-type {\n        vertical-align: middle;\n    }\n\n    .dataframe tbody tr th {\n        vertical-align: top;\n    }\n\n    .dataframe thead th {\n        text-align: right;\n    }\n</style>\n<table border=\"1\" class=\"dataframe\">\n  <thead>\n    <tr style=\"text-align: right;\">\n      <th></th>\n      <th>sum</th>\n      <th>mean</th>\n      <th>std</th>\n    </tr>\n    <tr>\n      <th>A</th>\n      <th></th>\n      <th></th>\n      <th></th>\n    </tr>\n  </thead>\n  <tbody>\n    <tr>\n      <th>bar</th>\n      <td>-4.305579</td>\n      <td>-1.435193</td>\n      <td>0.860587</td>\n    </tr>\n    <tr>\n      <th>foo</th>\n      <td>2.503599</td>\n      <td>0.500720</td>\n      <td>0.755541</td>\n    </tr>\n  </tbody>\n</table>\n</div>"
          },
          "metadata": {}
        }
      ]
    },
    {
      "cell_type": "code",
      "source": "grouped['C'].agg(res_std=('std'), res_mean=('mean'),res_sum=('sum'))",
      "metadata": {
        "trusted": true
      },
      "execution_count": 182,
      "outputs": [
        {
          "execution_count": 182,
          "output_type": "execute_result",
          "data": {
            "text/plain": "      res_std  res_mean   res_sum\nA                                \nbar  0.860587 -1.435193 -4.305579\nfoo  0.755541  0.500720  2.503599",
            "text/html": "<div>\n<style scoped>\n    .dataframe tbody tr th:only-of-type {\n        vertical-align: middle;\n    }\n\n    .dataframe tbody tr th {\n        vertical-align: top;\n    }\n\n    .dataframe thead th {\n        text-align: right;\n    }\n</style>\n<table border=\"1\" class=\"dataframe\">\n  <thead>\n    <tr style=\"text-align: right;\">\n      <th></th>\n      <th>res_std</th>\n      <th>res_mean</th>\n      <th>res_sum</th>\n    </tr>\n    <tr>\n      <th>A</th>\n      <th></th>\n      <th></th>\n      <th></th>\n    </tr>\n  </thead>\n  <tbody>\n    <tr>\n      <th>bar</th>\n      <td>0.860587</td>\n      <td>-1.435193</td>\n      <td>-4.305579</td>\n    </tr>\n    <tr>\n      <th>foo</th>\n      <td>0.755541</td>\n      <td>0.500720</td>\n      <td>2.503599</td>\n    </tr>\n  </tbody>\n</table>\n</div>"
          },
          "metadata": {}
        }
      ]
    },
    {
      "cell_type": "code",
      "source": "grouped.agg(res_sum=('C','sum'), res_mean=('C','mean'),res_std=('C','std'))",
      "metadata": {
        "trusted": true
      },
      "execution_count": 187,
      "outputs": [
        {
          "execution_count": 187,
          "output_type": "execute_result",
          "data": {
            "text/plain": "      res_sum  res_mean   res_std\nA                                \nbar -4.305579 -1.435193  0.860587\nfoo  2.503599  0.500720  0.755541",
            "text/html": "<div>\n<style scoped>\n    .dataframe tbody tr th:only-of-type {\n        vertical-align: middle;\n    }\n\n    .dataframe tbody tr th {\n        vertical-align: top;\n    }\n\n    .dataframe thead th {\n        text-align: right;\n    }\n</style>\n<table border=\"1\" class=\"dataframe\">\n  <thead>\n    <tr style=\"text-align: right;\">\n      <th></th>\n      <th>res_sum</th>\n      <th>res_mean</th>\n      <th>res_std</th>\n    </tr>\n    <tr>\n      <th>A</th>\n      <th></th>\n      <th></th>\n      <th></th>\n    </tr>\n  </thead>\n  <tbody>\n    <tr>\n      <th>bar</th>\n      <td>-4.305579</td>\n      <td>-1.435193</td>\n      <td>0.860587</td>\n    </tr>\n    <tr>\n      <th>foo</th>\n      <td>2.503599</td>\n      <td>0.500720</td>\n      <td>0.755541</td>\n    </tr>\n  </tbody>\n</table>\n</div>"
          },
          "metadata": {}
        }
      ]
    },
    {
      "cell_type": "code",
      "source": "import pandas as pd\nimport numpy as np\ns = pd.Series(['A','b','B','gaer','AGER',np.nan])\ns",
      "metadata": {
        "trusted": true
      },
      "execution_count": 2,
      "outputs": [
        {
          "execution_count": 2,
          "output_type": "execute_result",
          "data": {
            "text/plain": "0       A\n1       b\n2       B\n3    gaer\n4    AGER\n5     NaN\ndtype: object"
          },
          "metadata": {}
        }
      ]
    },
    {
      "cell_type": "code",
      "source": "s.str.lower()",
      "metadata": {
        "trusted": true
      },
      "execution_count": 3,
      "outputs": [
        {
          "execution_count": 3,
          "output_type": "execute_result",
          "data": {
            "text/plain": "0       a\n1       b\n2       b\n3    gaer\n4    ager\n5     NaN\ndtype: object"
          },
          "metadata": {}
        }
      ]
    },
    {
      "cell_type": "code",
      "source": "s.str.upper()",
      "metadata": {
        "trusted": true
      },
      "execution_count": 4,
      "outputs": [
        {
          "execution_count": 4,
          "output_type": "execute_result",
          "data": {
            "text/plain": "0       A\n1       B\n2       B\n3    GAER\n4    AGER\n5     NaN\ndtype: object"
          },
          "metadata": {}
        }
      ]
    },
    {
      "cell_type": "code",
      "source": "s.str.len()",
      "metadata": {
        "trusted": true
      },
      "execution_count": 5,
      "outputs": [
        {
          "execution_count": 5,
          "output_type": "execute_result",
          "data": {
            "text/plain": "0    1.0\n1    1.0\n2    1.0\n3    4.0\n4    4.0\n5    NaN\ndtype: float64"
          },
          "metadata": {}
        }
      ]
    },
    {
      "cell_type": "code",
      "source": "index = pd.Index(['   tang','   yu   ','di'])\nindex",
      "metadata": {
        "trusted": true
      },
      "execution_count": 6,
      "outputs": [
        {
          "execution_count": 6,
          "output_type": "execute_result",
          "data": {
            "text/plain": "Index(['   tang', '   yu   ', 'di'], dtype='object')"
          },
          "metadata": {}
        }
      ]
    },
    {
      "cell_type": "code",
      "source": "index.str.strip()",
      "metadata": {
        "trusted": true
      },
      "execution_count": 7,
      "outputs": [
        {
          "execution_count": 7,
          "output_type": "execute_result",
          "data": {
            "text/plain": "Index(['tang', 'yu', 'di'], dtype='object')"
          },
          "metadata": {}
        }
      ]
    },
    {
      "cell_type": "code",
      "source": "index.str.lstrip()",
      "metadata": {
        "trusted": true
      },
      "execution_count": 8,
      "outputs": [
        {
          "execution_count": 8,
          "output_type": "execute_result",
          "data": {
            "text/plain": "Index(['tang', 'yu   ', 'di'], dtype='object')"
          },
          "metadata": {}
        }
      ]
    },
    {
      "cell_type": "code",
      "source": "index.str.rstrip()",
      "metadata": {
        "trusted": true
      },
      "execution_count": 9,
      "outputs": [
        {
          "execution_count": 9,
          "output_type": "execute_result",
          "data": {
            "text/plain": "Index(['   tang', '   yu', 'di'], dtype='object')"
          },
          "metadata": {}
        }
      ]
    },
    {
      "cell_type": "code",
      "source": "df = pd.DataFrame(np.random.randn(3,2),columns = ['A a','B b'],index = range(3))\ndf",
      "metadata": {
        "trusted": true
      },
      "execution_count": 13,
      "outputs": [
        {
          "execution_count": 13,
          "output_type": "execute_result",
          "data": {
            "text/plain": "        A a       B b\n0 -0.752132 -0.309224\n1  1.581949  0.155144\n2  3.588240  0.089341",
            "text/html": "<div>\n<style scoped>\n    .dataframe tbody tr th:only-of-type {\n        vertical-align: middle;\n    }\n\n    .dataframe tbody tr th {\n        vertical-align: top;\n    }\n\n    .dataframe thead th {\n        text-align: right;\n    }\n</style>\n<table border=\"1\" class=\"dataframe\">\n  <thead>\n    <tr style=\"text-align: right;\">\n      <th></th>\n      <th>A a</th>\n      <th>B b</th>\n    </tr>\n  </thead>\n  <tbody>\n    <tr>\n      <th>0</th>\n      <td>-0.752132</td>\n      <td>-0.309224</td>\n    </tr>\n    <tr>\n      <th>1</th>\n      <td>1.581949</td>\n      <td>0.155144</td>\n    </tr>\n    <tr>\n      <th>2</th>\n      <td>3.588240</td>\n      <td>0.089341</td>\n    </tr>\n  </tbody>\n</table>\n</div>"
          },
          "metadata": {}
        }
      ]
    },
    {
      "cell_type": "code",
      "source": "df.columns = df.columns.str.replace(' ','_')\ndf",
      "metadata": {
        "trusted": true
      },
      "execution_count": 20,
      "outputs": [
        {
          "execution_count": 20,
          "output_type": "execute_result",
          "data": {
            "text/plain": "        A_a       B_b\n0 -0.752132 -0.309224\n1  1.581949  0.155144\n2  3.588240  0.089341",
            "text/html": "<div>\n<style scoped>\n    .dataframe tbody tr th:only-of-type {\n        vertical-align: middle;\n    }\n\n    .dataframe tbody tr th {\n        vertical-align: top;\n    }\n\n    .dataframe thead th {\n        text-align: right;\n    }\n</style>\n<table border=\"1\" class=\"dataframe\">\n  <thead>\n    <tr style=\"text-align: right;\">\n      <th></th>\n      <th>A_a</th>\n      <th>B_b</th>\n    </tr>\n  </thead>\n  <tbody>\n    <tr>\n      <th>0</th>\n      <td>-0.752132</td>\n      <td>-0.309224</td>\n    </tr>\n    <tr>\n      <th>1</th>\n      <td>1.581949</td>\n      <td>0.155144</td>\n    </tr>\n    <tr>\n      <th>2</th>\n      <td>3.588240</td>\n      <td>0.089341</td>\n    </tr>\n  </tbody>\n</table>\n</div>"
          },
          "metadata": {}
        }
      ]
    },
    {
      "cell_type": "code",
      "source": "s = pd.Series(['a_b_C','c_d_e','f_g_h'])\ns",
      "metadata": {
        "trusted": true
      },
      "execution_count": 22,
      "outputs": [
        {
          "execution_count": 22,
          "output_type": "execute_result",
          "data": {
            "text/plain": "0    a_b_C\n1    c_d_e\n2    f_g_h\ndtype: object"
          },
          "metadata": {}
        }
      ]
    },
    {
      "cell_type": "code",
      "source": "s.str.split('_')",
      "metadata": {
        "trusted": true
      },
      "execution_count": 23,
      "outputs": [
        {
          "execution_count": 23,
          "output_type": "execute_result",
          "data": {
            "text/plain": "0    [a, b, C]\n1    [c, d, e]\n2    [f, g, h]\ndtype: object"
          },
          "metadata": {}
        }
      ]
    },
    {
      "cell_type": "code",
      "source": "# expand : Expand the split strings into separate columns.\n# If True, return DataFrame/MultiIndex expanding dimensionality.\n# If False, return Series/Index, containing lists of strings.\ns.str.split('_',expand = True)",
      "metadata": {
        "trusted": true
      },
      "execution_count": 24,
      "outputs": [
        {
          "execution_count": 24,
          "output_type": "execute_result",
          "data": {
            "text/plain": "   0  1  2\n0  a  b  C\n1  c  d  e\n2  f  g  h",
            "text/html": "<div>\n<style scoped>\n    .dataframe tbody tr th:only-of-type {\n        vertical-align: middle;\n    }\n\n    .dataframe tbody tr th {\n        vertical-align: top;\n    }\n\n    .dataframe thead th {\n        text-align: right;\n    }\n</style>\n<table border=\"1\" class=\"dataframe\">\n  <thead>\n    <tr style=\"text-align: right;\">\n      <th></th>\n      <th>0</th>\n      <th>1</th>\n      <th>2</th>\n    </tr>\n  </thead>\n  <tbody>\n    <tr>\n      <th>0</th>\n      <td>a</td>\n      <td>b</td>\n      <td>C</td>\n    </tr>\n    <tr>\n      <th>1</th>\n      <td>c</td>\n      <td>d</td>\n      <td>e</td>\n    </tr>\n    <tr>\n      <th>2</th>\n      <td>f</td>\n      <td>g</td>\n      <td>h</td>\n    </tr>\n  </tbody>\n</table>\n</div>"
          },
          "metadata": {}
        }
      ]
    },
    {
      "cell_type": "code",
      "source": "# n : Limit number of splits in output. None, 0 and -1 will be interpreted as return all splits.\ns.str.split('_',expand = True, n = 1)",
      "metadata": {
        "trusted": true
      },
      "execution_count": 47,
      "outputs": [
        {
          "execution_count": 47,
          "output_type": "execute_result",
          "data": {
            "text/plain": "   0    1\n0  a  b_C\n1  c  d_e\n2  f  g_h",
            "text/html": "<div>\n<style scoped>\n    .dataframe tbody tr th:only-of-type {\n        vertical-align: middle;\n    }\n\n    .dataframe tbody tr th {\n        vertical-align: top;\n    }\n\n    .dataframe thead th {\n        text-align: right;\n    }\n</style>\n<table border=\"1\" class=\"dataframe\">\n  <thead>\n    <tr style=\"text-align: right;\">\n      <th></th>\n      <th>0</th>\n      <th>1</th>\n    </tr>\n  </thead>\n  <tbody>\n    <tr>\n      <th>0</th>\n      <td>a</td>\n      <td>b_C</td>\n    </tr>\n    <tr>\n      <th>1</th>\n      <td>c</td>\n      <td>d_e</td>\n    </tr>\n    <tr>\n      <th>2</th>\n      <td>f</td>\n      <td>g_h</td>\n    </tr>\n  </tbody>\n</table>\n</div>"
          },
          "metadata": {}
        }
      ]
    },
    {
      "cell_type": "code",
      "source": "s = pd.Series(['A','Aas','Afgew','Ager','Agre','Ager'])\ns",
      "metadata": {
        "trusted": true
      },
      "execution_count": 48,
      "outputs": [
        {
          "execution_count": 48,
          "output_type": "execute_result",
          "data": {
            "text/plain": "0        A\n1      Aas\n2    Afgew\n3     Ager\n4     Agre\n5     Ager\ndtype: object"
          },
          "metadata": {}
        }
      ]
    },
    {
      "cell_type": "code",
      "source": "s.str.contains('Ag')",
      "metadata": {
        "trusted": true
      },
      "execution_count": 49,
      "outputs": [
        {
          "execution_count": 49,
          "output_type": "execute_result",
          "data": {
            "text/plain": "0    False\n1    False\n2    False\n3     True\n4     True\n5     True\ndtype: bool"
          },
          "metadata": {}
        }
      ]
    },
    {
      "cell_type": "code",
      "source": "s = pd.Series(['a','a|b','a|c'])\ns",
      "metadata": {
        "trusted": true
      },
      "execution_count": 50,
      "outputs": [
        {
          "execution_count": 50,
          "output_type": "execute_result",
          "data": {
            "text/plain": "0      a\n1    a|b\n2    a|c\ndtype: object"
          },
          "metadata": {}
        }
      ]
    },
    {
      "cell_type": "code",
      "source": "s.str.get_dummies(sep = '|')",
      "metadata": {
        "trusted": true
      },
      "execution_count": 51,
      "outputs": [
        {
          "execution_count": 51,
          "output_type": "execute_result",
          "data": {
            "text/plain": "   a  b  c\n0  1  0  0\n1  1  1  0\n2  1  0  1",
            "text/html": "<div>\n<style scoped>\n    .dataframe tbody tr th:only-of-type {\n        vertical-align: middle;\n    }\n\n    .dataframe tbody tr th {\n        vertical-align: top;\n    }\n\n    .dataframe thead th {\n        text-align: right;\n    }\n</style>\n<table border=\"1\" class=\"dataframe\">\n  <thead>\n    <tr style=\"text-align: right;\">\n      <th></th>\n      <th>a</th>\n      <th>b</th>\n      <th>c</th>\n    </tr>\n  </thead>\n  <tbody>\n    <tr>\n      <th>0</th>\n      <td>1</td>\n      <td>0</td>\n      <td>0</td>\n    </tr>\n    <tr>\n      <th>1</th>\n      <td>1</td>\n      <td>1</td>\n      <td>0</td>\n    </tr>\n    <tr>\n      <th>2</th>\n      <td>1</td>\n      <td>0</td>\n      <td>1</td>\n    </tr>\n  </tbody>\n</table>\n</div>"
          },
          "metadata": {}
        }
      ]
    },
    {
      "cell_type": "code",
      "source": "s = pd.Series(np.arange(5),index = np.arange(5)[::-1],dtype='int64')\ns",
      "metadata": {
        "trusted": true
      },
      "execution_count": 54,
      "outputs": [
        {
          "execution_count": 54,
          "output_type": "execute_result",
          "data": {
            "text/plain": "4    0\n3    1\n2    2\n1    3\n0    4\ndtype: int64"
          },
          "metadata": {}
        }
      ]
    },
    {
      "cell_type": "code",
      "source": "s.isin([1,3,4])",
      "metadata": {
        "trusted": true
      },
      "execution_count": 55,
      "outputs": [
        {
          "execution_count": 55,
          "output_type": "execute_result",
          "data": {
            "text/plain": "4    False\n3     True\n2    False\n1     True\n0     True\ndtype: bool"
          },
          "metadata": {}
        }
      ]
    },
    {
      "cell_type": "code",
      "source": "s[s.isin([1,3,4])]",
      "metadata": {
        "trusted": true
      },
      "execution_count": 68,
      "outputs": [
        {
          "execution_count": 68,
          "output_type": "execute_result",
          "data": {
            "text/plain": "3    1\n1    3\n0    4\ndtype: int64"
          },
          "metadata": {}
        }
      ]
    },
    {
      "cell_type": "code",
      "source": "s2 = pd.Series(np.arange(6), index = pd.MultiIndex.from_product([[0,1],['a','b','c']]))\ns2",
      "metadata": {
        "trusted": true
      },
      "execution_count": 69,
      "outputs": [
        {
          "execution_count": 69,
          "output_type": "execute_result",
          "data": {
            "text/plain": "0  a    0\n   b    1\n   c    2\n1  a    3\n   b    4\n   c    5\ndtype: int32"
          },
          "metadata": {}
        }
      ]
    },
    {
      "cell_type": "code",
      "source": "s2.iloc[s2.index.isin([(1,'a'),(0,'b')])]",
      "metadata": {
        "trusted": true
      },
      "execution_count": 70,
      "outputs": [
        {
          "execution_count": 70,
          "output_type": "execute_result",
          "data": {
            "text/plain": "0  b    1\n1  a    3\ndtype: int32"
          },
          "metadata": {}
        }
      ]
    },
    {
      "cell_type": "code",
      "source": "s2.index.isin([(1,'a'),(0,'b')])",
      "metadata": {
        "trusted": true
      },
      "execution_count": 71,
      "outputs": [
        {
          "execution_count": 71,
          "output_type": "execute_result",
          "data": {
            "text/plain": "array([False,  True, False,  True, False, False])"
          },
          "metadata": {}
        }
      ]
    },
    {
      "cell_type": "code",
      "source": "s",
      "metadata": {
        "trusted": true
      },
      "execution_count": 72,
      "outputs": [
        {
          "execution_count": 72,
          "output_type": "execute_result",
          "data": {
            "text/plain": "4    0\n3    1\n2    2\n1    3\n0    4\ndtype: int64"
          },
          "metadata": {}
        }
      ]
    },
    {
      "cell_type": "code",
      "source": "s[s>2]",
      "metadata": {
        "trusted": true
      },
      "execution_count": 73,
      "outputs": [
        {
          "execution_count": 73,
          "output_type": "execute_result",
          "data": {
            "text/plain": "1    3\n0    4\ndtype: int64"
          },
          "metadata": {}
        }
      ]
    },
    {
      "cell_type": "code",
      "source": "dates = pd.date_range('20231022',periods=8)",
      "metadata": {
        "trusted": true
      },
      "execution_count": 74,
      "outputs": []
    },
    {
      "cell_type": "code",
      "source": "# numpy.random.randn : Return a sample (or samples) from the “standard normal” distribution.\ndf = pd.DataFrame(np.random.randn(8,4),index=dates,columns=['A','B','C','D'])\ndf",
      "metadata": {
        "trusted": true
      },
      "execution_count": 76,
      "outputs": [
        {
          "execution_count": 76,
          "output_type": "execute_result",
          "data": {
            "text/plain": "                   A         B         C         D\n2023-10-22  0.565801  0.165612  0.512137 -2.037810\n2023-10-23  0.578933  0.111958  0.239350 -0.783900\n2023-10-24 -0.578283  0.265181 -0.341544 -0.315694\n2023-10-25 -1.377071  0.530275 -0.016528 -0.985975\n2023-10-26 -0.736646 -0.535848  0.695120  1.846778\n2023-10-27 -0.028488  0.522322  1.345643  1.266521\n2023-10-28 -0.388783  0.614481 -1.205858 -0.674986\n2023-10-29  0.542367  3.302492  1.602786  0.847727",
            "text/html": "<div>\n<style scoped>\n    .dataframe tbody tr th:only-of-type {\n        vertical-align: middle;\n    }\n\n    .dataframe tbody tr th {\n        vertical-align: top;\n    }\n\n    .dataframe thead th {\n        text-align: right;\n    }\n</style>\n<table border=\"1\" class=\"dataframe\">\n  <thead>\n    <tr style=\"text-align: right;\">\n      <th></th>\n      <th>A</th>\n      <th>B</th>\n      <th>C</th>\n      <th>D</th>\n    </tr>\n  </thead>\n  <tbody>\n    <tr>\n      <th>2023-10-22</th>\n      <td>0.565801</td>\n      <td>0.165612</td>\n      <td>0.512137</td>\n      <td>-2.037810</td>\n    </tr>\n    <tr>\n      <th>2023-10-23</th>\n      <td>0.578933</td>\n      <td>0.111958</td>\n      <td>0.239350</td>\n      <td>-0.783900</td>\n    </tr>\n    <tr>\n      <th>2023-10-24</th>\n      <td>-0.578283</td>\n      <td>0.265181</td>\n      <td>-0.341544</td>\n      <td>-0.315694</td>\n    </tr>\n    <tr>\n      <th>2023-10-25</th>\n      <td>-1.377071</td>\n      <td>0.530275</td>\n      <td>-0.016528</td>\n      <td>-0.985975</td>\n    </tr>\n    <tr>\n      <th>2023-10-26</th>\n      <td>-0.736646</td>\n      <td>-0.535848</td>\n      <td>0.695120</td>\n      <td>1.846778</td>\n    </tr>\n    <tr>\n      <th>2023-10-27</th>\n      <td>-0.028488</td>\n      <td>0.522322</td>\n      <td>1.345643</td>\n      <td>1.266521</td>\n    </tr>\n    <tr>\n      <th>2023-10-28</th>\n      <td>-0.388783</td>\n      <td>0.614481</td>\n      <td>-1.205858</td>\n      <td>-0.674986</td>\n    </tr>\n    <tr>\n      <th>2023-10-29</th>\n      <td>0.542367</td>\n      <td>3.302492</td>\n      <td>1.602786</td>\n      <td>0.847727</td>\n    </tr>\n  </tbody>\n</table>\n</div>"
          },
          "metadata": {}
        }
      ]
    },
    {
      "cell_type": "code",
      "source": "# DataFrame.loc : Access a group of rows and columns by label(s) or a boolean array.\n# df.loc[:, x]return the values. [不指定index:指定columns] 則會返回columns的values\n# df.columns.map(lambda x:x=='A') 返回布林值[True ,False, False, False]\n# lambda函數 -> lambda 變數 : expression(運算)\ndf.loc[:,df.columns.map(lambda x:x=='A')]",
      "metadata": {
        "trusted": true
      },
      "execution_count": 102,
      "outputs": [
        {
          "execution_count": 102,
          "output_type": "execute_result",
          "data": {
            "text/plain": "                   A\n2023-10-22  0.565801\n2023-10-23  0.578933\n2023-10-24 -0.578283\n2023-10-25 -1.377071\n2023-10-26 -0.736646\n2023-10-27 -0.028488\n2023-10-28 -0.388783\n2023-10-29  0.542367",
            "text/html": "<div>\n<style scoped>\n    .dataframe tbody tr th:only-of-type {\n        vertical-align: middle;\n    }\n\n    .dataframe tbody tr th {\n        vertical-align: top;\n    }\n\n    .dataframe thead th {\n        text-align: right;\n    }\n</style>\n<table border=\"1\" class=\"dataframe\">\n  <thead>\n    <tr style=\"text-align: right;\">\n      <th></th>\n      <th>A</th>\n    </tr>\n  </thead>\n  <tbody>\n    <tr>\n      <th>2023-10-22</th>\n      <td>0.565801</td>\n    </tr>\n    <tr>\n      <th>2023-10-23</th>\n      <td>0.578933</td>\n    </tr>\n    <tr>\n      <th>2023-10-24</th>\n      <td>-0.578283</td>\n    </tr>\n    <tr>\n      <th>2023-10-25</th>\n      <td>-1.377071</td>\n    </tr>\n    <tr>\n      <th>2023-10-26</th>\n      <td>-0.736646</td>\n    </tr>\n    <tr>\n      <th>2023-10-27</th>\n      <td>-0.028488</td>\n    </tr>\n    <tr>\n      <th>2023-10-28</th>\n      <td>-0.388783</td>\n    </tr>\n    <tr>\n      <th>2023-10-29</th>\n      <td>0.542367</td>\n    </tr>\n  </tbody>\n</table>\n</div>"
          },
          "metadata": {}
        }
      ]
    },
    {
      "cell_type": "code",
      "source": "df.where(df < 0)",
      "metadata": {
        "trusted": true
      },
      "execution_count": 105,
      "outputs": [
        {
          "execution_count": 105,
          "output_type": "execute_result",
          "data": {
            "text/plain": "                   A         B         C         D\n2023-10-22       NaN       NaN       NaN -2.037810\n2023-10-23       NaN       NaN       NaN -0.783900\n2023-10-24 -0.578283       NaN -0.341544 -0.315694\n2023-10-25 -1.377071       NaN -0.016528 -0.985975\n2023-10-26 -0.736646 -0.535848       NaN       NaN\n2023-10-27 -0.028488       NaN       NaN       NaN\n2023-10-28 -0.388783       NaN -1.205858 -0.674986\n2023-10-29       NaN       NaN       NaN       NaN",
            "text/html": "<div>\n<style scoped>\n    .dataframe tbody tr th:only-of-type {\n        vertical-align: middle;\n    }\n\n    .dataframe tbody tr th {\n        vertical-align: top;\n    }\n\n    .dataframe thead th {\n        text-align: right;\n    }\n</style>\n<table border=\"1\" class=\"dataframe\">\n  <thead>\n    <tr style=\"text-align: right;\">\n      <th></th>\n      <th>A</th>\n      <th>B</th>\n      <th>C</th>\n      <th>D</th>\n    </tr>\n  </thead>\n  <tbody>\n    <tr>\n      <th>2023-10-22</th>\n      <td>NaN</td>\n      <td>NaN</td>\n      <td>NaN</td>\n      <td>-2.037810</td>\n    </tr>\n    <tr>\n      <th>2023-10-23</th>\n      <td>NaN</td>\n      <td>NaN</td>\n      <td>NaN</td>\n      <td>-0.783900</td>\n    </tr>\n    <tr>\n      <th>2023-10-24</th>\n      <td>-0.578283</td>\n      <td>NaN</td>\n      <td>-0.341544</td>\n      <td>-0.315694</td>\n    </tr>\n    <tr>\n      <th>2023-10-25</th>\n      <td>-1.377071</td>\n      <td>NaN</td>\n      <td>-0.016528</td>\n      <td>-0.985975</td>\n    </tr>\n    <tr>\n      <th>2023-10-26</th>\n      <td>-0.736646</td>\n      <td>-0.535848</td>\n      <td>NaN</td>\n      <td>NaN</td>\n    </tr>\n    <tr>\n      <th>2023-10-27</th>\n      <td>-0.028488</td>\n      <td>NaN</td>\n      <td>NaN</td>\n      <td>NaN</td>\n    </tr>\n    <tr>\n      <th>2023-10-28</th>\n      <td>-0.388783</td>\n      <td>NaN</td>\n      <td>-1.205858</td>\n      <td>-0.674986</td>\n    </tr>\n    <tr>\n      <th>2023-10-29</th>\n      <td>NaN</td>\n      <td>NaN</td>\n      <td>NaN</td>\n      <td>NaN</td>\n    </tr>\n  </tbody>\n</table>\n</div>"
          },
          "metadata": {}
        }
      ]
    },
    {
      "cell_type": "code",
      "source": "# df.where() Replace values where the condition is False.\ndf.where(df < 0, -df)",
      "metadata": {
        "trusted": true
      },
      "execution_count": 106,
      "outputs": [
        {
          "execution_count": 106,
          "output_type": "execute_result",
          "data": {
            "text/plain": "                   A         B         C         D\n2023-10-22 -0.565801 -0.165612 -0.512137 -2.037810\n2023-10-23 -0.578933 -0.111958 -0.239350 -0.783900\n2023-10-24 -0.578283 -0.265181 -0.341544 -0.315694\n2023-10-25 -1.377071 -0.530275 -0.016528 -0.985975\n2023-10-26 -0.736646 -0.535848 -0.695120 -1.846778\n2023-10-27 -0.028488 -0.522322 -1.345643 -1.266521\n2023-10-28 -0.388783 -0.614481 -1.205858 -0.674986\n2023-10-29 -0.542367 -3.302492 -1.602786 -0.847727",
            "text/html": "<div>\n<style scoped>\n    .dataframe tbody tr th:only-of-type {\n        vertical-align: middle;\n    }\n\n    .dataframe tbody tr th {\n        vertical-align: top;\n    }\n\n    .dataframe thead th {\n        text-align: right;\n    }\n</style>\n<table border=\"1\" class=\"dataframe\">\n  <thead>\n    <tr style=\"text-align: right;\">\n      <th></th>\n      <th>A</th>\n      <th>B</th>\n      <th>C</th>\n      <th>D</th>\n    </tr>\n  </thead>\n  <tbody>\n    <tr>\n      <th>2023-10-22</th>\n      <td>-0.565801</td>\n      <td>-0.165612</td>\n      <td>-0.512137</td>\n      <td>-2.037810</td>\n    </tr>\n    <tr>\n      <th>2023-10-23</th>\n      <td>-0.578933</td>\n      <td>-0.111958</td>\n      <td>-0.239350</td>\n      <td>-0.783900</td>\n    </tr>\n    <tr>\n      <th>2023-10-24</th>\n      <td>-0.578283</td>\n      <td>-0.265181</td>\n      <td>-0.341544</td>\n      <td>-0.315694</td>\n    </tr>\n    <tr>\n      <th>2023-10-25</th>\n      <td>-1.377071</td>\n      <td>-0.530275</td>\n      <td>-0.016528</td>\n      <td>-0.985975</td>\n    </tr>\n    <tr>\n      <th>2023-10-26</th>\n      <td>-0.736646</td>\n      <td>-0.535848</td>\n      <td>-0.695120</td>\n      <td>-1.846778</td>\n    </tr>\n    <tr>\n      <th>2023-10-27</th>\n      <td>-0.028488</td>\n      <td>-0.522322</td>\n      <td>-1.345643</td>\n      <td>-1.266521</td>\n    </tr>\n    <tr>\n      <th>2023-10-28</th>\n      <td>-0.388783</td>\n      <td>-0.614481</td>\n      <td>-1.205858</td>\n      <td>-0.674986</td>\n    </tr>\n    <tr>\n      <th>2023-10-29</th>\n      <td>-0.542367</td>\n      <td>-3.302492</td>\n      <td>-1.602786</td>\n      <td>-0.847727</td>\n    </tr>\n  </tbody>\n</table>\n</div>"
          },
          "metadata": {}
        }
      ]
    },
    {
      "cell_type": "code",
      "source": "df.where(df < 0,999)",
      "metadata": {
        "trusted": true
      },
      "execution_count": 107,
      "outputs": [
        {
          "execution_count": 107,
          "output_type": "execute_result",
          "data": {
            "text/plain": "                     A           B           C           D\n2023-10-22  999.000000  999.000000  999.000000   -2.037810\n2023-10-23  999.000000  999.000000  999.000000   -0.783900\n2023-10-24   -0.578283  999.000000   -0.341544   -0.315694\n2023-10-25   -1.377071  999.000000   -0.016528   -0.985975\n2023-10-26   -0.736646   -0.535848  999.000000  999.000000\n2023-10-27   -0.028488  999.000000  999.000000  999.000000\n2023-10-28   -0.388783  999.000000   -1.205858   -0.674986\n2023-10-29  999.000000  999.000000  999.000000  999.000000",
            "text/html": "<div>\n<style scoped>\n    .dataframe tbody tr th:only-of-type {\n        vertical-align: middle;\n    }\n\n    .dataframe tbody tr th {\n        vertical-align: top;\n    }\n\n    .dataframe thead th {\n        text-align: right;\n    }\n</style>\n<table border=\"1\" class=\"dataframe\">\n  <thead>\n    <tr style=\"text-align: right;\">\n      <th></th>\n      <th>A</th>\n      <th>B</th>\n      <th>C</th>\n      <th>D</th>\n    </tr>\n  </thead>\n  <tbody>\n    <tr>\n      <th>2023-10-22</th>\n      <td>999.000000</td>\n      <td>999.000000</td>\n      <td>999.000000</td>\n      <td>-2.037810</td>\n    </tr>\n    <tr>\n      <th>2023-10-23</th>\n      <td>999.000000</td>\n      <td>999.000000</td>\n      <td>999.000000</td>\n      <td>-0.783900</td>\n    </tr>\n    <tr>\n      <th>2023-10-24</th>\n      <td>-0.578283</td>\n      <td>999.000000</td>\n      <td>-0.341544</td>\n      <td>-0.315694</td>\n    </tr>\n    <tr>\n      <th>2023-10-25</th>\n      <td>-1.377071</td>\n      <td>999.000000</td>\n      <td>-0.016528</td>\n      <td>-0.985975</td>\n    </tr>\n    <tr>\n      <th>2023-10-26</th>\n      <td>-0.736646</td>\n      <td>-0.535848</td>\n      <td>999.000000</td>\n      <td>999.000000</td>\n    </tr>\n    <tr>\n      <th>2023-10-27</th>\n      <td>-0.028488</td>\n      <td>999.000000</td>\n      <td>999.000000</td>\n      <td>999.000000</td>\n    </tr>\n    <tr>\n      <th>2023-10-28</th>\n      <td>-0.388783</td>\n      <td>999.000000</td>\n      <td>-1.205858</td>\n      <td>-0.674986</td>\n    </tr>\n    <tr>\n      <th>2023-10-29</th>\n      <td>999.000000</td>\n      <td>999.000000</td>\n      <td>999.000000</td>\n      <td>999.000000</td>\n    </tr>\n  </tbody>\n</table>\n</div>"
          },
          "metadata": {}
        }
      ]
    },
    {
      "cell_type": "code",
      "source": "df = pd.DataFrame(np.random.rand(10,3),columns = list('abc'))\ndf",
      "metadata": {
        "trusted": true
      },
      "execution_count": 108,
      "outputs": [
        {
          "execution_count": 108,
          "output_type": "execute_result",
          "data": {
            "text/plain": "          a         b         c\n0  0.434904  0.877605  0.936997\n1  0.068772  0.665609  0.906097\n2  0.894891  0.934056  0.449785\n3  0.212892  0.506589  0.484536\n4  0.393671  0.378788  0.662168\n5  0.874496  0.851862  0.449085\n6  0.615690  0.946360  0.743054\n7  0.339031  0.269822  0.318443\n8  0.594799  0.818775  0.324563\n9  0.686889  0.807915  0.140805",
            "text/html": "<div>\n<style scoped>\n    .dataframe tbody tr th:only-of-type {\n        vertical-align: middle;\n    }\n\n    .dataframe tbody tr th {\n        vertical-align: top;\n    }\n\n    .dataframe thead th {\n        text-align: right;\n    }\n</style>\n<table border=\"1\" class=\"dataframe\">\n  <thead>\n    <tr style=\"text-align: right;\">\n      <th></th>\n      <th>a</th>\n      <th>b</th>\n      <th>c</th>\n    </tr>\n  </thead>\n  <tbody>\n    <tr>\n      <th>0</th>\n      <td>0.434904</td>\n      <td>0.877605</td>\n      <td>0.936997</td>\n    </tr>\n    <tr>\n      <th>1</th>\n      <td>0.068772</td>\n      <td>0.665609</td>\n      <td>0.906097</td>\n    </tr>\n    <tr>\n      <th>2</th>\n      <td>0.894891</td>\n      <td>0.934056</td>\n      <td>0.449785</td>\n    </tr>\n    <tr>\n      <th>3</th>\n      <td>0.212892</td>\n      <td>0.506589</td>\n      <td>0.484536</td>\n    </tr>\n    <tr>\n      <th>4</th>\n      <td>0.393671</td>\n      <td>0.378788</td>\n      <td>0.662168</td>\n    </tr>\n    <tr>\n      <th>5</th>\n      <td>0.874496</td>\n      <td>0.851862</td>\n      <td>0.449085</td>\n    </tr>\n    <tr>\n      <th>6</th>\n      <td>0.615690</td>\n      <td>0.946360</td>\n      <td>0.743054</td>\n    </tr>\n    <tr>\n      <th>7</th>\n      <td>0.339031</td>\n      <td>0.269822</td>\n      <td>0.318443</td>\n    </tr>\n    <tr>\n      <th>8</th>\n      <td>0.594799</td>\n      <td>0.818775</td>\n      <td>0.324563</td>\n    </tr>\n    <tr>\n      <th>9</th>\n      <td>0.686889</td>\n      <td>0.807915</td>\n      <td>0.140805</td>\n    </tr>\n  </tbody>\n</table>\n</div>"
          },
          "metadata": {}
        }
      ]
    },
    {
      "cell_type": "code",
      "source": "# df.query() : Query the columns of a DataFrame with a boolean expression.\ndf.query('a<b')",
      "metadata": {
        "trusted": true
      },
      "execution_count": 113,
      "outputs": [
        {
          "execution_count": 113,
          "output_type": "execute_result",
          "data": {
            "text/plain": "          a         b         c\n0  0.434904  0.877605  0.936997\n1  0.068772  0.665609  0.906097\n2  0.894891  0.934056  0.449785\n3  0.212892  0.506589  0.484536\n6  0.615690  0.946360  0.743054\n8  0.594799  0.818775  0.324563\n9  0.686889  0.807915  0.140805",
            "text/html": "<div>\n<style scoped>\n    .dataframe tbody tr th:only-of-type {\n        vertical-align: middle;\n    }\n\n    .dataframe tbody tr th {\n        vertical-align: top;\n    }\n\n    .dataframe thead th {\n        text-align: right;\n    }\n</style>\n<table border=\"1\" class=\"dataframe\">\n  <thead>\n    <tr style=\"text-align: right;\">\n      <th></th>\n      <th>a</th>\n      <th>b</th>\n      <th>c</th>\n    </tr>\n  </thead>\n  <tbody>\n    <tr>\n      <th>0</th>\n      <td>0.434904</td>\n      <td>0.877605</td>\n      <td>0.936997</td>\n    </tr>\n    <tr>\n      <th>1</th>\n      <td>0.068772</td>\n      <td>0.665609</td>\n      <td>0.906097</td>\n    </tr>\n    <tr>\n      <th>2</th>\n      <td>0.894891</td>\n      <td>0.934056</td>\n      <td>0.449785</td>\n    </tr>\n    <tr>\n      <th>3</th>\n      <td>0.212892</td>\n      <td>0.506589</td>\n      <td>0.484536</td>\n    </tr>\n    <tr>\n      <th>6</th>\n      <td>0.615690</td>\n      <td>0.946360</td>\n      <td>0.743054</td>\n    </tr>\n    <tr>\n      <th>8</th>\n      <td>0.594799</td>\n      <td>0.818775</td>\n      <td>0.324563</td>\n    </tr>\n    <tr>\n      <th>9</th>\n      <td>0.686889</td>\n      <td>0.807915</td>\n      <td>0.140805</td>\n    </tr>\n  </tbody>\n</table>\n</div>"
          },
          "metadata": {}
        }
      ]
    },
    {
      "cell_type": "code",
      "source": "df.query('a<c')",
      "metadata": {
        "trusted": true
      },
      "execution_count": 115,
      "outputs": [
        {
          "execution_count": 115,
          "output_type": "execute_result",
          "data": {
            "text/plain": "          a         b         c\n0  0.434904  0.877605  0.936997\n1  0.068772  0.665609  0.906097\n3  0.212892  0.506589  0.484536\n4  0.393671  0.378788  0.662168\n6  0.615690  0.946360  0.743054",
            "text/html": "<div>\n<style scoped>\n    .dataframe tbody tr th:only-of-type {\n        vertical-align: middle;\n    }\n\n    .dataframe tbody tr th {\n        vertical-align: top;\n    }\n\n    .dataframe thead th {\n        text-align: right;\n    }\n</style>\n<table border=\"1\" class=\"dataframe\">\n  <thead>\n    <tr style=\"text-align: right;\">\n      <th></th>\n      <th>a</th>\n      <th>b</th>\n      <th>c</th>\n    </tr>\n  </thead>\n  <tbody>\n    <tr>\n      <th>0</th>\n      <td>0.434904</td>\n      <td>0.877605</td>\n      <td>0.936997</td>\n    </tr>\n    <tr>\n      <th>1</th>\n      <td>0.068772</td>\n      <td>0.665609</td>\n      <td>0.906097</td>\n    </tr>\n    <tr>\n      <th>3</th>\n      <td>0.212892</td>\n      <td>0.506589</td>\n      <td>0.484536</td>\n    </tr>\n    <tr>\n      <th>4</th>\n      <td>0.393671</td>\n      <td>0.378788</td>\n      <td>0.662168</td>\n    </tr>\n    <tr>\n      <th>6</th>\n      <td>0.615690</td>\n      <td>0.946360</td>\n      <td>0.743054</td>\n    </tr>\n  </tbody>\n</table>\n</div>"
          },
          "metadata": {}
        }
      ]
    },
    {
      "cell_type": "code",
      "source": "df.query('a<b & b<c')",
      "metadata": {
        "trusted": true
      },
      "execution_count": 123,
      "outputs": [
        {
          "execution_count": 123,
          "output_type": "execute_result",
          "data": {
            "text/plain": "          a         b         c\n0  0.434904  0.877605  0.936997\n1  0.068772  0.665609  0.906097",
            "text/html": "<div>\n<style scoped>\n    .dataframe tbody tr th:only-of-type {\n        vertical-align: middle;\n    }\n\n    .dataframe tbody tr th {\n        vertical-align: top;\n    }\n\n    .dataframe thead th {\n        text-align: right;\n    }\n</style>\n<table border=\"1\" class=\"dataframe\">\n  <thead>\n    <tr style=\"text-align: right;\">\n      <th></th>\n      <th>a</th>\n      <th>b</th>\n      <th>c</th>\n    </tr>\n  </thead>\n  <tbody>\n    <tr>\n      <th>0</th>\n      <td>0.434904</td>\n      <td>0.877605</td>\n      <td>0.936997</td>\n    </tr>\n    <tr>\n      <th>1</th>\n      <td>0.068772</td>\n      <td>0.665609</td>\n      <td>0.906097</td>\n    </tr>\n  </tbody>\n</table>\n</div>"
          },
          "metadata": {}
        }
      ]
    },
    {
      "cell_type": "code",
      "source": "df.query('a<b and b<c')",
      "metadata": {
        "trusted": true
      },
      "execution_count": 124,
      "outputs": [
        {
          "execution_count": 124,
          "output_type": "execute_result",
          "data": {
            "text/plain": "          a         b         c\n0  0.434904  0.877605  0.936997\n1  0.068772  0.665609  0.906097",
            "text/html": "<div>\n<style scoped>\n    .dataframe tbody tr th:only-of-type {\n        vertical-align: middle;\n    }\n\n    .dataframe tbody tr th {\n        vertical-align: top;\n    }\n\n    .dataframe thead th {\n        text-align: right;\n    }\n</style>\n<table border=\"1\" class=\"dataframe\">\n  <thead>\n    <tr style=\"text-align: right;\">\n      <th></th>\n      <th>a</th>\n      <th>b</th>\n      <th>c</th>\n    </tr>\n  </thead>\n  <tbody>\n    <tr>\n      <th>0</th>\n      <td>0.434904</td>\n      <td>0.877605</td>\n      <td>0.936997</td>\n    </tr>\n    <tr>\n      <th>1</th>\n      <td>0.068772</td>\n      <td>0.665609</td>\n      <td>0.906097</td>\n    </tr>\n  </tbody>\n</table>\n</div>"
          },
          "metadata": {}
        }
      ]
    },
    {
      "cell_type": "code",
      "source": "import matplotlib\ns = pd.Series(np.random.randn(10), index = np.arange(0,100,10))\ns.plot()",
      "metadata": {
        "trusted": true
      },
      "execution_count": 126,
      "outputs": [
        {
          "execution_count": 126,
          "output_type": "execute_result",
          "data": {
            "text/plain": "<AxesSubplot:>"
          },
          "metadata": {}
        },
        {
          "output_type": "display_data",
          "data": {
            "text/plain": "<Figure size 640x480 with 1 Axes>",
            "image/png": "[encoded data removed]"
          },
          "metadata": {}
        }
      ]
    },
    {
      "cell_type": "code",
      "source": "s",
      "metadata": {
        "trusted": true
      },
      "execution_count": 128,
      "outputs": [
        {
          "execution_count": 128,
          "output_type": "execute_result",
          "data": {
            "text/plain": "0     1.676727\n10   -0.428189\n20    0.468834\n30   -2.598577\n40    1.936595\n50    1.354468\n60   -2.339964\n70   -0.222112\n80    0.820732\n90   -1.838831\ndtype: float64"
          },
          "metadata": {}
        }
      ]
    },
    {
      "cell_type": "code",
      "source": "df = pd.DataFrame(np.random.randn(10,4),\n                 index = np.arange(0, 100, 10),\n                 columns = ['A', 'B', 'C', 'D'])\ndf",
      "metadata": {
        "trusted": true
      },
      "execution_count": 130,
      "outputs": [
        {
          "execution_count": 130,
          "output_type": "execute_result",
          "data": {
            "text/plain": "           A         B         C         D\n0  -1.843861 -1.359803 -1.087201  0.119231\n10 -0.248794  0.279578 -0.073223  0.606573\n20 -0.081288  0.216505 -1.125582  0.724434\n30  0.183789 -0.002776 -0.083571 -1.439246\n40  0.444358  0.037376 -0.747984 -0.252528\n50 -1.314207 -0.936186 -0.212490 -0.017053\n60  1.271640 -1.735084 -0.251218 -0.558846\n70  0.455568  0.230414  0.797614 -0.155849\n80  0.939808  0.572166 -1.193590  1.624715\n90 -0.841724 -0.859778  0.870300 -0.682457",
            "text/html": "<div>\n<style scoped>\n    .dataframe tbody tr th:only-of-type {\n        vertical-align: middle;\n    }\n\n    .dataframe tbody tr th {\n        vertical-align: top;\n    }\n\n    .dataframe thead th {\n        text-align: right;\n    }\n</style>\n<table border=\"1\" class=\"dataframe\">\n  <thead>\n    <tr style=\"text-align: right;\">\n      <th></th>\n      <th>A</th>\n      <th>B</th>\n      <th>C</th>\n      <th>D</th>\n    </tr>\n  </thead>\n  <tbody>\n    <tr>\n      <th>0</th>\n      <td>-1.843861</td>\n      <td>-1.359803</td>\n      <td>-1.087201</td>\n      <td>0.119231</td>\n    </tr>\n    <tr>\n      <th>10</th>\n      <td>-0.248794</td>\n      <td>0.279578</td>\n      <td>-0.073223</td>\n      <td>0.606573</td>\n    </tr>\n    <tr>\n      <th>20</th>\n      <td>-0.081288</td>\n      <td>0.216505</td>\n      <td>-1.125582</td>\n      <td>0.724434</td>\n    </tr>\n    <tr>\n      <th>30</th>\n      <td>0.183789</td>\n      <td>-0.002776</td>\n      <td>-0.083571</td>\n      <td>-1.439246</td>\n    </tr>\n    <tr>\n      <th>40</th>\n      <td>0.444358</td>\n      <td>0.037376</td>\n      <td>-0.747984</td>\n      <td>-0.252528</td>\n    </tr>\n    <tr>\n      <th>50</th>\n      <td>-1.314207</td>\n      <td>-0.936186</td>\n      <td>-0.212490</td>\n      <td>-0.017053</td>\n    </tr>\n    <tr>\n      <th>60</th>\n      <td>1.271640</td>\n      <td>-1.735084</td>\n      <td>-0.251218</td>\n      <td>-0.558846</td>\n    </tr>\n    <tr>\n      <th>70</th>\n      <td>0.455568</td>\n      <td>0.230414</td>\n      <td>0.797614</td>\n      <td>-0.155849</td>\n    </tr>\n    <tr>\n      <th>80</th>\n      <td>0.939808</td>\n      <td>0.572166</td>\n      <td>-1.193590</td>\n      <td>1.624715</td>\n    </tr>\n    <tr>\n      <th>90</th>\n      <td>-0.841724</td>\n      <td>-0.859778</td>\n      <td>0.870300</td>\n      <td>-0.682457</td>\n    </tr>\n  </tbody>\n</table>\n</div>"
          },
          "metadata": {}
        }
      ]
    },
    {
      "cell_type": "code",
      "source": "df",
      "metadata": {
        "trusted": true
      },
      "execution_count": 133,
      "outputs": [
        {
          "execution_count": 133,
          "output_type": "execute_result",
          "data": {
            "text/plain": "           A         B         C         D\n0  -0.607393  0.470872 -1.784218  0.639774\n10 -0.995922  0.658348 -3.346484  2.877691\n20 -1.359022  0.835033 -4.485204  1.236918\n30 -2.622742 -1.378218 -4.245179  1.268388\n40 -3.101840 -2.597924 -4.155739  3.890835\n50 -2.095087 -3.911371 -3.990784  2.736787\n60 -3.309435 -5.594589 -5.041634  2.645026\n70 -2.061286 -4.719486 -3.998056  3.518362\n80 -2.759248 -5.898136 -3.941519  3.124481\n90 -1.896539 -5.851593 -3.822864  3.320283",
            "text/html": "<div>\n<style scoped>\n    .dataframe tbody tr th:only-of-type {\n        vertical-align: middle;\n    }\n\n    .dataframe tbody tr th {\n        vertical-align: top;\n    }\n\n    .dataframe thead th {\n        text-align: right;\n    }\n</style>\n<table border=\"1\" class=\"dataframe\">\n  <thead>\n    <tr style=\"text-align: right;\">\n      <th></th>\n      <th>A</th>\n      <th>B</th>\n      <th>C</th>\n      <th>D</th>\n    </tr>\n  </thead>\n  <tbody>\n    <tr>\n      <th>0</th>\n      <td>-0.607393</td>\n      <td>0.470872</td>\n      <td>-1.784218</td>\n      <td>0.639774</td>\n    </tr>\n    <tr>\n      <th>10</th>\n      <td>-0.995922</td>\n      <td>0.658348</td>\n      <td>-3.346484</td>\n      <td>2.877691</td>\n    </tr>\n    <tr>\n      <th>20</th>\n      <td>-1.359022</td>\n      <td>0.835033</td>\n      <td>-4.485204</td>\n      <td>1.236918</td>\n    </tr>\n    <tr>\n      <th>30</th>\n      <td>-2.622742</td>\n      <td>-1.378218</td>\n      <td>-4.245179</td>\n      <td>1.268388</td>\n    </tr>\n    <tr>\n      <th>40</th>\n      <td>-3.101840</td>\n      <td>-2.597924</td>\n      <td>-4.155739</td>\n      <td>3.890835</td>\n    </tr>\n    <tr>\n      <th>50</th>\n      <td>-2.095087</td>\n      <td>-3.911371</td>\n      <td>-3.990784</td>\n      <td>2.736787</td>\n    </tr>\n    <tr>\n      <th>60</th>\n      <td>-3.309435</td>\n      <td>-5.594589</td>\n      <td>-5.041634</td>\n      <td>2.645026</td>\n    </tr>\n    <tr>\n      <th>70</th>\n      <td>-2.061286</td>\n      <td>-4.719486</td>\n      <td>-3.998056</td>\n      <td>3.518362</td>\n    </tr>\n    <tr>\n      <th>80</th>\n      <td>-2.759248</td>\n      <td>-5.898136</td>\n      <td>-3.941519</td>\n      <td>3.124481</td>\n    </tr>\n    <tr>\n      <th>90</th>\n      <td>-1.896539</td>\n      <td>-5.851593</td>\n      <td>-3.822864</td>\n      <td>3.320283</td>\n    </tr>\n  </tbody>\n</table>\n</div>"
          },
          "metadata": {}
        }
      ]
    },
    {
      "cell_type": "code",
      "source": "# .cumsum() : Return cumulative sum over a DataFrame or Series axis.\n# axis:{0 or ‘index’, 1 or ‘columns’}, default 0\ndf.cumsum(0)",
      "metadata": {
        "trusted": true
      },
      "execution_count": 134,
      "outputs": [
        {
          "execution_count": 134,
          "output_type": "execute_result",
          "data": {
            "text/plain": "            A          B          C          D\n0   -0.607393   0.470872  -1.784218   0.639774\n10  -1.603315   1.129220  -5.130702   3.517464\n20  -2.962337   1.964253  -9.615906   4.754383\n30  -5.585079   0.586035 -13.861086   6.022771\n40  -8.686919  -2.011888 -18.016824   9.913607\n50 -10.782007  -5.923259 -22.007608  12.650394\n60 -14.091441 -11.517848 -27.049242  15.295420\n70 -16.152727 -16.237334 -31.047298  18.813782\n80 -18.911975 -22.135470 -34.988818  21.938263\n90 -20.808514 -27.987063 -38.811682  25.258546",
            "text/html": "<div>\n<style scoped>\n    .dataframe tbody tr th:only-of-type {\n        vertical-align: middle;\n    }\n\n    .dataframe tbody tr th {\n        vertical-align: top;\n    }\n\n    .dataframe thead th {\n        text-align: right;\n    }\n</style>\n<table border=\"1\" class=\"dataframe\">\n  <thead>\n    <tr style=\"text-align: right;\">\n      <th></th>\n      <th>A</th>\n      <th>B</th>\n      <th>C</th>\n      <th>D</th>\n    </tr>\n  </thead>\n  <tbody>\n    <tr>\n      <th>0</th>\n      <td>-0.607393</td>\n      <td>0.470872</td>\n      <td>-1.784218</td>\n      <td>0.639774</td>\n    </tr>\n    <tr>\n      <th>10</th>\n      <td>-1.603315</td>\n      <td>1.129220</td>\n      <td>-5.130702</td>\n      <td>3.517464</td>\n    </tr>\n    <tr>\n      <th>20</th>\n      <td>-2.962337</td>\n      <td>1.964253</td>\n      <td>-9.615906</td>\n      <td>4.754383</td>\n    </tr>\n    <tr>\n      <th>30</th>\n      <td>-5.585079</td>\n      <td>0.586035</td>\n      <td>-13.861086</td>\n      <td>6.022771</td>\n    </tr>\n    <tr>\n      <th>40</th>\n      <td>-8.686919</td>\n      <td>-2.011888</td>\n      <td>-18.016824</td>\n      <td>9.913607</td>\n    </tr>\n    <tr>\n      <th>50</th>\n      <td>-10.782007</td>\n      <td>-5.923259</td>\n      <td>-22.007608</td>\n      <td>12.650394</td>\n    </tr>\n    <tr>\n      <th>60</th>\n      <td>-14.091441</td>\n      <td>-11.517848</td>\n      <td>-27.049242</td>\n      <td>15.295420</td>\n    </tr>\n    <tr>\n      <th>70</th>\n      <td>-16.152727</td>\n      <td>-16.237334</td>\n      <td>-31.047298</td>\n      <td>18.813782</td>\n    </tr>\n    <tr>\n      <th>80</th>\n      <td>-18.911975</td>\n      <td>-22.135470</td>\n      <td>-34.988818</td>\n      <td>21.938263</td>\n    </tr>\n    <tr>\n      <th>90</th>\n      <td>-20.808514</td>\n      <td>-27.987063</td>\n      <td>-38.811682</td>\n      <td>25.258546</td>\n    </tr>\n  </tbody>\n</table>\n</div>"
          },
          "metadata": {}
        }
      ]
    },
    {
      "cell_type": "code",
      "source": "df = pd.DataFrame(np.random.randn(10,4).cumsum(0),\n                 index = np.arange(0, 100, 10),\n                 columns = ['A', 'B', 'C', 'D'])\ndf",
      "metadata": {
        "trusted": true
      },
      "execution_count": 135,
      "outputs": [
        {
          "execution_count": 135,
          "output_type": "execute_result",
          "data": {
            "text/plain": "           A         B         C         D\n0   3.020450  1.118963 -0.101383 -2.034908\n10  1.951579  1.695606  0.640174 -1.989649\n20  1.788947  2.426021  2.515839 -3.056492\n30  3.008594  0.829903  2.147780 -1.153877\n40  2.551548  0.150609  2.193113  0.051101\n50  1.495825  0.122933  0.990950  0.041715\n60 -1.139355  0.569121 -0.673055  0.663428\n70 -0.838248 -0.575992  0.156515  0.767913\n80 -0.797328  0.788331  0.098210  1.172076\n90 -0.991916  1.939608 -0.840460  0.313308",
            "text/html": "<div>\n<style scoped>\n    .dataframe tbody tr th:only-of-type {\n        vertical-align: middle;\n    }\n\n    .dataframe tbody tr th {\n        vertical-align: top;\n    }\n\n    .dataframe thead th {\n        text-align: right;\n    }\n</style>\n<table border=\"1\" class=\"dataframe\">\n  <thead>\n    <tr style=\"text-align: right;\">\n      <th></th>\n      <th>A</th>\n      <th>B</th>\n      <th>C</th>\n      <th>D</th>\n    </tr>\n  </thead>\n  <tbody>\n    <tr>\n      <th>0</th>\n      <td>3.020450</td>\n      <td>1.118963</td>\n      <td>-0.101383</td>\n      <td>-2.034908</td>\n    </tr>\n    <tr>\n      <th>10</th>\n      <td>1.951579</td>\n      <td>1.695606</td>\n      <td>0.640174</td>\n      <td>-1.989649</td>\n    </tr>\n    <tr>\n      <th>20</th>\n      <td>1.788947</td>\n      <td>2.426021</td>\n      <td>2.515839</td>\n      <td>-3.056492</td>\n    </tr>\n    <tr>\n      <th>30</th>\n      <td>3.008594</td>\n      <td>0.829903</td>\n      <td>2.147780</td>\n      <td>-1.153877</td>\n    </tr>\n    <tr>\n      <th>40</th>\n      <td>2.551548</td>\n      <td>0.150609</td>\n      <td>2.193113</td>\n      <td>0.051101</td>\n    </tr>\n    <tr>\n      <th>50</th>\n      <td>1.495825</td>\n      <td>0.122933</td>\n      <td>0.990950</td>\n      <td>0.041715</td>\n    </tr>\n    <tr>\n      <th>60</th>\n      <td>-1.139355</td>\n      <td>0.569121</td>\n      <td>-0.673055</td>\n      <td>0.663428</td>\n    </tr>\n    <tr>\n      <th>70</th>\n      <td>-0.838248</td>\n      <td>-0.575992</td>\n      <td>0.156515</td>\n      <td>0.767913</td>\n    </tr>\n    <tr>\n      <th>80</th>\n      <td>-0.797328</td>\n      <td>0.788331</td>\n      <td>0.098210</td>\n      <td>1.172076</td>\n    </tr>\n    <tr>\n      <th>90</th>\n      <td>-0.991916</td>\n      <td>1.939608</td>\n      <td>-0.840460</td>\n      <td>0.313308</td>\n    </tr>\n  </tbody>\n</table>\n</div>"
          },
          "metadata": {}
        }
      ]
    },
    {
      "cell_type": "code",
      "source": "df.plot()",
      "metadata": {
        "trusted": true
      },
      "execution_count": 136,
      "outputs": [
        {
          "execution_count": 136,
          "output_type": "execute_result",
          "data": {
            "text/plain": "<AxesSubplot:>"
          },
          "metadata": {}
        },
        {
          "output_type": "display_data",
          "data": {
            "text/plain": "<Figure size 640x480 with 1 Axes>",
            "image/png": "[encoded data removed]"
          },
          "metadata": {}
        }
      ]
    },
    {
      "cell_type": "code",
      "source": "import matplotlib.pyplot as plt\n\nfig, axes = plt.subplots(2,1)\ndata = pd.Series(np.random.rand(16),index=list('abcdefghijklmnop'))\ndata.plot(ax = axes[0],kind='bar') # axes[0] 為第一個圖\ndata.plot(ax = axes[1],kind='barh') # axes[1] 為第二個圖",
      "metadata": {
        "trusted": true
      },
      "execution_count": 139,
      "outputs": [
        {
          "execution_count": 139,
          "output_type": "execute_result",
          "data": {
            "text/plain": "<AxesSubplot:>"
          },
          "metadata": {}
        },
        {
          "output_type": "display_data",
          "data": {
            "text/plain": "<Figure size 640x480 with 2 Axes>",
            "image/png": "[encoded data removed]"
          },
          "metadata": {}
        }
      ]
    },
    {
      "cell_type": "code",
      "source": "# name : Name to be stored in the index.\ndf = pd.DataFrame(np.random.rand(6,4),\n                 index = ['one', 'two', 'three', 'four', 'five', 'six'],\n                 columns = pd.Index(['A', 'B', 'C', 'D'], name = 'Genus'))\n\ndf",
      "metadata": {
        "trusted": true
      },
      "execution_count": 140,
      "outputs": [
        {
          "execution_count": 140,
          "output_type": "execute_result",
          "data": {
            "text/plain": "Genus         A         B         C         D\none    0.625364  0.491471  0.040058  0.533211\ntwo    0.062664  0.126918  0.349839  0.011185\nthree  0.847044  0.693709  0.744625  0.263623\nfour   0.373309  0.839723  0.707873  0.550619\nfive   0.394149  0.728992  0.251264  0.602206\nsix    0.006883  0.844348  0.730115  0.013505",
            "text/html": "<div>\n<style scoped>\n    .dataframe tbody tr th:only-of-type {\n        vertical-align: middle;\n    }\n\n    .dataframe tbody tr th {\n        vertical-align: top;\n    }\n\n    .dataframe thead th {\n        text-align: right;\n    }\n</style>\n<table border=\"1\" class=\"dataframe\">\n  <thead>\n    <tr style=\"text-align: right;\">\n      <th>Genus</th>\n      <th>A</th>\n      <th>B</th>\n      <th>C</th>\n      <th>D</th>\n    </tr>\n  </thead>\n  <tbody>\n    <tr>\n      <th>one</th>\n      <td>0.625364</td>\n      <td>0.491471</td>\n      <td>0.040058</td>\n      <td>0.533211</td>\n    </tr>\n    <tr>\n      <th>two</th>\n      <td>0.062664</td>\n      <td>0.126918</td>\n      <td>0.349839</td>\n      <td>0.011185</td>\n    </tr>\n    <tr>\n      <th>three</th>\n      <td>0.847044</td>\n      <td>0.693709</td>\n      <td>0.744625</td>\n      <td>0.263623</td>\n    </tr>\n    <tr>\n      <th>four</th>\n      <td>0.373309</td>\n      <td>0.839723</td>\n      <td>0.707873</td>\n      <td>0.550619</td>\n    </tr>\n    <tr>\n      <th>five</th>\n      <td>0.394149</td>\n      <td>0.728992</td>\n      <td>0.251264</td>\n      <td>0.602206</td>\n    </tr>\n    <tr>\n      <th>six</th>\n      <td>0.006883</td>\n      <td>0.844348</td>\n      <td>0.730115</td>\n      <td>0.013505</td>\n    </tr>\n  </tbody>\n</table>\n</div>"
          },
          "metadata": {}
        }
      ]
    },
    {
      "cell_type": "code",
      "source": "df.plot(kind='bar')",
      "metadata": {
        "trusted": true
      },
      "execution_count": 141,
      "outputs": [
        {
          "execution_count": 141,
          "output_type": "execute_result",
          "data": {
            "text/plain": "<AxesSubplot:>"
          },
          "metadata": {}
        },
        {
          "output_type": "display_data",
          "data": {
            "text/plain": "<Figure size 640x480 with 1 Axes>",
            "image/png": "[encoded data removed]"
          },
          "metadata": {}
        }
      ]
    },
    {
      "cell_type": "code",
      "source": "tips = pd.read_csv('tips.csv')\ntips",
      "metadata": {
        "trusted": true
      },
      "execution_count": 143,
      "outputs": [
        {
          "execution_count": 143,
          "output_type": "execute_result",
          "data": {
            "text/plain": "     total_bill   tip     sex smoker   day    time  size\n0         16.99  1.01  Female     No   Sun  Dinner     2\n1         10.34  1.66    Male     No   Sun  Dinner     3\n2         21.01  3.50    Male     No   Sun  Dinner     3\n3         23.68  3.31    Male     No   Sun  Dinner     2\n4         24.59  3.61  Female     No   Sun  Dinner     4\n..          ...   ...     ...    ...   ...     ...   ...\n239       29.03  5.92    Male     No   Sat  Dinner     3\n240       27.18  2.00  Female    Yes   Sat  Dinner     2\n241       22.67  2.00    Male    Yes   Sat  Dinner     2\n242       17.82  1.75    Male     No   Sat  Dinner     2\n243       18.78  3.00  Female     No  Thur  Dinner     2\n\n[244 rows x 7 columns]",
            "text/html": "<div>\n<style scoped>\n    .dataframe tbody tr th:only-of-type {\n        vertical-align: middle;\n    }\n\n    .dataframe tbody tr th {\n        vertical-align: top;\n    }\n\n    .dataframe thead th {\n        text-align: right;\n    }\n</style>\n<table border=\"1\" class=\"dataframe\">\n  <thead>\n    <tr style=\"text-align: right;\">\n      <th></th>\n      <th>total_bill</th>\n      <th>tip</th>\n      <th>sex</th>\n      <th>smoker</th>\n      <th>day</th>\n      <th>time</th>\n      <th>size</th>\n    </tr>\n  </thead>\n  <tbody>\n    <tr>\n      <th>0</th>\n      <td>16.99</td>\n      <td>1.01</td>\n      <td>Female</td>\n      <td>No</td>\n      <td>Sun</td>\n      <td>Dinner</td>\n      <td>2</td>\n    </tr>\n    <tr>\n      <th>1</th>\n      <td>10.34</td>\n      <td>1.66</td>\n      <td>Male</td>\n      <td>No</td>\n      <td>Sun</td>\n      <td>Dinner</td>\n      <td>3</td>\n    </tr>\n    <tr>\n      <th>2</th>\n      <td>21.01</td>\n      <td>3.50</td>\n      <td>Male</td>\n      <td>No</td>\n      <td>Sun</td>\n      <td>Dinner</td>\n      <td>3</td>\n    </tr>\n    <tr>\n      <th>3</th>\n      <td>23.68</td>\n      <td>3.31</td>\n      <td>Male</td>\n      <td>No</td>\n      <td>Sun</td>\n      <td>Dinner</td>\n      <td>2</td>\n    </tr>\n    <tr>\n      <th>4</th>\n      <td>24.59</td>\n      <td>3.61</td>\n      <td>Female</td>\n      <td>No</td>\n      <td>Sun</td>\n      <td>Dinner</td>\n      <td>4</td>\n    </tr>\n    <tr>\n      <th>...</th>\n      <td>...</td>\n      <td>...</td>\n      <td>...</td>\n      <td>...</td>\n      <td>...</td>\n      <td>...</td>\n      <td>...</td>\n    </tr>\n    <tr>\n      <th>239</th>\n      <td>29.03</td>\n      <td>5.92</td>\n      <td>Male</td>\n      <td>No</td>\n      <td>Sat</td>\n      <td>Dinner</td>\n      <td>3</td>\n    </tr>\n    <tr>\n      <th>240</th>\n      <td>27.18</td>\n      <td>2.00</td>\n      <td>Female</td>\n      <td>Yes</td>\n      <td>Sat</td>\n      <td>Dinner</td>\n      <td>2</td>\n    </tr>\n    <tr>\n      <th>241</th>\n      <td>22.67</td>\n      <td>2.00</td>\n      <td>Male</td>\n      <td>Yes</td>\n      <td>Sat</td>\n      <td>Dinner</td>\n      <td>2</td>\n    </tr>\n    <tr>\n      <th>242</th>\n      <td>17.82</td>\n      <td>1.75</td>\n      <td>Male</td>\n      <td>No</td>\n      <td>Sat</td>\n      <td>Dinner</td>\n      <td>2</td>\n    </tr>\n    <tr>\n      <th>243</th>\n      <td>18.78</td>\n      <td>3.00</td>\n      <td>Female</td>\n      <td>No</td>\n      <td>Thur</td>\n      <td>Dinner</td>\n      <td>2</td>\n    </tr>\n  </tbody>\n</table>\n<p>244 rows × 7 columns</p>\n</div>"
          },
          "metadata": {}
        }
      ]
    },
    {
      "cell_type": "code",
      "source": "# bins : If bins is an integer, it defines the number of equal-width bins in the range.\n# 當bins = int 時，代表直方圖中bin的個數是int個\ntips.total_bill.plot(kind='hist',bins=50) # 所以有50個bins",
      "metadata": {
        "trusted": true
      },
      "execution_count": 161,
      "outputs": [
        {
          "execution_count": 161,
          "output_type": "execute_result",
          "data": {
            "text/plain": "<AxesSubplot:ylabel='Frequency'>"
          },
          "metadata": {}
        },
        {
          "output_type": "display_data",
          "data": {
            "text/plain": "<Figure size 640x480 with 1 Axes>",
            "image/png": "[encoded data removed]"
          },
          "metadata": {}
        }
      ]
    },
    {
      "cell_type": "code",
      "source": "macro = pd.read_csv('macrodata.csv')\nmacro.head()",
      "metadata": {
        "trusted": true
      },
      "execution_count": 3,
      "outputs": [
        {
          "execution_count": 3,
          "output_type": "execute_result",
          "data": {
            "text/plain": "     year  quarter   realgdp  realcons  realinv  realgovt  realdpi    cpi  \\\n0  1959.0      1.0  2710.349    1707.4  286.898   470.045   1886.9  28.98   \n1  1959.0      2.0  2778.801    1733.7  310.859   481.301   1919.7  29.15   \n2  1959.0      3.0  2775.488    1751.8  289.226   491.260   1916.4  29.35   \n3  1959.0      4.0  2785.204    1753.7  299.356   484.052   1931.3  29.37   \n4  1960.0      1.0  2847.699    1770.5  331.722   462.199   1955.5  29.54   \n\n      m1  tbilrate  unemp      pop  infl  realint  \n0  139.7      2.82    5.8  177.146  0.00     0.00  \n1  141.7      3.08    5.1  177.830  2.34     0.74  \n2  140.5      3.82    5.3  178.657  2.74     1.09  \n3  140.0      4.33    5.6  179.386  0.27     4.06  \n4  139.6      3.50    5.2  180.007  2.31     1.19  ",
            "text/html": "<div>\n<style scoped>\n    .dataframe tbody tr th:only-of-type {\n        vertical-align: middle;\n    }\n\n    .dataframe tbody tr th {\n        vertical-align: top;\n    }\n\n    .dataframe thead th {\n        text-align: right;\n    }\n</style>\n<table border=\"1\" class=\"dataframe\">\n  <thead>\n    <tr style=\"text-align: right;\">\n      <th></th>\n      <th>year</th>\n      <th>quarter</th>\n      <th>realgdp</th>\n      <th>realcons</th>\n      <th>realinv</th>\n      <th>realgovt</th>\n      <th>realdpi</th>\n      <th>cpi</th>\n      <th>m1</th>\n      <th>tbilrate</th>\n      <th>unemp</th>\n      <th>pop</th>\n      <th>infl</th>\n      <th>realint</th>\n    </tr>\n  </thead>\n  <tbody>\n    <tr>\n      <th>0</th>\n      <td>1959.0</td>\n      <td>1.0</td>\n      <td>2710.349</td>\n      <td>1707.4</td>\n      <td>286.898</td>\n      <td>470.045</td>\n      <td>1886.9</td>\n      <td>28.98</td>\n      <td>139.7</td>\n      <td>2.82</td>\n      <td>5.8</td>\n      <td>177.146</td>\n      <td>0.00</td>\n      <td>0.00</td>\n    </tr>\n    <tr>\n      <th>1</th>\n      <td>1959.0</td>\n      <td>2.0</td>\n      <td>2778.801</td>\n      <td>1733.7</td>\n      <td>310.859</td>\n      <td>481.301</td>\n      <td>1919.7</td>\n      <td>29.15</td>\n      <td>141.7</td>\n      <td>3.08</td>\n      <td>5.1</td>\n      <td>177.830</td>\n      <td>2.34</td>\n      <td>0.74</td>\n    </tr>\n    <tr>\n      <th>2</th>\n      <td>1959.0</td>\n      <td>3.0</td>\n      <td>2775.488</td>\n      <td>1751.8</td>\n      <td>289.226</td>\n      <td>491.260</td>\n      <td>1916.4</td>\n      <td>29.35</td>\n      <td>140.5</td>\n      <td>3.82</td>\n      <td>5.3</td>\n      <td>178.657</td>\n      <td>2.74</td>\n      <td>1.09</td>\n    </tr>\n    <tr>\n      <th>3</th>\n      <td>1959.0</td>\n      <td>4.0</td>\n      <td>2785.204</td>\n      <td>1753.7</td>\n      <td>299.356</td>\n      <td>484.052</td>\n      <td>1931.3</td>\n      <td>29.37</td>\n      <td>140.0</td>\n      <td>4.33</td>\n      <td>5.6</td>\n      <td>179.386</td>\n      <td>0.27</td>\n      <td>4.06</td>\n    </tr>\n    <tr>\n      <th>4</th>\n      <td>1960.0</td>\n      <td>1.0</td>\n      <td>2847.699</td>\n      <td>1770.5</td>\n      <td>331.722</td>\n      <td>462.199</td>\n      <td>1955.5</td>\n      <td>29.54</td>\n      <td>139.6</td>\n      <td>3.50</td>\n      <td>5.2</td>\n      <td>180.007</td>\n      <td>2.31</td>\n      <td>1.19</td>\n    </tr>\n  </tbody>\n</table>\n</div>"
          },
          "metadata": {}
        }
      ]
    },
    {
      "cell_type": "code",
      "source": "data = macro[['quarter','realgdp','realcons']]\ndata",
      "metadata": {
        "trusted": true
      },
      "execution_count": 4,
      "outputs": [
        {
          "execution_count": 4,
          "output_type": "execute_result",
          "data": {
            "text/plain": "     quarter    realgdp  realcons\n0        1.0   2710.349    1707.4\n1        2.0   2778.801    1733.7\n2        3.0   2775.488    1751.8\n3        4.0   2785.204    1753.7\n4        1.0   2847.699    1770.5\n..       ...        ...       ...\n198      3.0  13324.600    9267.7\n199      4.0  13141.920    9195.3\n200      1.0  12925.410    9209.2\n201      2.0  12901.504    9189.0\n202      3.0  12990.341    9256.0\n\n[203 rows x 3 columns]",
            "text/html": "<div>\n<style scoped>\n    .dataframe tbody tr th:only-of-type {\n        vertical-align: middle;\n    }\n\n    .dataframe tbody tr th {\n        vertical-align: top;\n    }\n\n    .dataframe thead th {\n        text-align: right;\n    }\n</style>\n<table border=\"1\" class=\"dataframe\">\n  <thead>\n    <tr style=\"text-align: right;\">\n      <th></th>\n      <th>quarter</th>\n      <th>realgdp</th>\n      <th>realcons</th>\n    </tr>\n  </thead>\n  <tbody>\n    <tr>\n      <th>0</th>\n      <td>1.0</td>\n      <td>2710.349</td>\n      <td>1707.4</td>\n    </tr>\n    <tr>\n      <th>1</th>\n      <td>2.0</td>\n      <td>2778.801</td>\n      <td>1733.7</td>\n    </tr>\n    <tr>\n      <th>2</th>\n      <td>3.0</td>\n      <td>2775.488</td>\n      <td>1751.8</td>\n    </tr>\n    <tr>\n      <th>3</th>\n      <td>4.0</td>\n      <td>2785.204</td>\n      <td>1753.7</td>\n    </tr>\n    <tr>\n      <th>4</th>\n      <td>1.0</td>\n      <td>2847.699</td>\n      <td>1770.5</td>\n    </tr>\n    <tr>\n      <th>...</th>\n      <td>...</td>\n      <td>...</td>\n      <td>...</td>\n    </tr>\n    <tr>\n      <th>198</th>\n      <td>3.0</td>\n      <td>13324.600</td>\n      <td>9267.7</td>\n    </tr>\n    <tr>\n      <th>199</th>\n      <td>4.0</td>\n      <td>13141.920</td>\n      <td>9195.3</td>\n    </tr>\n    <tr>\n      <th>200</th>\n      <td>1.0</td>\n      <td>12925.410</td>\n      <td>9209.2</td>\n    </tr>\n    <tr>\n      <th>201</th>\n      <td>2.0</td>\n      <td>12901.504</td>\n      <td>9189.0</td>\n    </tr>\n    <tr>\n      <th>202</th>\n      <td>3.0</td>\n      <td>12990.341</td>\n      <td>9256.0</td>\n    </tr>\n  </tbody>\n</table>\n<p>203 rows × 3 columns</p>\n</div>"
          },
          "metadata": {}
        }
      ]
    },
    {
      "cell_type": "code",
      "source": "data.plot.scatter('quarter','realgdp')",
      "metadata": {
        "trusted": true
      },
      "execution_count": 168,
      "outputs": [
        {
          "execution_count": 168,
          "output_type": "execute_result",
          "data": {
            "text/plain": "<AxesSubplot:xlabel='quarter', ylabel='realgdp'>"
          },
          "metadata": {}
        },
        {
          "output_type": "display_data",
          "data": {
            "text/plain": "<Figure size 640x480 with 1 Axes>",
            "image/png": "[encoded data removed]"
          },
          "metadata": {}
        }
      ]
    },
    {
      "cell_type": "code",
      "source": "import pandas as pd\nimport matplotlib\n# Draw a matrix of scatter plots\n# 散點圖矩陣圖可以發現兩兩特徵的關係\npd.plotting.scatter_matrix(data, color='g',alpha=0.3)",
      "metadata": {
        "trusted": true
      },
      "execution_count": 8,
      "outputs": [
        {
          "execution_count": 8,
          "output_type": "execute_result",
          "data": {
            "text/plain": "array([[<AxesSubplot:xlabel='quarter', ylabel='quarter'>,\n        <AxesSubplot:xlabel='realgdp', ylabel='quarter'>,\n        <AxesSubplot:xlabel='realcons', ylabel='quarter'>],\n       [<AxesSubplot:xlabel='quarter', ylabel='realgdp'>,\n        <AxesSubplot:xlabel='realgdp', ylabel='realgdp'>,\n        <AxesSubplot:xlabel='realcons', ylabel='realgdp'>],\n       [<AxesSubplot:xlabel='quarter', ylabel='realcons'>,\n        <AxesSubplot:xlabel='realgdp', ylabel='realcons'>,\n        <AxesSubplot:xlabel='realcons', ylabel='realcons'>]], dtype=object)"
          },
          "metadata": {}
        },
        {
          "output_type": "display_data",
          "data": {
            "text/plain": "<Figure size 640x480 with 9 Axes>",
            "image/png": "[encoded data removed]"
          },
          "metadata": {}
        }
      ]
    },
    {
      "cell_type": "code",
      "source": "import pandas as pd\nimport matplotlib \ngl = pd.read_csv('game_logs.csv')\ngl.head()",
      "metadata": {
        "trusted": true
      },
      "execution_count": 1,
      "outputs": [
        {
          "name": "stderr",
          "text": "<ipython-input-1-dfff027bfebc>:3: DtypeWarning: Columns (12,13,14,15,19,20,81,83,85,87,93,94,95,96,97,98,99,100,105,106,108,109,111,112,114,115,117,118,120,121,123,124,126,127,129,130,132,133,135,136,138,139,141,142,144,145,147,148,150,151,153,154,156,157,160) have mixed types. Specify dtype option on import or set low_memory=False.\n  gl = pd.read_csv('game_logs.csv')\n",
          "output_type": "stream"
        },
        {
          "execution_count": 1,
          "output_type": "execute_result",
          "data": {
            "text/plain": "       date  number_of_game day_of_week v_name v_league  v_game_number h_name  \\\n0  18710504               0         Thu    CL1       na              1    FW1   \n1  18710505               0         Fri    BS1       na              1    WS3   \n2  18710506               0         Sat    CL1       na              2    RC1   \n3  18710508               0         Mon    CL1       na              3    CH1   \n4  18710509               0         Tue    BS1       na              2    TRO   \n\n  h_league  h_game_number  v_score  ...  h_player_7_name  h_player_7_def_pos  \\\n0       na              1        0  ...       Ed Mincher                 7.0   \n1       na              1       20  ...     Asa Brainard                 1.0   \n2       na              1       12  ...       Pony Sager                 6.0   \n3       na              1       12  ...         Ed Duffy                 6.0   \n4       na              1        9  ...     Steve Bellan                 5.0   \n\n  h_player_8_id  h_player_8_name h_player_8_def_pos h_player_9_id  \\\n0      mcdej101  James McDermott                8.0      kellb105   \n1      burrh101  Henry Burroughs                9.0      berth101   \n2      birdg101      George Bird                7.0      stirg101   \n3      pinke101       Ed Pinkham                5.0      zettg101   \n4      pikel101         Lip Pike                3.0      cravb101   \n\n   h_player_9_name  h_player_9_def_pos  additional_info acquisition_info  \n0       Bill Kelly                 9.0              NaN                Y  \n1  Henry Berthrong                 8.0             HTBF                Y  \n2       Gat Stires                 9.0              NaN                Y  \n3  George Zettlein                 1.0              NaN                Y  \n4      Bill Craver                 6.0             HTBF                Y  \n\n[5 rows x 161 columns]",
            "text/html": "<div>\n<style scoped>\n    .dataframe tbody tr th:only-of-type {\n        vertical-align: middle;\n    }\n\n    .dataframe tbody tr th {\n        vertical-align: top;\n    }\n\n    .dataframe thead th {\n        text-align: right;\n    }\n</style>\n<table border=\"1\" class=\"dataframe\">\n  <thead>\n    <tr style=\"text-align: right;\">\n      <th></th>\n      <th>date</th>\n      <th>number_of_game</th>\n      <th>day_of_week</th>\n      <th>v_name</th>\n      <th>v_league</th>\n      <th>v_game_number</th>\n      <th>h_name</th>\n      <th>h_league</th>\n      <th>h_game_number</th>\n      <th>v_score</th>\n      <th>...</th>\n      <th>h_player_7_name</th>\n      <th>h_player_7_def_pos</th>\n      <th>h_player_8_id</th>\n      <th>h_player_8_name</th>\n      <th>h_player_8_def_pos</th>\n      <th>h_player_9_id</th>\n      <th>h_player_9_name</th>\n      <th>h_player_9_def_pos</th>\n      <th>additional_info</th>\n      <th>acquisition_info</th>\n    </tr>\n  </thead>\n  <tbody>\n    <tr>\n      <th>0</th>\n      <td>18710504</td>\n      <td>0</td>\n      <td>Thu</td>\n      <td>CL1</td>\n      <td>na</td>\n      <td>1</td>\n      <td>FW1</td>\n      <td>na</td>\n      <td>1</td>\n      <td>0</td>\n      <td>...</td>\n      <td>Ed Mincher</td>\n      <td>7.0</td>\n      <td>mcdej101</td>\n      <td>James McDermott</td>\n      <td>8.0</td>\n      <td>kellb105</td>\n      <td>Bill Kelly</td>\n      <td>9.0</td>\n      <td>NaN</td>\n      <td>Y</td>\n    </tr>\n    <tr>\n      <th>1</th>\n      <td>18710505</td>\n      <td>0</td>\n      <td>Fri</td>\n      <td>BS1</td>\n      <td>na</td>\n      <td>1</td>\n      <td>WS3</td>\n      <td>na</td>\n      <td>1</td>\n      <td>20</td>\n      <td>...</td>\n      <td>Asa Brainard</td>\n      <td>1.0</td>\n      <td>burrh101</td>\n      <td>Henry Burroughs</td>\n      <td>9.0</td>\n      <td>berth101</td>\n      <td>Henry Berthrong</td>\n      <td>8.0</td>\n      <td>HTBF</td>\n      <td>Y</td>\n    </tr>\n    <tr>\n      <th>2</th>\n      <td>18710506</td>\n      <td>0</td>\n      <td>Sat</td>\n      <td>CL1</td>\n      <td>na</td>\n      <td>2</td>\n      <td>RC1</td>\n      <td>na</td>\n      <td>1</td>\n      <td>12</td>\n      <td>...</td>\n      <td>Pony Sager</td>\n      <td>6.0</td>\n      <td>birdg101</td>\n      <td>George Bird</td>\n      <td>7.0</td>\n      <td>stirg101</td>\n      <td>Gat Stires</td>\n      <td>9.0</td>\n      <td>NaN</td>\n      <td>Y</td>\n    </tr>\n    <tr>\n      <th>3</th>\n      <td>18710508</td>\n      <td>0</td>\n      <td>Mon</td>\n      <td>CL1</td>\n      <td>na</td>\n      <td>3</td>\n      <td>CH1</td>\n      <td>na</td>\n      <td>1</td>\n      <td>12</td>\n      <td>...</td>\n      <td>Ed Duffy</td>\n      <td>6.0</td>\n      <td>pinke101</td>\n      <td>Ed Pinkham</td>\n      <td>5.0</td>\n      <td>zettg101</td>\n      <td>George Zettlein</td>\n      <td>1.0</td>\n      <td>NaN</td>\n      <td>Y</td>\n    </tr>\n    <tr>\n      <th>4</th>\n      <td>18710509</td>\n      <td>0</td>\n      <td>Tue</td>\n      <td>BS1</td>\n      <td>na</td>\n      <td>2</td>\n      <td>TRO</td>\n      <td>na</td>\n      <td>1</td>\n      <td>9</td>\n      <td>...</td>\n      <td>Steve Bellan</td>\n      <td>5.0</td>\n      <td>pikel101</td>\n      <td>Lip Pike</td>\n      <td>3.0</td>\n      <td>cravb101</td>\n      <td>Bill Craver</td>\n      <td>6.0</td>\n      <td>HTBF</td>\n      <td>Y</td>\n    </tr>\n  </tbody>\n</table>\n<p>5 rows × 161 columns</p>\n</div>"
          },
          "metadata": {}
        }
      ]
    },
    {
      "cell_type": "code",
      "source": "gl.shape",
      "metadata": {
        "trusted": true
      },
      "execution_count": 2,
      "outputs": [
        {
          "execution_count": 2,
          "output_type": "execute_result",
          "data": {
            "text/plain": "(171907, 161)"
          },
          "metadata": {}
        }
      ]
    },
    {
      "cell_type": "code",
      "source": "gl.info(memory_usage='deep')",
      "metadata": {
        "trusted": true
      },
      "execution_count": 3,
      "outputs": [
        {
          "name": "stdout",
          "text": "<class 'pandas.core.frame.DataFrame'>\nRangeIndex: 171907 entries, 0 to 171906\nColumns: 161 entries, date to acquisition_info\ndtypes: float64(77), int64(6), object(78)\nmemory usage: 544.2 MB\n",
          "output_type": "stream"
        }
      ]
    },
    {
      "cell_type": "code",
      "source": "for dtype in ['float64', 'int64', 'object']:\n    selected_dtype = gl.select_dtypes(include = [dtype])\n    mean_usage_b = selected_dtype.memory_usage(deep=True).mean()\n    mean_usage_mb = mean_usage_b/1024**2\n    print('平均內存占用',dtype,mean_usage_mb)",
      "metadata": {
        "trusted": true
      },
      "execution_count": 6,
      "outputs": [
        {
          "name": "stdout",
          "text": "平均內存占用 float64 1.2947325095152245\n平均內存占用 int64 1.124192374093192\n平均內存占用 object 5.510331491880779\n",
          "output_type": "stream"
        }
      ]
    },
    {
      "cell_type": "code",
      "source": "# np.iinfo() : Machine limits for integer types.\nimport numpy as np\nint_types = ['uint8', 'int8', 'int16', 'int32', 'int64']\nfor it in int_types:\n    print(np.iinfo(it))",
      "metadata": {
        "trusted": true
      },
      "execution_count": 11,
      "outputs": [
        {
          "name": "stdout",
          "text": "Machine parameters for uint8\n---------------------------------------------------------------\nmin = 0\nmax = 255\n---------------------------------------------------------------\n\nMachine parameters for int8\n---------------------------------------------------------------\nmin = -128\nmax = 127\n---------------------------------------------------------------\n\nMachine parameters for int16\n---------------------------------------------------------------\nmin = -32768\nmax = 32767\n---------------------------------------------------------------\n\nMachine parameters for int32\n---------------------------------------------------------------\nmin = -2147483648\nmax = 2147483647\n---------------------------------------------------------------\n\nMachine parameters for int64\n---------------------------------------------------------------\nmin = -9223372036854775808\nmax = 9223372036854775807\n---------------------------------------------------------------\n\n",
          "output_type": "stream"
        }
      ]
    },
    {
      "cell_type": "code",
      "source": "# isinstance(object, classinfo) : Return True if the object argument is an instance of the classinfo argument\ndef mem_usage(pandas_obj):\n    if isinstance(pandas_obj, pd.DataFrame):\n        usage_b = pandas_obj.memory_usage(deep=True).sum()\n    else:\n        usage_b = pandas_obj.memory_usage(deep=True)\n    usage_mb = usage_b/1024**2\n    return '{:03.2f} MB'.format(usage_mb) # .2f小數點兩位, 03代表至少輸出三個數(包括.)\ngl_int = gl.select_dtypes(include = ['int64'])\n# pd.to_numeric : pd.to_numeric\n# ‘integer’ or ‘signed’: smallest signed int dtype (min.: np.int8)\n# ‘unsigned’: smallest unsigned int dtype (min.: np.uint8)\n# ‘float’: smallest float dtype (min.: np.float32)\nconverted_int = gl_int.apply(pd.to_numeric, downcast='unsigned')\nprint(mem_usage(gl_int))\nprint(mem_usage(converted_int))",
      "metadata": {
        "trusted": true
      },
      "execution_count": 3,
      "outputs": [
        {
          "name": "stdout",
          "text": "7.87 MB\n1.48 MB\n",
          "output_type": "stream"
        }
      ]
    },
    {
      "cell_type": "code",
      "source": "gl_float = gl.select_dtypes(include=['float64'])\nconverted_float = gl_float.apply(pd.to_numeric,downcast='float')\n\nprint(mem_usage(gl_float))\nprint(mem_usage(converted_float))",
      "metadata": {
        "trusted": true
      },
      "execution_count": 5,
      "outputs": [
        {
          "name": "stdout",
          "text": "100.99 MB\n50.49 MB\n",
          "output_type": "stream"
        }
      ]
    },
    {
      "cell_type": "code",
      "source": "optimized_gl = gl.copy()\n\noptimized_gl[converted_int.columns] = converted_int\noptimized_gl[converted_float.columns] = converted_float\n\nprint(mem_usage(gl))\nprint(mem_usage(optimized_gl))",
      "metadata": {
        "trusted": true
      },
      "execution_count": 6,
      "outputs": [
        {
          "name": "stdout",
          "text": "544.17 MB\n487.29 MB\n",
          "output_type": "stream"
        }
      ]
    },
    {
      "cell_type": "code",
      "source": "# For numeric data, the result’s index will include count, mean, std, min, max as well as lower, 50 and upper percentiles. By default the lower percentile is 25 and the upper percentile is 75. The 50 percentile is the same as the median.\n# For object data (e.g. strings or timestamps), the result’s index will include count, unique, top, and freq. The top is the most common value. The freq is the most common value’s frequency.\ngl_obj = gl.select_dtypes(include = ['object']).copy()\ngl_obj.describe()",
      "metadata": {
        "trusted": true
      },
      "execution_count": 7,
      "outputs": [
        {
          "execution_count": 7,
          "output_type": "execute_result",
          "data": {
            "text/plain": "       day_of_week  v_name v_league  h_name h_league day_night  \\\ncount       171907  171907   171907  171907   171907    140150   \nunique           7     148        7     148        7         2   \ntop            Sat     CHN       NL     CHN       NL         D   \nfreq         28891    8870    88866    9024    88867     82724   \n\n              completion forefeit protest park_id  ... h_player_6_id  \\\ncount                116      145     180  171907  ...        140838   \nunique               116        3       5     245  ...          4774   \ntop     19200904,,0,6,36        H       V   STL07  ...      grimc101   \nfreq                   1       69      90    7022  ...           427   \n\n       h_player_6_name h_player_7_id h_player_7_name h_player_8_id  \\\ncount           140838        140838          140838        140838   \nunique            4720          5253            5197          4760   \ntop      Charlie Grimm      grimc101   Charlie Grimm      lopea102   \nfreq               427           491             491           676   \n\n       h_player_8_name h_player_9_id h_player_9_name additional_info  \\\ncount           140838        140838          140838            1456   \nunique            4710          5193            5142             332   \ntop           Al Lopez      spahw101    Warren Spahn            HTBF   \nfreq               676           339             339            1112   \n\n       acquisition_info  \ncount            140841  \nunique                1  \ntop                   Y  \nfreq             140841  \n\n[4 rows x 78 columns]",
            "text/html": "<div>\n<style scoped>\n    .dataframe tbody tr th:only-of-type {\n        vertical-align: middle;\n    }\n\n    .dataframe tbody tr th {\n        vertical-align: top;\n    }\n\n    .dataframe thead th {\n        text-align: right;\n    }\n</style>\n<table border=\"1\" class=\"dataframe\">\n  <thead>\n    <tr style=\"text-align: right;\">\n      <th></th>\n      <th>day_of_week</th>\n      <th>v_name</th>\n      <th>v_league</th>\n      <th>h_name</th>\n      <th>h_league</th>\n      <th>day_night</th>\n      <th>completion</th>\n      <th>forefeit</th>\n      <th>protest</th>\n      <th>park_id</th>\n      <th>...</th>\n      <th>h_player_6_id</th>\n      <th>h_player_6_name</th>\n      <th>h_player_7_id</th>\n      <th>h_player_7_name</th>\n      <th>h_player_8_id</th>\n      <th>h_player_8_name</th>\n      <th>h_player_9_id</th>\n      <th>h_player_9_name</th>\n      <th>additional_info</th>\n      <th>acquisition_info</th>\n    </tr>\n  </thead>\n  <tbody>\n    <tr>\n      <th>count</th>\n      <td>171907</td>\n      <td>171907</td>\n      <td>171907</td>\n      <td>171907</td>\n      <td>171907</td>\n      <td>140150</td>\n      <td>116</td>\n      <td>145</td>\n      <td>180</td>\n      <td>171907</td>\n      <td>...</td>\n      <td>140838</td>\n      <td>140838</td>\n      <td>140838</td>\n      <td>140838</td>\n      <td>140838</td>\n      <td>140838</td>\n      <td>140838</td>\n      <td>140838</td>\n      <td>1456</td>\n      <td>140841</td>\n    </tr>\n    <tr>\n      <th>unique</th>\n      <td>7</td>\n      <td>148</td>\n      <td>7</td>\n      <td>148</td>\n      <td>7</td>\n      <td>2</td>\n      <td>116</td>\n      <td>3</td>\n      <td>5</td>\n      <td>245</td>\n      <td>...</td>\n      <td>4774</td>\n      <td>4720</td>\n      <td>5253</td>\n      <td>5197</td>\n      <td>4760</td>\n      <td>4710</td>\n      <td>5193</td>\n      <td>5142</td>\n      <td>332</td>\n      <td>1</td>\n    </tr>\n    <tr>\n      <th>top</th>\n      <td>Sat</td>\n      <td>CHN</td>\n      <td>NL</td>\n      <td>CHN</td>\n      <td>NL</td>\n      <td>D</td>\n      <td>19200904,,0,6,36</td>\n      <td>H</td>\n      <td>V</td>\n      <td>STL07</td>\n      <td>...</td>\n      <td>grimc101</td>\n      <td>Charlie Grimm</td>\n      <td>grimc101</td>\n      <td>Charlie Grimm</td>\n      <td>lopea102</td>\n      <td>Al Lopez</td>\n      <td>spahw101</td>\n      <td>Warren Spahn</td>\n      <td>HTBF</td>\n      <td>Y</td>\n    </tr>\n    <tr>\n      <th>freq</th>\n      <td>28891</td>\n      <td>8870</td>\n      <td>88866</td>\n      <td>9024</td>\n      <td>88867</td>\n      <td>82724</td>\n      <td>1</td>\n      <td>69</td>\n      <td>90</td>\n      <td>7022</td>\n      <td>...</td>\n      <td>427</td>\n      <td>427</td>\n      <td>491</td>\n      <td>491</td>\n      <td>676</td>\n      <td>676</td>\n      <td>339</td>\n      <td>339</td>\n      <td>1112</td>\n      <td>140841</td>\n    </tr>\n  </tbody>\n</table>\n<p>4 rows × 78 columns</p>\n</div>"
          },
          "metadata": {}
        }
      ]
    },
    {
      "cell_type": "code",
      "source": "dow = gl_obj.day_of_week\ndow.head()",
      "metadata": {
        "trusted": true
      },
      "execution_count": 8,
      "outputs": [
        {
          "execution_count": 8,
          "output_type": "execute_result",
          "data": {
            "text/plain": "0    Thu\n1    Fri\n2    Sat\n3    Mon\n4    Tue\nName: day_of_week, dtype: object"
          },
          "metadata": {}
        }
      ]
    },
    {
      "cell_type": "code",
      "source": "dow_cat = dow.astype('category')\ndow_cat.head()",
      "metadata": {
        "trusted": true
      },
      "execution_count": 14,
      "outputs": [
        {
          "execution_count": 14,
          "output_type": "execute_result",
          "data": {
            "text/plain": "0    Thu\n1    Fri\n2    Sat\n3    Mon\n4    Tue\nName: day_of_week, dtype: category\nCategories (7, object): ['Fri', 'Mon', 'Sat', 'Sun', 'Thu', 'Tue', 'Wed']"
          },
          "metadata": {}
        }
      ]
    },
    {
      "cell_type": "code",
      "source": "# .cat : Accessor object for categorical properties of the Series values.\n# .codes 按照上面Categories順序找出排列位置\ndow_cat.head(10).cat.codes",
      "metadata": {
        "trusted": true
      },
      "execution_count": 15,
      "outputs": [
        {
          "execution_count": 15,
          "output_type": "execute_result",
          "data": {
            "text/plain": "0    4\n1    0\n2    2\n3    1\n4    5\n5    4\n6    2\n7    2\n8    1\n9    5\ndtype: int8"
          },
          "metadata": {}
        }
      ]
    },
    {
      "cell_type": "code",
      "source": "print(mem_usage(dow))\nprint(mem_usage(dow_cat))",
      "metadata": {
        "trusted": true
      },
      "execution_count": 17,
      "outputs": [
        {
          "name": "stdout",
          "text": "5.25 MB\n0.16 MB\n",
          "output_type": "stream"
        }
      ]
    },
    {
      "cell_type": "code",
      "source": "converted_obj = pd.DataFrame()\n\nfor col in gl_obj.columns:\n    num_unique_values = len(gl_obj[col].unique())\n    num_total_values = len(gl_obj[col])\n    if num_unique_values / num_total_values < 0.5:\n        converted_obj.loc[:,col] = gl_obj[col].astype('category')\n    else:\n        converted_obj.loc[:,col] = gl_obj[col]\n        \nprint(mem_usage(gl_obj))\nprint(mem_usage(converted_obj))",
      "metadata": {
        "trusted": true
      },
      "execution_count": 19,
      "outputs": [
        {
          "name": "stdout",
          "text": "435.32 MB\n38.59 MB\n",
          "output_type": "stream"
        }
      ]
    },
    {
      "cell_type": "code",
      "source": "date = optimized_gl.date\ndate[:5]",
      "metadata": {
        "trusted": true
      },
      "execution_count": 21,
      "outputs": [
        {
          "execution_count": 21,
          "output_type": "execute_result",
          "data": {
            "text/plain": "0    18710504\n1    18710505\n2    18710506\n3    18710508\n4    18710509\nName: date, dtype: uint32"
          },
          "metadata": {}
        }
      ]
    },
    {
      "cell_type": "code",
      "source": "print(mem_usage(date))",
      "metadata": {
        "trusted": true
      },
      "execution_count": 22,
      "outputs": [
        {
          "name": "stdout",
          "text": "0.66 MB\n",
          "output_type": "stream"
        }
      ]
    },
    {
      "cell_type": "code",
      "source": "optimized_gl['date'] = pd.to_datetime(date, format='%Y%m%d')\noptimized_gl.head()",
      "metadata": {
        "trusted": true
      },
      "execution_count": 25,
      "outputs": [
        {
          "execution_count": 25,
          "output_type": "execute_result",
          "data": {
            "text/plain": "        date  number_of_game day_of_week v_name v_league  v_game_number  \\\n0 1871-05-04               0         Thu    CL1       na              1   \n1 1871-05-05               0         Fri    BS1       na              1   \n2 1871-05-06               0         Sat    CL1       na              2   \n3 1871-05-08               0         Mon    CL1       na              3   \n4 1871-05-09               0         Tue    BS1       na              2   \n\n  h_name h_league  h_game_number  v_score  ...  h_player_7_name  \\\n0    FW1       na              1        0  ...       Ed Mincher   \n1    WS3       na              1       20  ...     Asa Brainard   \n2    RC1       na              1       12  ...       Pony Sager   \n3    CH1       na              1       12  ...         Ed Duffy   \n4    TRO       na              1        9  ...     Steve Bellan   \n\n   h_player_7_def_pos h_player_8_id  h_player_8_name h_player_8_def_pos  \\\n0                 7.0      mcdej101  James McDermott                8.0   \n1                 1.0      burrh101  Henry Burroughs                9.0   \n2                 6.0      birdg101      George Bird                7.0   \n3                 6.0      pinke101       Ed Pinkham                5.0   \n4                 5.0      pikel101         Lip Pike                3.0   \n\n  h_player_9_id  h_player_9_name  h_player_9_def_pos  additional_info  \\\n0      kellb105       Bill Kelly                 9.0              NaN   \n1      berth101  Henry Berthrong                 8.0             HTBF   \n2      stirg101       Gat Stires                 9.0              NaN   \n3      zettg101  George Zettlein                 1.0              NaN   \n4      cravb101      Bill Craver                 6.0             HTBF   \n\n  acquisition_info  \n0                Y  \n1                Y  \n2                Y  \n3                Y  \n4                Y  \n\n[5 rows x 161 columns]",
            "text/html": "<div>\n<style scoped>\n    .dataframe tbody tr th:only-of-type {\n        vertical-align: middle;\n    }\n\n    .dataframe tbody tr th {\n        vertical-align: top;\n    }\n\n    .dataframe thead th {\n        text-align: right;\n    }\n</style>\n<table border=\"1\" class=\"dataframe\">\n  <thead>\n    <tr style=\"text-align: right;\">\n      <th></th>\n      <th>date</th>\n      <th>number_of_game</th>\n      <th>day_of_week</th>\n      <th>v_name</th>\n      <th>v_league</th>\n      <th>v_game_number</th>\n      <th>h_name</th>\n      <th>h_league</th>\n      <th>h_game_number</th>\n      <th>v_score</th>\n      <th>...</th>\n      <th>h_player_7_name</th>\n      <th>h_player_7_def_pos</th>\n      <th>h_player_8_id</th>\n      <th>h_player_8_name</th>\n      <th>h_player_8_def_pos</th>\n      <th>h_player_9_id</th>\n      <th>h_player_9_name</th>\n      <th>h_player_9_def_pos</th>\n      <th>additional_info</th>\n      <th>acquisition_info</th>\n    </tr>\n  </thead>\n  <tbody>\n    <tr>\n      <th>0</th>\n      <td>1871-05-04</td>\n      <td>0</td>\n      <td>Thu</td>\n      <td>CL1</td>\n      <td>na</td>\n      <td>1</td>\n      <td>FW1</td>\n      <td>na</td>\n      <td>1</td>\n      <td>0</td>\n      <td>...</td>\n      <td>Ed Mincher</td>\n      <td>7.0</td>\n      <td>mcdej101</td>\n      <td>James McDermott</td>\n      <td>8.0</td>\n      <td>kellb105</td>\n      <td>Bill Kelly</td>\n      <td>9.0</td>\n      <td>NaN</td>\n      <td>Y</td>\n    </tr>\n    <tr>\n      <th>1</th>\n      <td>1871-05-05</td>\n      <td>0</td>\n      <td>Fri</td>\n      <td>BS1</td>\n      <td>na</td>\n      <td>1</td>\n      <td>WS3</td>\n      <td>na</td>\n      <td>1</td>\n      <td>20</td>\n      <td>...</td>\n      <td>Asa Brainard</td>\n      <td>1.0</td>\n      <td>burrh101</td>\n      <td>Henry Burroughs</td>\n      <td>9.0</td>\n      <td>berth101</td>\n      <td>Henry Berthrong</td>\n      <td>8.0</td>\n      <td>HTBF</td>\n      <td>Y</td>\n    </tr>\n    <tr>\n      <th>2</th>\n      <td>1871-05-06</td>\n      <td>0</td>\n      <td>Sat</td>\n      <td>CL1</td>\n      <td>na</td>\n      <td>2</td>\n      <td>RC1</td>\n      <td>na</td>\n      <td>1</td>\n      <td>12</td>\n      <td>...</td>\n      <td>Pony Sager</td>\n      <td>6.0</td>\n      <td>birdg101</td>\n      <td>George Bird</td>\n      <td>7.0</td>\n      <td>stirg101</td>\n      <td>Gat Stires</td>\n      <td>9.0</td>\n      <td>NaN</td>\n      <td>Y</td>\n    </tr>\n    <tr>\n      <th>3</th>\n      <td>1871-05-08</td>\n      <td>0</td>\n      <td>Mon</td>\n      <td>CL1</td>\n      <td>na</td>\n      <td>3</td>\n      <td>CH1</td>\n      <td>na</td>\n      <td>1</td>\n      <td>12</td>\n      <td>...</td>\n      <td>Ed Duffy</td>\n      <td>6.0</td>\n      <td>pinke101</td>\n      <td>Ed Pinkham</td>\n      <td>5.0</td>\n      <td>zettg101</td>\n      <td>George Zettlein</td>\n      <td>1.0</td>\n      <td>NaN</td>\n      <td>Y</td>\n    </tr>\n    <tr>\n      <th>4</th>\n      <td>1871-05-09</td>\n      <td>0</td>\n      <td>Tue</td>\n      <td>BS1</td>\n      <td>na</td>\n      <td>2</td>\n      <td>TRO</td>\n      <td>na</td>\n      <td>1</td>\n      <td>9</td>\n      <td>...</td>\n      <td>Steve Bellan</td>\n      <td>5.0</td>\n      <td>pikel101</td>\n      <td>Lip Pike</td>\n      <td>3.0</td>\n      <td>cravb101</td>\n      <td>Bill Craver</td>\n      <td>6.0</td>\n      <td>HTBF</td>\n      <td>Y</td>\n    </tr>\n  </tbody>\n</table>\n<p>5 rows × 161 columns</p>\n</div>"
          },
          "metadata": {}
        }
      ]
    },
    {
      "cell_type": "code",
      "source": "print(mem_usage(optimized_gl['date']))",
      "metadata": {
        "trusted": true
      },
      "execution_count": 26,
      "outputs": [
        {
          "name": "stdout",
          "text": "1.31 MB\n",
          "output_type": "stream"
        }
      ]
    },
    {
      "cell_type": "code",
      "source": "optimized_gl['date'][:5]",
      "metadata": {
        "trusted": true
      },
      "execution_count": 27,
      "outputs": [
        {
          "execution_count": 27,
          "output_type": "execute_result",
          "data": {
            "text/plain": "0   1871-05-04\n1   1871-05-05\n2   1871-05-06\n3   1871-05-08\n4   1871-05-09\nName: date, dtype: datetime64[ns]"
          },
          "metadata": {}
        }
      ]
    }
  ]
}